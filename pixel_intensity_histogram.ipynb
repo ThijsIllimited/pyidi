{
 "cells": [
  {
   "cell_type": "markdown",
   "metadata": {},
   "source": [
    "# Make Pixel Intensity Histograms of your favorite pictures!\n",
    "A video that fits well with our analysis method has a peak for the whites and the blacks with a dip inbetween\n",
    "\n",
    "\n",
    "You only need to run the cell below this one once to import all the functions and modules. The only packages the code needs is numpy and matplotlib. You might need to install these if you haven't already. If you haven't run the installation blocks to install"
   ]
  },
  {
   "cell_type": "code",
   "execution_count": 1,
   "metadata": {},
   "outputs": [],
   "source": [
    "import numpy as np\n",
    "import matplotlib.image as mpimg\n",
    "import matplotlib.pyplot as plt\n",
    "from matplotlib.path import Path\n",
    "# from pathlib import Path\n",
    "from matplotlib.widgets import Cursor\n",
    "import os\n",
    "import cv2\n",
    "\n",
    "%matplotlib qt\n",
    "def onclick(event):\n",
    "    \"\"\"\n",
    "    Plot a polygon where the user clicks\n",
    "    \"\"\"\n",
    "    x, y = event.xdata, event.ydata\n",
    "    clicked_points.append([x, y])\n",
    "    xy = np.asarray(clicked_points)\n",
    "    points_plot.set_data(xy[:, 0], xy[:, 1])\n",
    "    if len(xy) < 2:\n",
    "        return\n",
    "    polygon_plot.set_data(np.append(xy[:, 0], xy[0, 0]), np.append(xy[:, 1],xy[0, 1])) #[xy[0, 1]] +[xy[0, 0]]\n",
    "    plt.draw()\n",
    "    return\n",
    "\n",
    "def final_polygon(event):\n",
    "    \"\"\"check which points are inside the polygon when the user presses 'enter'\n",
    "    The points inside the selection are deleted from the ROI\n",
    "    \"\"\"\n",
    "    global pix_i, pix_j, image\n",
    "    if event.key == 'enter':\n",
    "        image_height, image_width = image.shape[:2]\n",
    "        path0 = Path(np.asarray(clicked_points))\n",
    "        x0, y0 = np.meshgrid(np.arange(image_width), np.arange(image_height))\n",
    "        points0 = np.vstack((x0.ravel(), y0.ravel())).T\n",
    "        mask = path0.contains_points(points0).reshape((image_height, image_width))\n",
    "        fig.local_pixel_intensity = image[mask]\n",
    "        chosen_pixels.set_data(x0[mask], y0[mask])\n",
    "        plt.draw()\n",
    "        return\n",
    "\n",
    "def generate_histogram(local_pixel_intensity, bins=256, range=(0, 256)):\n",
    "    \"\"\"generate a histogram of the pixel intensities\"\"\"\n",
    "    fig, ax = plt.subplots()\n",
    "    ax.hist(local_pixel_intensity, bins=256, range=(0, 256))\n",
    "    ax.set_xlabel('Pixel Intensity')\n",
    "    ax.set_ylabel('Frequency')\n",
    "    plt.show()"
   ]
  },
  {
   "cell_type": "code",
   "execution_count": null,
   "metadata": {},
   "outputs": [],
   "source": [
    "# Only run this cell if you have not installed numpy or matplotlib yet!\n",
    "# %pip install numpy\n",
    "# %pip install matplotlib\n",
    "# %pip install opencv-python    #For saving the frame in the video as an image"
   ]
  },
  {
   "cell_type": "markdown",
   "metadata": {},
   "source": [
    "# Save a frame from a video\n",
    "The Histogram is generated for a still frame. If you have a video, first svae the frame of interest as a picture with the module below"
   ]
  },
  {
   "cell_type": "code",
   "execution_count": null,
   "metadata": {},
   "outputs": [],
   "source": [
    "\n",
    "video_root = \"C:\\\\Users\\\\thijs\\\\Documents\\\\GitHub\\\\pyidi\\\\Blackledge_media\\\\\"\n",
    "video_path = os.path.normpath(video_root + \"Ar.tri.14_11.15.22_30mm_natfq(full).mp4\")\n",
    "if not os.path.exists(video_path):\n",
    "    print(f\"Video file '{video_path}' does not exist\")\n",
    "if not os.access(video_path, os.R_OK):\n",
    "    print(f\"Cannot read video file '{video_path}'\")\n",
    "cap = cv2.VideoCapture(video_path)\n",
    "if not cap.isOpened():\n",
    "    print(f\"Cannot open video file '{video_path}'\")\n",
    "flag = cv2.IMREAD_GRAYSCALE\n",
    "ret, frame = cap.read()\n",
    "if ret:\n",
    "    # Do something with the frame, such as convert it to grayscale\n",
    "    gray = cv2.cvtColor(frame, cv2.COLOR_BGR2GRAY)\n",
    "    # save the frame\n",
    "    extension = 'jpg'\n",
    "    cv2.imwrite(video_root + f'frame.{extension}', gray)\n",
    "cap.release()"
   ]
  },
  {
   "cell_type": "markdown",
   "metadata": {},
   "source": [
    "# Load your image in the cell bewow. Replace the path to a picture of your choice "
   ]
  },
  {
   "cell_type": "code",
   "execution_count": 3,
   "metadata": {},
   "outputs": [],
   "source": [
    "video_root = \"C:\\\\Users\\\\thijs\\\\Documents\\\\GitHub\\\\pyidi\\\\Blackledge_media\\\\\"\n",
    "extension = 'jpg'\n",
    "picture_path = os.path.normpath(video_root + f'frame.{extension}')\n",
    "image = mpimg.imread(picture_path)"
   ]
  },
  {
   "cell_type": "code",
   "execution_count": 4,
   "metadata": {},
   "outputs": [
    {
     "name": "stdout",
     "output_type": "stream",
     "text": [
      "Click on the image to select the ROI\n"
     ]
    }
   ],
   "source": [
    "clicked_points = []\n",
    "fig, ax = plt.subplots(figsize=(15, 5))\n",
    "ax.set_title('Keep adding points to your Polygon, press enter when done')\n",
    "points_plot, = plt.plot([], [], 'b.')\n",
    "polygon_plot, = plt.plot([], [], 'b-', linewidth=1)\n",
    "chosen_pixels, = plt.plot([], [], 'r', linewidth=1)\n",
    "ax.imshow(image, cmap='gray')\n",
    "ax.set_xlim(-10, image.shape[1]+10)\n",
    "ax.set_ylim(image.shape[0]+10, -10)\n",
    "cursor = Cursor(ax, useblit=True, color='blue', linewidth=1)\n",
    "fig.canvas.mpl_connect('button_press_event', onclick)\n",
    "fig.canvas.mpl_connect('key_press_event', final_polygon)"
   ]
  },
  {
   "cell_type": "markdown",
   "metadata": {},
   "source": [
    "Finally, generate your histogram by running the cell below"
   ]
  },
  {
   "cell_type": "code",
   "execution_count": 5,
   "metadata": {},
   "outputs": [],
   "source": [
    "local_pixel_intensity = fig.local_pixel_intensity\n",
    "generate_histogram(local_pixel_intensity)"
   ]
  },
  {
   "cell_type": "markdown",
   "metadata": {},
   "source": [
    "Don't want to generate a histogram of a selection, but of the full picture? Run the cell below"
   ]
  },
  {
   "cell_type": "code",
   "execution_count": 6,
   "metadata": {},
   "outputs": [],
   "source": [
    "generate_histogram(image.flatten())"
   ]
  }
 ],
 "metadata": {
  "kernelspec": {
   "display_name": "base",
   "language": "python",
   "name": "python3"
  },
  "language_info": {
   "codemirror_mode": {
    "name": "ipython",
    "version": 3
   },
   "file_extension": ".py",
   "mimetype": "text/x-python",
   "name": "python",
   "nbconvert_exporter": "python",
   "pygments_lexer": "ipython3",
   "version": "3.8.8"
  },
  "orig_nbformat": 4
 },
 "nbformat": 4,
 "nbformat_minor": 2
}
