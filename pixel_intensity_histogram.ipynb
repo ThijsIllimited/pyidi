{
 "cells": [
  {
   "cell_type": "markdown",
   "metadata": {},
   "source": [
    "# Make Pixel Intensity Histograms of your favorite pictures!\n",
    "A video that fits well with our analysis method has a peak for the whites and the blacks with a dip inbetween\n",
    "\n",
    "\n",
    "You only need to run the cell below this one once to import all the functions and modules. The only packages the code needs is numpy and matplotlib. You might need to install these if you haven't already. If you haven't run the installation blocks to install"
   ]
  },
  {
   "cell_type": "code",
   "execution_count": 1,
   "metadata": {},
   "outputs": [],
   "source": [
    "import numpy as np\n",
    "import matplotlib.image as mpimg\n",
    "import matplotlib.pyplot as plt\n",
    "from matplotlib.path import Path\n",
    "from matplotlib.widgets import Cursor\n",
    "\n",
    "%matplotlib qt\n",
    "def onclick(event):\n",
    "    \"\"\"\n",
    "    Plot a polygon where the user clicks\n",
    "    \"\"\"\n",
    "    x, y = event.xdata, event.ydata\n",
    "    clicked_points.append([x, y])\n",
    "    xy = np.asarray(clicked_points)\n",
    "    points_plot.set_data(xy[:, 0], xy[:, 1])\n",
    "    if len(xy) < 2:\n",
    "        return\n",
    "    polygon_plot.set_data(np.append(xy[:, 0], xy[0, 0]), np.append(xy[:, 1],xy[0, 1])) #[xy[0, 1]] +[xy[0, 0]]\n",
    "    plt.draw()\n",
    "    return\n",
    "\n",
    "def final_polygon(event):\n",
    "    \"\"\"check which points are inside the polygon when the user presses 'enter'\n",
    "    The points inside the selection are deleted from the ROI\n",
    "    \"\"\"\n",
    "    global pix_i, pix_j, image\n",
    "    if event.key == 'enter':\n",
    "        image_height, image_width = image.shape[:2]\n",
    "        path0 = Path(np.asarray(clicked_points))\n",
    "        x0, y0 = np.meshgrid(np.arange(image_width), np.arange(image_height))\n",
    "        points0 = np.vstack((x0.ravel(), y0.ravel())).T\n",
    "        mask = path0.contains_points(points0).reshape((image_height, image_width))\n",
    "        fig.local_pixel_intensity = image[mask]\n",
    "        chosen_pixels.set_data(x0[mask], y0[mask])\n",
    "        plt.draw()\n",
    "        return\n",
    "\n",
    "def generate_histogram(local_pixel_intensity, bins=256, range=(0, 256)):\n",
    "    \"\"\"generate a histogram of the pixel intensities\"\"\"\n",
    "    fig, ax = plt.subplots()\n",
    "    ax.hist(local_pixel_intensity, bins=256, range=(0, 256))\n",
    "    ax.set_xlabel('Pixel Intensity')\n",
    "    ax.set_ylabel('Frequency')\n",
    "    plt.show()"
   ]
  },
  {
   "cell_type": "code",
   "execution_count": null,
   "metadata": {},
   "outputs": [],
   "source": [
    "# Only run this cell if you have not installed numpy or matplotlib yet!\n",
    "# %pip install numpy\n",
    "# %pip install matplotlib\n",
    "# %pip install cv2"
   ]
  },
  {
   "cell_type": "markdown",
   "metadata": {},
   "source": [
    "Load your image in the cell bewow. Replace the path to a picture of your choice "
   ]
  },
  {
   "cell_type": "code",
   "execution_count": 2,
   "metadata": {},
   "outputs": [
    {
     "ename": "ModuleNotFoundError",
     "evalue": "No module named 'cv2'",
     "output_type": "error",
     "traceback": [
      "\u001b[1;31m---------------------------------------------------------------------------\u001b[0m",
      "\u001b[1;31mModuleNotFoundError\u001b[0m                       Traceback (most recent call last)",
      "\u001b[1;32mc:\\Users\\thijs\\Documents\\GitHub\\pyidi\\pixel_intensity_histogram.ipynb Cell 5\u001b[0m line \u001b[0;36m1\n\u001b[1;32m----> <a href='vscode-notebook-cell:/c%3A/Users/thijs/Documents/GitHub/pyidi/pixel_intensity_histogram.ipynb#W4sZmlsZQ%3D%3D?line=0'>1</a>\u001b[0m \u001b[39mimport\u001b[39;00m \u001b[39mcv2\u001b[39;00m\n\u001b[0;32m      <a href='vscode-notebook-cell:/c%3A/Users/thijs/Documents/GitHub/pyidi/pixel_intensity_histogram.ipynb#W4sZmlsZQ%3D%3D?line=1'>2</a>\u001b[0m video_path \u001b[39m=\u001b[39m \u001b[39m\"\u001b[39m\u001b[39mG:\u001b[39m\u001b[39m\\\u001b[39m\u001b[39m.shortcut-targets-by-id\u001b[39m\u001b[39m\\1\u001b[39;00m\u001b[39mk1B8zPb3T8H7y6x0irFZnzzmfQPHMRPx\u001b[39m\u001b[39m\\\u001b[39m\u001b[39mIllimited Lab Projects\u001b[39m\u001b[39m\\\u001b[39m\u001b[39mSpiders\u001b[39m\u001b[39m\\\u001b[39m\u001b[39mOther\u001b[39m\u001b[39m\\\u001b[39m\u001b[39mBlackledge_media\u001b[39m\u001b[39m\\\u001b[39m\u001b[39mAr.tri.14_11.15.22_30mm_natfq(full).mp4\u001b[39m\u001b[39m\"\u001b[39m\n\u001b[0;32m      <a href='vscode-notebook-cell:/c%3A/Users/thijs/Documents/GitHub/pyidi/pixel_intensity_histogram.ipynb#W4sZmlsZQ%3D%3D?line=2'>3</a>\u001b[0m cap \u001b[39m=\u001b[39m cv2\u001b[39m.\u001b[39mVideoCapture(video_path)\n",
      "\u001b[1;31mModuleNotFoundError\u001b[0m: No module named 'cv2'"
     ]
    }
   ],
   "source": [
    "import cv2\n",
    "video_path = \"G:\\.shortcut-targets-by-id\\1k1B8zPb3T8H7y6x0irFZnzzmfQPHMRPx\\Illimited Lab Projects\\Spiders\\Other\\Blackledge_media\\Ar.tri.14_11.15.22_30mm_natfq(full).mp4\"\n",
    "cap = cv2.VideoCapture(video_path)\n",
    "# extension = 'jpg'\n",
    "# image = mpimg.imread(f'D:/Snapshots/Camera_2_C001H001S0012.{extension}')\n"
   ]
  },
  {
   "cell_type": "code",
   "execution_count": null,
   "metadata": {},
   "outputs": [],
   "source": [
    "# Display the image\n",
    "# plt.imshow(image)\n",
    "# plt.show()\n",
    "\n",
    "clicked_points = []\n",
    "fig, ax = plt.subplots(figsize=(15, 5))\n",
    "ax.set_title('Keep adding points to your Polygon, press enter when done')\n",
    "points_plot, = plt.plot([], [], 'b.')\n",
    "polygon_plot, = plt.plot([], [], 'b-', linewidth=1)\n",
    "chosen_pixels, = plt.plot([], [], 'r', linewidth=1)\n",
    "ax.imshow(image, cmap='gray')\n",
    "ax.set_xlim(-10, image.shape[1]+10)\n",
    "ax.set_ylim(image.shape[0]+10, -10)\n",
    "cursor = Cursor(ax, useblit=True, color='blue', linewidth=1)\n",
    "fig.canvas.mpl_connect('button_press_event', onclick)\n",
    "fig.canvas.mpl_connect('key_press_event', final_polygon)"
   ]
  },
  {
   "cell_type": "markdown",
   "metadata": {},
   "source": [
    "Finally, generate your histogram by running the cell below"
   ]
  },
  {
   "cell_type": "code",
   "execution_count": null,
   "metadata": {},
   "outputs": [],
   "source": [
    "local_pixel_intensity = fig.local_pixel_intensity\n",
    "generate_histogram(local_pixel_intensity)"
   ]
  },
  {
   "cell_type": "markdown",
   "metadata": {},
   "source": [
    "Don't want to generate a histogram of a selection, but of the full picture? Run the cell below"
   ]
  },
  {
   "cell_type": "code",
   "execution_count": null,
   "metadata": {},
   "outputs": [],
   "source": [
    "generate_histogram(image.flatten())"
   ]
  }
 ],
 "metadata": {
  "kernelspec": {
   "display_name": "base",
   "language": "python",
   "name": "python3"
  },
  "language_info": {
   "codemirror_mode": {
    "name": "ipython",
    "version": 3
   },
   "file_extension": ".py",
   "mimetype": "text/x-python",
   "name": "python",
   "nbconvert_exporter": "python",
   "pygments_lexer": "ipython3",
   "version": "3.8.8"
  },
  "orig_nbformat": 4
 },
 "nbformat": 4,
 "nbformat_minor": 2
}
