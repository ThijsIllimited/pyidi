{
 "cells": [
  {
   "cell_type": "markdown",
   "metadata": {},
   "source": [
    "Showcase for Large Displacement Optical Flow"
   ]
  },
  {
   "cell_type": "code",
   "execution_count": 30,
   "metadata": {},
   "outputs": [],
   "source": [
    "#  Initialize and import modules\n",
    "import numpy as np              # Python's standard numerical library\n",
    "import matplotlib.pyplot as plt # Python's scientific visualization library\n",
    "import matplotlib.animation as animation\n",
    "import pyidi\n",
    "# properties constants and paths\n",
    "# path = \"C:/Users/thijs/Documents/GitHub/pyidi/data/\"\n",
    "# filename = 'synthetic_data_thijs_without_rotation'\n",
    "\n",
    "filename = 'Single_line_15_S01'\n",
    "path = 'D:/HSC/'+filename+'/'+filename+'.cihx'"
   ]
  },
  {
   "cell_type": "code",
   "execution_count": 32,
   "metadata": {},
   "outputs": [
    {
     "name": "stderr",
     "output_type": "stream",
     "text": [
      "c:\\Users\\thijs\\anaconda3\\lib\\site-packages\\pyMRAW.py:103: UserWarning: Clipped footage! (Total frame: 10000, Original total frame: 87371)\n",
      "  warnings.warn('Clipped footage! (Total frame: {}, Original total frame: {})'.format(cih['Total Frame'], cih['Original Total Frame'] ))\n"
     ]
    }
   ],
   "source": [
    "# video = pyidi.pyIDI(path + filename +'.cih')\n",
    "video = pyidi.pyIDI(path)\n",
    "mraw = video.mraw\n",
    "image_width = video.info['Image Width']\n",
    "image_height = video.info['Image Height']\n",
    "total_frame = video.info['Total Frame']"
   ]
  },
  {
   "cell_type": "code",
   "execution_count": 33,
   "metadata": {},
   "outputs": [],
   "source": [
    "#  Simulate MRAW\n",
    "%matplotlib qt\n",
    "def play_video(frame_range, mraw, interval=30, d = None):\n",
    "    fig, ax = plt.subplots()\n",
    "    im = ax.imshow(mraw[frame_range[0]], cmap='gray', vmin=0, vmax=2**16-1)\n",
    "    if d is not None:\n",
    "        ps, = ax.plot(d[0][0], d[0][1], 'r.', markersize=3)\n",
    "    ax.set_xlim(0, image_width)\n",
    "    ax.set_ylim(image_height,0)\n",
    "    ax.set_aspect('equal')\n",
    "    text = ax.text(0.95, 0.05, '', transform=ax.transAxes, color='black', ha='right', va='bottom')\n",
    "    def update(it):\n",
    "        im.set_data(mraw[it])\n",
    "        text.set_text(f'Frame {it}')\n",
    "        if d is not None:\n",
    "            ps.set_data(d[it][0], d[it][1])\n",
    "        return im, text\n",
    "\n",
    "    ani = animation.FuncAnimation(fig, update, frames=frame_range, interval=interval) #\n",
    "    plt.show()\n",
    "    return ani\n",
    "mraw_range = (0, 11)\n",
    "ani = play_video(range(mraw_range[0], mraw_range[1]), mraw, interval=1) #fig_ax = (fig, ax)\n"
   ]
  },
  {
   "cell_type": "code",
   "execution_count": 36,
   "metadata": {},
   "outputs": [],
   "source": [
    "still_image = mraw[mraw_range[0]]\n",
    "gy, gx = np.gradient(still_image, edge_order=2)\n",
    "point = np.argmax(np.linalg.norm(np.dstack((gx, gy)), axis=2))\n",
    "# point = np.argmax(gx)\n",
    "point = np.unravel_index(point, still_image.shape)\n",
    "point = (point[0], point[1])\n",
    "\n",
    "\n",
    "pix_i = np.array([116, 117,], dtype=np.int64)\n",
    "pix_j = np.array([373, 375,], dtype=np.int64)\n",
    "points = np.stack((pix_i, pix_j), axis=-1)\n",
    "# fig, ax = plt.subplots()\n",
    "# ax.imshow(still_image, cmap='gray')\n",
    "# ax.plot(point[1], point[0], 'r.')"
   ]
  },
  {
   "cell_type": "code",
   "execution_count": 37,
   "metadata": {},
   "outputs": [],
   "source": [
    "video.set_method(method='sof')\n",
    "video.method.configure(pixel_shift = True, mraw_range=mraw_range, subset_size=1)\n",
    "# video.set_points(points = [point])\n",
    "video.set_points(points = points)\n",
    "video.show_points()"
   ]
  },
  {
   "cell_type": "code",
   "execution_count": null,
   "metadata": {},
   "outputs": [],
   "source": [
    "# video.method.gradient_magnitude"
   ]
  },
  {
   "cell_type": "code",
   "execution_count": 40,
   "metadata": {},
   "outputs": [
    {
     "name": "stderr",
     "output_type": "stream",
     "text": [
      "100%|██████████████████████████████████████████████████████████████| 11/11 [00:00<00:00, 528.50it/s]\n"
     ]
    },
    {
     "data": {
      "text/plain": [
       "array([[[ 1.27282232, -0.48235668],\n",
       "        [ 0.72712891,  0.10340893],\n",
       "        [ 0.71799526,  0.10687027],\n",
       "        ...,\n",
       "        [ 0.        ,  0.        ],\n",
       "        [ 0.        ,  0.        ],\n",
       "        [ 0.        ,  0.        ]],\n",
       "\n",
       "       [[ 0.98060768, -0.73021317],\n",
       "        [ 0.87669861, -0.90818316],\n",
       "        [ 0.91034156, -0.93323551],\n",
       "        ...,\n",
       "        [ 0.        ,  0.        ],\n",
       "        [ 0.        ,  0.        ],\n",
       "        [ 0.        ,  0.        ]]])"
      ]
     },
     "execution_count": 40,
     "metadata": {},
     "output_type": "execute_result"
    }
   ],
   "source": [
    "d = video.get_displacements()\n",
    "# video.method.in_range_points\n",
    "# d = d[0]\n",
    "d"
   ]
  },
  {
   "cell_type": "code",
   "execution_count": 39,
   "metadata": {},
   "outputs": [
    {
     "data": {
      "text/plain": [
       "(0, 11)"
      ]
     },
     "execution_count": 39,
     "metadata": {},
     "output_type": "execute_result"
    },
    {
     "name": "stderr",
     "output_type": "stream",
     "text": [
      "C:\\Users\\thijs\\AppData\\Local\\Temp\\ipykernel_11400\\3048367314.py:16: MatplotlibDeprecationWarning: Setting data with a non sequence type is deprecated since 3.7 and will be remove two minor releases later\n",
      "  ps.set_data(d[it][0], d[it][1])\n"
     ]
    }
   ],
   "source": [
    "pix_i = point[1] + d[:,1]\n",
    "pix_j = point[0] + d[:,0]\n",
    "td = np.array([pix_i, pix_j]).T\n",
    "ani = play_video(range(mraw_range[0], mraw_range[1]), mraw, interval=1, d=td)\n",
    "mraw_range"
   ]
  }
 ],
 "metadata": {
  "kernelspec": {
   "display_name": "base",
   "language": "python",
   "name": "python3"
  },
  "language_info": {
   "codemirror_mode": {
    "name": "ipython",
    "version": 3
   },
   "file_extension": ".py",
   "mimetype": "text/x-python",
   "name": "python",
   "nbconvert_exporter": "python",
   "pygments_lexer": "ipython3",
   "version": "3.8.8"
  },
  "orig_nbformat": 4
 },
 "nbformat": 4,
 "nbformat_minor": 2
}
