{
 "cells": [
  {
   "cell_type": "code",
   "execution_count": 2,
   "metadata": {},
   "outputs": [],
   "source": [
    "import numpy as np              # Python's standard numerical library\n",
    "import matplotlib.pyplot as plt # Python's scientific visualization library\n",
    "from matplotlib.widgets import Cursor\n",
    "import matplotlib.colors as mcolors\n",
    "import matplotlib.animation as animation\n",
    "from matplotlib.path import Path\n",
    "from ipywidgets import interact # interactive plots in Jupyter Notebook\n",
    "import pyidi                    # Python HSC data analysis library\n",
    "# from scipy.interpolate import make_interp_spline, BSpline\n",
    "import pickle as pk\n",
    "import os\n",
    "from pixel_setter2 import PixelSetter#, play_video, detect_peaks\n",
    "from skimage import feature, measure\n",
    "# from skimage.morphology import skeletonize\n",
    "from skimage.feature import match_template\n",
    "from mpl_toolkits import mplot3d\n",
    "import dill\n",
    "import cv2 \n",
    "from scipy.signal import correlate2d\n",
    "%matplotlib qt"
   ]
  },
  {
   "cell_type": "markdown",
   "metadata": {},
   "source": [
    "Open the file to analyze and set an analysis method (Lucas-Kanade implementation)"
   ]
  },
  {
   "cell_type": "code",
   "execution_count": 16,
   "metadata": {},
   "outputs": [
    {
     "data": {
      "text/plain": [
       "{}"
      ]
     },
     "execution_count": 16,
     "metadata": {},
     "output_type": "execute_result"
    }
   ],
   "source": [
    "folder_path = 'G:\\\\.shortcut-targets-by-id\\\\1k1B8zPb3T8H7y6x0irFZnzzmfQPHMRPx\\\\Illimited Lab Projects\\\\Spiders\\\\Other\\\\Blackledge_media'\n",
    "file_name = \"Ar.tri.14_11.15.22_30mm_natfq(full)\"\n",
    "file_name_video = file_name + \".mp4\"\n",
    "file_path = os.path.join(folder_path, file_name_video)\n",
    "cap = cv2.VideoCapture(file_path)\n",
    "\n",
    "ret, frame = cap.read()\n",
    "all_frames = []\n",
    "while ret:\n",
    "    gray_frame = cv2.cvtColor(frame, cv2.COLOR_BGR2GRAY)\n",
    "    all_frames.append(gray_frame[np.newaxis, :, :])\n",
    "    ret, frame = cap.read()\n",
    "\n",
    "all_frames = np.concatenate(all_frames, axis=0) \n",
    "cap.release()\n",
    "\n",
    "video = pyidi.pyIDI(all_frames) #(n time points, image height, image width)\n",
    "video.N = np.shape(all_frames)[0]\n",
    "video.info['Total Frame'] = video.N\n",
    "video.info['Frame Rate'] = 1000\n",
    "video.info['Image Width'] = np.shape(all_frames)[2]\n",
    "video.info['Image Height'] = np.shape(all_frames)[1]\n",
    "video.image_width = video.info['Image Width']\n",
    "video.image_height = video.info['Image Height']\n",
    "mraw = video.mraw\n",
    "video.info\n",
    "del all_frames"
   ]
  },
  {
   "cell_type": "markdown",
   "metadata": {},
   "source": [
    "Plot a frame in the video:"
   ]
  },
  {
   "cell_type": "code",
   "execution_count": 19,
   "metadata": {},
   "outputs": [],
   "source": [
    "%matplotlib qt\n",
    "sequential_image_n = 0\n",
    "still_image = mraw[sequential_image_n]\n",
    "\n",
    "sigma_vec = np.array([0.1, 0.2, 0.3, 0.4, 0.5, 0.6, 0.7, 0.8, 0.9])*3\n",
    "fig, ax = plt.subplots(ncols=3, nrows=3, figsize=(10, 5))\n",
    "for ax_i, sigma in enumerate(sigma_vec):\n",
    "    row = ax_i // 3\n",
    "    col = ax_i % 3\n",
    "    edges = feature.canny(still_image, sigma=sigma)\n",
    "    ax[row, col].imshow((2**16-1)-edges, cmap='gray')\n",
    "    # skeleton = skeletonize(edges)\n",
    "    # contours = measure.find_contours(edges, sigma)\n",
    "    # ax[row, col].imshow(still_image, cmap='gray')\n",
    "    # for contour in contours:\n",
    "        # ax[row, col].plot(contour[:, 1], contour[:, 0], linewidth=2)\n"
   ]
  },
  {
   "cell_type": "code",
   "execution_count": 20,
   "metadata": {},
   "outputs": [],
   "source": [
    "pix_set = PixelSetter(still_image, file_name = file_name)\n",
    "# pix_set.get_tracking_pixels()\n",
    "pix_set.choose_reference_centers()\n"
   ]
  },
  {
   "cell_type": "code",
   "execution_count": 21,
   "metadata": {},
   "outputs": [],
   "source": [
    "pix_set.combine_tracking_points()"
   ]
  },
  {
   "cell_type": "code",
   "execution_count": 22,
   "metadata": {},
   "outputs": [
    {
     "name": "stdout",
     "output_type": "stream",
     "text": [
      "Could not pickle sliders\n"
     ]
    }
   ],
   "source": [
    "pix_set.save(file_name)"
   ]
  },
  {
   "cell_type": "code",
   "execution_count": 33,
   "metadata": {},
   "outputs": [],
   "source": [
    "tp = np.array(list(pix_set.tracking_points))\n",
    "center = np.array(still_image.shape[:2])/2\n",
    "# radius = 0.75*np.linalg.norm(center)\n",
    "# distances = np.linalg.norm(tp - center, axis=1)\n",
    "# inside_web = (distances < radius)\n",
    "hor_section = (tp[:, 1] > 800) & (tp[:, 1] < 1100)\n",
    "ver_section = (tp[:, 0] > 300) & (tp[:, 0] < 900)\n",
    "tp_lim = tp[hor_section & ver_section]\n",
    "\n",
    "fig, ax = plt.subplots(figsize=(10, 10))\n",
    "\n",
    "# plot tp\n",
    "plt.scatter(center[1], center[0])\n",
    "plt.scatter(tp[:, 1], tp[:, 0], c='red', s=10, label='tp')\n",
    "\n",
    "# plot tp_lim with markers on top of tp\n",
    "plt.scatter(tp_lim[:, 1], tp_lim[:, 0], c='green', s=5, label='tp_lim')\n",
    "ax.set_xlim([0, still_image.shape[1]])\n",
    "ax.set_ylim([still_image.shape[0] , 0])\n",
    "ax.axis('equal')\n",
    "# show the plot\n",
    "plt.show()\n"
   ]
  },
  {
   "cell_type": "code",
   "execution_count": 34,
   "metadata": {},
   "outputs": [],
   "source": [
    "video.set_points(tp_lim)\n",
    "video.set_method('lk')\n",
    "video.show_points()\n"
   ]
  },
  {
   "cell_type": "code",
   "execution_count": 35,
   "metadata": {},
   "outputs": [
    {
     "name": "stdout",
     "output_type": "stream",
     "text": [
      "--- Starting new analysis ---\n",
      " \n",
      "Computation start: 2023-11-13 14:31:10.500743\n"
     ]
    },
    {
     "ename": "KeyboardInterrupt",
     "evalue": "",
     "output_type": "error",
     "traceback": [
      "\u001b[1;31m---------------------------------------------------------------------------\u001b[0m",
      "\u001b[1;31mKeyboardInterrupt\u001b[0m                         Traceback (most recent call last)",
      "\u001b[1;32mc:\\Users\\thijs\\Documents\\GitHub\\pyidi\\Video_processing3.ipynb Cell 11\u001b[0m line \u001b[0;36m1\n\u001b[1;32m----> <a href='vscode-notebook-cell:/c%3A/Users/thijs/Documents/GitHub/pyidi/Video_processing3.ipynb#X15sZmlsZQ%3D%3D?line=0'>1</a>\u001b[0m d \u001b[39m=\u001b[39m video\u001b[39m.\u001b[39;49mget_displacements(processes\u001b[39m=\u001b[39;49m\u001b[39m22\u001b[39;49m)\n\u001b[0;32m      <a href='vscode-notebook-cell:/c%3A/Users/thijs/Documents/GitHub/pyidi/Video_processing3.ipynb#X15sZmlsZQ%3D%3D?line=1'>2</a>\u001b[0m \u001b[39m# video.method.valid_points\u001b[39;00m\n\u001b[0;32m      <a href='vscode-notebook-cell:/c%3A/Users/thijs/Documents/GitHub/pyidi/Video_processing3.ipynb#X15sZmlsZQ%3D%3D?line=2'>3</a>\u001b[0m d \u001b[39m=\u001b[39m video\u001b[39m.\u001b[39mdisplacements\n",
      "File \u001b[1;32mc:\\Users\\thijs\\Documents\\GitHub\\pyidi\\pyidi\\pyidi.py:183\u001b[0m, in \u001b[0;36mpyIDI.get_displacements\u001b[1;34m(self, autosave, **kwargs)\u001b[0m\n\u001b[0;32m    174\u001b[0m \u001b[39m\u001b[39m\u001b[39m\"\"\"\u001b[39;00m\n\u001b[0;32m    175\u001b[0m \u001b[39mCalculate the displacements based on chosen method.\u001b[39;00m\n\u001b[0;32m    176\u001b[0m \n\u001b[1;32m   (...)\u001b[0m\n\u001b[0;32m    180\u001b[0m \u001b[39m---\u001b[39;00m\n\u001b[0;32m    181\u001b[0m \u001b[39m\"\"\"\u001b[39;00m\n\u001b[0;32m    182\u001b[0m \u001b[39mif\u001b[39;00m \u001b[39mhasattr\u001b[39m(\u001b[39mself\u001b[39m, \u001b[39m'\u001b[39m\u001b[39mmethod\u001b[39m\u001b[39m'\u001b[39m):\n\u001b[1;32m--> 183\u001b[0m     \u001b[39mself\u001b[39;49m\u001b[39m.\u001b[39;49mmethod\u001b[39m.\u001b[39;49mcalculate_displacements(\u001b[39mself\u001b[39;49m, \u001b[39m*\u001b[39;49m\u001b[39m*\u001b[39;49mkwargs)\n\u001b[0;32m    184\u001b[0m     \u001b[39mself\u001b[39m\u001b[39m.\u001b[39mdisplacements \u001b[39m=\u001b[39m \u001b[39mself\u001b[39m\u001b[39m.\u001b[39mmethod\u001b[39m.\u001b[39mdisplacements\n\u001b[0;32m    186\u001b[0m     \u001b[39m# auto-save and clearing temp files\u001b[39;00m\n",
      "File \u001b[1;32mc:\\Users\\thijs\\Documents\\GitHub\\pyidi\\pyidi\\methods\\_lucas_kanade.py:188\u001b[0m, in \u001b[0;36mLucasKanade.calculate_displacements\u001b[1;34m(self, video, **kwargs)\u001b[0m\n\u001b[0;32m    185\u001b[0m     \u001b[39mif\u001b[39;00m \u001b[39mnot\u001b[39;00m \u001b[39mself\u001b[39m\u001b[39m.\u001b[39mresume_analysis:\n\u001b[0;32m    186\u001b[0m         \u001b[39mself\u001b[39m\u001b[39m.\u001b[39mcreate_temp_files(init_multi\u001b[39m=\u001b[39m\u001b[39mTrue\u001b[39;00m)\n\u001b[1;32m--> 188\u001b[0m     \u001b[39mself\u001b[39m\u001b[39m.\u001b[39mdisplacements \u001b[39m=\u001b[39m multi(video, \u001b[39mself\u001b[39;49m\u001b[39m.\u001b[39;49mprocesses)\n\u001b[0;32m    189\u001b[0m     \u001b[39m# return?\u001b[39;00m\n\u001b[0;32m    190\u001b[0m \n\u001b[0;32m    191\u001b[0m \u001b[39melse\u001b[39;00m:\n\u001b[0;32m    192\u001b[0m     \u001b[39mself\u001b[39m\u001b[39m.\u001b[39mimage_size \u001b[39m=\u001b[39m video\u001b[39m.\u001b[39mmraw\u001b[39m.\u001b[39mshape[\u001b[39m-\u001b[39m\u001b[39m2\u001b[39m:]\n",
      "File \u001b[1;32mc:\\Users\\thijs\\Documents\\GitHub\\pyidi\\pyidi\\methods\\_lucas_kanade.py:701\u001b[0m, in \u001b[0;36mmulti\u001b[1;34m(video, processes)\u001b[0m\n\u001b[0;32m    699\u001b[0m     \u001b[39mfor\u001b[39;00m i, p \u001b[39min\u001b[39;00m \u001b[39menumerate\u001b[39m(points_split):\n\u001b[0;32m    700\u001b[0m         mcore\u001b[39m.\u001b[39mrun(worker, p, idi_kwargs, method_kwargs, i)\n\u001b[1;32m--> 701\u001b[0m     returns \u001b[39m=\u001b[39m mcore\u001b[39m.\u001b[39;49mreturns()\n\u001b[0;32m    703\u001b[0m out \u001b[39m=\u001b[39m []\n\u001b[0;32m    704\u001b[0m \u001b[39mfor\u001b[39;00m r \u001b[39min\u001b[39;00m returns:\n",
      "File \u001b[1;32mc:\\Users\\thijs\\anaconda3\\lib\\site-packages\\mantichora\\main.py:78\u001b[0m, in \u001b[0;36mmantichora.returns\u001b[1;34m(self)\u001b[0m\n\u001b[0;32m     64\u001b[0m \u001b[39mdef\u001b[39;00m \u001b[39mreturns\u001b[39m(\u001b[39mself\u001b[39m):\n\u001b[0;32m     65\u001b[0m \u001b[39m    \u001b[39m\u001b[39m\"\"\"return a list of return values of the task functions\u001b[39;00m\n\u001b[0;32m     66\u001b[0m \n\u001b[0;32m     67\u001b[0m \u001b[39m    The return values are sorted in the order of the task\u001b[39;00m\n\u001b[1;32m   (...)\u001b[0m\n\u001b[0;32m     76\u001b[0m \n\u001b[0;32m     77\u001b[0m \u001b[39m    \"\"\"\u001b[39;00m\n\u001b[1;32m---> 78\u001b[0m     pairs \u001b[39m=\u001b[39m \u001b[39mself\u001b[39;49m\u001b[39m.\u001b[39;49mreceive_all() \u001b[39m# list of pairs (runid, result)\u001b[39;00m\n\u001b[0;32m     79\u001b[0m     \u001b[39mreturn\u001b[39;00m [p[\u001b[39m1\u001b[39m] \u001b[39mfor\u001b[39;00m p \u001b[39min\u001b[39;00m pairs]\n",
      "File \u001b[1;32mc:\\Users\\thijs\\anaconda3\\lib\\site-packages\\mantichora\\main.py:110\u001b[0m, in \u001b[0;36mmantichora.receive_all\u001b[1;34m(self)\u001b[0m\n\u001b[0;32m    109\u001b[0m \u001b[39mdef\u001b[39;00m \u001b[39mreceive_all\u001b[39m(\u001b[39mself\u001b[39m):\n\u001b[1;32m--> 110\u001b[0m     \u001b[39mreturn\u001b[39;00m \u001b[39mself\u001b[39;49m\u001b[39m.\u001b[39;49mhub\u001b[39m.\u001b[39;49mreceive()\n",
      "File \u001b[1;32mc:\\Users\\thijs\\anaconda3\\lib\\site-packages\\mantichora\\hubmp.py:164\u001b[0m, in \u001b[0;36mMultiprocessingHub.receive\u001b[1;34m(self)\u001b[0m\n\u001b[0;32m    162\u001b[0m messages \u001b[39m=\u001b[39m [ ] \u001b[39m# a list of (task_idx, result)\u001b[39;00m\n\u001b[0;32m    163\u001b[0m \u001b[39mwhile\u001b[39;00m \u001b[39mself\u001b[39m\u001b[39m.\u001b[39mn_ongoing_tasks \u001b[39m>\u001b[39m\u001b[39m=\u001b[39m \u001b[39m1\u001b[39m:\n\u001b[1;32m--> 164\u001b[0m     messages\u001b[39m.\u001b[39mextend(\u001b[39mself\u001b[39;49m\u001b[39m.\u001b[39;49m_receive_finished())\n\u001b[0;32m    166\u001b[0m \u001b[39m# sort in the order of task_idx\u001b[39;00m\n\u001b[0;32m    167\u001b[0m messages \u001b[39m=\u001b[39m \u001b[39msorted\u001b[39m(messages, key\u001b[39m=\u001b[39mitemgetter(\u001b[39m0\u001b[39m))\n",
      "File \u001b[1;32mc:\\Users\\thijs\\anaconda3\\lib\\site-packages\\mantichora\\hubmp.py:176\u001b[0m, in \u001b[0;36mMultiprocessingHub._receive_finished\u001b[1;34m(self)\u001b[0m\n\u001b[0;32m    174\u001b[0m \u001b[39mdef\u001b[39;00m \u001b[39m_receive_finished\u001b[39m(\u001b[39mself\u001b[39m):\n\u001b[0;32m    175\u001b[0m     messages \u001b[39m=\u001b[39m [ ] \u001b[39m# a list of (task_idx, result)\u001b[39;00m\n\u001b[1;32m--> 176\u001b[0m     \u001b[39mwhile\u001b[39;00m \u001b[39mnot\u001b[39;00m \u001b[39mself\u001b[39;49m\u001b[39m.\u001b[39;49mresult_queue\u001b[39m.\u001b[39;49mempty():\n\u001b[0;32m    177\u001b[0m         message \u001b[39m=\u001b[39m \u001b[39mself\u001b[39m\u001b[39m.\u001b[39mresult_queue\u001b[39m.\u001b[39mget()\n\u001b[0;32m    178\u001b[0m         messages\u001b[39m.\u001b[39mappend(message)\n",
      "File \u001b[1;32mc:\\Users\\thijs\\anaconda3\\lib\\multiprocessing\\queues.py:123\u001b[0m, in \u001b[0;36mQueue.empty\u001b[1;34m(self)\u001b[0m\n\u001b[0;32m    122\u001b[0m \u001b[39mdef\u001b[39;00m \u001b[39mempty\u001b[39m(\u001b[39mself\u001b[39m):\n\u001b[1;32m--> 123\u001b[0m     \u001b[39mreturn\u001b[39;00m \u001b[39mnot\u001b[39;00m \u001b[39mself\u001b[39;49m\u001b[39m.\u001b[39;49m_poll()\n",
      "File \u001b[1;32mc:\\Users\\thijs\\anaconda3\\lib\\multiprocessing\\connection.py:257\u001b[0m, in \u001b[0;36m_ConnectionBase.poll\u001b[1;34m(self, timeout)\u001b[0m\n\u001b[0;32m    255\u001b[0m \u001b[39mself\u001b[39m\u001b[39m.\u001b[39m_check_closed()\n\u001b[0;32m    256\u001b[0m \u001b[39mself\u001b[39m\u001b[39m.\u001b[39m_check_readable()\n\u001b[1;32m--> 257\u001b[0m \u001b[39mreturn\u001b[39;00m \u001b[39mself\u001b[39;49m\u001b[39m.\u001b[39;49m_poll(timeout)\n",
      "File \u001b[1;32mc:\\Users\\thijs\\anaconda3\\lib\\multiprocessing\\connection.py:330\u001b[0m, in \u001b[0;36mPipeConnection._poll\u001b[1;34m(self, timeout)\u001b[0m\n\u001b[0;32m    327\u001b[0m \u001b[39mif\u001b[39;00m (\u001b[39mself\u001b[39m\u001b[39m.\u001b[39m_got_empty_message \u001b[39mor\u001b[39;00m\n\u001b[0;32m    328\u001b[0m             _winapi\u001b[39m.\u001b[39mPeekNamedPipe(\u001b[39mself\u001b[39m\u001b[39m.\u001b[39m_handle)[\u001b[39m0\u001b[39m] \u001b[39m!=\u001b[39m \u001b[39m0\u001b[39m):\n\u001b[0;32m    329\u001b[0m     \u001b[39mreturn\u001b[39;00m \u001b[39mTrue\u001b[39;00m\n\u001b[1;32m--> 330\u001b[0m \u001b[39mreturn\u001b[39;00m \u001b[39mbool\u001b[39m(wait([\u001b[39mself\u001b[39;49m], timeout))\n",
      "File \u001b[1;32mc:\\Users\\thijs\\anaconda3\\lib\\multiprocessing\\connection.py:855\u001b[0m, in \u001b[0;36mwait\u001b[1;34m(object_list, timeout)\u001b[0m\n\u001b[0;32m    852\u001b[0m \u001b[39melse\u001b[39;00m:\n\u001b[0;32m    853\u001b[0m     \u001b[39m# start an overlapped read of length zero\u001b[39;00m\n\u001b[0;32m    854\u001b[0m     \u001b[39mtry\u001b[39;00m:\n\u001b[1;32m--> 855\u001b[0m         ov, err \u001b[39m=\u001b[39m _winapi\u001b[39m.\u001b[39;49mReadFile(fileno(), \u001b[39m0\u001b[39;49m, \u001b[39mTrue\u001b[39;49;00m)\n\u001b[0;32m    856\u001b[0m     \u001b[39mexcept\u001b[39;00m \u001b[39mOSError\u001b[39;00m \u001b[39mas\u001b[39;00m e:\n\u001b[0;32m    857\u001b[0m         ov, err \u001b[39m=\u001b[39m \u001b[39mNone\u001b[39;00m, e\u001b[39m.\u001b[39mwinerror\n",
      "\u001b[1;31mKeyboardInterrupt\u001b[0m: "
     ]
    }
   ],
   "source": [
    "d = video.get_displacements(processes=22)\n",
    "# video.method.valid_points\n",
    "d = video.displacements\n",
    "d\n"
   ]
  },
  {
   "cell_type": "code",
   "execution_count": null,
   "metadata": {},
   "outputs": [],
   "source": [
    "import pickle\n",
    "root = 'C:/Users/thijsmas/Documents/GitHub/pyidi_data/'\n",
    "path = os.path.join(root, file_name+'_d'+'.pkl')\n",
    "with open(path, 'wb') as f:\n",
    "    pickle.dump({'displacement':d, 'tracking points': tp_lim}, f)\n"
   ]
  },
  {
   "cell_type": "code",
   "execution_count": null,
   "metadata": {},
   "outputs": [],
   "source": [
    "from pixel_setter import play_video\n",
    "# tp = np.array(list(pix_set.tracking_points))\n",
    "td = d +  tp_lim.reshape(len(tp_lim),1,2)\n",
    "play_video(video, range(1,len(pix_set.tracking_points)), interval=30, points=td)"
   ]
  },
  {
   "cell_type": "markdown",
   "metadata": {},
   "source": [
    "Mask points with high amplitude, outside of web, and irregular vibration"
   ]
  },
  {
   "cell_type": "code",
   "execution_count": null,
   "metadata": {},
   "outputs": [],
   "source": [
    "# center = np.array(still_image.shape[:2])/2\n",
    "# radius = 0.75*np.linalg.norm(center)\n",
    "# distances = np.linalg.norm(tp - center, axis=1)\n",
    "# inside_web = (distances < radius) #& tp[0,:] > still_image.shape[0]*.1\n",
    "\n",
    "low_amplitude = np.max(np.linalg.norm(d, axis=2),1)<50\n",
    "play_video(video, range(500,len(pix_set.tracking_points)), interval=30, points=td[low_amplitude,:,:])"
   ]
  },
  {
   "cell_type": "code",
   "execution_count": null,
   "metadata": {},
   "outputs": [],
   "source": [
    "sigma_vec = np.array([0.1, 0.2, 0.3, 0.4, 0.5, 0.6, 0.7, 0.8, 0.9])*3\n",
    "fig, ax = plt.subplots(ncols=3, nrows=3, figsize=(10, 5))\n",
    "for ax_i, sigma in enumerate(sigma_vec):\n",
    "    row = ax_i // 3\n",
    "    col = ax_i % 3\n",
    "    contours = measure.find_contours(still_image, sigma)\n",
    "    ax[row, col].imshow(still_image, cmap='gray')\n",
    "    for contour in contours:\n",
    "        ax[row, col].plot(contour[:, 1], contour[:, 0], linewidth=2)"
   ]
  },
  {
   "cell_type": "markdown",
   "metadata": {},
   "source": [
    "Find the gradient off the intensity accross the still figure"
   ]
  },
  {
   "cell_type": "code",
   "execution_count": null,
   "metadata": {},
   "outputs": [],
   "source": [
    "gy, gx = np.gradient(still_image, edge_order=2)\n",
    "g_norm = np.sqrt(gx**2 + gy**2)\n",
    "arg_g  = g_norm > 15000\n",
    "pix_gi, pix_gj = np.where(arg_g)\n",
    "fig, ax = plt.subplots()\n",
    "ax.imshow(still_image, cmap='gray')\n",
    "ax.plot(pix_gj, pix_gi, 'r.')"
   ]
  },
  {
   "cell_type": "code",
   "execution_count": null,
   "metadata": {},
   "outputs": [],
   "source": [
    "pix_set.generate_reference_image(plot=True, seperate_save=True)"
   ]
  },
  {
   "cell_type": "code",
   "execution_count": null,
   "metadata": {},
   "outputs": [],
   "source": [
    "sliders = pix_set.cross_correlate_all()"
   ]
  },
  {
   "cell_type": "code",
   "execution_count": null,
   "metadata": {},
   "outputs": [],
   "source": [
    "# white_value, black_value = pix_set.get_white_black_value()\n",
    "# pix_set.plot_histogram(bins=50)\n",
    "\n",
    "# fig, ax = plt.subplots()\n",
    "\n",
    "# colors = [(1, 0, 0), (0, 1, 0)]\n",
    "# markers = ['o', 's', 'v', '^', 'D', 'p', '*', 'X', 'd', 'h']\n",
    "# markersize = 10\n",
    "# cmap = mcolors.LinearSegmentedColormap.from_list('red_to_green', colors, N=256)\n",
    "\n",
    "# still_image_temp = still_image.copy() - still_image.mean()\n",
    "# Low_I = still_image < 20000\n",
    "# # reference_crosses.append(still_image_temp[263:270, 334:341].astype(np.float64))\n",
    "# corr_max = np.zeros((still_image.shape[0], still_image.shape[1]))\n",
    "# for i, reference_cross in enumerate(pix_set.ref_imgs):\n",
    "#     # template = reference_crosses[0].astype(np.float64)\n",
    "#     # template -= template.mean()\n",
    "#     # corr = correlate2d(still_image_temp, template, boundary='symm', mode='same')\n",
    "#     # corr = match_template(still_image, reference_cross, pad_input=True)\n",
    "#     # high_corr = corr > 0.75\n",
    "#     # corr = (corr-np.min(corr)) / np.max(corr-np.min(corr))\n",
    "#     # peaks_local = detect_peaks(corr)\n",
    "#     # y, x = np.where(peaks_local & high_corr & Low_I) # & high_corr\n",
    "#     x, y, corr = pix_set.cross_correlate(reference_cross)\n",
    "#     ax.scatter(x, y, marker=markers[i % len(markers)], s=markersize*3)\n",
    "#     markersize -= 1\n",
    "#     corr_max = np.maximum(corr_max, corr)\n",
    "\n",
    "\n",
    "\n",
    "ax.imshow(still_image, cmap='gray')\n",
    "num_plots = len(pix_set.ref_imgs)\n",
    "if num_plots == 1:\n",
    "    fig, ax = plt.subplots()\n",
    "    ax.imshow(pix_set.ref_imgs[0], cmap='gray')\n",
    "elif num_plots == 2:\n",
    "    fig, ax = plt.subplots(ncols=2)\n",
    "    for i, ref_cross in enumerate(pix_set.ref_imgs):\n",
    "        ax[i].imshow(ref_cross, cmap='gray')\n",
    "else:\n",
    "    num_cols = np.ceil(np.sqrt(num_plots))\n",
    "    num_rows, remainder = divmod(num_plots, num_cols)\n",
    "    if remainder > 0:\n",
    "        num_rows += 1\n",
    "\n",
    "    fig, ax = plt.subplots(nrows = int(num_rows), ncols= int(num_cols))\n",
    "    for i, ref_cross in enumerate(pix_set.ref_imgs):\n",
    "        row = int(i // num_cols)\n",
    "        col = int(i % num_cols)\n",
    "        ax[row, col].imshow(ref_cross, cmap='gray')\n",
    "plt.show()\n"
   ]
  },
  {
   "cell_type": "code",
   "execution_count": null,
   "metadata": {},
   "outputs": [],
   "source": [
    "template = still_image[263:270, 334:341]\n",
    "result = match_template(still_image, template)\n",
    "ij = np.unravel_index(np.argmax(result), result.shape)\n",
    "x, y = ij[::-1]\n",
    "fig, ax = plt.subplots()\n",
    "ax.imshow(still_image, cmap='gray')\n",
    "hcoin, wcoin = template.shape\n",
    "rect = plt.Rectangle((x, y), wcoin, hcoin, edgecolor='r', facecolor='none')\n",
    "ax.add_patch(rect)\n",
    "plt.show()"
   ]
  },
  {
   "cell_type": "markdown",
   "metadata": {},
   "source": [
    "Set limits on the Pixel intensity, Gradient x, and Gradient y to define a Region of Interest (ROI)\n",
    "By drawing polygons on the figure and pressing enter, parts of the ROI can be removed."
   ]
  },
  {
   "cell_type": "code",
   "execution_count": null,
   "metadata": {},
   "outputs": [],
   "source": [
    "%matplotlib qt\n",
    "arg_pi = still_image < 70000\n",
    "arg_gy = np.linalg.norm([gy, gx], axis=0) > 28000\n",
    "args = arg_pi & arg_gy #| arg_gx\n",
    "pix_i, pix_j = np.where(args)\n",
    "\n",
    "\n",
    "pixelsetter = PixelSetter(still_image, pix_i, pix_j, file_name, sequential_image_n)\n",
    "pixelsetter.set_method('by_hand')\n",
    "pixelsetter.get_tracking_pixels()\n"
   ]
  },
  {
   "cell_type": "code",
   "execution_count": null,
   "metadata": {},
   "outputs": [],
   "source": [
    "pixelsetter.plot_histogram(inside_polygon=True)\n",
    "pixelsetter.save()"
   ]
  },
  {
   "cell_type": "code",
   "execution_count": null,
   "metadata": {},
   "outputs": [],
   "source": [
    "# del pixelsetter\n",
    "pixelsetter = PixelSetter.load(file_name)\n",
    "sequential_image_n = pixelsetter.frame_nr\n",
    "pix_i = pixelsetter.pix_i\n",
    "pix_j = pixelsetter.pix_j"
   ]
  },
  {
   "cell_type": "markdown",
   "metadata": {},
   "source": [
    "Since the above process can be time consuming, the code below can be used to replot the ROI"
   ]
  },
  {
   "cell_type": "code",
   "execution_count": null,
   "metadata": {},
   "outputs": [],
   "source": [
    "# pix_i, pix_j, np.linalg.norm([gy, gx], axis=0).max()"
   ]
  },
  {
   "cell_type": "code",
   "execution_count": null,
   "metadata": {},
   "outputs": [],
   "source": [
    "%matplotlib qt\n",
    "# mraw_range = (sequential_image_n, sequential_image_n+800) \n",
    "# n_frames = mraw_range[1] - mraw_range[0]\n",
    "\n",
    "# fig, ax = plt.subplots(figsize=(15, 5))\n",
    "# ax.imshow(still_image, cmap='gray')\n",
    "# plt.plot(pix_j, pix_i, 'r.', markersize=1)\n",
    "video.set_points(np.stack((pix_i, pix_j), axis=-1))\n",
    "video.set_method('lk')\n",
    "video.method.configure()  #mraw_range=(sequential_image_n, video.N) reference_range=(1,2)\n",
    "# print((video.method.start_time, video.method.stop_time))\n",
    "video.show_points()\n"
   ]
  },
  {
   "cell_type": "code",
   "execution_count": null,
   "metadata": {},
   "outputs": [],
   "source": [
    "# %matplotlib inline\n",
    "# ref_img = video.method.reference(video.mraw[video.method.reference_range[0]: video.method.reference_range[1]], video.method.subset_size)\n",
    "# fig, ax = plt.subplots()\n",
    "# ax.imshow(still_image, cmap='gray')\n",
    "# plt.show()"
   ]
  },
  {
   "cell_type": "code",
   "execution_count": null,
   "metadata": {},
   "outputs": [],
   "source": [
    "d = video.get_displacements()\n",
    "# video.method.valid_points\n",
    "d = video.displacements\n",
    "d"
   ]
  },
  {
   "cell_type": "code",
   "execution_count": null,
   "metadata": {},
   "outputs": [],
   "source": [
    "%matplotlib qt\n",
    "fig, ax = plt.subplots()\n",
    "for point in np.arange(d.shape[0]): #[video.method.valid_points]\n",
    "    ax.plot(np.arange(video.N), d[point, :, 0], label='point {} - dir 0'.format(point)) #video.info['Record Rate(fps)']*\n",
    "    ax.plot(np.arange(video.N), d[point, :, 1], label='point {} - dir 1'.format(point)) #video.info['Record Rate(fps)']*\n",
    "# ax.legend()\n",
    "# ax.set_ylim(-50, 50)\n",
    "ax.set_xlabel('frame number')\n",
    "ax.set_ylabel('displacement [pixels]')\n",
    "# ax.set_xlim(0, n_frames)"
   ]
  },
  {
   "cell_type": "code",
   "execution_count": null,
   "metadata": {},
   "outputs": [],
   "source": [
    "# Add pix_i and pix_j to displacement to get the tracked position\n",
    "# mask = np.any(d > 3, axis=(1,2))\n",
    "tp = (np.stack((pix_i, pix_j), axis=-1)).reshape(len(pix_i),1,2) + d # d[:,:n_frames,:]\n",
    "# tp[mask, :, :] = np.nan\n",
    "ani = play_video(video, range(1,799), interval=60, points=tp ) #axis=([720,760],[300,230])axis = ([450,350],[460,560])\n",
    "# ani = play_video(video, range(10000), interval=30)\n",
    "# writer = animation.FFMpegWriter(fps=60)\n",
    "# path = 'C:/Users/thijs/Documents/GitHub/pyidi_data/anim/'\n",
    "# ani.save(path+file_name + '_LK.mp4', writer=writer)"
   ]
  },
  {
   "cell_type": "code",
   "execution_count": null,
   "metadata": {},
   "outputs": [],
   "source": [
    "import os\n",
    "\n",
    "folder_path = 'H:/My Drive/PHD/HSC'\n",
    "all_files_drive = []\n",
    "for root, dirs, files in os.walk(folder_path):\n",
    "    for file in files:\n",
    "        all_files_drive.append(file)\n",
    "\n",
    "folder_path = 'D:/HSC'\n",
    "all_files_T7 = []\n",
    "for root, dirs, files in os.walk(folder_path):\n",
    "    for file in files:\n",
    "        all_files_T7.append(file)\n",
    "\n",
    "folder_path = 'F:/'\n",
    "all_files_Sandisk = []\n",
    "for root, dirs, files in os.walk(folder_path):\n",
    "    for file in files:\n",
    "        all_files_Sandisk.append(file)\n",
    "\n",
    "\n",
    "folder_path = 'E:/thijs'\n",
    "all_files_Passport = []\n",
    "for root, dirs, files in os.walk(folder_path):\n",
    "    for file in files:\n",
    "        all_files_Passport.append(file)\n",
    "\n",
    "folder_path = 'C:/Users/thijs/Documents/HSC'\n",
    "all_files_internal = []\n",
    "for root, dirs, files in os.walk(folder_path):\n",
    "    for file in files:\n",
    "        all_files_internal.append(file)\n"
   ]
  },
  {
   "cell_type": "code",
   "execution_count": null,
   "metadata": {},
   "outputs": [],
   "source": []
  },
  {
   "cell_type": "code",
   "execution_count": null,
   "metadata": {},
   "outputs": [],
   "source": [
    "unique_drive_files = set(all_files_drive) - set(all_files_T7) - set(all_files_Sandisk) - set(all_files_Passport) - set(all_files_internal)\n",
    "unique_drive_files"
   ]
  }
 ],
 "metadata": {
  "kernelspec": {
   "display_name": "base",
   "language": "python",
   "name": "python3"
  },
  "language_info": {
   "codemirror_mode": {
    "name": "ipython",
    "version": 3
   },
   "file_extension": ".py",
   "mimetype": "text/x-python",
   "name": "python",
   "nbconvert_exporter": "python",
   "pygments_lexer": "ipython3",
   "version": "3.8.8"
  },
  "orig_nbformat": 4
 },
 "nbformat": 4,
 "nbformat_minor": 2
}
