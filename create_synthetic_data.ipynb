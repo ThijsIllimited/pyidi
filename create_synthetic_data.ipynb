{
 "cells": [
  {
   "cell_type": "code",
   "execution_count": 1,
   "metadata": {},
   "outputs": [
    {
     "name": "stderr",
     "output_type": "stream",
     "text": [
      "c:\\Users\\thijs\\anaconda3\\lib\\site-packages\\skimage\\util\\dtype.py:27: DeprecationWarning: `np.bool8` is a deprecated alias for `np.bool_`.  (Deprecated NumPy 1.24)\n",
      "  np.bool8: (False, True),\n"
     ]
    }
   ],
   "source": [
    "import numpy as np              # Python's standard numerical library\n",
    "from shapely.geometry import Polygon\n",
    "import matplotlib.pyplot as plt # Python's scientific visualization library\n",
    "import matplotlib.animation as animation\n",
    "import pyMRAW as mraw\n",
    "import pyidi"
   ]
  },
  {
   "cell_type": "code",
   "execution_count": 2,
   "metadata": {},
   "outputs": [
    {
     "data": {
      "text/plain": [
       "2000"
      ]
     },
     "execution_count": 2,
     "metadata": {},
     "output_type": "execute_result"
    }
   ],
   "source": [
    "# properties constants and paths\n",
    "path = \"C:/Users/thijs/Documents/GitHub/pyidi/data/\"\n",
    "filename = 'synthetic_data_thijs'\n",
    "image_width     = 1024\n",
    "image_height    = 512\n",
    "amplitude       = min(image_width, image_height)/4\n",
    "fps             = 40000.0\n",
    "total_time      = 0.05\n",
    "number_of_rotations = 0.1\n",
    "frequency       = number_of_rotations/total_time\n",
    "total_frames    = int(total_time * fps)\n",
    "\n",
    "t_vec           = np.linspace(0, total_time, total_frames)\n",
    "j0              = image_width/2\n",
    "i0              = image_height/2\n",
    "a0              = 0.45*image_height #radius of rotating square\n",
    "width           = 4*np.pi\n",
    "\n",
    "video_info = {'Date': '2023/7/26',\n",
    " 'Camera Type': 'FASTCAM SA-Z type 2100K-M-64GB',\n",
    " 'Record Rate(fps)': fps,\n",
    " 'Shutter Speed(s)': fps + 2748.0,\n",
    " 'Total Frame': total_frames,\n",
    " 'Original Total Frame': total_frames*2,\n",
    " 'Image Width': image_width,\n",
    " 'Image Height': image_height,\n",
    " 'File Format': 'Mraw',\n",
    " 'EffectiveBit Depth': 12,\n",
    " 'EffectiveBit Side': 'Higher',\n",
    " 'Color Bit': 16,\n",
    " 'Comment Text': ''}\n",
    "\n",
    "total_frames\n"
   ]
  },
  {
   "cell_type": "code",
   "execution_count": 3,
   "metadata": {},
   "outputs": [
    {
     "data": {
      "text/plain": [
       "<matplotlib.image.AxesImage at 0x2590e3bbd60>"
      ]
     },
     "execution_count": 3,
     "metadata": {},
     "output_type": "execute_result"
    }
   ],
   "source": [
    "# Initialize synthetic data for testing\n",
    "%matplotlib qt\n",
    "mraw_syn = np.ones((total_frames, image_height, image_width), dtype=np.uint16)*(2**16-1)\n",
    "sequential_image_n = 0\n",
    "still_image = mraw_syn[sequential_image_n]\n",
    "fig, ax = plt.subplots(figsize=(15, 5))\n",
    "ax.imshow(still_image, cmap='gray', vmin=0, vmax=2**16-1)"
   ]
  },
  {
   "cell_type": "code",
   "execution_count": 11,
   "metadata": {},
   "outputs": [],
   "source": [
    "def current_corner_location(i0, j0, f0, f1, a0, t, width):\n",
    "    \"\"\" Rotate a sqaure around fixed point (x0, y0). Outputs the x and y coordinates of corners of the rotated square, based on the time t.\n",
    "    \"\"\"\n",
    "    ic = i0 + a0 * np.sin(2 * np.pi * f0 * t)\n",
    "    jc = j0 + a0 * np.cos(2 * np.pi * f0 * t)\n",
    "    \n",
    "    i = []\n",
    "    j = []\n",
    "    for corner in range(4):\n",
    "        i_local = np.sqrt(2)*width/2 * np.sin(2 * np.pi * f1 * t + corner*np.pi/2 + np.pi/4)\n",
    "        j_local = np.sqrt(2)*width/2 * np.cos(2 * np.pi * f1 * t + corner*np.pi/2 + np.pi/4)\n",
    "        i.append(ic + i_local)  \n",
    "        j.append(jc + j_local)\n",
    "    return i, j\n",
    "\n",
    "\n",
    "i = np.zeros((len(t_vec),4))\n",
    "j = np.zeros((len(t_vec),4))\n",
    "for it, t in enumerate(t_vec):\n",
    "    i[it], j[it] = current_corner_location(i0, j0, frequency, 0, a0, t, width)\n"
   ]
  },
  {
   "cell_type": "code",
   "execution_count": 12,
   "metadata": {},
   "outputs": [],
   "source": [
    "# Simulate the results\n",
    "%matplotlib qt\n",
    "def play_video(i, j, frame_range, interval=30, fig_ax = None, mraw = None, lines = True):\n",
    "    if fig_ax is None:\n",
    "        fig, ax = plt.subplots()\n",
    "    else:\n",
    "        fig, ax = fig_ax\n",
    "    # ax.set_xlim(x0-1.2*np.max(x), x0+1.2*np.max(x))\n",
    "    # ax.set_ylim(y0-1.2*np.max(y), y0+1.2*np.max(y))\n",
    "    if mraw is not None:\n",
    "        if isinstance(mraw[0][0], np.ndarray):\n",
    "            im = ax.imshow(mraw[0], cmap='gray', vmin=0, vmax=2**16-1)\n",
    "        else:\n",
    "            im = ax.imshow(mraw, cmap='gray', vmin=0, vmax=2**16-1)\n",
    "    ax.set_xlim(0, image_width)\n",
    "    ax.set_ylim(image_height,0)\n",
    "    ax.set_aspect('equal')\n",
    "    if lines:\n",
    "        box, = plt.plot(np.append(j[0],j[0][0]), np.append(i[0],i[0][0]), 'r-')\n",
    "        plt.plot(j0, i0, 'b*')\n",
    "    text = ax.text(0.95, 0.05, '', transform=ax.transAxes, color='black', ha='right', va='bottom')\n",
    "    def update(it):\n",
    "        if mraw is not None:\n",
    "            if isinstance(mraw[0][0], np.ndarray):\n",
    "                im.set_data(mraw[it])\n",
    "                if not lines:\n",
    "                    return im\n",
    "        if lines:\n",
    "            box.set_data(np.append(j[it],j[it][0]), np.append(i[it],i[it][0]))\n",
    "            text.set_text(f'Frame {it}')\n",
    "            return im, box, text\n",
    "        return im, box, text\n",
    "\n",
    "    \n",
    "    ani = animation.FuncAnimation(fig, update, frames=frame_range, interval=interval) #\n",
    "    plt.show()\n",
    "    return ani\n",
    "\n",
    "ani = play_video(i, j , range(len(t_vec)), interval=1, mraw = still_image) #fig_ax = (fig, ax)\n"
   ]
  },
  {
   "cell_type": "code",
   "execution_count": 13,
   "metadata": {},
   "outputs": [
    {
     "data": {
      "text/plain": [
       "0.6133792253819718"
      ]
     },
     "execution_count": 13,
     "metadata": {},
     "output_type": "execute_result"
    }
   ],
   "source": [
    "def find_intersecting_area(pixel_i, pixel_j, i, j):\n",
    "    \"\"\" Find the area of the intersection of the pixel found at (pixel_i, pixel_j) and a square of which the corners are define in x and y.\"\"\"\n",
    "    \n",
    "    pixel = Polygon([(pixel_j - 0.5, pixel_i - 0.5), (pixel_j + 0.5, pixel_i-0.5), (pixel_j+0.5, pixel_i+0.5), (pixel_j-0.5, pixel_i+0.5)])\n",
    "    rotating_square = Polygon([(j[0], i[0]), (j[1], i[1]), (j[2], i[2]), (j[3], i[3])])\n",
    "    try:\n",
    "        intersection_area = rotating_square.intersection(pixel).area       \n",
    "    except:\n",
    "        x0, y0 = rotating_square.exterior.xy\n",
    "        x1, y1 = pixel.exterior.xy\n",
    "        fig, ax = plt.subplots()\n",
    "        plt.plot(x0, y0,'r')\n",
    "        plt.plot(x1, y1,'b')\n",
    "        ax.set_aspect('equal')\n",
    "        plt.show()\n",
    "        intersection_area = 0.0\n",
    "        del fig, ax\n",
    "    return intersection_area\n",
    "\n",
    "find_intersecting_area(np.mean(i[0])-np.round(width/2), np.mean(j[0])-np.round(width/2), i[0], j[0])\n",
    "# find_intersecting_area(np.mean(j[0])+a0, np.mean(i[0]), j[0], i[0])"
   ]
  },
  {
   "cell_type": "code",
   "execution_count": 14,
   "metadata": {},
   "outputs": [
    {
     "name": "stderr",
     "output_type": "stream",
     "text": [
      "c:\\Users\\thijs\\anaconda3\\lib\\site-packages\\shapely\\set_operations.py:133: RuntimeWarning: invalid value encountered in intersection\n",
      "  return lib.intersection(a, b, **kwargs)\n"
     ]
    },
    {
     "data": {
      "text/plain": [
       "368350"
      ]
     },
     "execution_count": 14,
     "metadata": {},
     "output_type": "execute_result"
    }
   ],
   "source": [
    "%matplotlib qt\n",
    "nz = 0\n",
    "roi_size = np.ceil(np.sqrt(2)*width/2).astype(int)\n",
    "for t_it, (ic, jc) in enumerate(zip(i, j)):\n",
    "    pix_ic = np.round(np.mean(ic)).astype(int)\n",
    "    pix_jc = np.round(np.mean(jc)).astype(int)\n",
    "    for pix_j in range(pix_jc - roi_size, pix_jc + roi_size):\n",
    "        for pix_i in range(pix_ic - roi_size, pix_ic + roi_size):\n",
    "            a = find_intersecting_area(pix_i, pix_j, ic, jc)\n",
    "            if a>1:\n",
    "                print('something is wrong')\n",
    "            elif a>0:\n",
    "                nz+=1\n",
    "            mraw_syn[t_it, pix_i, pix_j]  = (2**16-1) - np.round(a*(2**16-1))\n",
    "            \n",
    "nz"
   ]
  },
  {
   "cell_type": "code",
   "execution_count": 15,
   "metadata": {},
   "outputs": [],
   "source": [
    "ani = play_video(i, j , range(len(t_vec)), interval=1, mraw = mraw_syn, lines=False)"
   ]
  },
  {
   "cell_type": "code",
   "execution_count": null,
   "metadata": {},
   "outputs": [],
   "source": [
    "# Save synthetic data to mraw file\n",
    "mraw.save_mraw(mraw_syn, path + filename + '_with_rotation.mraw', info_dict=video_info)\n",
    "del mraw_syn\n",
    "video = pyidi.pyIDI(path + filename +'.cih')\n",
    "mraw_syn = video.mraw\n",
    "# mraw_syn"
   ]
  },
  {
   "cell_type": "code",
   "execution_count": 16,
   "metadata": {},
   "outputs": [],
   "source": [
    "writer = animation.FFMpegWriter(fps=60)\n",
    "ani.save('anim/'+filename + '_without_rotation_anim_'+'.mp4', writer=writer)"
   ]
  },
  {
   "cell_type": "code",
   "execution_count": null,
   "metadata": {},
   "outputs": [],
   "source": []
  }
 ],
 "metadata": {
  "kernelspec": {
   "display_name": "base",
   "language": "python",
   "name": "python3"
  },
  "language_info": {
   "codemirror_mode": {
    "name": "ipython",
    "version": 3
   },
   "file_extension": ".py",
   "mimetype": "text/x-python",
   "name": "python",
   "nbconvert_exporter": "python",
   "pygments_lexer": "ipython3",
   "version": "3.8.8"
  },
  "orig_nbformat": 4
 },
 "nbformat": 4,
 "nbformat_minor": 2
}
