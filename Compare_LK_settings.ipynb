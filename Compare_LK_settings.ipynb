{
 "cells": [
  {
   "cell_type": "code",
   "execution_count": 53,
   "metadata": {},
   "outputs": [
    {
     "data": {
      "text/plain": [
       "<matplotlib.legend.Legend at 0x296a4626dd0>"
      ]
     },
     "execution_count": 53,
     "metadata": {},
     "output_type": "execute_result"
    }
   ],
   "source": [
    "%matplotlib qt\n",
    "import os\n",
    "import pickle\n",
    "from EMA_functions import *\n",
    "folder_paths = ['H:/My Drive/PHD/HSC', 'D:/HSC', 'F:/', 'E:/thijs/', 'C:/Users/thijs/Documents/HSC/', 'D:/thijsmas/HSC']\n",
    "\n",
    "\n",
    "file_name = \"Full_web_ecc0_new_Floc9_v1\"\n",
    "root = 'C:/Users/thijsmas/Documents/GitHub/pyidi_data/'\n",
    "\n",
    "reference_image = (0, 30)\n",
    "roi_size_vec = [(3, 3), (5,5), (7, 7), (9, 9), (11, 11), (13, 13)]\n",
    "n_good_points = []\n",
    "fig, ax = plt.subplots()\n",
    "ax.set_xlabel('frame number')\n",
    "ax.set_ylabel('displacement [pixels]')\n",
    "ax.set_xlim(220, 500)\n",
    "color_vec = ['r', 'g', 'b', 'k', 'm', 'c']\n",
    "# line_vec = ['-', '--', '-.', ':', '-', '--']\n",
    "point_selection = [954]\n",
    "for roi_i, roi_size in enumerate(roi_size_vec):\n",
    "    path = os.path.join(root, file_name+f'_d_rs{str(roi_size)}_ri{str(reference_image)}'+'.pkl')\n",
    "\n",
    "    with open(path, 'rb') as f:\n",
    "        data = pickle.load(f)\n",
    "\n",
    "    # Access the contents of the file\n",
    "    d = data['displacement']\n",
    "    tp = data['tracking points']\n",
    "\n",
    "    # video = open_video(file_name, folder_paths)\n",
    "    dd = np.diff(d, axis=1)\n",
    "    last_10_zeros = np.any(dd[:, -10:, :] == 0, axis=(1,2))\n",
    "    large_d = np.any(np.linalg.norm(d, axis=2) > 10, axis = 1)\n",
    "    good_points = np.logical_not(last_10_zeros | large_d)\n",
    "\n",
    "    n_good_points.append(np.sum(good_points))\n",
    "\n",
    "    for d_i, point in enumerate(np.arange(d.shape[0])[point_selection]): #[video.method.valid_points]\n",
    "        if d_i == 0:\n",
    "            ax.plot(np.arange(d.shape[1]), d[point, :, 0], label='roi_size: {}'.format(roi_size), color = color_vec[roi_i])\n",
    "        else:\n",
    "            ax.plot(np.arange(d.shape[1]), d[point, :, 0], color = color_vec[roi_i]) #video.info['Record Rate(fps)']*\n",
    "        # ax.plot(np.arange(d.shape[1]), d[point, :, 1], label=''.format(point), color = color_vec[i]) #video.info['Record Rate(fps)']*\n",
    "\n",
    "ax.legend()\n",
    "# ax.set_ylim(-15, 15)\n"
   ]
  },
  {
   "cell_type": "code",
   "execution_count": 15,
   "metadata": {},
   "outputs": [
    {
     "data": {
      "text/plain": [
       "[1296, 1626, 1654, 1659, 1664]"
      ]
     },
     "execution_count": 15,
     "metadata": {},
     "output_type": "execute_result"
    }
   ],
   "source": [
    "n_good_points"
   ]
  },
  {
   "cell_type": "code",
   "execution_count": 48,
   "metadata": {},
   "outputs": [
    {
     "data": {
      "text/plain": [
       "(array([954], dtype=int64),)"
      ]
     },
     "execution_count": 48,
     "metadata": {},
     "output_type": "execute_result"
    }
   ],
   "source": [
    "points =set([(168, 349),\n",
    " (169, 349),\n",
    " (168, 348),\n",
    " (167, 348),\n",
    " (166, 352),\n",
    " (166, 352),\n",
    " (169, 349),\n",
    " (169, 352),\n",
    " (171, 352),\n",
    " (172, 351),\n",
    " (170, 350),\n",
    " (170, 346),\n",
    " (169, 348),\n",
    " (167, 348),\n",
    " (167, 351),\n",
    " (167, 350),\n",
    " (169, 347),\n",
    " (170, 349),\n",
    " (171, 348),\n",
    " (172, 352),\n",
    " (172, 353),\n",
    " (169, 352),\n",
    " (168, 350),\n",
    " (168, 349),\n",
    " (168, 350),\n",
    " (167, 347),\n",
    " (167, 348),\n",
    " (168, 348),\n",
    " (168, 354),\n",
    " (168, 354),\n",
    " (166, 351),\n",
    " (166, 350),\n",
    " (167, 348)])\n",
    "intersection = points.intersection(set(tuple(i) for i in tp))\n",
    "indices = np.where(np.all(tp == list(intersection)[0], axis=1))\n",
    "indices"
   ]
  }
 ],
 "metadata": {
  "kernelspec": {
   "display_name": "base",
   "language": "python",
   "name": "python3"
  },
  "language_info": {
   "codemirror_mode": {
    "name": "ipython",
    "version": 3
   },
   "file_extension": ".py",
   "mimetype": "text/x-python",
   "name": "python",
   "nbconvert_exporter": "python",
   "pygments_lexer": "ipython3",
   "version": "3.11.5"
  }
 },
 "nbformat": 4,
 "nbformat_minor": 2
}
