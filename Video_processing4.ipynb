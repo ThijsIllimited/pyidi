{
 "cells": [
  {
   "cell_type": "code",
   "execution_count": 1,
   "metadata": {},
   "outputs": [
    {
     "name": "stderr",
     "output_type": "stream",
     "text": [
      "c:\\Users\\thijsmas\\AppData\\Local\\anaconda3\\Lib\\site-packages\\paramiko\\transport.py:219: CryptographyDeprecationWarning: Blowfish has been deprecated\n",
      "  \"class\": algorithms.Blowfish,\n"
     ]
    }
   ],
   "source": [
    "import numpy as np              # Python's standard numerical library\n",
    "import matplotlib.pyplot as plt # Python's scientific visualization library\n",
    "import pyidi                    # Python HSC data analysis library\n",
    "import pickle as pk\n",
    "import os\n",
    "from pixel_setter2 import PixelSetter#, play_video, detect_peaks\n",
    "from pixel_setter import play_video\n",
    "from skimage import feature, measure\n",
    "import importlib\n",
    "from EMA_functions import *"
   ]
  },
  {
   "cell_type": "markdown",
   "metadata": {},
   "source": [
    "### Import video"
   ]
  },
  {
   "cell_type": "code",
   "execution_count": 11,
   "metadata": {},
   "outputs": [
    {
     "name": "stdout",
     "output_type": "stream",
     "text": [
      "H:/My Drive/PHD/HSC\\ecc0\\web0\\Full_web_ecc0_new_Floc9_v1_S01\\Full_web_ecc0_new_Floc9_v1_S01.cihx\n"
     ]
    }
   ],
   "source": [
    "# file_name = \"Full_web_ecc0_new_Floc4_v1\" # First attempt\n",
    "file_name = \"Full_web_ecc0_new_Floc9_v1\"    # Second attempt, ecc0\n",
    "# file_name = \"Full_web_ecc1_new_Floc1_v5\"      # Second attempt, ecc1\n",
    "# file_name = \"Full_web_ecc2_new_Floc7_v1\"        # Second attempt, ecc2\n",
    "folder_paths = ['H:/My Drive/PHD/HSC', 'D:/HSC', 'F:/', 'E:/thijs/', 'C:/Users/thijs/Documents/HSC/', 'D:/thijsmas/HSC']\n",
    "video = open_video(file_name, folder_paths)"
   ]
  },
  {
   "cell_type": "markdown",
   "metadata": {},
   "source": [
    "### Plot still frame in video"
   ]
  },
  {
   "cell_type": "code",
   "execution_count": 12,
   "metadata": {},
   "outputs": [],
   "source": [
    "%matplotlib qt\n",
    "sequential_image_n = 0\n",
    "still_image = video.mraw[sequential_image_n]\n",
    "plot_still_frame(video, sequential_image_n, show_saturation=True)\n",
    "first_frame = 200\n",
    "ani = play_video(video, range(first_frame,video.N), interval=30)"
   ]
  },
  {
   "cell_type": "markdown",
   "metadata": {},
   "source": [
    "### Set pixels"
   ]
  },
  {
   "cell_type": "code",
   "execution_count": 13,
   "metadata": {},
   "outputs": [],
   "source": [
    "%matplotlib qt\n",
    "pix_set = PixelSetter(still_image, file_name = file_name)\n",
    "pix_set.set_neighborhood_size(4)\n",
    "pix_set.choose_reference_centers()\n"
   ]
  },
  {
   "cell_type": "markdown",
   "metadata": {},
   "source": [
    "### Combine the tracking points and exclude erroneous points"
   ]
  },
  {
   "cell_type": "code",
   "execution_count": 14,
   "metadata": {},
   "outputs": [],
   "source": [
    "pix_set.combine_tracking_points()\n",
    "tp = np.array(list(pix_set.tracking_points))\n",
    "center = np.array(still_image.shape[:2])/2\n",
    "center[1] = center[1] + 45\n",
    "center[0] = center[0] - 30\n",
    "radius = 0.88*np.linalg.norm(center)\n",
    "distances = np.linalg.norm(tp - center, axis=1)\n",
    "inside_web = (distances < radius)\n",
    "hor_section = (tp[:, 1] > 15) & (tp[:, 1] < 1100)\n",
    "ver_section = (tp[:, 0] > 15) & (tp[:, 0] < 450)\n",
    "tp_lim = tp[hor_section & ver_section & inside_web]\n",
    "\n",
    "fig, ax = plt.subplots(figsize=(10, 10))\n",
    "\n",
    "# plot tp\n",
    "plt.scatter(center[1], center[0])\n",
    "plt.scatter(tp[:, 1], tp[:, 0], c='red', s=10, label='tp')\n",
    "\n",
    "# plot tp_lim with markers on top of tp\n",
    "plt.scatter(tp_lim[:, 1], tp_lim[:, 0], c='green', s=5, label='tp_lim')\n",
    "ax.set_xlim([0, still_image.shape[1]])\n",
    "ax.set_ylim([still_image.shape[0] , 0])\n",
    "ax.axis('equal')\n",
    "# show the plot\n",
    "plt.show()\n"
   ]
  },
  {
   "cell_type": "markdown",
   "metadata": {},
   "source": [
    "### Save or open tracking points"
   ]
  },
  {
   "cell_type": "code",
   "execution_count": 15,
   "metadata": {},
   "outputs": [],
   "source": [
    "np.savetxt(f'tp_{file_name}.txt', tp, fmt='%.18e', delimiter=',')\n",
    "# tp = np.loadtxt(f'tp_{file_name}.txt', delimiter=',')"
   ]
  },
  {
   "cell_type": "code",
   "execution_count": 16,
   "metadata": {},
   "outputs": [],
   "source": [
    "video.set_points(tp_lim)\n",
    "video.set_method('lk')\n",
    "# video.method.configure(mraw_range=(sequential_image_n,video.N))\n",
    "video.show_points()\n"
   ]
  },
  {
   "cell_type": "markdown",
   "metadata": {},
   "source": [
    "### Extract displacements"
   ]
  },
  {
   "cell_type": "code",
   "execution_count": 17,
   "metadata": {},
   "outputs": [
    {
     "name": "stdout",
     "output_type": "stream",
     "text": [
      "--- Starting new analysis ---\n",
      " \n",
      "Computation start: 2023-11-20 16:56:01.921419\n"
     ]
    },
    {
     "name": "stderr",
     "output_type": "stream",
     "text": [
      "c:\\Users\\thijsmas\\AppData\\Local\\anaconda3\\Lib\\site-packages\\ipywidgets\\widgets\\widget.py:528: DeprecationWarning: The `ipykernel.comm.Comm` class has been deprecated. Please use the `comm` module instead.For creating comms, use the function `from comm import create_comm`.\n",
      "  self.comm = Comm(**args)\n"
     ]
    },
    {
     "data": {
      "application/vnd.jupyter.widget-view+json": {
       "model_id": "8a08eeeae588415e93549dad1f59eb0d",
       "version_major": 2,
       "version_minor": 0
      },
      "text/plain": [
       "VBox()"
      ]
     },
     "metadata": {},
     "output_type": "display_data"
    }
   ],
   "source": [
    "d = video.get_displacements(processes = 30)\n",
    "# video.method.valid_points\n",
    "d = video.displacements"
   ]
  },
  {
   "cell_type": "markdown",
   "metadata": {},
   "source": [
    "### Save displacements and tracking points"
   ]
  },
  {
   "cell_type": "code",
   "execution_count": null,
   "metadata": {},
   "outputs": [],
   "source": [
    "root = 'C:/Users/thijsmas/Documents/GitHub/pyidi_data/'\n",
    "path = os.path.join(root, file_name+'_d'+'.pkl')\n",
    "with open(path, 'wb') as f:\n",
    "    pk.dump({'displacement':d, 'tracking points': tp_lim}, f)"
   ]
  },
  {
   "cell_type": "markdown",
   "metadata": {},
   "source": [
    "### Animate the results"
   ]
  },
  {
   "cell_type": "code",
   "execution_count": null,
   "metadata": {},
   "outputs": [],
   "source": [
    "%matplotlib inline\n",
    "plot_still_frame(video, 300)"
   ]
  },
  {
   "cell_type": "code",
   "execution_count": null,
   "metadata": {},
   "outputs": [],
   "source": [
    "%matplotlib qt\n",
    "dd = np.diff(d, axis=1)\n",
    "last_10_zeros = np.any(dd[:, -10:, :] == 0, axis=(1,2))\n",
    "large_d = np.any(np.linalg.norm(d, axis=2) > 10, axis = 1)\n",
    "good_points = np.logical_not(last_10_zeros | large_d)\n",
    "\n",
    "first_frame = 300\n",
    "\n",
    "\n",
    "td = d +  tp_lim.reshape(len(tp_lim),1,2)\n",
    "ani = play_video(video, range(first_frame,video.N), interval=30, points=td[good_points, first_frame:, :])"
   ]
  },
  {
   "cell_type": "markdown",
   "metadata": {},
   "source": [
    "### Plot signals"
   ]
  },
  {
   "cell_type": "code",
   "execution_count": null,
   "metadata": {},
   "outputs": [],
   "source": [
    "fig, ax = plt.subplots()\n",
    "for point in np.arange(d.shape[0])[good_points]: #[video.method.valid_points]\n",
    "    ax.plot(np.arange(video.N), d[point, :, 0], label='point {} - dir 0'.format(point)) #video.info['Record Rate(fps)']*\n",
    "    ax.plot(np.arange(video.N), d[point, :, 1], label='point {} - dir 1'.format(point)) #video.info['Record Rate(fps)']*\n",
    "# ax.legend()\n",
    "# ax.set_ylim(-50, 50)\n",
    "ax.set_xlabel('frame number')\n",
    "ax.set_ylabel('displacement [pixels]')"
   ]
  }
 ],
 "metadata": {
  "kernelspec": {
   "display_name": "base",
   "language": "python",
   "name": "python3"
  },
  "language_info": {
   "codemirror_mode": {
    "name": "ipython",
    "version": 3
   },
   "file_extension": ".py",
   "mimetype": "text/x-python",
   "name": "python",
   "nbconvert_exporter": "python",
   "pygments_lexer": "ipython3",
   "version": "3.11.5"
  }
 },
 "nbformat": 4,
 "nbformat_minor": 2
}
