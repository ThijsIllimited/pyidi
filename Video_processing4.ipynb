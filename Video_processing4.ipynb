{
 "cells": [
  {
   "cell_type": "code",
   "execution_count": 20,
   "metadata": {},
   "outputs": [],
   "source": [
    "import numpy as np              # Python's standard numerical library\n",
    "import matplotlib.pyplot as plt # Python's scientific visualization library\n",
    "import pyidi                    # Python HSC data analysis library\n",
    "import pickle as pk\n",
    "import os\n",
    "from pixel_setter2 import PixelSetter#, play_video, detect_peaks\n",
    "from pixel_setter import play_video\n",
    "from skimage import feature, measure\n",
    "import importlib\n",
    "from EMA_functions import *\n",
    "import matplotlib.animation as animation\n",
    "root_drive_sim = os.path.normpath('G:/.shortcut-targets-by-id/1k1B8zPb3T8H7y6x0irFZnzzmfQPHMRPx/Illimited Lab Projects/Spiders/Simulations')"
   ]
  },
  {
   "cell_type": "markdown",
   "metadata": {},
   "source": [
    "### Import video"
   ]
  },
  {
   "cell_type": "code",
   "execution_count": 3,
   "metadata": {},
   "outputs": [
    {
     "name": "stdout",
     "output_type": "stream",
     "text": [
      "H:/My Drive/PHD/HSC\\ecc0\\web0\\Full_web_ecc0_new_Floc9_v1_S01\\Full_web_ecc0_new_Floc9_v1_S01.cihx\n"
     ]
    },
    {
     "name": "stderr",
     "output_type": "stream",
     "text": [
      "c:\\Users\\thijsmas\\AppData\\Local\\anaconda3\\Lib\\site-packages\\pyMRAW.py:103: UserWarning: Clipped footage! (Total frame: 10000, Original total frame: 87371)\n",
      "  warnings.warn('Clipped footage! (Total frame: {}, Original total frame: {})'.format(cih['Total Frame'], cih['Original Total Frame'] ))\n"
     ]
    }
   ],
   "source": [
    "# file_name = \"Full_web_ecc0_new_Floc4_v1\" # First attempt\n",
    "file_name = \"Full_web_ecc0_new_Floc9_v1\"    # Second attempt, ecc0\n",
    "# file_name = \"Full_web_ecc1_new_Floc1_v5\"      # Second attempt, ecc1\n",
    "# file_name = \"Full_web_ecc2_new_Floc7_v1\"        # Second attempt, ecc2\n",
    "folder_paths = ['H:/My Drive/PHD/HSC', 'D:/HSC', 'F:/', 'E:/thijs/', 'C:/Users/thijs/Documents/HSC/', 'D:/thijsmas/HSC']\n",
    "video = open_video(file_name, folder_paths)"
   ]
  },
  {
   "cell_type": "markdown",
   "metadata": {},
   "source": [
    "### Plot still frame in video"
   ]
  },
  {
   "cell_type": "code",
   "execution_count": 4,
   "metadata": {},
   "outputs": [],
   "source": [
    "%matplotlib qt\n",
    "sequential_image_n = 0\n",
    "still_image = video.mraw[sequential_image_n]\n",
    "plot_still_frame(video, sequential_image_n, show_saturation=True)\n",
    "first_frame = 200\n",
    "ani = play_video(video, range(first_frame,video.N), interval=30)"
   ]
  },
  {
   "cell_type": "markdown",
   "metadata": {},
   "source": [
    "### Set pixels"
   ]
  },
  {
   "cell_type": "code",
   "execution_count": 53,
   "metadata": {},
   "outputs": [],
   "source": [
    "%matplotlib qt\n",
    "pix_set = PixelSetter(still_image, file_name = file_name)\n",
    "pix_set.set_neighborhood_size(4)\n",
    "pix_set.choose_reference_centers()\n"
   ]
  },
  {
   "cell_type": "markdown",
   "metadata": {},
   "source": [
    "### Combine the tracking points and exclude erroneous points"
   ]
  },
  {
   "cell_type": "code",
   "execution_count": 11,
   "metadata": {},
   "outputs": [],
   "source": [
    "# pix_set.combine_tracking_points()\n",
    "# tp = np.array(list(pix_set.tracking_points))\n",
    "center = np.array(still_image.shape[:2])/2\n",
    "center[1] = center[1] + 45\n",
    "center[0] = center[0] - 30\n",
    "radius = 0.88*np.linalg.norm(center)\n",
    "distances = np.linalg.norm(tp - center, axis=1)\n",
    "inside_web = (distances < radius)\n",
    "hor_section = (tp[:, 1] > 15) & (tp[:, 1] < 1100)\n",
    "ver_section = (tp[:, 0] > 15) & (tp[:, 0] < 450)\n",
    "tp_lim = tp[hor_section & ver_section & inside_web]\n",
    "\n",
    "fig, ax = plt.subplots(figsize=(10, 10))\n",
    "\n",
    "# plot tp\n",
    "plt.scatter(center[1], center[0])\n",
    "plt.scatter(tp[:, 1], tp[:, 0], c='red', s=10, label='tp')\n",
    "\n",
    "# plot tp_lim with markers on top of tp\n",
    "plt.scatter(tp_lim[:, 1], tp_lim[:, 0], c='green', s=5, label='tp_lim')\n",
    "ax.set_xlim([0, still_image.shape[1]])\n",
    "ax.set_ylim([still_image.shape[0] , 0])\n",
    "ax.axis('equal')\n",
    "# show the plot\n",
    "plt.show()\n"
   ]
  },
  {
   "cell_type": "markdown",
   "metadata": {},
   "source": [
    "### Save or open tracking points"
   ]
  },
  {
   "cell_type": "code",
   "execution_count": 9,
   "metadata": {},
   "outputs": [],
   "source": [
    "# np.savetxt(f'tp_{file_name}.txt', tp, fmt='%.18e', delimiter=',')\n",
    "tp = np.loadtxt(f'tp_{file_name}.txt', delimiter=',')"
   ]
  },
  {
   "cell_type": "code",
   "execution_count": 56,
   "metadata": {},
   "outputs": [],
   "source": [
    "video.set_points(tp_lim)\n",
    "video.set_method('lk')\n",
    "mraw_range = (sequential_image_n+1, 500)\n",
    "reference_image = (0, 30)\n",
    "roi_size_vec = [(3, 3), (5,5), (7, 7), (9, 9), (11, 11), (13, 13)]\n",
    "for roi_size in roi_size_vec:\n",
    "    video.method.configure(mraw_range=mraw_range, reference_image = reference_image, roi_size= roi_size)\n",
    "    video.show_points()\n",
    "\n",
    "    d = video.get_displacements(processes = -1)\n",
    "    d = video.displacements\n",
    "\n",
    "    root = 'C:/Users/thijsmas/Documents/GitHub/pyidi_data/'\n",
    "    path = os.path.join(root, file_name+f'_d_rs{str(roi_size)}_ri{str(reference_image)}'+'.pkl')\n",
    "    with open(path, 'wb') as f:\n",
    "        pk.dump({'displacement':d, 'tracking points': tp_lim}, f)\n",
    "    \n",
    "    dd = np.diff(d, axis=1)\n",
    "    last_10_zeros = np.any(dd[:, -10:, :] == 0, axis=(1,2))\n",
    "    large_d = np.any(np.linalg.norm(d, axis=2) > 10, axis = 1)\n",
    "    good_points = np.logical_not(last_10_zeros | large_d)\n",
    "\n",
    "    first_frame = 1\n",
    "\n",
    "    td = d +  tp_lim.reshape(len(tp_lim),1,2)\n",
    "    ani = play_video(video, range(first_frame, 497), interval=30, points=td[good_points, first_frame:, :])\n",
    "    writer = animation.FFMpegWriter(fps=60)\n",
    "    ani.save(os.path.join(root_drive_sim,'anim', f'{file_name}_d_rs{str(roi_size)}_ri{str(reference_image)}_anim_.mp4'), writer=writer)\n",
    "\n"
   ]
  },
  {
   "cell_type": "markdown",
   "metadata": {},
   "source": [
    "### Extract displacements"
   ]
  },
  {
   "cell_type": "code",
   "execution_count": 57,
   "metadata": {},
   "outputs": [
    {
     "name": "stdout",
     "output_type": "stream",
     "text": [
      "--- Starting new analysis ---\n",
      " \n",
      "Computation start: 2023-11-21 14:37:17.001965\n"
     ]
    },
    {
     "name": "stderr",
     "output_type": "stream",
     "text": [
      "<frozen importlib._bootstrap>:1047: ImportWarning: ImportDenier.find_spec() not found; falling back to find_module()\n",
      "c:\\Users\\thijsmas\\AppData\\Local\\anaconda3\\Lib\\site-packages\\ipywidgets\\widgets\\widget.py:528: DeprecationWarning: The `ipykernel.comm.Comm` class has been deprecated. Please use the `comm` module instead.For creating comms, use the function `from comm import create_comm`.\n",
      "  self.comm = Comm(**args)\n"
     ]
    },
    {
     "data": {
      "application/vnd.jupyter.widget-view+json": {
       "model_id": "5a333388c8fa42bfaa0ee5b90311cf10",
       "version_major": 2,
       "version_minor": 0
      },
      "text/plain": [
       "VBox()"
      ]
     },
     "metadata": {},
     "output_type": "display_data"
    },
    {
     "name": "stdout",
     "output_type": "stream",
     "text": [
      "Computation duration: 00:03:9.30\n",
      "H:/My Drive/PHD/HSC\\ecc0\\web0\\Full_web_ecc0_new_Floc9_v1_S01\\Full_web_ecc0_new_Floc9_v1_S01_pyidi_analysis\\analysis_008\\ analysis_008\n"
     ]
    }
   ],
   "source": [
    "d = video.get_displacements(processes = -1)\n",
    "# video.method.valid_points\n",
    "d = video.displacements"
   ]
  },
  {
   "cell_type": "markdown",
   "metadata": {},
   "source": [
    "### Save or open displacements and tracking points"
   ]
  },
  {
   "cell_type": "code",
   "execution_count": 58,
   "metadata": {},
   "outputs": [],
   "source": [
    "root = 'C:/Users/thijsmas/Documents/GitHub/pyidi_data/'\n",
    "path = os.path.join(root, file_name+f'_d_rs{str(roi_size)}_ri{str(reference_image)}'+'.pkl')\n",
    "with open(path, 'wb') as f:\n",
    "    pk.dump({'displacement':d, 'tracking points': tp_lim}, f)"
   ]
  },
  {
   "cell_type": "markdown",
   "metadata": {},
   "source": [
    "### Animate the results"
   ]
  },
  {
   "cell_type": "code",
   "execution_count": 52,
   "metadata": {},
   "outputs": [
    {
     "name": "stderr",
     "output_type": "stream",
     "text": [
      "<frozen importlib._bootstrap>:1047: ImportWarning: ImportDenier.find_spec() not found; falling back to find_module()\n"
     ]
    },
    {
     "ename": "IndexError",
     "evalue": "index 498 is out of bounds for axis 1 with size 498",
     "output_type": "error",
     "traceback": [
      "\u001b[1;31m---------------------------------------------------------------------------\u001b[0m",
      "\u001b[1;31mIndexError\u001b[0m                                Traceback (most recent call last)",
      "\u001b[1;32mc:\\Users\\thijsmas\\Documents\\UW_spider\\pyidi\\Video_processing4.ipynb Cell 18\u001b[0m line \u001b[0;36m1\n\u001b[0;32m     <a href='vscode-notebook-cell:/c%3A/Users/thijsmas/Documents/UW_spider/pyidi/Video_processing4.ipynb#X26sZmlsZQ%3D%3D?line=9'>10</a>\u001b[0m ani \u001b[39m=\u001b[39m play_video(video, \u001b[39mrange\u001b[39m(first_frame, \u001b[39m499\u001b[39m), interval\u001b[39m=\u001b[39m\u001b[39m30\u001b[39m, points\u001b[39m=\u001b[39mtd[good_points, first_frame:, :])\n\u001b[0;32m     <a href='vscode-notebook-cell:/c%3A/Users/thijsmas/Documents/UW_spider/pyidi/Video_processing4.ipynb#X26sZmlsZQ%3D%3D?line=10'>11</a>\u001b[0m writer \u001b[39m=\u001b[39m animation\u001b[39m.\u001b[39mFFMpegWriter(fps\u001b[39m=\u001b[39m\u001b[39m60\u001b[39m)\n\u001b[1;32m---> <a href='vscode-notebook-cell:/c%3A/Users/thijsmas/Documents/UW_spider/pyidi/Video_processing4.ipynb#X26sZmlsZQ%3D%3D?line=11'>12</a>\u001b[0m ani\u001b[39m.\u001b[39msave(os\u001b[39m.\u001b[39mpath\u001b[39m.\u001b[39mjoin(root_drive_sim,\u001b[39m'\u001b[39m\u001b[39manim\u001b[39m\u001b[39m'\u001b[39m, \u001b[39mf\u001b[39m\u001b[39m'\u001b[39m\u001b[39m{\u001b[39;00mfile_name\u001b[39m}\u001b[39;00m\u001b[39m_d_rs\u001b[39m\u001b[39m{\u001b[39;00m\u001b[39mstr\u001b[39m(roi_size)\u001b[39m}\u001b[39;00m\u001b[39m_ri\u001b[39m\u001b[39m{\u001b[39;00m\u001b[39mstr\u001b[39m(reference_image)\u001b[39m}\u001b[39;00m\u001b[39m_anim_.mp4\u001b[39m\u001b[39m'\u001b[39m), writer\u001b[39m=\u001b[39mwriter)\n",
      "File \u001b[1;32mc:\\Users\\thijsmas\\AppData\\Local\\anaconda3\\Lib\\site-packages\\matplotlib\\animation.py:1103\u001b[0m, in \u001b[0;36mAnimation.save\u001b[1;34m(self, filename, writer, fps, dpi, codec, bitrate, extra_args, metadata, extra_anim, savefig_kwargs, progress_callback)\u001b[0m\n\u001b[0;32m   1100\u001b[0m \u001b[39mfor\u001b[39;00m data \u001b[39min\u001b[39;00m \u001b[39mzip\u001b[39m(\u001b[39m*\u001b[39m[a\u001b[39m.\u001b[39mnew_saved_frame_seq() \u001b[39mfor\u001b[39;00m a \u001b[39min\u001b[39;00m all_anim]):\n\u001b[0;32m   1101\u001b[0m     \u001b[39mfor\u001b[39;00m anim, d \u001b[39min\u001b[39;00m \u001b[39mzip\u001b[39m(all_anim, data):\n\u001b[0;32m   1102\u001b[0m         \u001b[39m# TODO: See if turning off blit is really necessary\u001b[39;00m\n\u001b[1;32m-> 1103\u001b[0m         anim\u001b[39m.\u001b[39m_draw_next_frame(d, blit\u001b[39m=\u001b[39m\u001b[39mFalse\u001b[39;00m)\n\u001b[0;32m   1104\u001b[0m         \u001b[39mif\u001b[39;00m progress_callback \u001b[39mis\u001b[39;00m \u001b[39mnot\u001b[39;00m \u001b[39mNone\u001b[39;00m:\n\u001b[0;32m   1105\u001b[0m             progress_callback(frame_number, total_frames)\n",
      "File \u001b[1;32mc:\\Users\\thijsmas\\AppData\\Local\\anaconda3\\Lib\\site-packages\\matplotlib\\animation.py:1138\u001b[0m, in \u001b[0;36mAnimation._draw_next_frame\u001b[1;34m(self, framedata, blit)\u001b[0m\n\u001b[0;32m   1134\u001b[0m \u001b[39mdef\u001b[39;00m \u001b[39m_draw_next_frame\u001b[39m(\u001b[39mself\u001b[39m, framedata, blit):\n\u001b[0;32m   1135\u001b[0m     \u001b[39m# Breaks down the drawing of the next frame into steps of pre- and\u001b[39;00m\n\u001b[0;32m   1136\u001b[0m     \u001b[39m# post- draw, as well as the drawing of the frame itself.\u001b[39;00m\n\u001b[0;32m   1137\u001b[0m     \u001b[39mself\u001b[39m\u001b[39m.\u001b[39m_pre_draw(framedata, blit)\n\u001b[1;32m-> 1138\u001b[0m     \u001b[39mself\u001b[39m\u001b[39m.\u001b[39m_draw_frame(framedata)\n\u001b[0;32m   1139\u001b[0m     \u001b[39mself\u001b[39m\u001b[39m.\u001b[39m_post_draw(framedata, blit)\n",
      "File \u001b[1;32mc:\\Users\\thijsmas\\AppData\\Local\\anaconda3\\Lib\\site-packages\\matplotlib\\animation.py:1767\u001b[0m, in \u001b[0;36mFuncAnimation._draw_frame\u001b[1;34m(self, framedata)\u001b[0m\n\u001b[0;32m   1763\u001b[0m     \u001b[39mself\u001b[39m\u001b[39m.\u001b[39m_save_seq \u001b[39m=\u001b[39m \u001b[39mself\u001b[39m\u001b[39m.\u001b[39m_save_seq[\u001b[39m-\u001b[39m\u001b[39mself\u001b[39m\u001b[39m.\u001b[39m_save_count:]\n\u001b[0;32m   1765\u001b[0m \u001b[39m# Call the func with framedata and args. If blitting is desired,\u001b[39;00m\n\u001b[0;32m   1766\u001b[0m \u001b[39m# func needs to return a sequence of any artists that were modified.\u001b[39;00m\n\u001b[1;32m-> 1767\u001b[0m \u001b[39mself\u001b[39m\u001b[39m.\u001b[39m_drawn_artists \u001b[39m=\u001b[39m \u001b[39mself\u001b[39m\u001b[39m.\u001b[39m_func(framedata, \u001b[39m*\u001b[39m\u001b[39mself\u001b[39m\u001b[39m.\u001b[39m_args)\n\u001b[0;32m   1769\u001b[0m \u001b[39mif\u001b[39;00m \u001b[39mself\u001b[39m\u001b[39m.\u001b[39m_blit:\n\u001b[0;32m   1771\u001b[0m     err \u001b[39m=\u001b[39m \u001b[39mRuntimeError\u001b[39;00m(\u001b[39m'\u001b[39m\u001b[39mThe animation function must return a sequence \u001b[39m\u001b[39m'\u001b[39m\n\u001b[0;32m   1772\u001b[0m                        \u001b[39m'\u001b[39m\u001b[39mof Artist objects.\u001b[39m\u001b[39m'\u001b[39m)\n",
      "File \u001b[1;32mc:\\Users\\thijsmas\\Documents\\UW_spider\\pyidi\\pixel_setter.py:479\u001b[0m, in \u001b[0;36mplay_video.<locals>.update\u001b[1;34m(i)\u001b[0m\n\u001b[0;32m    477\u001b[0m     under_sat_plot[\u001b[39m0\u001b[39m]\u001b[39m.\u001b[39mset_data(under_sat[\u001b[39m1\u001b[39m], under_sat[\u001b[39m0\u001b[39m])\n\u001b[0;32m    478\u001b[0m \u001b[39mif\u001b[39;00m points \u001b[39mis\u001b[39;00m \u001b[39mnot\u001b[39;00m \u001b[39mNone\u001b[39;00m:\n\u001b[1;32m--> 479\u001b[0m     pts[\u001b[39m0\u001b[39m]\u001b[39m.\u001b[39mset_data(points[:,i,\u001b[39m1\u001b[39m], points[:,i,\u001b[39m0\u001b[39m])\n\u001b[0;32m    480\u001b[0m     \u001b[39mreturn\u001b[39;00m im, text, pts\n\u001b[0;32m    481\u001b[0m \u001b[39mreturn\u001b[39;00m im, text\n",
      "\u001b[1;31mIndexError\u001b[0m: index 498 is out of bounds for axis 1 with size 498"
     ]
    }
   ],
   "source": [
    "%matplotlib qt\n",
    "dd = np.diff(d, axis=1)\n",
    "last_10_zeros = np.any(dd[:, -10:, :] == 0, axis=(1,2))\n",
    "large_d = np.any(np.linalg.norm(d, axis=2) > 10, axis = 1)\n",
    "good_points = np.logical_not(last_10_zeros | large_d)\n",
    "\n",
    "first_frame = 1\n",
    "\n",
    "td = d +  tp_lim.reshape(len(tp_lim),1,2)\n",
    "ani = play_video(video, range(first_frame, 497), interval=30, points=td[good_points, first_frame:, :])\n",
    "writer = animation.FFMpegWriter(fps=60)\n",
    "ani.save(os.path.join(root_drive_sim,'anim', f'{file_name}_d_rs{str(roi_size)}_ri{str(reference_image)}_anim_.mp4'), writer=writer)"
   ]
  },
  {
   "cell_type": "markdown",
   "metadata": {},
   "source": [
    "### Plot signals"
   ]
  },
  {
   "cell_type": "code",
   "execution_count": 28,
   "metadata": {},
   "outputs": [
    {
     "data": {
      "text/plain": [
       "Text(0, 0.5, 'displacement [pixels]')"
      ]
     },
     "execution_count": 28,
     "metadata": {},
     "output_type": "execute_result"
    }
   ],
   "source": [
    "fig, ax = plt.subplots()\n",
    "for point in np.arange(d.shape[0])[good_points][::5]: #[video.method.valid_points]\n",
    "    ax.plot(np.arange(video.N), d[point, :, 0], label='point {} - dir 0'.format(point)) #video.info['Record Rate(fps)']*\n",
    "    ax.plot(np.arange(video.N), d[point, :, 1], label='point {} - dir 1'.format(point)) #video.info['Record Rate(fps)']*\n",
    "# ax.legend()\n",
    "# ax.set_ylim(-50, 50)\n",
    "ax.set_xlabel('frame number')\n",
    "ax.set_ylabel('displacement [pixels]')"
   ]
  }
 ],
 "metadata": {
  "kernelspec": {
   "display_name": "base",
   "language": "python",
   "name": "python3"
  },
  "language_info": {
   "codemirror_mode": {
    "name": "ipython",
    "version": 3
   },
   "file_extension": ".py",
   "mimetype": "text/x-python",
   "name": "python",
   "nbconvert_exporter": "python",
   "pygments_lexer": "ipython3",
   "version": "3.11.5"
  }
 },
 "nbformat": 4,
 "nbformat_minor": 2
}
