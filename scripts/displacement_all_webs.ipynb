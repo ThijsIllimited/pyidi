{
 "cells": [
  {
   "cell_type": "code",
   "execution_count": 1,
   "metadata": {},
   "outputs": [
    {
     "name": "stderr",
     "output_type": "stream",
     "text": [
      "c:\\Users\\thijsmas\\AppData\\Local\\anaconda3\\Lib\\site-packages\\paramiko\\transport.py:219: CryptographyDeprecationWarning: Blowfish has been deprecated\n",
      "  \"class\": algorithms.Blowfish,\n"
     ]
    },
    {
     "name": "stdout",
     "output_type": "stream",
     "text": [
      "D:/thijsmas/HSC\\ecc0\\web0\\Full_web_ecc0_new_Floc10_v0_S01\\Full_web_ecc0_new_Floc10_v0_S01.cihx\n",
      "D:/thijsmas/HSC\\ecc0\\web0\\Full_web_ecc0_new_Floc10_v0_S01\\Full_web_ecc0_new_Floc10_v0_S01.cihx\n",
      "--- Starting new analysis ---\n",
      " \n",
      "Computation start: 2024-08-09 14:59:47.387799\n"
     ]
    },
    {
     "name": "stderr",
     "output_type": "stream",
     "text": [
      "c:\\Users\\thijsmas\\AppData\\Local\\anaconda3\\Lib\\site-packages\\pyMRAW.py:103: UserWarning: Clipped footage! (Total frame: 10001, Original total frame: 87371)\n",
      "  warnings.warn('Clipped footage! (Total frame: {}, Original total frame: {})'.format(cih['Total Frame'], cih['Original Total Frame'] ))\n",
      "C:\\Users\\thijsmas\\Documents\\GitHub\\pyidi\\pyidi\\methods\\_lucas_kanade.py:567: ResourceWarning: unclosed file <_io.BufferedReader name='D:/thijsmas/HSC\\\\ecc0\\\\web0\\\\Full_web_ecc0_new_Floc10_v0_S01\\\\temp_file\\\\settings.pkl'>\n",
      "  settings_old = pickle.load(open(self.settings_filename, 'rb'))\n",
      "ResourceWarning: Enable tracemalloc to get the object allocation traceback\n",
      "C:\\Users\\thijsmas\\Documents\\GitHub\\pyidi\\pyidi\\methods\\_lucas_kanade.py:579: ResourceWarning: unclosed file <_io.BufferedReader name='D:/thijsmas/HSC\\\\ecc0\\\\web0\\\\Full_web_ecc0_new_Floc10_v0_S01\\\\temp_file\\\\points.pkl'>\n",
      "  points = pickle.load(open(os.path.join(self.temp_dir, 'points.pkl'), 'rb'))\n",
      "ResourceWarning: Enable tracemalloc to get the object allocation traceback\n",
      "c:\\Users\\thijsmas\\AppData\\Local\\anaconda3\\Lib\\site-packages\\ipywidgets\\widgets\\widget.py:528: DeprecationWarning: The `ipykernel.comm.Comm` class has been deprecated. Please use the `comm` module instead.For creating comms, use the function `from comm import create_comm`.\n",
      "  self.comm = Comm(**args)\n"
     ]
    },
    {
     "data": {
      "application/vnd.jupyter.widget-view+json": {
       "model_id": "64653d437465466f8be236395c96bed6",
       "version_major": 2,
       "version_minor": 0
      },
      "text/plain": [
       "VBox()"
      ]
     },
     "metadata": {},
     "output_type": "display_data"
    },
    {
     "name": "stdout",
     "output_type": "stream",
     "text": [
      "Computation duration: 01:04:45.63\n",
      "D:/thijsmas/HSC\\ecc0\\web0\\Full_web_ecc0_new_Floc10_v1_S01\\Full_web_ecc0_new_Floc10_v1_S01.cihx\n",
      "D:/thijsmas/HSC\\ecc0\\web0\\Full_web_ecc0_new_Floc10_v1_S01\\Full_web_ecc0_new_Floc10_v1_S01.cihx\n"
     ]
    },
    {
     "name": "stderr",
     "output_type": "stream",
     "text": [
      "c:\\Users\\thijsmas\\AppData\\Local\\anaconda3\\Lib\\site-packages\\pyMRAW.py:103: UserWarning: Clipped footage! (Total frame: 10000, Original total frame: 87371)\n",
      "  warnings.warn('Clipped footage! (Total frame: {}, Original total frame: {})'.format(cih['Total Frame'], cih['Original Total Frame'] ))\n"
     ]
    },
    {
     "name": "stdout",
     "output_type": "stream",
     "text": [
      "--- Starting new analysis ---\n",
      " \n",
      "Computation start: 2024-08-09 16:04:35.193503\n"
     ]
    },
    {
     "data": {
      "application/vnd.jupyter.widget-view+json": {
       "model_id": "018c0a8390404d06a299db7befc3a036",
       "version_major": 2,
       "version_minor": 0
      },
      "text/plain": [
       "VBox()"
      ]
     },
     "metadata": {},
     "output_type": "display_data"
    },
    {
     "name": "stdout",
     "output_type": "stream",
     "text": [
      "Computation duration: 00:59:56.06\n",
      "D:/thijsmas/HSC\\ecc0\\web0\\Full_web_ecc0_new_Floc1_v0_S01\\Full_web_ecc0_new_Floc1_v0_S01.cihx\n",
      "D:/thijsmas/HSC\\ecc0\\web0\\Full_web_ecc0_new_Floc1_v0_S01\\Full_web_ecc0_new_Floc1_v0_S01.cihx\n",
      "--- Starting new analysis ---\n",
      " \n",
      "Computation start: 2024-08-09 17:04:33.414403\n"
     ]
    },
    {
     "data": {
      "application/vnd.jupyter.widget-view+json": {
       "model_id": "0b2590eb12254c7cad1e29bef7bd104d",
       "version_major": 2,
       "version_minor": 0
      },
      "text/plain": [
       "VBox()"
      ]
     },
     "metadata": {},
     "output_type": "display_data"
    },
    {
     "name": "stdout",
     "output_type": "stream",
     "text": [
      "Computation duration: 01:06:6.47\n",
      "D:/thijsmas/HSC\\ecc0\\web0\\Full_web_ecc0_new_Floc1_v1_S01\\Full_web_ecc0_new_Floc1_v1_S01.cihx\n",
      "D:/thijsmas/HSC\\ecc0\\web0\\Full_web_ecc0_new_Floc1_v1_S01\\Full_web_ecc0_new_Floc1_v1_S01.cihx\n",
      "--- Starting new analysis ---\n",
      " \n",
      "Computation start: 2024-08-09 18:10:42.113769\n"
     ]
    },
    {
     "data": {
      "application/vnd.jupyter.widget-view+json": {
       "model_id": "bcdba52c908247bfa55b68d9618a27c6",
       "version_major": 2,
       "version_minor": 0
      },
      "text/plain": [
       "VBox()"
      ]
     },
     "metadata": {},
     "output_type": "display_data"
    },
    {
     "name": "stdout",
     "output_type": "stream",
     "text": [
      "Computation duration: 01:07:4.39\n",
      "D:/thijsmas/HSC\\ecc0\\web0\\Full_web_ecc0_new_Floc2_v0_S01\\Full_web_ecc0_new_Floc2_v0_S01.cihx\n",
      "D:/thijsmas/HSC\\ecc0\\web0\\Full_web_ecc0_new_Floc2_v0_S01\\Full_web_ecc0_new_Floc2_v0_S01.cihx\n",
      "--- Starting new analysis ---\n",
      " \n",
      "Computation start: 2024-08-09 19:17:48.744685\n"
     ]
    },
    {
     "data": {
      "application/vnd.jupyter.widget-view+json": {
       "model_id": "258dc010dcfe498db2941ce3b1175572",
       "version_major": 2,
       "version_minor": 0
      },
      "text/plain": [
       "VBox()"
      ]
     },
     "metadata": {},
     "output_type": "display_data"
    },
    {
     "name": "stdout",
     "output_type": "stream",
     "text": [
      "Computation duration: 01:05:23.30\n",
      "D:/thijsmas/HSC\\ecc0\\web0\\Full_web_ecc0_new_Floc2_v1_S01\\Full_web_ecc0_new_Floc2_v1_S01.cihx\n",
      "D:/thijsmas/HSC\\ecc0\\web0\\Full_web_ecc0_new_Floc2_v1_S01\\Full_web_ecc0_new_Floc2_v1_S01.cihx\n",
      "--- Starting new analysis ---\n",
      " \n",
      "Computation start: 2024-08-09 20:23:14.201892\n"
     ]
    },
    {
     "data": {
      "application/vnd.jupyter.widget-view+json": {
       "model_id": "ea3656c4fe8549e6aa6afdecd3a37d1a",
       "version_major": 2,
       "version_minor": 0
      },
      "text/plain": [
       "VBox()"
      ]
     },
     "metadata": {},
     "output_type": "display_data"
    },
    {
     "name": "stdout",
     "output_type": "stream",
     "text": [
      "Computation duration: 00:59:24.01\n",
      "D:/thijsmas/HSC\\ecc0\\web0\\Full_web_ecc0_new_Floc2_v2_S01\\Full_web_ecc0_new_Floc2_v2_S01.cihx\n",
      "D:/thijsmas/HSC\\ecc0\\web0\\Full_web_ecc0_new_Floc2_v2_S01\\Full_web_ecc0_new_Floc2_v2_S01.cihx\n",
      "--- Starting new analysis ---\n",
      " \n",
      "Computation start: 2024-08-09 21:22:40.393861\n"
     ]
    },
    {
     "data": {
      "application/vnd.jupyter.widget-view+json": {
       "model_id": "75dc34e9782c4c7093755378bd9f5530",
       "version_major": 2,
       "version_minor": 0
      },
      "text/plain": [
       "VBox()"
      ]
     },
     "metadata": {},
     "output_type": "display_data"
    },
    {
     "name": "stdout",
     "output_type": "stream",
     "text": [
      "Computation duration: 01:00:27.36\n",
      "D:/thijsmas/HSC\\ecc0\\web0\\Full_web_ecc0_new_Floc2_v3_S01\\Full_web_ecc0_new_Floc2_v3_S01.cihx\n",
      "D:/thijsmas/HSC\\ecc0\\web0\\Full_web_ecc0_new_Floc2_v3_S01\\Full_web_ecc0_new_Floc2_v3_S01.cihx\n",
      "--- Starting new analysis ---\n",
      " \n",
      "Computation start: 2024-08-09 22:23:09.961525\n"
     ]
    },
    {
     "data": {
      "application/vnd.jupyter.widget-view+json": {
       "model_id": "6725d30bbcd14d788c2417a1a315f631",
       "version_major": 2,
       "version_minor": 0
      },
      "text/plain": [
       "VBox()"
      ]
     },
     "metadata": {},
     "output_type": "display_data"
    },
    {
     "name": "stdout",
     "output_type": "stream",
     "text": [
      "Computation duration: 00:56:1.51\n",
      "D:/thijsmas/HSC\\ecc0\\web0\\Full_web_ecc0_new_Floc3_v0_S01\\Full_web_ecc0_new_Floc3_v0_S01.cihx\n",
      "D:/thijsmas/HSC\\ecc0\\web0\\Full_web_ecc0_new_Floc3_v0_S01\\Full_web_ecc0_new_Floc3_v0_S01.cihx\n",
      "--- Starting new analysis ---\n",
      " \n",
      "Computation start: 2024-08-09 23:19:13.668156\n"
     ]
    },
    {
     "data": {
      "application/vnd.jupyter.widget-view+json": {
       "model_id": "5e11e17a8d70415ebdd74010e6f502f9",
       "version_major": 2,
       "version_minor": 0
      },
      "text/plain": [
       "VBox()"
      ]
     },
     "metadata": {},
     "output_type": "display_data"
    },
    {
     "name": "stdout",
     "output_type": "stream",
     "text": [
      "Computation duration: 01:05:10.76\n",
      "D:/thijsmas/HSC\\ecc0\\web0\\Full_web_ecc0_new_Floc3_v0_S01\\Full_web_ecc0_new_Floc3_v0_S01_pyidi_analysis\\analysis_001\\ analysis_001\n",
      "D:/thijsmas/HSC\\ecc0\\web0\\Full_web_ecc0_new_Floc3_v1_S01\\Full_web_ecc0_new_Floc3_v1_S01.cihx\n",
      "D:/thijsmas/HSC\\ecc0\\web0\\Full_web_ecc0_new_Floc3_v1_S01\\Full_web_ecc0_new_Floc3_v1_S01.cihx\n",
      "--- Starting new analysis ---\n",
      " \n",
      "Computation start: 2024-08-10 00:24:26.607038\n"
     ]
    },
    {
     "data": {
      "application/vnd.jupyter.widget-view+json": {
       "model_id": "efd5fd12f06d464aa1d5bca0d9561d53",
       "version_major": 2,
       "version_minor": 0
      },
      "text/plain": [
       "VBox()"
      ]
     },
     "metadata": {},
     "output_type": "display_data"
    },
    {
     "name": "stdout",
     "output_type": "stream",
     "text": [
      "Computation duration: 01:01:38.25\n",
      "D:/thijsmas/HSC\\ecc0\\web0\\Full_web_ecc0_new_Floc3_v2_S01\\Full_web_ecc0_new_Floc3_v2_S01.cihx\n",
      "D:/thijsmas/HSC\\ecc0\\web0\\Full_web_ecc0_new_Floc3_v2_S01\\Full_web_ecc0_new_Floc3_v2_S01.cihx\n",
      "--- Starting new analysis ---\n",
      " \n",
      "Computation start: 2024-08-10 01:26:07.078540\n"
     ]
    },
    {
     "data": {
      "application/vnd.jupyter.widget-view+json": {
       "model_id": "e6a54485d48545c097db449e1d9dbd17",
       "version_major": 2,
       "version_minor": 0
      },
      "text/plain": [
       "VBox()"
      ]
     },
     "metadata": {},
     "output_type": "display_data"
    },
    {
     "name": "stdout",
     "output_type": "stream",
     "text": [
      "Computation duration: 01:00:42.29\n",
      "D:/thijsmas/HSC\\ecc0\\web0\\Full_web_ecc0_new_Floc4_v0_S01\\Full_web_ecc0_new_Floc4_v0_S01.cihx\n",
      "D:/thijsmas/HSC\\ecc0\\web0\\Full_web_ecc0_new_Floc4_v0_S01\\Full_web_ecc0_new_Floc4_v0_S01.cihx\n",
      "--- Starting new analysis ---\n",
      " \n",
      "Computation start: 2024-08-10 02:26:51.580298\n"
     ]
    },
    {
     "data": {
      "application/vnd.jupyter.widget-view+json": {
       "model_id": "9994a3ff72cd4f6ea0709644d0fe4271",
       "version_major": 2,
       "version_minor": 0
      },
      "text/plain": [
       "VBox()"
      ]
     },
     "metadata": {},
     "output_type": "display_data"
    },
    {
     "name": "stdout",
     "output_type": "stream",
     "text": [
      "Computation duration: 00:54:46.11\n",
      "D:/thijsmas/HSC\\ecc0\\web0\\Full_web_ecc0_new_Floc4_v1_S01\\Full_web_ecc0_new_Floc4_v1_S01.cihx\n",
      "D:/thijsmas/HSC\\ecc0\\web0\\Full_web_ecc0_new_Floc4_v1_S01\\Full_web_ecc0_new_Floc4_v1_S01.cihx\n"
     ]
    },
    {
     "name": "stderr",
     "output_type": "stream",
     "text": [
      "C:\\Users\\thijsmas\\Documents\\GitHub\\pyidi\\pyidi\\methods\\_lucas_kanade.py:567: ResourceWarning: unclosed file <_io.BufferedReader name='D:/thijsmas/HSC\\\\ecc0\\\\web0\\\\Full_web_ecc0_new_Floc4_v1_S01\\\\temp_file\\\\settings.pkl'>\n",
      "  settings_old = pickle.load(open(self.settings_filename, 'rb'))\n",
      "ResourceWarning: Enable tracemalloc to get the object allocation traceback\n"
     ]
    },
    {
     "name": "stdout",
     "output_type": "stream",
     "text": [
      "--- Starting new analysis ---\n",
      " \n",
      "Computation start: 2024-08-10 03:21:39.858232\n"
     ]
    },
    {
     "data": {
      "application/vnd.jupyter.widget-view+json": {
       "model_id": "d165b7cbb3934632b3df96fad6521105",
       "version_major": 2,
       "version_minor": 0
      },
      "text/plain": [
       "VBox()"
      ]
     },
     "metadata": {},
     "output_type": "display_data"
    },
    {
     "name": "stdout",
     "output_type": "stream",
     "text": [
      "Computation duration: 00:59:38.29\n",
      "D:/thijsmas/HSC\\ecc0\\web0\\Full_web_ecc0_new_Floc4_v1_S01\\Full_web_ecc0_new_Floc4_v1_S01_pyidi_analysis\\analysis_005\\ analysis_005\n",
      "D:/thijsmas/HSC\\ecc0\\web0\\Full_web_ecc0_new_Floc4_v2_S01\\Full_web_ecc0_new_Floc4_v2_S01.cihx\n",
      "D:/thijsmas/HSC\\ecc0\\web0\\Full_web_ecc0_new_Floc4_v2_S01\\Full_web_ecc0_new_Floc4_v2_S01.cihx\n",
      "--- Starting new analysis ---\n",
      " \n",
      "Computation start: 2024-08-10 04:21:20.313278\n"
     ]
    },
    {
     "data": {
      "application/vnd.jupyter.widget-view+json": {
       "model_id": "ff2963a1b41c44b19add418a0a0cd91e",
       "version_major": 2,
       "version_minor": 0
      },
      "text/plain": [
       "VBox()"
      ]
     },
     "metadata": {},
     "output_type": "display_data"
    },
    {
     "name": "stdout",
     "output_type": "stream",
     "text": [
      "Computation duration: 01:05:0.80\n",
      "D:/thijsmas/HSC\\ecc0\\web0\\Full_web_ecc0_new_Floc5_v0_S01\\Full_web_ecc0_new_Floc5_v0_S01.cihx\n",
      "D:/thijsmas/HSC\\ecc0\\web0\\Full_web_ecc0_new_Floc5_v0_S01\\Full_web_ecc0_new_Floc5_v0_S01.cihx\n",
      "--- Starting new analysis ---\n",
      " \n",
      "Computation start: 2024-08-10 05:26:23.293677\n"
     ]
    },
    {
     "data": {
      "application/vnd.jupyter.widget-view+json": {
       "model_id": "b58e23e2b1254633ad01e393365b5473",
       "version_major": 2,
       "version_minor": 0
      },
      "text/plain": [
       "VBox()"
      ]
     },
     "metadata": {},
     "output_type": "display_data"
    },
    {
     "name": "stdout",
     "output_type": "stream",
     "text": [
      "Computation duration: 01:04:51.42\n",
      "D:/thijsmas/HSC\\ecc0\\web0\\Full_web_ecc0_new_Floc5_v1_S01\\Full_web_ecc0_new_Floc5_v1_S01.cihx\n",
      "D:/thijsmas/HSC\\ecc0\\web0\\Full_web_ecc0_new_Floc5_v1_S01\\Full_web_ecc0_new_Floc5_v1_S01.cihx\n",
      "--- Starting new analysis ---\n",
      " \n",
      "Computation start: 2024-08-10 06:31:16.903834\n"
     ]
    },
    {
     "data": {
      "application/vnd.jupyter.widget-view+json": {
       "model_id": "c51bb188438044f4a34323c2542b7d24",
       "version_major": 2,
       "version_minor": 0
      },
      "text/plain": [
       "VBox()"
      ]
     },
     "metadata": {},
     "output_type": "display_data"
    },
    {
     "name": "stdout",
     "output_type": "stream",
     "text": [
      "Computation duration: 01:02:39.24\n",
      "D:/thijsmas/HSC\\ecc0\\web0\\Full_web_ecc0_new_Floc6_v0_S01\\Full_web_ecc0_new_Floc6_v0_S01.cihx\n",
      "D:/thijsmas/HSC\\ecc0\\web0\\Full_web_ecc0_new_Floc6_v0_S01\\Full_web_ecc0_new_Floc6_v0_S01.cihx\n",
      "--- Starting new analysis ---\n",
      " \n",
      "Computation start: 2024-08-10 07:33:58.339227\n"
     ]
    },
    {
     "data": {
      "application/vnd.jupyter.widget-view+json": {
       "model_id": "1ab737d95ae54a7fa9d17ebbe5ceb704",
       "version_major": 2,
       "version_minor": 0
      },
      "text/plain": [
       "VBox()"
      ]
     },
     "metadata": {},
     "output_type": "display_data"
    },
    {
     "name": "stdout",
     "output_type": "stream",
     "text": [
      "Computation duration: 00:58:49.83\n",
      "D:/thijsmas/HSC\\ecc0\\web0\\Full_web_ecc0_new_Floc6_v1_S01\\Full_web_ecc0_new_Floc6_v1_S01.cihx\n",
      "D:/thijsmas/HSC\\ecc0\\web0\\Full_web_ecc0_new_Floc6_v1_S01\\Full_web_ecc0_new_Floc6_v1_S01.cihx\n",
      "--- Starting new analysis ---\n",
      " \n",
      "Computation start: 2024-08-10 08:32:50.342364\n"
     ]
    },
    {
     "data": {
      "application/vnd.jupyter.widget-view+json": {
       "model_id": "b60ea581054840ad84fdef06df1f218d",
       "version_major": 2,
       "version_minor": 0
      },
      "text/plain": [
       "VBox()"
      ]
     },
     "metadata": {},
     "output_type": "display_data"
    },
    {
     "name": "stdout",
     "output_type": "stream",
     "text": [
      "Computation duration: 00:58:40.70\n",
      "D:/thijsmas/HSC\\ecc0\\web0\\Full_web_ecc0_new_Floc6_v2_S01\\Full_web_ecc0_new_Floc6_v2_S01.cihx\n",
      "D:/thijsmas/HSC\\ecc0\\web0\\Full_web_ecc0_new_Floc6_v2_S01\\Full_web_ecc0_new_Floc6_v2_S01.cihx\n",
      "--- Starting new analysis ---\n",
      " \n",
      "Computation start: 2024-08-10 09:31:33.225692\n"
     ]
    },
    {
     "data": {
      "application/vnd.jupyter.widget-view+json": {
       "model_id": "48973a24017f43109e8cf9213e91e527",
       "version_major": 2,
       "version_minor": 0
      },
      "text/plain": [
       "VBox()"
      ]
     },
     "metadata": {},
     "output_type": "display_data"
    },
    {
     "name": "stdout",
     "output_type": "stream",
     "text": [
      "Computation duration: 01:02:54.50\n",
      "D:/thijsmas/HSC\\ecc0\\web0\\Full_web_ecc0_new_Floc6_v3_S01\\Full_web_ecc0_new_Floc6_v3_S01.cihx\n",
      "D:/thijsmas/HSC\\ecc0\\web0\\Full_web_ecc0_new_Floc6_v3_S01\\Full_web_ecc0_new_Floc6_v3_S01.cihx\n",
      "--- Starting new analysis ---\n",
      " \n",
      "Computation start: 2024-08-10 10:34:29.866745\n"
     ]
    },
    {
     "data": {
      "application/vnd.jupyter.widget-view+json": {
       "model_id": "3d2727a841964d7fa895893544d358b2",
       "version_major": 2,
       "version_minor": 0
      },
      "text/plain": [
       "VBox()"
      ]
     },
     "metadata": {},
     "output_type": "display_data"
    },
    {
     "name": "stdout",
     "output_type": "stream",
     "text": [
      "Computation duration: 00:59:17.85\n",
      "D:/thijsmas/HSC\\ecc0\\web0\\Full_web_ecc0_new_Floc7_v0_S01\\Full_web_ecc0_new_Floc7_v0_S01.cihx\n",
      "D:/thijsmas/HSC\\ecc0\\web0\\Full_web_ecc0_new_Floc7_v0_S01\\Full_web_ecc0_new_Floc7_v0_S01.cihx\n",
      "--- Starting new analysis ---\n",
      " \n",
      "Computation start: 2024-08-10 11:33:49.863106\n"
     ]
    },
    {
     "data": {
      "application/vnd.jupyter.widget-view+json": {
       "model_id": "46ca0de5fa3841e4b4591522824220c7",
       "version_major": 2,
       "version_minor": 0
      },
      "text/plain": [
       "VBox()"
      ]
     },
     "metadata": {},
     "output_type": "display_data"
    },
    {
     "name": "stdout",
     "output_type": "stream",
     "text": [
      "Computation duration: 00:59:6.48\n",
      "D:/thijsmas/HSC\\ecc0\\web0\\Full_web_ecc0_new_Floc7_v1_S01\\Full_web_ecc0_new_Floc7_v1_S01.cihx\n",
      "D:/thijsmas/HSC\\ecc0\\web0\\Full_web_ecc0_new_Floc7_v1_S01\\Full_web_ecc0_new_Floc7_v1_S01.cihx\n",
      "--- Starting new analysis ---\n",
      " \n",
      "Computation start: 2024-08-10 12:32:58.498448\n"
     ]
    },
    {
     "data": {
      "application/vnd.jupyter.widget-view+json": {
       "model_id": "5cb5d952aa444fa0ba624e2a06907110",
       "version_major": 2,
       "version_minor": 0
      },
      "text/plain": [
       "VBox()"
      ]
     },
     "metadata": {},
     "output_type": "display_data"
    },
    {
     "name": "stdout",
     "output_type": "stream",
     "text": [
      "Computation duration: 00:58:37.65\n",
      "D:/thijsmas/HSC\\ecc0\\web0\\Full_web_ecc0_new_Floc7_v2_S01\\Full_web_ecc0_new_Floc7_v2_S01.cihx\n",
      "D:/thijsmas/HSC\\ecc0\\web0\\Full_web_ecc0_new_Floc7_v2_S01\\Full_web_ecc0_new_Floc7_v2_S01.cihx\n",
      "--- Starting new analysis ---\n",
      " \n",
      "Computation start: 2024-08-10 13:31:38.307540\n"
     ]
    },
    {
     "data": {
      "application/vnd.jupyter.widget-view+json": {
       "model_id": "86e64d6eb9ca4b84b82506ba513bf80b",
       "version_major": 2,
       "version_minor": 0
      },
      "text/plain": [
       "VBox()"
      ]
     },
     "metadata": {},
     "output_type": "display_data"
    },
    {
     "name": "stdout",
     "output_type": "stream",
     "text": [
      "Computation duration: 00:58:39.20\n",
      "D:/thijsmas/HSC\\ecc0\\web0\\Full_web_ecc0_new_Floc8_v0_S01\\Full_web_ecc0_new_Floc8_v0_S01.cihx\n",
      "D:/thijsmas/HSC\\ecc0\\web0\\Full_web_ecc0_new_Floc8_v0_S01\\Full_web_ecc0_new_Floc8_v0_S01.cihx\n",
      "--- Starting new analysis ---\n",
      " \n",
      "Computation start: 2024-08-10 14:30:19.661218\n"
     ]
    },
    {
     "data": {
      "application/vnd.jupyter.widget-view+json": {
       "model_id": "f5ce62fb80864f299e3aa5cb78bd267b",
       "version_major": 2,
       "version_minor": 0
      },
      "text/plain": [
       "VBox()"
      ]
     },
     "metadata": {},
     "output_type": "display_data"
    },
    {
     "name": "stdout",
     "output_type": "stream",
     "text": [
      "Computation duration: 00:57:2.90\n",
      "D:/thijsmas/HSC\\ecc0\\web0\\Full_web_ecc0_new_Floc8_v1_S01\\Full_web_ecc0_new_Floc8_v1_S01.cihx\n",
      "D:/thijsmas/HSC\\ecc0\\web0\\Full_web_ecc0_new_Floc8_v1_S01\\Full_web_ecc0_new_Floc8_v1_S01.cihx\n",
      "--- Starting new analysis ---\n",
      " \n",
      "Computation start: 2024-08-10 15:27:24.702206\n"
     ]
    },
    {
     "data": {
      "application/vnd.jupyter.widget-view+json": {
       "model_id": "6a794372884a4944b4c5e3448775c943",
       "version_major": 2,
       "version_minor": 0
      },
      "text/plain": [
       "VBox()"
      ]
     },
     "metadata": {},
     "output_type": "display_data"
    },
    {
     "name": "stdout",
     "output_type": "stream",
     "text": [
      "Computation duration: 01:00:24.12\n",
      "D:/thijsmas/HSC\\ecc0\\web0\\Full_web_ecc0_new_Floc9_v0_S01\\Full_web_ecc0_new_Floc9_v0_S01.cihx\n",
      "D:/thijsmas/HSC\\ecc0\\web0\\Full_web_ecc0_new_Floc9_v0_S01\\Full_web_ecc0_new_Floc9_v0_S01.cihx\n",
      "--- Starting new analysis ---\n",
      " \n",
      "Computation start: 2024-08-10 16:27:50.993807\n"
     ]
    },
    {
     "data": {
      "application/vnd.jupyter.widget-view+json": {
       "model_id": "dd2c65d98a7c4db2b7434638e15bff62",
       "version_major": 2,
       "version_minor": 0
      },
      "text/plain": [
       "VBox()"
      ]
     },
     "metadata": {},
     "output_type": "display_data"
    },
    {
     "name": "stdout",
     "output_type": "stream",
     "text": [
      "Computation duration: 01:04:24.53\n",
      "D:/thijsmas/HSC\\ecc0\\web0\\Full_web_ecc0_new_Floc9_v1_S01\\Full_web_ecc0_new_Floc9_v1_S01.cihx\n",
      "D:/thijsmas/HSC\\ecc0\\web0\\Full_web_ecc0_new_Floc9_v1_S01\\Full_web_ecc0_new_Floc9_v1_S01.cihx\n",
      "--- Starting new analysis ---\n",
      " \n",
      "Computation start: 2024-08-10 17:32:17.680616\n"
     ]
    },
    {
     "data": {
      "application/vnd.jupyter.widget-view+json": {
       "model_id": "1c5d13f2346a450a803184fbc9688f6e",
       "version_major": 2,
       "version_minor": 0
      },
      "text/plain": [
       "VBox()"
      ]
     },
     "metadata": {},
     "output_type": "display_data"
    },
    {
     "name": "stdout",
     "output_type": "stream",
     "text": [
      "Computation duration: 00:59:7.13\n",
      "D:/thijsmas/HSC\\ecc0\\web1\\Full_web_ecc0_new2_Floc11_v0_S01\\Full_web_ecc0_new2_Floc11_v0_S01.cihx\n",
      "D:/thijsmas/HSC\\ecc0\\web1\\Full_web_ecc0_new2_Floc11_v0_S01\\Full_web_ecc0_new2_Floc11_v0_S01.cihx\n"
     ]
    },
    {
     "name": "stderr",
     "output_type": "stream",
     "text": [
      "c:\\Users\\thijsmas\\AppData\\Local\\anaconda3\\Lib\\site-packages\\pyMRAW.py:103: UserWarning: Clipped footage! (Total frame: 7000, Original total frame: 87371)\n",
      "  warnings.warn('Clipped footage! (Total frame: {}, Original total frame: {})'.format(cih['Total Frame'], cih['Original Total Frame'] ))\n"
     ]
    },
    {
     "name": "stdout",
     "output_type": "stream",
     "text": [
      "--- Starting new analysis ---\n",
      " \n",
      "Computation start: 2024-08-10 18:31:26.956784\n"
     ]
    },
    {
     "data": {
      "application/vnd.jupyter.widget-view+json": {
       "model_id": "46e2858c35a84ef78bdddf7df9f760c0",
       "version_major": 2,
       "version_minor": 0
      },
      "text/plain": [
       "VBox()"
      ]
     },
     "metadata": {},
     "output_type": "display_data"
    },
    {
     "name": "stdout",
     "output_type": "stream",
     "text": [
      "Computation duration: 00:41:8.58\n",
      "D:/thijsmas/HSC\\ecc0\\web1\\Full_web_ecc0_new2_Floc11_v1_S01\\Full_web_ecc0_new2_Floc11_v1_S01.cihx\n",
      "D:/thijsmas/HSC\\ecc0\\web1\\Full_web_ecc0_new2_Floc11_v1_S01\\Full_web_ecc0_new2_Floc11_v1_S01.cihx\n",
      "--- Starting new analysis ---\n",
      " \n",
      "Computation start: 2024-08-10 19:12:37.163598\n"
     ]
    },
    {
     "data": {
      "application/vnd.jupyter.widget-view+json": {
       "model_id": "d5bd3cb77dcd447591d0e71e0807ec39",
       "version_major": 2,
       "version_minor": 0
      },
      "text/plain": [
       "VBox()"
      ]
     },
     "metadata": {},
     "output_type": "display_data"
    },
    {
     "name": "stdout",
     "output_type": "stream",
     "text": [
      "Computation duration: 00:41:30.72\n",
      "D:/thijsmas/HSC\\ecc0\\web1\\Full_web_ecc0_new2_Floc12_v0_S01\\Full_web_ecc0_new2_Floc12_v0_S01.cihx\n",
      "D:/thijsmas/HSC\\ecc0\\web1\\Full_web_ecc0_new2_Floc12_v0_S01\\Full_web_ecc0_new2_Floc12_v0_S01.cihx\n",
      "--- Starting new analysis ---\n",
      " \n",
      "Computation start: 2024-08-10 19:54:09.519754\n"
     ]
    },
    {
     "data": {
      "application/vnd.jupyter.widget-view+json": {
       "model_id": "e500783e85db4caeaea7dfcbaf0e36ab",
       "version_major": 2,
       "version_minor": 0
      },
      "text/plain": [
       "VBox()"
      ]
     },
     "metadata": {},
     "output_type": "display_data"
    },
    {
     "name": "stdout",
     "output_type": "stream",
     "text": [
      "Computation duration: 00:41:20.00\n",
      "D:/thijsmas/HSC\\ecc0\\web1\\Full_web_ecc0_new2_Floc12_v1_S01\\Full_web_ecc0_new2_Floc12_v1_S01.cihx\n",
      "D:/thijsmas/HSC\\ecc0\\web1\\Full_web_ecc0_new2_Floc12_v1_S01\\Full_web_ecc0_new2_Floc12_v1_S01.cihx\n"
     ]
    },
    {
     "name": "stderr",
     "output_type": "stream",
     "text": [
      "c:\\Users\\thijsmas\\AppData\\Local\\anaconda3\\Lib\\site-packages\\pyMRAW.py:103: UserWarning: Clipped footage! (Total frame: 8000, Original total frame: 87371)\n",
      "  warnings.warn('Clipped footage! (Total frame: {}, Original total frame: {})'.format(cih['Total Frame'], cih['Original Total Frame'] ))\n"
     ]
    },
    {
     "name": "stdout",
     "output_type": "stream",
     "text": [
      "--- Starting new analysis ---\n",
      " \n",
      "Computation start: 2024-08-10 20:35:31.160013\n"
     ]
    },
    {
     "data": {
      "application/vnd.jupyter.widget-view+json": {
       "model_id": "e2379d640d3040729bd7c4469c6543a7",
       "version_major": 2,
       "version_minor": 0
      },
      "text/plain": [
       "VBox()"
      ]
     },
     "metadata": {},
     "output_type": "display_data"
    },
    {
     "name": "stdout",
     "output_type": "stream",
     "text": [
      "Computation duration: 00:46:17.95\n",
      "D:/thijsmas/HSC\\ecc0\\web1\\Full_web_ecc0_new2_Floc13_v0_S01\\Full_web_ecc0_new2_Floc13_v0_S01.cihx\n",
      "D:/thijsmas/HSC\\ecc0\\web1\\Full_web_ecc0_new2_Floc13_v0_S01\\Full_web_ecc0_new2_Floc13_v0_S01.cihx\n",
      "--- Starting new analysis ---\n",
      " \n",
      "Computation start: 2024-08-10 21:21:50.885246\n"
     ]
    },
    {
     "data": {
      "application/vnd.jupyter.widget-view+json": {
       "model_id": "5b820f728cbe4f788ab09e6a7779b00c",
       "version_major": 2,
       "version_minor": 0
      },
      "text/plain": [
       "VBox()"
      ]
     },
     "metadata": {},
     "output_type": "display_data"
    },
    {
     "name": "stdout",
     "output_type": "stream",
     "text": [
      "Computation duration: 00:46:35.83\n",
      "D:/thijsmas/HSC\\ecc0\\web1\\Full_web_ecc0_new2_Floc13_v1_S01\\Full_web_ecc0_new2_Floc13_v1_S01.cihx\n",
      "D:/thijsmas/HSC\\ecc0\\web1\\Full_web_ecc0_new2_Floc13_v1_S01\\Full_web_ecc0_new2_Floc13_v1_S01.cihx\n",
      "--- Starting new analysis ---\n",
      " \n",
      "Computation start: 2024-08-10 22:08:28.517319\n"
     ]
    },
    {
     "data": {
      "application/vnd.jupyter.widget-view+json": {
       "model_id": "86f9c1e669194e5eaa8cd7649c9bf15e",
       "version_major": 2,
       "version_minor": 0
      },
      "text/plain": [
       "VBox()"
      ]
     },
     "metadata": {},
     "output_type": "display_data"
    },
    {
     "name": "stdout",
     "output_type": "stream",
     "text": [
      "Computation duration: 00:46:54.48\n",
      "D:/thijsmas/HSC\\ecc0\\web1\\Full_web_ecc0_new2_Floc14_v0_S01\\Full_web_ecc0_new2_Floc14_v0_S01.cihx\n",
      "D:/thijsmas/HSC\\ecc0\\web1\\Full_web_ecc0_new2_Floc14_v0_S01\\Full_web_ecc0_new2_Floc14_v0_S01.cihx\n",
      "--- Starting new analysis ---\n",
      " \n",
      "Computation start: 2024-08-10 22:55:24.820467\n"
     ]
    },
    {
     "data": {
      "application/vnd.jupyter.widget-view+json": {
       "model_id": "73a2b06498fc4dcdbb741934c49c6c28",
       "version_major": 2,
       "version_minor": 0
      },
      "text/plain": [
       "VBox()"
      ]
     },
     "metadata": {},
     "output_type": "display_data"
    },
    {
     "name": "stdout",
     "output_type": "stream",
     "text": [
      "Computation duration: 00:47:34.30\n",
      "D:/thijsmas/HSC\\ecc0\\web1\\Full_web_ecc0_new2_Floc14_v1_S01\\Full_web_ecc0_new2_Floc14_v1_S01.cihx\n",
      "D:/thijsmas/HSC\\ecc0\\web1\\Full_web_ecc0_new2_Floc14_v1_S01\\Full_web_ecc0_new2_Floc14_v1_S01.cihx\n",
      "--- Starting new analysis ---\n",
      " \n",
      "Computation start: 2024-08-10 23:43:00.910735\n"
     ]
    },
    {
     "data": {
      "application/vnd.jupyter.widget-view+json": {
       "model_id": "419465182dc344609fc4bf977201ae6f",
       "version_major": 2,
       "version_minor": 0
      },
      "text/plain": [
       "VBox()"
      ]
     },
     "metadata": {},
     "output_type": "display_data"
    },
    {
     "name": "stdout",
     "output_type": "stream",
     "text": [
      "Computation duration: 00:47:26.03\n",
      "D:/thijsmas/HSC\\ecc0\\web1\\Full_web_ecc0_new2_Floc15_v0_S01\\Full_web_ecc0_new2_Floc15_v0_S01.cihx\n",
      "D:/thijsmas/HSC\\ecc0\\web1\\Full_web_ecc0_new2_Floc15_v0_S01\\Full_web_ecc0_new2_Floc15_v0_S01.cihx\n",
      "--- Starting new analysis ---\n",
      " \n",
      "Computation start: 2024-08-11 00:30:28.750589\n"
     ]
    },
    {
     "data": {
      "application/vnd.jupyter.widget-view+json": {
       "model_id": "db65d28dc3a74ecf9c3046658cc85f40",
       "version_major": 2,
       "version_minor": 0
      },
      "text/plain": [
       "VBox()"
      ]
     },
     "metadata": {},
     "output_type": "display_data"
    },
    {
     "name": "stdout",
     "output_type": "stream",
     "text": [
      "Computation duration: 00:46:54.56\n",
      "D:/thijsmas/HSC\\ecc0\\web1\\Full_web_ecc0_new2_Floc15_v0_S01\\Full_web_ecc0_new2_Floc15_v0_S01_pyidi_analysis\\analysis_002\\ analysis_002\n",
      "D:/thijsmas/HSC\\ecc0\\web1\\Full_web_ecc0_new2_Floc15_v1_S01\\Full_web_ecc0_new2_Floc15_v1_S01.cihx\n",
      "D:/thijsmas/HSC\\ecc0\\web1\\Full_web_ecc0_new2_Floc15_v1_S01\\Full_web_ecc0_new2_Floc15_v1_S01.cihx\n",
      "--- Starting new analysis ---\n",
      " \n",
      "Computation start: 2024-08-11 01:17:25.125060\n"
     ]
    },
    {
     "data": {
      "application/vnd.jupyter.widget-view+json": {
       "model_id": "a934976edece47689b74d0e2f45fc0af",
       "version_major": 2,
       "version_minor": 0
      },
      "text/plain": [
       "VBox()"
      ]
     },
     "metadata": {},
     "output_type": "display_data"
    },
    {
     "name": "stdout",
     "output_type": "stream",
     "text": [
      "Computation duration: 00:47:25.53\n",
      "D:/thijsmas/HSC\\ecc0\\web1\\Full_web_ecc0_new2_Floc16_v0_S01\\Full_web_ecc0_new2_Floc16_v0_S01.cihx\n",
      "D:/thijsmas/HSC\\ecc0\\web1\\Full_web_ecc0_new2_Floc16_v0_S01\\Full_web_ecc0_new2_Floc16_v0_S01.cihx\n",
      "--- Starting new analysis ---\n",
      " \n",
      "Computation start: 2024-08-11 02:04:52.456185\n"
     ]
    },
    {
     "data": {
      "application/vnd.jupyter.widget-view+json": {
       "model_id": "717aa710612942328db52dd9f671fef1",
       "version_major": 2,
       "version_minor": 0
      },
      "text/plain": [
       "VBox()"
      ]
     },
     "metadata": {},
     "output_type": "display_data"
    },
    {
     "name": "stdout",
     "output_type": "stream",
     "text": [
      "Computation duration: 00:49:10.80\n",
      "D:/thijsmas/HSC\\ecc0\\web1\\Full_web_ecc0_new2_Floc16_v1_S01\\Full_web_ecc0_new2_Floc16_v1_S01.cihx\n",
      "D:/thijsmas/HSC\\ecc0\\web1\\Full_web_ecc0_new2_Floc16_v1_S01\\Full_web_ecc0_new2_Floc16_v1_S01.cihx\n",
      "--- Starting new analysis ---\n",
      " \n",
      "Computation start: 2024-08-11 02:54:05.046937\n"
     ]
    },
    {
     "data": {
      "application/vnd.jupyter.widget-view+json": {
       "model_id": "e672b3c4e4a44b87aaa0b1c9708f058b",
       "version_major": 2,
       "version_minor": 0
      },
      "text/plain": [
       "VBox()"
      ]
     },
     "metadata": {},
     "output_type": "display_data"
    },
    {
     "name": "stdout",
     "output_type": "stream",
     "text": [
      "Computation duration: 00:47:40.23\n",
      "D:/thijsmas/HSC\\ecc0\\web1\\Full_web_ecc0_new2_Floc17_v0_S01\\Full_web_ecc0_new2_Floc17_v0_S01.cihx\n",
      "D:/thijsmas/HSC\\ecc0\\web1\\Full_web_ecc0_new2_Floc17_v0_S01\\Full_web_ecc0_new2_Floc17_v0_S01.cihx\n",
      "--- Starting new analysis ---\n",
      " \n",
      "Computation start: 2024-08-11 03:41:47.067540\n"
     ]
    },
    {
     "data": {
      "application/vnd.jupyter.widget-view+json": {
       "model_id": "e3fcc9fd56d144ef8fc8e7bfb38d0cd3",
       "version_major": 2,
       "version_minor": 0
      },
      "text/plain": [
       "VBox()"
      ]
     },
     "metadata": {},
     "output_type": "display_data"
    },
    {
     "name": "stdout",
     "output_type": "stream",
     "text": [
      "Computation duration: 00:47:59.58\n",
      "D:/thijsmas/HSC\\ecc0\\web1\\Full_web_ecc0_new2_Floc17_v1_S01\\Full_web_ecc0_new2_Floc17_v1_S01.cihx\n",
      "D:/thijsmas/HSC\\ecc0\\web1\\Full_web_ecc0_new2_Floc17_v1_S01\\Full_web_ecc0_new2_Floc17_v1_S01.cihx\n",
      "--- Starting new analysis ---\n",
      " \n",
      "Computation start: 2024-08-11 04:29:48.450865\n"
     ]
    },
    {
     "data": {
      "application/vnd.jupyter.widget-view+json": {
       "model_id": "a8144538ad724dc5ab8298d90ebfb7c0",
       "version_major": 2,
       "version_minor": 0
      },
      "text/plain": [
       "VBox()"
      ]
     },
     "metadata": {},
     "output_type": "display_data"
    },
    {
     "name": "stdout",
     "output_type": "stream",
     "text": [
      "Computation duration: 00:50:8.13\n",
      "D:/thijsmas/HSC\\ecc0\\web1\\Full_web_ecc0_new2_Floc18_v0_S01\\Full_web_ecc0_new2_Floc18_v0_S01.cihx\n",
      "D:/thijsmas/HSC\\ecc0\\web1\\Full_web_ecc0_new2_Floc18_v0_S01\\Full_web_ecc0_new2_Floc18_v0_S01.cihx\n",
      "--- Starting new analysis ---\n",
      " \n",
      "Computation start: 2024-08-11 05:19:58.461180\n"
     ]
    },
    {
     "data": {
      "application/vnd.jupyter.widget-view+json": {
       "model_id": "2715d8758c454d60b31a222412d2df09",
       "version_major": 2,
       "version_minor": 0
      },
      "text/plain": [
       "VBox()"
      ]
     },
     "metadata": {},
     "output_type": "display_data"
    },
    {
     "name": "stdout",
     "output_type": "stream",
     "text": [
      "Computation duration: 00:52:0.28\n",
      "D:/thijsmas/HSC\\ecc0\\web1\\Full_web_ecc0_new2_Floc18_v1_S01\\Full_web_ecc0_new2_Floc18_v1_S01.cihx\n",
      "D:/thijsmas/HSC\\ecc0\\web1\\Full_web_ecc0_new2_Floc18_v1_S01\\Full_web_ecc0_new2_Floc18_v1_S01.cihx\n",
      "--- Starting new analysis ---\n",
      " \n",
      "Computation start: 2024-08-11 06:12:00.560107\n"
     ]
    },
    {
     "data": {
      "application/vnd.jupyter.widget-view+json": {
       "model_id": "af22636940604464943d15e3c97b09fa",
       "version_major": 2,
       "version_minor": 0
      },
      "text/plain": [
       "VBox()"
      ]
     },
     "metadata": {},
     "output_type": "display_data"
    },
    {
     "name": "stdout",
     "output_type": "stream",
     "text": [
      "Computation duration: 00:47:35.88\n",
      "D:/thijsmas/HSC\\ecc0\\web1\\Full_web_ecc0_new2_Floc19_v0_S01\\Full_web_ecc0_new2_Floc19_v0_S01.cihx\n",
      "D:/thijsmas/HSC\\ecc0\\web1\\Full_web_ecc0_new2_Floc19_v0_S01\\Full_web_ecc0_new2_Floc19_v0_S01.cihx\n",
      "--- Starting new analysis ---\n",
      " \n",
      "Computation start: 2024-08-11 06:59:38.257456\n"
     ]
    },
    {
     "data": {
      "application/vnd.jupyter.widget-view+json": {
       "model_id": "ac2c6a6ebd7b447aaa0f8ac65b898f40",
       "version_major": 2,
       "version_minor": 0
      },
      "text/plain": [
       "VBox()"
      ]
     },
     "metadata": {},
     "output_type": "display_data"
    },
    {
     "name": "stdout",
     "output_type": "stream",
     "text": [
      "Computation duration: 00:47:58.79\n",
      "D:/thijsmas/HSC\\ecc0\\web1\\Full_web_ecc0_new2_Floc19_v1_S01\\Full_web_ecc0_new2_Floc19_v1_S01.cihx\n",
      "D:/thijsmas/HSC\\ecc0\\web1\\Full_web_ecc0_new2_Floc19_v1_S01\\Full_web_ecc0_new2_Floc19_v1_S01.cihx\n",
      "--- Starting new analysis ---\n",
      " \n",
      "Computation start: 2024-08-11 07:47:38.864204\n"
     ]
    },
    {
     "data": {
      "application/vnd.jupyter.widget-view+json": {
       "model_id": "49e9fbe703e442cdba855c6734cc7b84",
       "version_major": 2,
       "version_minor": 0
      },
      "text/plain": [
       "VBox()"
      ]
     },
     "metadata": {},
     "output_type": "display_data"
    },
    {
     "name": "stdout",
     "output_type": "stream",
     "text": [
      "Computation duration: 00:47:56.36\n",
      "D:/thijsmas/HSC\\ecc0\\web1\\Full_web_ecc0_new2_Floc5_v0_S01\\Full_web_ecc0_new2_Floc5_v0_S01.cihx\n",
      "D:/thijsmas/HSC\\ecc0\\web1\\Full_web_ecc0_new2_Floc5_v0_S01\\Full_web_ecc0_new2_Floc5_v0_S01.cihx\n",
      "--- Starting new analysis ---\n",
      " \n",
      "Computation start: 2024-08-11 08:35:37.026116\n"
     ]
    },
    {
     "data": {
      "application/vnd.jupyter.widget-view+json": {
       "model_id": "a36bb0a9e33943ddaad0fedc060bb08d",
       "version_major": 2,
       "version_minor": 0
      },
      "text/plain": [
       "VBox()"
      ]
     },
     "metadata": {},
     "output_type": "display_data"
    },
    {
     "name": "stdout",
     "output_type": "stream",
     "text": [
      "Computation duration: 00:47:35.71\n",
      "D:/thijsmas/HSC\\ecc0\\web1\\Full_web_ecc0_new2_Floc5_v1_S01\\Full_web_ecc0_new2_Floc5_v1_S01.cihx\n",
      "D:/thijsmas/HSC\\ecc0\\web1\\Full_web_ecc0_new2_Floc5_v1_S01\\Full_web_ecc0_new2_Floc5_v1_S01.cihx\n",
      "--- Starting new analysis ---\n",
      " \n",
      "Computation start: 2024-08-11 09:23:14.590355\n"
     ]
    },
    {
     "data": {
      "application/vnd.jupyter.widget-view+json": {
       "model_id": "9d098d93793f4132aefcf77d31eff20f",
       "version_major": 2,
       "version_minor": 0
      },
      "text/plain": [
       "VBox()"
      ]
     },
     "metadata": {},
     "output_type": "display_data"
    },
    {
     "name": "stdout",
     "output_type": "stream",
     "text": [
      "Computation duration: 00:47:36.56\n",
      "D:/thijsmas/HSC\\ecc1\\web0\\no_mass\\Full_web_ecc1_new_Floc1_nomass_v0_S01\\Full_web_ecc1_new_Floc1_nomass_v0_S01.cihx\n",
      "D:/thijsmas/HSC\\ecc1\\web0\\no_mass\\Full_web_ecc1_new_Floc1_nomass_v0_S01\\Full_web_ecc1_new_Floc1_nomass_v0_S01.cihx\n",
      "--- Starting new analysis ---\n",
      " \n",
      "Computation start: 2024-08-11 10:10:52.959096\n"
     ]
    },
    {
     "data": {
      "application/vnd.jupyter.widget-view+json": {
       "model_id": "716bf5ba47c4450dbfeb75eb7f63a0c5",
       "version_major": 2,
       "version_minor": 0
      },
      "text/plain": [
       "VBox()"
      ]
     },
     "metadata": {},
     "output_type": "display_data"
    },
    {
     "name": "stdout",
     "output_type": "stream",
     "text": [
      "Computation duration: 00:58:44.77\n",
      "D:/thijsmas/HSC\\ecc1\\web0\\no_mass\\Full_web_ecc1_new_Floc2_nomass_v0_S01\\Full_web_ecc1_new_Floc2_nomass_v0_S01.cihx\n",
      "D:/thijsmas/HSC\\ecc1\\web0\\no_mass\\Full_web_ecc1_new_Floc2_nomass_v0_S01\\Full_web_ecc1_new_Floc2_nomass_v0_S01.cihx\n",
      "--- Starting new analysis ---\n",
      " \n",
      "Computation start: 2024-08-11 11:09:39.855311\n"
     ]
    },
    {
     "data": {
      "application/vnd.jupyter.widget-view+json": {
       "model_id": "53610317c3d6453bac762e5aff0f3d67",
       "version_major": 2,
       "version_minor": 0
      },
      "text/plain": [
       "VBox()"
      ]
     },
     "metadata": {},
     "output_type": "display_data"
    },
    {
     "name": "stdout",
     "output_type": "stream",
     "text": [
      "Computation duration: 00:59:52.38\n",
      "D:/thijsmas/HSC\\ecc1\\web0\\no_mass\\Full_web_ecc1_new_Floc3_nomass_v0_S01\\Full_web_ecc1_new_Floc3_nomass_v0_S01.cihx\n",
      "D:/thijsmas/HSC\\ecc1\\web0\\no_mass\\Full_web_ecc1_new_Floc3_nomass_v0_S01\\Full_web_ecc1_new_Floc3_nomass_v0_S01.cihx\n",
      "--- Starting new analysis ---\n",
      " \n",
      "Computation start: 2024-08-11 12:09:34.430718\n"
     ]
    },
    {
     "data": {
      "application/vnd.jupyter.widget-view+json": {
       "model_id": "3185418ae4474ba182ef7e2e1c505322",
       "version_major": 2,
       "version_minor": 0
      },
      "text/plain": [
       "VBox()"
      ]
     },
     "metadata": {},
     "output_type": "display_data"
    },
    {
     "name": "stdout",
     "output_type": "stream",
     "text": [
      "Computation duration: 01:01:6.64\n",
      "D:/thijsmas/HSC\\ecc1\\web0\\no_mass\\Full_web_ecc1_new_Floc4_nomass_v0_S01\\Full_web_ecc1_new_Floc4_nomass_v0_S01.cihx\n",
      "D:/thijsmas/HSC\\ecc1\\web0\\no_mass\\Full_web_ecc1_new_Floc4_nomass_v0_S01\\Full_web_ecc1_new_Floc4_nomass_v0_S01.cihx\n",
      "--- Starting new analysis ---\n",
      " \n",
      "Computation start: 2024-08-11 13:10:43.300972\n"
     ]
    },
    {
     "data": {
      "application/vnd.jupyter.widget-view+json": {
       "model_id": "5a82b655cb6a4744b5c8f51acb1f5955",
       "version_major": 2,
       "version_minor": 0
      },
      "text/plain": [
       "VBox()"
      ]
     },
     "metadata": {},
     "output_type": "display_data"
    },
    {
     "name": "stdout",
     "output_type": "stream",
     "text": [
      "Computation duration: 01:07:12.66\n",
      "D:/thijsmas/HSC\\ecc1\\web0\\no_mass\\Full_web_ecc1_new_Floc5_nomass_v0_S01\\Full_web_ecc1_new_Floc5_nomass_v0_S01.cihx\n",
      "D:/thijsmas/HSC\\ecc1\\web0\\no_mass\\Full_web_ecc1_new_Floc5_nomass_v0_S01\\Full_web_ecc1_new_Floc5_nomass_v0_S01.cihx\n",
      "--- Starting new analysis ---\n",
      " \n",
      "Computation start: 2024-08-11 14:17:58.180732\n"
     ]
    },
    {
     "data": {
      "application/vnd.jupyter.widget-view+json": {
       "model_id": "47b485d3600b40758de8d725aee27882",
       "version_major": 2,
       "version_minor": 0
      },
      "text/plain": [
       "VBox()"
      ]
     },
     "metadata": {},
     "output_type": "display_data"
    },
    {
     "name": "stdout",
     "output_type": "stream",
     "text": [
      "Computation duration: 01:04:41.39\n",
      "D:/thijsmas/HSC\\ecc1\\web0\\no_mass\\Full_web_ecc1_new_Floc6_nomass_v0_S01\\Full_web_ecc1_new_Floc6_nomass_v0_S01.cihx\n",
      "D:/thijsmas/HSC\\ecc1\\web0\\no_mass\\Full_web_ecc1_new_Floc6_nomass_v0_S01\\Full_web_ecc1_new_Floc6_nomass_v0_S01.cihx\n",
      "--- Starting new analysis ---\n",
      " \n",
      "Computation start: 2024-08-11 15:22:41.734638\n"
     ]
    },
    {
     "data": {
      "application/vnd.jupyter.widget-view+json": {
       "model_id": "2acc2c9b2fc24a6a9bb07f25f83c3637",
       "version_major": 2,
       "version_minor": 0
      },
      "text/plain": [
       "VBox()"
      ]
     },
     "metadata": {},
     "output_type": "display_data"
    },
    {
     "name": "stdout",
     "output_type": "stream",
     "text": [
      "Computation duration: 01:06:7.32\n",
      "D:/thijsmas/HSC\\ecc1\\web0\\no_mass\\Full_web_ecc1_new_Floc7_nomass_v0_S01\\Full_web_ecc1_new_Floc7_nomass_v0_S01.cihx\n",
      "D:/thijsmas/HSC\\ecc1\\web0\\no_mass\\Full_web_ecc1_new_Floc7_nomass_v0_S01\\Full_web_ecc1_new_Floc7_nomass_v0_S01.cihx\n",
      "--- Starting new analysis ---\n",
      " \n",
      "Computation start: 2024-08-11 16:28:51.228450\n"
     ]
    },
    {
     "data": {
      "application/vnd.jupyter.widget-view+json": {
       "model_id": "ae5f219b2a72499b9a43e0ccc6039b0d",
       "version_major": 2,
       "version_minor": 0
      },
      "text/plain": [
       "VBox()"
      ]
     },
     "metadata": {},
     "output_type": "display_data"
    },
    {
     "name": "stdout",
     "output_type": "stream",
     "text": [
      "Computation duration: 00:57:53.85\n",
      "D:/thijsmas/HSC\\ecc1\\web0\\no_mass\\Full_web_ecc1_new_Floc8_nomass_v0_S01\\Full_web_ecc1_new_Floc8_nomass_v0_S01.cihx\n",
      "D:/thijsmas/HSC\\ecc1\\web0\\no_mass\\Full_web_ecc1_new_Floc8_nomass_v0_S01\\Full_web_ecc1_new_Floc8_nomass_v0_S01.cihx\n",
      "--- Starting new analysis ---\n",
      " \n",
      "Computation start: 2024-08-11 17:26:47.268502\n"
     ]
    },
    {
     "data": {
      "application/vnd.jupyter.widget-view+json": {
       "model_id": "dc9d4c673be14f72b91c50752be8a012",
       "version_major": 2,
       "version_minor": 0
      },
      "text/plain": [
       "VBox()"
      ]
     },
     "metadata": {},
     "output_type": "display_data"
    },
    {
     "name": "stdout",
     "output_type": "stream",
     "text": [
      "Computation duration: 00:57:28.81\n",
      "D:/thijsmas/HSC\\ecc1\\web0\\no_mass\\Full_web_ecc1_new_Floc9_nomass_v0_S01\\Full_web_ecc1_new_Floc9_nomass_v0_S01.cihx\n",
      "D:/thijsmas/HSC\\ecc1\\web0\\no_mass\\Full_web_ecc1_new_Floc9_nomass_v0_S01\\Full_web_ecc1_new_Floc9_nomass_v0_S01.cihx\n"
     ]
    },
    {
     "name": "stderr",
     "output_type": "stream",
     "text": [
      "c:\\Users\\thijsmas\\AppData\\Local\\anaconda3\\Lib\\site-packages\\pyMRAW.py:103: UserWarning: Clipped footage! (Total frame: 10100, Original total frame: 87371)\n",
      "  warnings.warn('Clipped footage! (Total frame: {}, Original total frame: {})'.format(cih['Total Frame'], cih['Original Total Frame'] ))\n"
     ]
    },
    {
     "name": "stdout",
     "output_type": "stream",
     "text": [
      "--- Starting new analysis ---\n",
      " \n",
      "Computation start: 2024-08-11 18:24:18.175207\n"
     ]
    },
    {
     "data": {
      "application/vnd.jupyter.widget-view+json": {
       "model_id": "d32b8562611749288ce63136b6964785",
       "version_major": 2,
       "version_minor": 0
      },
      "text/plain": [
       "VBox()"
      ]
     },
     "metadata": {},
     "output_type": "display_data"
    },
    {
     "name": "stdout",
     "output_type": "stream",
     "text": [
      "Computation duration: 01:05:42.03\n",
      "D:/thijsmas/HSC\\ecc1\\web0\\no_mass\\Full_web_ecc1_new_Floc9_nomass_v1_S01\\Full_web_ecc1_new_Floc9_nomass_v1_S01.cihx\n",
      "D:/thijsmas/HSC\\ecc1\\web0\\no_mass\\Full_web_ecc1_new_Floc9_nomass_v1_S01\\Full_web_ecc1_new_Floc9_nomass_v1_S01.cihx\n",
      "--- Starting new analysis ---\n",
      " \n",
      "Computation start: 2024-08-11 19:30:02.405868\n"
     ]
    },
    {
     "data": {
      "application/vnd.jupyter.widget-view+json": {
       "model_id": "59ea678c6df64cda8a8c3613b1196a4c",
       "version_major": 2,
       "version_minor": 0
      },
      "text/plain": [
       "VBox()"
      ]
     },
     "metadata": {},
     "output_type": "display_data"
    },
    {
     "name": "stdout",
     "output_type": "stream",
     "text": [
      "Computation duration: 01:05:25.18\n",
      "D:/thijsmas/HSC\\ecc1\\web0\\rev1\\Full_web_ecc1_new_Floc7_v2_S01\\Full_web_ecc1_new_Floc7_v2_S01.cihx\n",
      "D:/thijsmas/HSC\\ecc1\\web0\\rev1\\Full_web_ecc1_new_Floc7_v2_S01\\Full_web_ecc1_new_Floc7_v2_S01.cihx\n",
      "--- Starting new analysis ---\n",
      " \n",
      "Computation start: 2024-08-11 20:35:29.785696\n"
     ]
    },
    {
     "data": {
      "application/vnd.jupyter.widget-view+json": {
       "model_id": "a0231828512b4fc8b8f89ce7c1f50dff",
       "version_major": 2,
       "version_minor": 0
      },
      "text/plain": [
       "VBox()"
      ]
     },
     "metadata": {},
     "output_type": "display_data"
    },
    {
     "name": "stdout",
     "output_type": "stream",
     "text": [
      "Computation duration: 00:55:58.77\n",
      "D:/thijsmas/HSC\\ecc1\\web0\\rev1\\Full_web_ecc1_new_Floc8_v0_S01\\Full_web_ecc1_new_Floc8_v0_S01.cihx\n",
      "D:/thijsmas/HSC\\ecc1\\web0\\rev1\\Full_web_ecc1_new_Floc8_v0_S01\\Full_web_ecc1_new_Floc8_v0_S01.cihx\n",
      "--- Starting new analysis ---\n",
      " \n",
      "Computation start: 2024-08-11 21:31:30.634343\n"
     ]
    },
    {
     "data": {
      "application/vnd.jupyter.widget-view+json": {
       "model_id": "92df828bfd744f72911ee66ed7fac895",
       "version_major": 2,
       "version_minor": 0
      },
      "text/plain": [
       "VBox()"
      ]
     },
     "metadata": {},
     "output_type": "display_data"
    },
    {
     "name": "stdout",
     "output_type": "stream",
     "text": [
      "Computation duration: 00:56:36.56\n",
      "D:/thijsmas/HSC\\ecc1\\web0\\rev1\\Full_web_ecc1_new_Floc8_v1_S01\\Full_web_ecc1_new_Floc8_v1_S01.cihx\n",
      "D:/thijsmas/HSC\\ecc1\\web0\\rev1\\Full_web_ecc1_new_Floc8_v1_S01\\Full_web_ecc1_new_Floc8_v1_S01.cihx\n",
      "--- Starting new analysis ---\n",
      " \n",
      "Computation start: 2024-08-11 22:28:09.256601\n"
     ]
    },
    {
     "data": {
      "application/vnd.jupyter.widget-view+json": {
       "model_id": "6b9ea1dd84d1450ca693f83f13a02a80",
       "version_major": 2,
       "version_minor": 0
      },
      "text/plain": [
       "VBox()"
      ]
     },
     "metadata": {},
     "output_type": "display_data"
    },
    {
     "name": "stdout",
     "output_type": "stream",
     "text": [
      "Computation duration: 01:01:26.04\n",
      "D:/thijsmas/HSC\\ecc1\\web0\\rev2\\Full_web_ecc1_new0_rev2_Floc10_v0_S01\\Full_web_ecc1_new0_rev2_Floc10_v0_S01.cihx\n",
      "D:/thijsmas/HSC\\ecc1\\web0\\rev2\\Full_web_ecc1_new0_rev2_Floc10_v0_S01\\Full_web_ecc1_new0_rev2_Floc10_v0_S01.cihx\n",
      "--- Starting new analysis ---\n",
      " \n",
      "Computation start: 2024-08-11 23:29:37.379426\n"
     ]
    },
    {
     "data": {
      "application/vnd.jupyter.widget-view+json": {
       "model_id": "ef0f0128c7434e8395883be09dd0759d",
       "version_major": 2,
       "version_minor": 0
      },
      "text/plain": [
       "VBox()"
      ]
     },
     "metadata": {},
     "output_type": "display_data"
    },
    {
     "name": "stdout",
     "output_type": "stream",
     "text": [
      "Computation duration: 00:47:28.50\n",
      "D:/thijsmas/HSC\\ecc1\\web0\\rev2\\Full_web_ecc1_new0_rev2_Floc10_v1_S01\\Full_web_ecc1_new0_rev2_Floc10_v1_S01.cihx\n",
      "D:/thijsmas/HSC\\ecc1\\web0\\rev2\\Full_web_ecc1_new0_rev2_Floc10_v1_S01\\Full_web_ecc1_new0_rev2_Floc10_v1_S01.cihx\n",
      "--- Starting new analysis ---\n",
      " \n",
      "Computation start: 2024-08-12 00:17:07.682830\n"
     ]
    },
    {
     "data": {
      "application/vnd.jupyter.widget-view+json": {
       "model_id": "bab505525c6b4d479cc7ded32b5fa8be",
       "version_major": 2,
       "version_minor": 0
      },
      "text/plain": [
       "VBox()"
      ]
     },
     "metadata": {},
     "output_type": "display_data"
    },
    {
     "name": "stdout",
     "output_type": "stream",
     "text": [
      "Computation duration: 00:52:13.96\n",
      "D:/thijsmas/HSC\\ecc1\\web0\\rev2\\Full_web_ecc1_new0_rev2_Floc11_v0_S01\\Full_web_ecc1_new0_rev2_Floc11_v0_S01.cihx\n",
      "D:/thijsmas/HSC\\ecc1\\web0\\rev2\\Full_web_ecc1_new0_rev2_Floc11_v0_S01\\Full_web_ecc1_new0_rev2_Floc11_v0_S01.cihx\n",
      "--- Starting new analysis ---\n",
      " \n",
      "Computation start: 2024-08-12 01:09:25.074686\n"
     ]
    },
    {
     "data": {
      "application/vnd.jupyter.widget-view+json": {
       "model_id": "d9f6237f324344319d306666be246cd5",
       "version_major": 2,
       "version_minor": 0
      },
      "text/plain": [
       "VBox()"
      ]
     },
     "metadata": {},
     "output_type": "display_data"
    },
    {
     "name": "stdout",
     "output_type": "stream",
     "text": [
      "Computation duration: 00:50:22.13\n",
      "D:/thijsmas/HSC\\ecc1\\web0\\rev2\\Full_web_ecc1_new0_rev2_Floc11_v1_S01\\Full_web_ecc1_new0_rev2_Floc11_v1_S01.cihx\n",
      "D:/thijsmas/HSC\\ecc1\\web0\\rev2\\Full_web_ecc1_new0_rev2_Floc11_v1_S01\\Full_web_ecc1_new0_rev2_Floc11_v1_S01.cihx\n",
      "--- Starting new analysis ---\n",
      " \n",
      "Computation start: 2024-08-12 01:59:49.000838\n"
     ]
    },
    {
     "data": {
      "application/vnd.jupyter.widget-view+json": {
       "model_id": "307370bf3e1c4ad6bcdcb8f46fe63a39",
       "version_major": 2,
       "version_minor": 0
      },
      "text/plain": [
       "VBox()"
      ]
     },
     "metadata": {},
     "output_type": "display_data"
    },
    {
     "name": "stdout",
     "output_type": "stream",
     "text": [
      "Computation duration: 00:46:39.23\n",
      "D:/thijsmas/HSC\\ecc1\\web0\\rev2\\Full_web_ecc1_new0_rev2_Floc12_v0_S01\\Full_web_ecc1_new0_rev2_Floc12_v0_S01.cihx\n",
      "D:/thijsmas/HSC\\ecc1\\web0\\rev2\\Full_web_ecc1_new0_rev2_Floc12_v0_S01\\Full_web_ecc1_new0_rev2_Floc12_v0_S01.cihx\n"
     ]
    },
    {
     "name": "stderr",
     "output_type": "stream",
     "text": [
      "c:\\Users\\thijsmas\\AppData\\Local\\anaconda3\\Lib\\site-packages\\pyMRAW.py:103: UserWarning: Clipped footage! (Total frame: 8001, Original total frame: 87371)\n",
      "  warnings.warn('Clipped footage! (Total frame: {}, Original total frame: {})'.format(cih['Total Frame'], cih['Original Total Frame'] ))\n"
     ]
    },
    {
     "name": "stdout",
     "output_type": "stream",
     "text": [
      "--- Starting new analysis ---\n",
      " \n",
      "Computation start: 2024-08-12 02:46:31.434891\n"
     ]
    },
    {
     "data": {
      "application/vnd.jupyter.widget-view+json": {
       "model_id": "54aa2b60bb9547baba58d26233d62107",
       "version_major": 2,
       "version_minor": 0
      },
      "text/plain": [
       "VBox()"
      ]
     },
     "metadata": {},
     "output_type": "display_data"
    },
    {
     "name": "stdout",
     "output_type": "stream",
     "text": [
      "Computation duration: 00:46:41.39\n",
      "D:/thijsmas/HSC\\ecc1\\web0\\rev2\\Full_web_ecc1_new0_rev2_Floc12_v1_S01\\Full_web_ecc1_new0_rev2_Floc12_v1_S01.cihx\n",
      "D:/thijsmas/HSC\\ecc1\\web0\\rev2\\Full_web_ecc1_new0_rev2_Floc12_v1_S01\\Full_web_ecc1_new0_rev2_Floc12_v1_S01.cihx\n",
      "--- Starting new analysis ---\n",
      " \n",
      "Computation start: 2024-08-12 03:33:14.605288\n"
     ]
    },
    {
     "data": {
      "application/vnd.jupyter.widget-view+json": {
       "model_id": "01501b1103ec4a2bb4b4d23b4d1204fe",
       "version_major": 2,
       "version_minor": 0
      },
      "text/plain": [
       "VBox()"
      ]
     },
     "metadata": {},
     "output_type": "display_data"
    },
    {
     "name": "stdout",
     "output_type": "stream",
     "text": [
      "Computation duration: 00:47:45.09\n",
      "D:/thijsmas/HSC\\ecc1\\web0\\rev2\\Full_web_ecc1_new0_rev2_Floc13_v0_S01\\Full_web_ecc1_new0_rev2_Floc13_v0_S01.cihx\n",
      "D:/thijsmas/HSC\\ecc1\\web0\\rev2\\Full_web_ecc1_new0_rev2_Floc13_v0_S01\\Full_web_ecc1_new0_rev2_Floc13_v0_S01.cihx\n",
      "--- Starting new analysis ---\n",
      " \n",
      "Computation start: 2024-08-12 04:21:01.868825\n"
     ]
    },
    {
     "data": {
      "application/vnd.jupyter.widget-view+json": {
       "model_id": "b179d2bb6f65435c982b77f6a5cd578e",
       "version_major": 2,
       "version_minor": 0
      },
      "text/plain": [
       "VBox()"
      ]
     },
     "metadata": {},
     "output_type": "display_data"
    },
    {
     "name": "stdout",
     "output_type": "stream",
     "text": [
      "Computation duration: 00:50:1.47\n",
      "D:/thijsmas/HSC\\ecc1\\web0\\rev2\\Full_web_ecc1_new0_rev2_Floc13_v1_S01\\Full_web_ecc1_new0_rev2_Floc13_v1_S01.cihx\n",
      "D:/thijsmas/HSC\\ecc1\\web0\\rev2\\Full_web_ecc1_new0_rev2_Floc13_v1_S01\\Full_web_ecc1_new0_rev2_Floc13_v1_S01.cihx\n",
      "--- Starting new analysis ---\n",
      " \n",
      "Computation start: 2024-08-12 05:11:06.821771\n"
     ]
    },
    {
     "data": {
      "application/vnd.jupyter.widget-view+json": {
       "model_id": "d105b8bdc02944ce841e8ca1c9cd80fc",
       "version_major": 2,
       "version_minor": 0
      },
      "text/plain": [
       "VBox()"
      ]
     },
     "metadata": {},
     "output_type": "display_data"
    },
    {
     "name": "stdout",
     "output_type": "stream",
     "text": [
      "Computation duration: 00:50:31.59\n",
      "D:/thijsmas/HSC\\ecc1\\web0\\rev2\\Full_web_ecc1_new0_rev2_Floc14_v0_S01\\Full_web_ecc1_new0_rev2_Floc14_v0_S01.cihx\n",
      "D:/thijsmas/HSC\\ecc1\\web0\\rev2\\Full_web_ecc1_new0_rev2_Floc14_v0_S01\\Full_web_ecc1_new0_rev2_Floc14_v0_S01.cihx\n",
      "--- Starting new analysis ---\n",
      " \n",
      "Computation start: 2024-08-12 06:01:40.230788\n"
     ]
    },
    {
     "data": {
      "application/vnd.jupyter.widget-view+json": {
       "model_id": "836e44910ce94a329e0540a36ce4e868",
       "version_major": 2,
       "version_minor": 0
      },
      "text/plain": [
       "VBox()"
      ]
     },
     "metadata": {},
     "output_type": "display_data"
    },
    {
     "name": "stdout",
     "output_type": "stream",
     "text": [
      "Computation duration: 00:48:12.97\n",
      "D:/thijsmas/HSC\\ecc1\\web0\\rev2\\Full_web_ecc1_new0_rev2_Floc14_v1_S01\\Full_web_ecc1_new0_rev2_Floc14_v1_S01.cihx\n",
      "D:/thijsmas/HSC\\ecc1\\web0\\rev2\\Full_web_ecc1_new0_rev2_Floc14_v1_S01\\Full_web_ecc1_new0_rev2_Floc14_v1_S01.cihx\n",
      "--- Starting new analysis ---\n",
      " \n",
      "Computation start: 2024-08-12 06:49:55.008846\n"
     ]
    },
    {
     "data": {
      "application/vnd.jupyter.widget-view+json": {
       "model_id": "50097dbbb43e460193e056c342c467b0",
       "version_major": 2,
       "version_minor": 0
      },
      "text/plain": [
       "VBox()"
      ]
     },
     "metadata": {},
     "output_type": "display_data"
    },
    {
     "name": "stdout",
     "output_type": "stream",
     "text": [
      "Computation duration: 00:47:35.50\n",
      "D:/thijsmas/HSC\\ecc1\\web0\\rev2\\Full_web_ecc1_new0_rev2_Floc15_taut_impact_S01\\Full_web_ecc1_new0_rev2_Floc15_taut_impact_S01.cihx\n",
      "D:/thijsmas/HSC\\ecc1\\web0\\rev2\\Full_web_ecc1_new0_rev2_Floc15_taut_impact_S01\\Full_web_ecc1_new0_rev2_Floc15_taut_impact_S01.cihx\n"
     ]
    },
    {
     "name": "stderr",
     "output_type": "stream",
     "text": [
      "c:\\Users\\thijsmas\\AppData\\Local\\anaconda3\\Lib\\site-packages\\pyMRAW.py:103: UserWarning: Clipped footage! (Total frame: 6000, Original total frame: 87371)\n",
      "  warnings.warn('Clipped footage! (Total frame: {}, Original total frame: {})'.format(cih['Total Frame'], cih['Original Total Frame'] ))\n"
     ]
    },
    {
     "name": "stdout",
     "output_type": "stream",
     "text": [
      "--- Starting new analysis ---\n",
      " \n",
      "Computation start: 2024-08-12 07:37:32.314315\n"
     ]
    },
    {
     "data": {
      "application/vnd.jupyter.widget-view+json": {
       "model_id": "dfb1bc413b28448cb394fc300f0b164f",
       "version_major": 2,
       "version_minor": 0
      },
      "text/plain": [
       "VBox()"
      ]
     },
     "metadata": {},
     "output_type": "display_data"
    },
    {
     "name": "stdout",
     "output_type": "stream",
     "text": [
      "Computation duration: 00:37:2.01\n",
      "D:/thijsmas/HSC\\ecc1\\web0\\rev2\\Full_web_ecc1_new0_rev2_Floc15_taut_pluck_S01\\Full_web_ecc1_new0_rev2_Floc15_taut_pluck_S01.cihx\n",
      "D:/thijsmas/HSC\\ecc1\\web0\\rev2\\Full_web_ecc1_new0_rev2_Floc15_taut_pluck_S01\\Full_web_ecc1_new0_rev2_Floc15_taut_pluck_S01.cihx\n",
      "--- Starting new analysis ---\n",
      " \n",
      "Computation start: 2024-08-12 08:14:38.376762\n"
     ]
    },
    {
     "data": {
      "application/vnd.jupyter.widget-view+json": {
       "model_id": "b2bbe7895d034e7c80e656222234c3c5",
       "version_major": 2,
       "version_minor": 0
      },
      "text/plain": [
       "VBox()"
      ]
     },
     "metadata": {},
     "output_type": "display_data"
    },
    {
     "name": "stdout",
     "output_type": "stream",
     "text": [
      "Computation duration: 00:47:55.42\n",
      "D:/thijsmas/HSC\\ecc1\\web0\\rev2\\Full_web_ecc1_new0_rev2_Floc15_v0_S01\\Full_web_ecc1_new0_rev2_Floc15_v0_S01.cihx\n",
      "D:/thijsmas/HSC\\ecc1\\web0\\rev2\\Full_web_ecc1_new0_rev2_Floc15_v0_S01\\Full_web_ecc1_new0_rev2_Floc15_v0_S01.cihx\n",
      "--- Starting new analysis ---\n",
      " \n",
      "Computation start: 2024-08-12 09:02:35.604176\n"
     ]
    },
    {
     "data": {
      "application/vnd.jupyter.widget-view+json": {
       "model_id": "b84978275ad44ced894b547b9ce32299",
       "version_major": 2,
       "version_minor": 0
      },
      "text/plain": [
       "VBox()"
      ]
     },
     "metadata": {},
     "output_type": "display_data"
    },
    {
     "name": "stdout",
     "output_type": "stream",
     "text": [
      "Computation duration: 00:51:21.15\n",
      "D:/thijsmas/HSC\\ecc1\\web0\\rev2\\Full_web_ecc1_new0_rev2_Floc15_v1_S01\\Full_web_ecc1_new0_rev2_Floc15_v1_S01.cihx\n",
      "D:/thijsmas/HSC\\ecc1\\web0\\rev2\\Full_web_ecc1_new0_rev2_Floc15_v1_S01\\Full_web_ecc1_new0_rev2_Floc15_v1_S01.cihx\n",
      "--- Starting new analysis ---\n",
      " \n",
      "Computation start: 2024-08-12 09:53:58.574151\n"
     ]
    },
    {
     "data": {
      "application/vnd.jupyter.widget-view+json": {
       "model_id": "9a5f1ba770fa4f08a5a875b1b3601eb7",
       "version_major": 2,
       "version_minor": 0
      },
      "text/plain": [
       "VBox()"
      ]
     },
     "metadata": {},
     "output_type": "display_data"
    },
    {
     "name": "stdout",
     "output_type": "stream",
     "text": [
      "Computation duration: 00:46:7.56\n",
      "D:/thijsmas/HSC\\ecc1\\web0\\rev2\\Full_web_ecc1_new0_rev2_Floc16_taut_impact_S01\\Full_web_ecc1_new0_rev2_Floc16_taut_impact_S01.cihx\n",
      "D:/thijsmas/HSC\\ecc1\\web0\\rev2\\Full_web_ecc1_new0_rev2_Floc16_taut_impact_S01\\Full_web_ecc1_new0_rev2_Floc16_taut_impact_S01.cihx\n",
      "--- Starting new analysis ---\n",
      " \n",
      "Computation start: 2024-08-12 10:40:07.923457\n"
     ]
    },
    {
     "data": {
      "application/vnd.jupyter.widget-view+json": {
       "model_id": "68a7794d943c45f9a97577d4f38e9cab",
       "version_major": 2,
       "version_minor": 0
      },
      "text/plain": [
       "VBox()"
      ]
     },
     "metadata": {},
     "output_type": "display_data"
    },
    {
     "name": "stdout",
     "output_type": "stream",
     "text": [
      "Computation duration: 00:45:1.18\n",
      "D:/thijsmas/HSC\\ecc1\\web0\\rev2\\Full_web_ecc1_new0_rev2_Floc16_taut_pluck_S01\\Full_web_ecc1_new0_rev2_Floc16_taut_pluck_S01.cihx\n",
      "D:/thijsmas/HSC\\ecc1\\web0\\rev2\\Full_web_ecc1_new0_rev2_Floc16_taut_pluck_S01\\Full_web_ecc1_new0_rev2_Floc16_taut_pluck_S01.cihx\n",
      "--- Starting new analysis ---\n",
      " \n",
      "Computation start: 2024-08-12 11:25:10.874773\n"
     ]
    },
    {
     "data": {
      "application/vnd.jupyter.widget-view+json": {
       "model_id": "8771f61fab8349d7b0648d9649c0c558",
       "version_major": 2,
       "version_minor": 0
      },
      "text/plain": [
       "VBox()"
      ]
     },
     "metadata": {},
     "output_type": "display_data"
    },
    {
     "name": "stdout",
     "output_type": "stream",
     "text": [
      "Computation duration: 00:47:40.58\n",
      "D:/thijsmas/HSC\\ecc1\\web0\\rev2\\Full_web_ecc1_new0_rev2_Floc16_v0_S01\\Full_web_ecc1_new0_rev2_Floc16_v0_S01.cihx\n",
      "D:/thijsmas/HSC\\ecc1\\web0\\rev2\\Full_web_ecc1_new0_rev2_Floc16_v0_S01\\Full_web_ecc1_new0_rev2_Floc16_v0_S01.cihx\n",
      "--- Starting new analysis ---\n",
      " \n",
      "Computation start: 2024-08-12 12:12:53.180356\n"
     ]
    },
    {
     "data": {
      "application/vnd.jupyter.widget-view+json": {
       "model_id": "7a63223c6ba6478280ef75decc0cdcf7",
       "version_major": 2,
       "version_minor": 0
      },
      "text/plain": [
       "VBox()"
      ]
     },
     "metadata": {},
     "output_type": "display_data"
    },
    {
     "name": "stdout",
     "output_type": "stream",
     "text": [
      "Computation duration: 00:45:48.64\n",
      "D:/thijsmas/HSC\\ecc1\\web0\\rev2\\Full_web_ecc1_new0_rev2_Floc16_v1_S01\\Full_web_ecc1_new0_rev2_Floc16_v1_S01.cihx\n",
      "D:/thijsmas/HSC\\ecc1\\web0\\rev2\\Full_web_ecc1_new0_rev2_Floc16_v1_S01\\Full_web_ecc1_new0_rev2_Floc16_v1_S01.cihx\n",
      "--- Starting new analysis ---\n",
      " \n",
      "Computation start: 2024-08-12 12:58:44.868996\n"
     ]
    },
    {
     "data": {
      "application/vnd.jupyter.widget-view+json": {
       "model_id": "d0446c7be8a74cf8a6be149dba06dd25",
       "version_major": 2,
       "version_minor": 0
      },
      "text/plain": [
       "VBox()"
      ]
     },
     "metadata": {},
     "output_type": "display_data"
    },
    {
     "name": "stdout",
     "output_type": "stream",
     "text": [
      "Computation duration: 00:44:50.97\n",
      "D:/thijsmas/HSC\\ecc1\\web0\\rev2\\Full_web_ecc1_new0_rev2_Floc17_taut_impact_S01\\Full_web_ecc1_new0_rev2_Floc17_taut_impact_S01.cihx\n",
      "D:/thijsmas/HSC\\ecc1\\web0\\rev2\\Full_web_ecc1_new0_rev2_Floc17_taut_impact_S01\\Full_web_ecc1_new0_rev2_Floc17_taut_impact_S01.cihx\n",
      "--- Starting new analysis ---\n",
      " \n",
      "Computation start: 2024-08-12 13:43:37.672115\n"
     ]
    },
    {
     "data": {
      "application/vnd.jupyter.widget-view+json": {
       "model_id": "27017539fada4413a47e918ededc9859",
       "version_major": 2,
       "version_minor": 0
      },
      "text/plain": [
       "VBox()"
      ]
     },
     "metadata": {},
     "output_type": "display_data"
    },
    {
     "name": "stdout",
     "output_type": "stream",
     "text": [
      "Computation duration: 00:48:5.42\n",
      "D:/thijsmas/HSC\\ecc1\\web0\\rev2\\Full_web_ecc1_new0_rev2_Floc17_taut_pluck_S01\\Full_web_ecc1_new0_rev2_Floc17_taut_pluck_S01.cihx\n",
      "D:/thijsmas/HSC\\ecc1\\web0\\rev2\\Full_web_ecc1_new0_rev2_Floc17_taut_pluck_S01\\Full_web_ecc1_new0_rev2_Floc17_taut_pluck_S01.cihx\n",
      "--- Starting new analysis ---\n",
      " \n",
      "Computation start: 2024-08-12 14:31:44.838067\n"
     ]
    },
    {
     "data": {
      "application/vnd.jupyter.widget-view+json": {
       "model_id": "5c58da4816d040ebb66b97cb56bb08e6",
       "version_major": 2,
       "version_minor": 0
      },
      "text/plain": [
       "VBox()"
      ]
     },
     "metadata": {},
     "output_type": "display_data"
    },
    {
     "name": "stdout",
     "output_type": "stream",
     "text": [
      "Computation duration: 00:44:54.58\n",
      "D:/thijsmas/HSC\\ecc1\\web0\\rev2\\Full_web_ecc1_new0_rev2_Floc17_v0_S01\\Full_web_ecc1_new0_rev2_Floc17_v0_S01.cihx\n",
      "D:/thijsmas/HSC\\ecc1\\web0\\rev2\\Full_web_ecc1_new0_rev2_Floc17_v0_S01\\Full_web_ecc1_new0_rev2_Floc17_v0_S01.cihx\n",
      "--- Starting new analysis ---\n",
      " \n",
      "Computation start: 2024-08-12 15:16:41.181336\n"
     ]
    },
    {
     "data": {
      "application/vnd.jupyter.widget-view+json": {
       "model_id": "e34f274b5f314b8d8fdadcafb634d381",
       "version_major": 2,
       "version_minor": 0
      },
      "text/plain": [
       "VBox()"
      ]
     },
     "metadata": {},
     "output_type": "display_data"
    },
    {
     "name": "stdout",
     "output_type": "stream",
     "text": [
      "Computation duration: 00:48:7.71\n",
      "D:/thijsmas/HSC\\ecc1\\web0\\rev2\\Full_web_ecc1_new0_rev2_Floc17_v1_S01\\Full_web_ecc1_new0_rev2_Floc17_v1_S01.cihx\n",
      "D:/thijsmas/HSC\\ecc1\\web0\\rev2\\Full_web_ecc1_new0_rev2_Floc17_v1_S01\\Full_web_ecc1_new0_rev2_Floc17_v1_S01.cihx\n",
      "--- Starting new analysis ---\n",
      " \n",
      "Computation start: 2024-08-12 16:04:51.908846\n"
     ]
    },
    {
     "data": {
      "application/vnd.jupyter.widget-view+json": {
       "model_id": "ebb05a44f6fa4717b4cb97afeaa5e476",
       "version_major": 2,
       "version_minor": 0
      },
      "text/plain": [
       "VBox()"
      ]
     },
     "metadata": {},
     "output_type": "display_data"
    },
    {
     "name": "stdout",
     "output_type": "stream",
     "text": [
      "Computation duration: 00:48:56.82\n",
      "D:/thijsmas/HSC\\ecc1\\web0\\rev2\\Full_web_ecc1_new0_rev2_Floc18_taut_impact_S01\\Full_web_ecc1_new0_rev2_Floc18_taut_impact_S01.cihx\n",
      "D:/thijsmas/HSC\\ecc1\\web0\\rev2\\Full_web_ecc1_new0_rev2_Floc18_taut_impact_S01\\Full_web_ecc1_new0_rev2_Floc18_taut_impact_S01.cihx\n",
      "--- Starting new analysis ---\n",
      " \n",
      "Computation start: 2024-08-12 16:53:51.787638\n"
     ]
    },
    {
     "data": {
      "application/vnd.jupyter.widget-view+json": {
       "model_id": "a7a7d5bd355f4084bb3a182625aada3d",
       "version_major": 2,
       "version_minor": 0
      },
      "text/plain": [
       "VBox()"
      ]
     },
     "metadata": {},
     "output_type": "display_data"
    },
    {
     "name": "stdout",
     "output_type": "stream",
     "text": [
      "Computation duration: 00:43:52.22\n",
      "D:/thijsmas/HSC\\ecc1\\web0\\rev2\\Full_web_ecc1_new0_rev2_Floc18_taut_pluck_S01\\Full_web_ecc1_new0_rev2_Floc18_taut_pluck_S01.cihx\n",
      "D:/thijsmas/HSC\\ecc1\\web0\\rev2\\Full_web_ecc1_new0_rev2_Floc18_taut_pluck_S01\\Full_web_ecc1_new0_rev2_Floc18_taut_pluck_S01.cihx\n",
      "--- Starting new analysis ---\n",
      " \n",
      "Computation start: 2024-08-12 17:37:45.799166\n"
     ]
    },
    {
     "data": {
      "application/vnd.jupyter.widget-view+json": {
       "model_id": "a5bcd6c91baf4f74af52cf83350161b6",
       "version_major": 2,
       "version_minor": 0
      },
      "text/plain": [
       "VBox()"
      ]
     },
     "metadata": {},
     "output_type": "display_data"
    },
    {
     "name": "stdout",
     "output_type": "stream",
     "text": [
      "Computation duration: 00:44:3.45\n",
      "D:/thijsmas/HSC\\ecc1\\web0\\rev2\\Full_web_ecc1_new0_rev2_Floc18_v0_S01\\Full_web_ecc1_new0_rev2_Floc18_v0_S01.cihx\n",
      "D:/thijsmas/HSC\\ecc1\\web0\\rev2\\Full_web_ecc1_new0_rev2_Floc18_v0_S01\\Full_web_ecc1_new0_rev2_Floc18_v0_S01.cihx\n",
      "--- Starting new analysis ---\n",
      " \n",
      "Computation start: 2024-08-12 18:21:50.960546\n"
     ]
    },
    {
     "data": {
      "application/vnd.jupyter.widget-view+json": {
       "model_id": "327701e0b7f34f799d0d5cf5146b93a5",
       "version_major": 2,
       "version_minor": 0
      },
      "text/plain": [
       "VBox()"
      ]
     },
     "metadata": {},
     "output_type": "display_data"
    },
    {
     "name": "stdout",
     "output_type": "stream",
     "text": [
      "Computation duration: 00:46:4.21\n",
      "D:/thijsmas/HSC\\ecc1\\web0\\rev2\\Full_web_ecc1_new0_rev2_Floc18_v1_S01\\Full_web_ecc1_new0_rev2_Floc18_v1_S01.cihx\n",
      "D:/thijsmas/HSC\\ecc1\\web0\\rev2\\Full_web_ecc1_new0_rev2_Floc18_v1_S01\\Full_web_ecc1_new0_rev2_Floc18_v1_S01.cihx\n",
      "--- Starting new analysis ---\n",
      " \n",
      "Computation start: 2024-08-12 19:07:56.912226\n"
     ]
    },
    {
     "data": {
      "application/vnd.jupyter.widget-view+json": {
       "model_id": "81ccf90ead8848dba7ff0385f8dcc268",
       "version_major": 2,
       "version_minor": 0
      },
      "text/plain": [
       "VBox()"
      ]
     },
     "metadata": {},
     "output_type": "display_data"
    },
    {
     "name": "stdout",
     "output_type": "stream",
     "text": [
      "Computation duration: 00:44:11.84\n",
      "D:/thijsmas/HSC\\ecc1\\web1\\Full_web_ecc1_new2_Floc1_v0_S01\\Full_web_ecc1_new2_Floc1_v0_S01.cihx\n",
      "D:/thijsmas/HSC\\ecc1\\web1\\Full_web_ecc1_new2_Floc1_v0_S01\\Full_web_ecc1_new2_Floc1_v0_S01.cihx\n",
      "--- Starting new analysis ---\n",
      " \n",
      "Computation start: 2024-08-12 19:52:10.485220\n"
     ]
    },
    {
     "data": {
      "application/vnd.jupyter.widget-view+json": {
       "model_id": "893d7829f7d146ea9c74f4e85e2e0a42",
       "version_major": 2,
       "version_minor": 0
      },
      "text/plain": [
       "VBox()"
      ]
     },
     "metadata": {},
     "output_type": "display_data"
    },
    {
     "name": "stdout",
     "output_type": "stream",
     "text": [
      "Computation duration: 00:57:39.59\n",
      "D:/thijsmas/HSC\\ecc1\\web1\\Full_web_ecc1_new2_Floc1_v1_S01\\Full_web_ecc1_new2_Floc1_v1_S01.cihx\n",
      "D:/thijsmas/HSC\\ecc1\\web1\\Full_web_ecc1_new2_Floc1_v1_S01\\Full_web_ecc1_new2_Floc1_v1_S01.cihx\n",
      "--- Starting new analysis ---\n",
      " \n",
      "Computation start: 2024-08-12 20:49:52.176769\n"
     ]
    },
    {
     "data": {
      "application/vnd.jupyter.widget-view+json": {
       "model_id": "d2fb8c15036549b7b8fdd0dccd5dafb1",
       "version_major": 2,
       "version_minor": 0
      },
      "text/plain": [
       "VBox()"
      ]
     },
     "metadata": {},
     "output_type": "display_data"
    },
    {
     "name": "stdout",
     "output_type": "stream",
     "text": [
      "Computation duration: 00:59:12.77\n",
      "D:/thijsmas/HSC\\ecc1\\web1\\Full_web_ecc1_new2_Floc1_v2_S01\\Full_web_ecc1_new2_Floc1_v2_S01.cihx\n",
      "D:/thijsmas/HSC\\ecc1\\web1\\Full_web_ecc1_new2_Floc1_v2_S01\\Full_web_ecc1_new2_Floc1_v2_S01.cihx\n",
      "--- Starting new analysis ---\n",
      " \n",
      "Computation start: 2024-08-12 21:49:07.069703\n"
     ]
    },
    {
     "data": {
      "application/vnd.jupyter.widget-view+json": {
       "model_id": "5f83f19e80954d69adc92add446c2e53",
       "version_major": 2,
       "version_minor": 0
      },
      "text/plain": [
       "VBox()"
      ]
     },
     "metadata": {},
     "output_type": "display_data"
    },
    {
     "name": "stdout",
     "output_type": "stream",
     "text": [
      "Computation duration: 00:53:26.84\n",
      "D:/thijsmas/HSC\\ecc1\\web1\\Full_web_ecc1_new2_Floc2_v0_S01\\Full_web_ecc1_new2_Floc2_v0_S01.cihx\n",
      "D:/thijsmas/HSC\\ecc1\\web1\\Full_web_ecc1_new2_Floc2_v0_S01\\Full_web_ecc1_new2_Floc2_v0_S01.cihx\n"
     ]
    },
    {
     "name": "stderr",
     "output_type": "stream",
     "text": [
      "c:\\Users\\thijsmas\\AppData\\Local\\anaconda3\\Lib\\site-packages\\pyMRAW.py:103: UserWarning: Clipped footage! (Total frame: 6999, Original total frame: 87371)\n",
      "  warnings.warn('Clipped footage! (Total frame: {}, Original total frame: {})'.format(cih['Total Frame'], cih['Original Total Frame'] ))\n"
     ]
    },
    {
     "name": "stdout",
     "output_type": "stream",
     "text": [
      "--- Starting new analysis ---\n",
      " \n",
      "Computation start: 2024-08-12 22:42:35.986373\n"
     ]
    },
    {
     "data": {
      "application/vnd.jupyter.widget-view+json": {
       "model_id": "98384b81e838401a9c7dbff8d48e7d26",
       "version_major": 2,
       "version_minor": 0
      },
      "text/plain": [
       "VBox()"
      ]
     },
     "metadata": {},
     "output_type": "display_data"
    },
    {
     "name": "stdout",
     "output_type": "stream",
     "text": [
      "Computation duration: 00:38:27.58\n",
      "D:/thijsmas/HSC\\ecc1\\web1\\Full_web_ecc1_new2_Floc2_v1_S01\\Full_web_ecc1_new2_Floc2_v1_S01.cihx\n",
      "D:/thijsmas/HSC\\ecc1\\web1\\Full_web_ecc1_new2_Floc2_v1_S01\\Full_web_ecc1_new2_Floc2_v1_S01.cihx\n",
      "--- Starting new analysis ---\n",
      " \n",
      "Computation start: 2024-08-12 23:21:05.139258\n"
     ]
    },
    {
     "data": {
      "application/vnd.jupyter.widget-view+json": {
       "model_id": "f0041bec1c1542e8a0f2c31ec18e9c7a",
       "version_major": 2,
       "version_minor": 0
      },
      "text/plain": [
       "VBox()"
      ]
     },
     "metadata": {},
     "output_type": "display_data"
    },
    {
     "name": "stdout",
     "output_type": "stream",
     "text": [
      "Computation duration: 00:36:23.30\n",
      "D:/thijsmas/HSC\\ecc1\\web1\\Full_web_ecc1_new2_Floc3_v0_S01\\Full_web_ecc1_new2_Floc3_v0_S01.cihx\n",
      "D:/thijsmas/HSC\\ecc1\\web1\\Full_web_ecc1_new2_Floc3_v0_S01\\Full_web_ecc1_new2_Floc3_v0_S01.cihx\n",
      "--- Starting new analysis ---\n",
      " \n",
      "Computation start: 2024-08-12 23:57:30.023379\n"
     ]
    },
    {
     "data": {
      "application/vnd.jupyter.widget-view+json": {
       "model_id": "79a4f2626a2249b880e04649a3e67a5e",
       "version_major": 2,
       "version_minor": 0
      },
      "text/plain": [
       "VBox()"
      ]
     },
     "metadata": {},
     "output_type": "display_data"
    },
    {
     "name": "stdout",
     "output_type": "stream",
     "text": [
      "Computation duration: 00:42:54.23\n",
      "D:/thijsmas/HSC\\ecc1\\web1\\Full_web_ecc1_new2_Floc3_v1_S01\\Full_web_ecc1_new2_Floc3_v1_S01.cihx\n",
      "D:/thijsmas/HSC\\ecc1\\web1\\Full_web_ecc1_new2_Floc3_v1_S01\\Full_web_ecc1_new2_Floc3_v1_S01.cihx\n",
      "--- Starting new analysis ---\n",
      " \n",
      "Computation start: 2024-08-13 00:40:25.911877\n"
     ]
    },
    {
     "data": {
      "application/vnd.jupyter.widget-view+json": {
       "model_id": "5e17a836e48a46a5ae74898cd5ec9006",
       "version_major": 2,
       "version_minor": 0
      },
      "text/plain": [
       "VBox()"
      ]
     },
     "metadata": {},
     "output_type": "display_data"
    },
    {
     "name": "stdout",
     "output_type": "stream",
     "text": [
      "Computation duration: 00:39:40.78\n",
      "D:/thijsmas/HSC\\ecc1\\web1\\Full_web_ecc1_new2_Floc3_v2_S01\\Full_web_ecc1_new2_Floc3_v2_S01.cihx\n",
      "D:/thijsmas/HSC\\ecc1\\web1\\Full_web_ecc1_new2_Floc3_v2_S01\\Full_web_ecc1_new2_Floc3_v2_S01.cihx\n",
      "--- Starting new analysis ---\n",
      " \n",
      "Computation start: 2024-08-13 01:20:08.294940\n"
     ]
    },
    {
     "data": {
      "application/vnd.jupyter.widget-view+json": {
       "model_id": "386025af9f3a429c9637b7abb4d29b1c",
       "version_major": 2,
       "version_minor": 0
      },
      "text/plain": [
       "VBox()"
      ]
     },
     "metadata": {},
     "output_type": "display_data"
    },
    {
     "name": "stdout",
     "output_type": "stream",
     "text": [
      "Computation duration: 00:39:34.48\n",
      "D:/thijsmas/HSC\\ecc1\\web1\\Full_web_ecc1_new2_Floc4_v0_S01\\Full_web_ecc1_new2_Floc4_v0_S01.cihx\n",
      "D:/thijsmas/HSC\\ecc1\\web1\\Full_web_ecc1_new2_Floc4_v0_S01\\Full_web_ecc1_new2_Floc4_v0_S01.cihx\n",
      "--- Starting new analysis ---\n",
      " \n",
      "Computation start: 2024-08-13 01:59:44.406940\n"
     ]
    },
    {
     "data": {
      "application/vnd.jupyter.widget-view+json": {
       "model_id": "2038096796934893a3d28046f169b184",
       "version_major": 2,
       "version_minor": 0
      },
      "text/plain": [
       "VBox()"
      ]
     },
     "metadata": {},
     "output_type": "display_data"
    },
    {
     "name": "stdout",
     "output_type": "stream",
     "text": [
      "Computation duration: 00:34:3.51\n",
      "D:/thijsmas/HSC\\ecc1\\web1\\Full_web_ecc1_new2_Floc4_v1_S01\\Full_web_ecc1_new2_Floc4_v1_S01.cihx\n",
      "D:/thijsmas/HSC\\ecc1\\web1\\Full_web_ecc1_new2_Floc4_v1_S01\\Full_web_ecc1_new2_Floc4_v1_S01.cihx\n",
      "--- Starting new analysis ---\n",
      " \n",
      "Computation start: 2024-08-13 02:33:49.360210\n"
     ]
    },
    {
     "data": {
      "application/vnd.jupyter.widget-view+json": {
       "model_id": "06641b2057d748b8950e4532abef9b6b",
       "version_major": 2,
       "version_minor": 0
      },
      "text/plain": [
       "VBox()"
      ]
     },
     "metadata": {},
     "output_type": "display_data"
    },
    {
     "name": "stdout",
     "output_type": "stream",
     "text": [
      "Computation duration: 00:38:43.87\n",
      "D:/thijsmas/HSC\\ecc1\\web1\\Full_web_ecc1_new2_Floc5_v0_S01\\Full_web_ecc1_new2_Floc5_v0_S01.cihx\n",
      "D:/thijsmas/HSC\\ecc1\\web1\\Full_web_ecc1_new2_Floc5_v0_S01\\Full_web_ecc1_new2_Floc5_v0_S01.cihx\n",
      "--- Starting new analysis ---\n",
      " \n",
      "Computation start: 2024-08-13 03:12:34.841460\n"
     ]
    },
    {
     "data": {
      "application/vnd.jupyter.widget-view+json": {
       "model_id": "b5773500aa4c405cbdfaec52a3abaac9",
       "version_major": 2,
       "version_minor": 0
      },
      "text/plain": [
       "VBox()"
      ]
     },
     "metadata": {},
     "output_type": "display_data"
    },
    {
     "name": "stdout",
     "output_type": "stream",
     "text": [
      "Computation duration: 00:40:47.97\n",
      "D:/thijsmas/HSC\\ecc1\\web1\\Full_web_ecc1_new2_Floc5_v1_S01\\Full_web_ecc1_new2_Floc5_v1_S01.cihx\n",
      "D:/thijsmas/HSC\\ecc1\\web1\\Full_web_ecc1_new2_Floc5_v1_S01\\Full_web_ecc1_new2_Floc5_v1_S01.cihx\n",
      "--- Starting new analysis ---\n",
      " \n",
      "Computation start: 2024-08-13 03:53:24.384874\n"
     ]
    },
    {
     "data": {
      "application/vnd.jupyter.widget-view+json": {
       "model_id": "811924e0e78d47da96b4fb3e76a4d298",
       "version_major": 2,
       "version_minor": 0
      },
      "text/plain": [
       "VBox()"
      ]
     },
     "metadata": {},
     "output_type": "display_data"
    },
    {
     "name": "stdout",
     "output_type": "stream",
     "text": [
      "Computation duration: 00:39:6.94\n",
      "D:/thijsmas/HSC\\ecc1\\web1\\Full_web_ecc1_new2_Floc6_v0_S01\\Full_web_ecc1_new2_Floc6_v0_S01.cihx\n",
      "D:/thijsmas/HSC\\ecc1\\web1\\Full_web_ecc1_new2_Floc6_v0_S01\\Full_web_ecc1_new2_Floc6_v0_S01.cihx\n",
      "--- Starting new analysis ---\n",
      " \n",
      "Computation start: 2024-08-13 04:32:32.862453\n"
     ]
    },
    {
     "data": {
      "application/vnd.jupyter.widget-view+json": {
       "model_id": "ae602d4f98cb40d0bb1592bca05eef82",
       "version_major": 2,
       "version_minor": 0
      },
      "text/plain": [
       "VBox()"
      ]
     },
     "metadata": {},
     "output_type": "display_data"
    },
    {
     "name": "stdout",
     "output_type": "stream",
     "text": [
      "Computation duration: 00:36:32.00\n",
      "D:/thijsmas/HSC\\ecc1\\web1\\Full_web_ecc1_new2_Floc6_v1_S01\\Full_web_ecc1_new2_Floc6_v1_S01.cihx\n",
      "D:/thijsmas/HSC\\ecc1\\web1\\Full_web_ecc1_new2_Floc6_v1_S01\\Full_web_ecc1_new2_Floc6_v1_S01.cihx\n",
      "--- Starting new analysis ---\n",
      " \n",
      "Computation start: 2024-08-13 05:09:06.377373\n"
     ]
    },
    {
     "data": {
      "application/vnd.jupyter.widget-view+json": {
       "model_id": "18860abbce5742a2ae59a4b1501c2326",
       "version_major": 2,
       "version_minor": 0
      },
      "text/plain": [
       "VBox()"
      ]
     },
     "metadata": {},
     "output_type": "display_data"
    },
    {
     "name": "stdout",
     "output_type": "stream",
     "text": [
      "Computation duration: 00:33:59.71\n",
      "D:/thijsmas/HSC\\ecc1\\web1\\Full_web_ecc1_new2_Floc7_v0_S01\\Full_web_ecc1_new2_Floc7_v0_S01.cihx\n",
      "D:/thijsmas/HSC\\ecc1\\web1\\Full_web_ecc1_new2_Floc7_v0_S01\\Full_web_ecc1_new2_Floc7_v0_S01.cihx\n",
      "--- Starting new analysis ---\n",
      " \n",
      "Computation start: 2024-08-13 05:43:07.551906\n"
     ]
    },
    {
     "data": {
      "application/vnd.jupyter.widget-view+json": {
       "model_id": "8ba8247de6cc49b4a211338bccb1bee1",
       "version_major": 2,
       "version_minor": 0
      },
      "text/plain": [
       "VBox()"
      ]
     },
     "metadata": {},
     "output_type": "display_data"
    },
    {
     "name": "stdout",
     "output_type": "stream",
     "text": [
      "Computation duration: 00:35:14.74\n",
      "D:/thijsmas/HSC\\ecc1\\web1\\Full_web_ecc1_new2_Floc7_v1_S01\\Full_web_ecc1_new2_Floc7_v1_S01.cihx\n",
      "D:/thijsmas/HSC\\ecc1\\web1\\Full_web_ecc1_new2_Floc7_v1_S01\\Full_web_ecc1_new2_Floc7_v1_S01.cihx\n",
      "--- Starting new analysis ---\n",
      " \n",
      "Computation start: 2024-08-13 06:18:23.774976\n"
     ]
    },
    {
     "data": {
      "application/vnd.jupyter.widget-view+json": {
       "model_id": "5ac62c029a2a457c9c17989768d2dc3d",
       "version_major": 2,
       "version_minor": 0
      },
      "text/plain": [
       "VBox()"
      ]
     },
     "metadata": {},
     "output_type": "display_data"
    },
    {
     "name": "stdout",
     "output_type": "stream",
     "text": [
      "Computation duration: 00:35:33.15\n",
      "D:/thijsmas/HSC\\ecc1\\web1\\Full_web_ecc1_new2_Floc8_v0_S01\\Full_web_ecc1_new2_Floc8_v0_S01.cihx\n",
      "D:/thijsmas/HSC\\ecc1\\web1\\Full_web_ecc1_new2_Floc8_v0_S01\\Full_web_ecc1_new2_Floc8_v0_S01.cihx\n",
      "--- Starting new analysis ---\n",
      " \n",
      "Computation start: 2024-08-13 06:53:58.405251\n"
     ]
    },
    {
     "data": {
      "application/vnd.jupyter.widget-view+json": {
       "model_id": "e1612fb7997246f987859862caf11ae1",
       "version_major": 2,
       "version_minor": 0
      },
      "text/plain": [
       "VBox()"
      ]
     },
     "metadata": {},
     "output_type": "display_data"
    },
    {
     "name": "stdout",
     "output_type": "stream",
     "text": [
      "Computation duration: 00:38:32.79\n",
      "D:/thijsmas/HSC\\ecc1\\web1\\Full_web_ecc1_new2_Floc8_v1_S01\\Full_web_ecc1_new2_Floc8_v1_S01.cihx\n",
      "D:/thijsmas/HSC\\ecc1\\web1\\Full_web_ecc1_new2_Floc8_v1_S01\\Full_web_ecc1_new2_Floc8_v1_S01.cihx\n",
      "--- Starting new analysis ---\n",
      " \n",
      "Computation start: 2024-08-13 07:32:32.788534\n"
     ]
    },
    {
     "data": {
      "application/vnd.jupyter.widget-view+json": {
       "model_id": "06355b99ebc44bada5e5455d35a06fb4",
       "version_major": 2,
       "version_minor": 0
      },
      "text/plain": [
       "VBox()"
      ]
     },
     "metadata": {},
     "output_type": "display_data"
    },
    {
     "name": "stdout",
     "output_type": "stream",
     "text": [
      "Computation duration: 00:38:36.56\n",
      "D:/thijsmas/HSC\\ecc1\\web1\\Full_web_ecc1_new2_Floc9_v0_S01\\Full_web_ecc1_new2_Floc9_v0_S01.cihx\n",
      "D:/thijsmas/HSC\\ecc1\\web1\\Full_web_ecc1_new2_Floc9_v0_S01\\Full_web_ecc1_new2_Floc9_v0_S01.cihx\n",
      "--- Starting new analysis ---\n",
      " \n",
      "Computation start: 2024-08-13 08:11:10.899325\n"
     ]
    },
    {
     "data": {
      "application/vnd.jupyter.widget-view+json": {
       "model_id": "1bad732d50534288877da33767f8d055",
       "version_major": 2,
       "version_minor": 0
      },
      "text/plain": [
       "VBox()"
      ]
     },
     "metadata": {},
     "output_type": "display_data"
    },
    {
     "name": "stdout",
     "output_type": "stream",
     "text": [
      "Computation duration: 00:38:40.51\n",
      "D:/thijsmas/HSC\\ecc2\\web0\\rev1\\Full_web_ecc2_new_Floc10_v0_S01\\Full_web_ecc2_new_Floc10_v0_S01.cihx\n",
      "D:/thijsmas/HSC\\ecc2\\web0\\rev1\\Full_web_ecc2_new_Floc10_v0_S01\\Full_web_ecc2_new_Floc10_v0_S01.cihx\n",
      "--- Starting new analysis ---\n",
      " \n",
      "Computation start: 2024-08-13 08:49:52.966314\n"
     ]
    },
    {
     "data": {
      "application/vnd.jupyter.widget-view+json": {
       "model_id": "51ded3a2b782466783a10c77423c798f",
       "version_major": 2,
       "version_minor": 0
      },
      "text/plain": [
       "VBox()"
      ]
     },
     "metadata": {},
     "output_type": "display_data"
    },
    {
     "name": "stdout",
     "output_type": "stream",
     "text": [
      "Computation duration: 00:38:17.42\n",
      "D:/thijsmas/HSC\\ecc2\\web0\\rev1\\Full_web_ecc2_new_Floc10_v1_S01\\Full_web_ecc2_new_Floc10_v1_S01.cihx\n",
      "D:/thijsmas/HSC\\ecc2\\web0\\rev1\\Full_web_ecc2_new_Floc10_v1_S01\\Full_web_ecc2_new_Floc10_v1_S01.cihx\n",
      "--- Starting new analysis ---\n",
      " \n",
      "Computation start: 2024-08-13 09:28:11.944929\n"
     ]
    },
    {
     "data": {
      "application/vnd.jupyter.widget-view+json": {
       "model_id": "98d1ab7199884a6fb4358ed6bd4daaf1",
       "version_major": 2,
       "version_minor": 0
      },
      "text/plain": [
       "VBox()"
      ]
     },
     "metadata": {},
     "output_type": "display_data"
    },
    {
     "name": "stdout",
     "output_type": "stream",
     "text": [
      "Computation duration: 00:38:24.76\n",
      "D:/thijsmas/HSC\\ecc2\\web0\\rev1\\Full_web_ecc2_new_Floc11_v0_S01\\Full_web_ecc2_new_Floc11_v0_S01.cihx\n",
      "D:/thijsmas/HSC\\ecc2\\web0\\rev1\\Full_web_ecc2_new_Floc11_v0_S01\\Full_web_ecc2_new_Floc11_v0_S01.cihx\n",
      "--- Starting new analysis ---\n",
      " \n",
      "Computation start: 2024-08-13 10:06:38.322386\n"
     ]
    },
    {
     "data": {
      "application/vnd.jupyter.widget-view+json": {
       "model_id": "5eda1032ddba43d1a4cb346101e194ef",
       "version_major": 2,
       "version_minor": 0
      },
      "text/plain": [
       "VBox()"
      ]
     },
     "metadata": {},
     "output_type": "display_data"
    },
    {
     "name": "stdout",
     "output_type": "stream",
     "text": [
      "Computation duration: 00:39:16.32\n",
      "D:/thijsmas/HSC\\ecc2\\web0\\rev1\\Full_web_ecc2_new_Floc11_v1_S01\\Full_web_ecc2_new_Floc11_v1_S01.cihx\n",
      "D:/thijsmas/HSC\\ecc2\\web0\\rev1\\Full_web_ecc2_new_Floc11_v1_S01\\Full_web_ecc2_new_Floc11_v1_S01.cihx\n",
      "--- Starting new analysis ---\n",
      " \n",
      "Computation start: 2024-08-13 10:45:56.236343\n"
     ]
    },
    {
     "data": {
      "application/vnd.jupyter.widget-view+json": {
       "model_id": "680c62a24313478998855137ab2d3a3a",
       "version_major": 2,
       "version_minor": 0
      },
      "text/plain": [
       "VBox()"
      ]
     },
     "metadata": {},
     "output_type": "display_data"
    }
   ],
   "source": [
    "import os\n",
    "import sys\n",
    "\n",
    "# Get the directory of the current file\n",
    "current_dir = os.path.dirname(os.path.realpath('__file__'))\n",
    "\n",
    "# Get the parent directory\n",
    "parent_dir = os.path.dirname(current_dir)\n",
    "\n",
    "# Add the parent directory to the system path\n",
    "sys.path.insert(0, parent_dir)\n",
    "import numpy as np              # Python's standard numerical library\n",
    "import matplotlib.pyplot as plt # Python's scientific visualization library\n",
    "import pyidi                    # Python HSC data analysis library\n",
    "import pickle as pk\n",
    "from pixel_setter2 import PixelSetter#, play_video, detect_peaks\n",
    "from pixel_setter import play_video\n",
    "from scipy.ndimage import uniform_filter\n",
    "import importlib\n",
    "from EMA_functions import *\n",
    "from Feature_selecter import *\n",
    "import matplotlib.animation as animation\n",
    "from pyidi import ROISelect\n",
    "from matplotlib.path import Path\n",
    "import time\n",
    "import glob\n",
    "import itertools\n",
    "root_drive_sim = os.path.normpath('G:/.shortcut-targets-by-id/1k1B8zPb3T8H7y6x0irFZnzzmfQPHMRPx/Illimited Lab Projects/Research Projects/Spiders/Simulations')\n",
    "\n",
    "# Find all files ending with .cih in the folder\n",
    "files = glob.glob('D:/thijsmas/HSC/**/*.cihx', recursive=True)\n",
    "\n",
    "reference_image = (0, 150)\n",
    "roi_size = (9,9)\n",
    "bit_depth = 16\n",
    "n_tracking_points = 3000\n",
    "\n",
    "line_styles = ['-', '--', '-.', ':']\n",
    "colors = ['b', 'g', 'r', 'c', 'm', 'y', 'k']\n",
    "\n",
    "# Create a cycle iterator for line styles and colors\n",
    "line_style_cycle = itertools.cycle(line_styles)\n",
    "color_cycle = itertools.cycle(colors)\n",
    "\n",
    "dic_type = '2D'\n",
    "processors = 12 \n",
    "for file in files:\n",
    "    print(file)\n",
    "\n",
    "    file_name = file.split('\\\\')[-1]\n",
    "    file_name_base = file_name.split('.')[0]\n",
    "    file_root = file.split(file_name)[0]\n",
    "    save_file = os.path.join(file_root, f\"{file_name_base}_analyzed.txt\")\n",
    "\n",
    "    if os.path.exists(save_file):\n",
    "        continue\n",
    "    \n",
    "    file_name_points = os.path.join(file_root, f\"{file_name_base}_points.npz\")\n",
    "    data = np.load(file_name_points)\n",
    "    reference_image = data['referece_image']\n",
    "    roi_size = data['roi_size']\n",
    "    dic_type = data['type']\n",
    "    points = data['points']\n",
    "    n_tracking_points = points.shape[0]\n",
    "    file_name_roi = os.path.join(file_root, f\"{file_name_base}_ROI.npy\")\n",
    "    ROI = np.load(file_name_roi)\n",
    "    path = Path(ROI.T)\n",
    "    \n",
    "\n",
    "    EMA_structure = EMA_Structure(file_name)\n",
    "    video = EMA_structure.open_video(add_extension=False)\n",
    "    mean_image = video.mraw[reference_image[0]:reference_image[1]].mean(axis=0)\n",
    "    if dic_type == '2D':\n",
    "        video.set_method('lk')\n",
    "    elif dic_type == '1D':\n",
    "        video.set_method('lk_1D')\n",
    "    else:\n",
    "        raise ValueError('Unknown tracking type')\n",
    "    video.method.configure(roi_size = roi_size, reference_image = mean_image,  resume_analysis=False)\n",
    "    video.set_points(points)\n",
    "    video.get_displacements(processes = processors)\n",
    "\n",
    "    with open(os.path.join(file_root, f\"{file_name_base}_analyzed.txt\"), 'w') as file:\n",
    "        file.write(f\"File: {file_name}\\n\")\n",
    "        file.write(f\"Reference Image: {reference_image}\\n\")\n",
    "        file.write(f\"ROI Size: {roi_size}\\n\")\n",
    "        file.write(f\"Tracking Type: {dic_type}\\n\")\n",
    "        file.write(f\"Number of Tracking Points: {n_tracking_points}\\n\")\n",
    "        \n",
    "\n",
    "    # fig, ax = plt.subplots(figsize=(15, 20))\n",
    "    # ax.imshow(mean_image, cmap='gray')\n",
    "    # ax.set_title(file_name_base + ' ' + str(n_tracking_points) + ' points')\n",
    "    # ax.plot(ROI[1], ROI[0], label = 'ROI', linestyle='-', color='r')\n",
    "    # points_plot = ax.scatter(points[:,1], points[:,0], marker='o',s=10)\n",
    "    # ax.legend()\n",
    "    # plt.show()\n",
    "\n"
   ]
  }
 ],
 "metadata": {
  "kernelspec": {
   "display_name": "base",
   "language": "python",
   "name": "python3"
  },
  "language_info": {
   "codemirror_mode": {
    "name": "ipython",
    "version": 3
   },
   "file_extension": ".py",
   "mimetype": "text/x-python",
   "name": "python",
   "nbconvert_exporter": "python",
   "pygments_lexer": "ipython3",
   "version": "3.11.5"
  }
 },
 "nbformat": 4,
 "nbformat_minor": 2
}
