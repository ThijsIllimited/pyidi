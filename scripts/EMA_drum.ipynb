{
 "cells": [
  {
   "cell_type": "code",
   "execution_count": 34,
   "metadata": {},
   "outputs": [],
   "source": [
    "%matplotlib qt\n",
    "import os\n",
    "import pickle\n",
    "from sdypy import EMA\n",
    "import numpy as np\n",
    "import matplotlib.pyplot as plt \n",
    "from EMA_functions import *\n",
    "import pandas as pd\n",
    "import matplotlib.animation as animation\n",
    "import matplotlib.cm as cm\n",
    "import matplotlib.colors as col\n",
    "import ast\n",
    "from scipy.io import loadmat\n",
    "from pixel_setter import play_video\n",
    "\n",
    "root_drive_sim = os.path.normpath('G:/.shortcut-targets-by-id/1k1B8zPb3T8H7y6x0irFZnzzmfQPHMRPx/Illimited Lab Projects/Research Projects/Spiders/Simulations')\n",
    "root_EMA = 'C:/Users/thijsmas/Documents/GitHub/pyidi_data/EMA structure'"
   ]
  },
  {
   "cell_type": "markdown",
   "metadata": {},
   "source": [
    "Input 2D case"
   ]
  },
  {
   "cell_type": "code",
   "execution_count": 35,
   "metadata": {},
   "outputs": [
    {
     "name": "stdout",
     "output_type": "stream",
     "text": [
      "D:/thijsmas/HSC - Ladisk\\transfer_100504_files_37b9d3ac\\measurement_0_00_degres_S01.cihx\n"
     ]
    }
   ],
   "source": [
    "file_name = 'measurement_0_00_degres_S01'\n",
    "\n",
    "roi_size = (9,9)\n",
    "method = '2d'\n",
    "file_name_EMA = file_name + '_' + method + f'_roi{roi_size[0]}x{roi_size[1]}.pkl'\n",
    "with open(os.path.join(root_EMA, file_name_EMA), 'rb') as f:\n",
    "    EMA_structure2D = pkl.load(f)\n",
    "video = EMA_structure2D.open_video(add_extension=False)\n",
    "\n",
    "EMA_structure2D.tp = EMA_structure2D.maxima\n",
    "EMA_structure2D.d  = EMA_structure2D.displacements\n",
    "td_2d = EMA_structure2D.d +  EMA_structure2D.maxima.reshape(len(EMA_structure2D.maxima),1,2)\n",
    "dt = 1/video.info['Record Rate(fps)']\n",
    "t_vec = np.arange(0, video.N)*dt"
   ]
  },
  {
   "cell_type": "markdown",
   "metadata": {},
   "source": [
    "Input 1D case"
   ]
  },
  {
   "cell_type": "code",
   "execution_count": 36,
   "metadata": {},
   "outputs": [
    {
     "data": {
      "text/plain": [
       "((6, 120, 2), (120, 2))"
      ]
     },
     "execution_count": 36,
     "metadata": {},
     "output_type": "execute_result"
    }
   ],
   "source": [
    "EMA_structure1D_vec = []\n",
    "roi_size = (9,9)\n",
    "method = '1d'\n",
    "\n",
    "theta_vec = np.linspace(0, np.pi, 5)\n",
    "theta_vec = theta_vec[:-1]\n",
    "theta_vec = np.append(theta_vec, 1.5730517285207863)\n",
    "for theta in theta_vec:\n",
    "    s = np.array([np.cos(theta), -np.sin(theta)])\n",
    "    s = np.round(s, 2)\n",
    "    file_name_EMA = file_name + '_' + method + f'_roi{roi_size[0]}x{roi_size[1]}_theta{theta}.pkl'\n",
    "    with open(os.path.join(root_EMA, file_name_EMA), 'rb') as f:\n",
    "        EMA_structure = pkl.load(f)\n",
    "    EMA_structure.theta = theta\n",
    "    EMA_structure.s = s\n",
    "    EMA_structure.tp = EMA_structure.maxima\n",
    "    EMA_structure.d  = EMA_structure.displacements\n",
    "    EMA_structure.td = EMA_structure.d +  EMA_structure.maxima.reshape(len(EMA_structure.maxima),1,2)\n",
    "    EMA_structure1D_vec.append(EMA_structure)\n",
    "\n",
    "tp_stack = np.stack([EMA_structure1D.tp for EMA_structure1D in EMA_structure1D_vec], axis=0)\n",
    "tp_stack = np.vstack((EMA_structure2D.tp[np.newaxis], tp_stack))\n",
    "# file_name_EMA = file_name + '_' + method + f'_roi{roi_size[0]}x{roi_size[1]}_theta{theta}.pkl'\n",
    "# with open(os.path.join(root_EMA, file_name_EMA), 'rb') as f:\n",
    "#     EMA_structure = pkl.load(f)\n",
    "\n",
    "# EMA_structure.tp = EMA_structure.maxima\n",
    "# EMA_structure.d  = EMA_structure.displacements\n",
    "# td = EMA_structure.d +  EMA_structure.maxima.reshape(len(EMA_structure.maxima),1,2)\n",
    "tp_stack.shape, EMA_structure.tp.shape"
   ]
  },
  {
   "cell_type": "code",
   "execution_count": 37,
   "metadata": {},
   "outputs": [
    {
     "name": "stderr",
     "output_type": "stream",
     "text": [
      "C:\\Users\\thijsmas\\AppData\\Local\\Temp\\ipykernel_26788\\2347472301.py:7: PendingDeprecationWarning: The set_tight_layout function will be deprecated in a future version. Use set_layout_engine instead.\n",
      "  fig.set_tight_layout(True)\n"
     ]
    }
   ],
   "source": [
    "%matplotlib qt\n",
    "sequential_image_n = 0\n",
    "# EMA_structure.nut_idx((1012, 271), exclude_high_amplitude = True, d_lim =10)\n",
    "EMA_structure1D_vec[0].nut_idx((1012, 271), exclude_high_amplitude = True, d_lim =10)\n",
    "# fig, ax = EMA_structure.plot_still_frame(video, sequential_image_n, show_saturation = False, tp_nut = True, tp = True, valid_only=False, bit_depth = 16)\n",
    "fig, ax = EMA_structure1D_vec[0].plot_still_frame(video, sequential_image_n, show_saturation = False, tp_nut = True, tp = tp_stack[:-1], valid_only=False, bit_depth = 16, labels = ['2D', '1D - [1. 0.]', '1D - [0.7071 -0.7071]', '1D - [0. 1.]', '1D - [-0.7071 -0.7071]', '1D - [0.9995, -0.0315]'])\n",
    "fig.set_tight_layout(True)\n",
    "ax.set_xticks([])\n",
    "ax.set_yticks([])\n",
    "n_path_frames = 100\n",
    "d_scaler =30\n",
    "for EMA_structure in EMA_structure1D_vec[:-1]:\n",
    "    td = d_scaler*EMA_structure.d +  EMA_structure.maxima.reshape(len(EMA_structure.maxima),1,2)\n",
    "    for td_p in td:\n",
    "        ax.plot(td_p[:n_path_frames,1], td_p[:n_path_frames,0], 'k-', alpha = 0.5)\n",
    "        ax.plot(td_p[:n_path_frames,1], td_p[:n_path_frames,0], 'w--', alpha = 0.5)\n",
    "td = d_scaler*EMA_structure2D.d +  EMA_structure2D.maxima.reshape(len(EMA_structure2D.maxima),1,2)\n",
    "for td_p in td:\n",
    "    ax.plot(td_p[:n_path_frames,1], td_p[:n_path_frames,0], 'k-', alpha = 0.5)\n",
    "    ax.plot(td_p[:n_path_frames,1], td_p[:n_path_frames,0], 'w--', alpha = 0.5)\n",
    "    \n",
    "\n"
   ]
  },
  {
   "cell_type": "code",
   "execution_count": 38,
   "metadata": {},
   "outputs": [],
   "source": [
    "%matplotlib qt\n",
    "td = EMA_structure1D_vec[1].d +  EMA_structure1D_vec[1].maxima.reshape(len(EMA_structure1D_vec[1].maxima),1,2)\n",
    "first_frame = 1\n",
    "ani = play_video(video, range(1000, video.N-1), interval=30, points=td, axis=([0, video.info['Image Width']],[video.info['Image Height'], 0]))"
   ]
  },
  {
   "cell_type": "code",
   "execution_count": 39,
   "metadata": {},
   "outputs": [],
   "source": [
    "n = EMA_structure2D.d.shape[1]\n",
    "disp_fft_2D_i = np.fft.rfft(EMA_structure2D.d[:,:,0], n=n, axis=1) / n\n",
    "disp_fft_2D_j = np.fft.rfft(EMA_structure2D.d[:,:,1], n=n, axis=1) / n\n",
    "\n",
    "# As we have effectively discarded the negative frequency spectra, the positive frequency components are doubled\n",
    "disp_fft_2D_i[1:] *= 2\n",
    "disp_fft_2D_j[1:] *= 2\n",
    "\n",
    "disp_fft_2D = disp_fft_2D_i * s[1] + disp_fft_2D_j * s[0]\n",
    "disp_fft_2D_stack = np.stack((disp_fft_2D_i, disp_fft_2D_j), axis=2)\n",
    "disp_fft_2D_norm = np.linalg.norm(disp_fft_2D_stack, axis=2)\n",
    "\n",
    "freq = np.fft.rfftfreq(n, dt)\n",
    "\n",
    "T = t_vec[-1]\n",
    "S_2D = 1/T * np.conj(disp_fft_2D) * disp_fft_2D\n",
    "S_2D_mean = np.mean(S_2D, axis=0)\n",
    "\n",
    "S_2D_i = 1/T * np.conj(disp_fft_2D_i) * disp_fft_2D_i\n",
    "S_2D_i_mean = np.mean(S_2D_i, axis=0)\n",
    "\n",
    "S_2D_j = 1/T * np.conj(disp_fft_2D_j) * disp_fft_2D_j\n",
    "S_2D_j_mean = np.mean(S_2D_j, axis=0)\n",
    "\n",
    "S_2D_norm = 1/T * np.conj(disp_fft_2D_norm) * disp_fft_2D_norm\n",
    "S_2D_norm_mean = np.mean(S_2D_norm, axis=0)"
   ]
  },
  {
   "cell_type": "code",
   "execution_count": 40,
   "metadata": {},
   "outputs": [],
   "source": [
    "for EMA_structure in EMA_structure1D_vec:\n",
    "    EMA_structure.d = EMA_structure.d - EMA_structure2D.d\n",
    "    EMA_structure.disp_fft_i = np.fft.rfft(EMA_structure.d[:,:,0], n=n, axis=1) / n\n",
    "    EMA_structure.disp_fft_j = np.fft.rfft(EMA_structure.d[:,:,1], n=n, axis=1) / n\n",
    "\n",
    "    # As we have effectively discarded the negative frequency spectra, the positive frequency components are doubled\n",
    "    EMA_structure.disp_fft_i[1:] *= 2\n",
    "    EMA_structure.disp_fft_j[1:] *= 2\n",
    "\n",
    "    EMA_structure.disp_fft = EMA_structure.disp_fft_i * EMA_structure.s[1] + EMA_structure.disp_fft_j * EMA_structure.s[0]\n",
    "\n",
    "    EMA_structure.freq = np.fft.rfftfreq(n, dt)\n",
    "\n",
    "    EMA_structure.S_1D = 1/T * np.conj(EMA_structure.disp_fft) * EMA_structure.disp_fft\n",
    "    EMA_structure.S_1D_mean = np.mean(EMA_structure.S_1D, axis=0)\n",
    "    \n",
    "    # mean_angle, s_mean"
   ]
  },
  {
   "cell_type": "code",
   "execution_count": 41,
   "metadata": {},
   "outputs": [
    {
     "data": {
      "text/plain": [
       "array([0.99950332, 0.03151362])"
      ]
     },
     "execution_count": 41,
     "metadata": {},
     "output_type": "execute_result"
    }
   ],
   "source": [
    "angle_vec = np.arctan2(EMA_structure2D.d[:,:,0], EMA_structure2D.d[:,:,1])\n",
    "mean_angle = np.mean(angle_vec)\n",
    "s_mean = np.array([np.cos(mean_angle), np.sin(mean_angle)])\n",
    "s_mean"
   ]
  },
  {
   "cell_type": "code",
   "execution_count": 42,
   "metadata": {},
   "outputs": [
    {
     "data": {
      "text/plain": [
       "Text(0.5, 0, 'Frequency [Hz]')"
      ]
     },
     "execution_count": 42,
     "metadata": {},
     "output_type": "execute_result"
    }
   ],
   "source": [
    "%matplotlib qt\n",
    "fig, ax = plt.subplots(len(EMA_structure1D_vec)-1,1, figsize=(10,5))\n",
    "for i, EMA_structure in enumerate(EMA_structure1D_vec[:-1]):\n",
    "    ax[i].plot(freq, EMA_structure.S_1D_mean, 'k', label='Mean 1D')\n",
    "    ax[i].plot(freq, S_2D_mean, 'r:', label='2D - projection')\n",
    "    ax[i].plot(freq, S_2D_norm_mean, 'b:', label='Mean 2D norm')\n",
    "    ax[i].set_yscale('log')\n",
    "    ax[i].set_yscale('log')\n",
    "    ax[i].legend()\n",
    "    ax[i].set_title(f's = {EMA_structure.s}')\n",
    "    \n",
    "    ax[i].set_ylabel('Auto-spectral density')\n",
    "    ax[i].set_xlim([450, 1000])\n",
    "    ax[i].set_ylim([1e-10, 1e-5])\n",
    "ax[-1].set_xlabel('Frequency [Hz]')"
   ]
  },
  {
   "cell_type": "code",
   "execution_count": 43,
   "metadata": {},
   "outputs": [],
   "source": [
    "t_interest = 0.02\n",
    "t_i = np.abs(t_vec - t_interest).argmin()\n",
    "fig, ax = plt.subplots(1, 1, figsize=(15, 5))\n",
    "for disp_ij in EMA_structure.d:\n",
    "    ax.plot(t_vec[:t_i], disp_ij[:t_i,0], 'r', alpha=0.2, linewidth=0.2)\n",
    "    ax.plot(t_vec[:t_i], disp_ij[:t_i,1], 'b', alpha=0.2, linewidth=0.2)\n",
    "    # ax.plot(EMA_structure.t_camera_raw, disp_i, 'r', alpha=0.2, linewidth=0.2)"
   ]
  }
 ],
 "metadata": {
  "kernelspec": {
   "display_name": "base",
   "language": "python",
   "name": "python3"
  },
  "language_info": {
   "codemirror_mode": {
    "name": "ipython",
    "version": 3
   },
   "file_extension": ".py",
   "mimetype": "text/x-python",
   "name": "python",
   "nbconvert_exporter": "python",
   "pygments_lexer": "ipython3",
   "version": "3.11.5"
  }
 },
 "nbformat": 4,
 "nbformat_minor": 2
}
