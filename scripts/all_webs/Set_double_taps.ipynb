{
 "cells": [
  {
   "cell_type": "code",
   "execution_count": 1,
   "metadata": {},
   "outputs": [
    {
     "name": "stderr",
     "output_type": "stream",
     "text": [
      "c:\\Users\\thijsmas\\AppData\\Local\\anaconda3\\Lib\\site-packages\\paramiko\\transport.py:219: CryptographyDeprecationWarning: Blowfish has been deprecated\n",
      "  \"class\": algorithms.Blowfish,\n",
      "c:\\Users\\thijsmas\\AppData\\Local\\anaconda3\\Lib\\site-packages\\napari\\utils\\misc.py:428: DeprecationWarning: `CallDefault` in napari v0.5.0 and will be removed in v0.6.0.\n",
      "  warnings.warn(\n"
     ]
    }
   ],
   "source": [
    "# imports\n",
    "import os\n",
    "import sys\n",
    "\n",
    "# Get the directory of the current file\n",
    "current_dir = os.path.dirname(os.path.realpath('__file__'))\n",
    "\n",
    "# Get the parent directory\n",
    "parent_dir = os.path.dirname(current_dir)\n",
    "# Add the current directory and parent directory to the system path\n",
    "sys.path.insert(0, current_dir)\n",
    "sys.path.insert(0, parent_dir)\n",
    "import numpy as np              # Python's standard numerical library\n",
    "import matplotlib.pyplot as plt # Python's scientific visualization library\n",
    "from pixel_setter import play_video\n",
    "from scipy.ndimage import uniform_filter\n",
    "import importlib\n",
    "from EMA_functions import *\n",
    "import matplotlib.animation as animation\n",
    "from DIC_functions import *\n",
    "import glob\n",
    "import ast\n",
    "# import re\n",
    "\n",
    "\n",
    "# Import test data\n",
    "df_file_description = pd.read_csv('I:/My Drive/PHD/HSC/file_descriptions_wEMA.csv')\n",
    "# Back up the data\n",
    "df_file_description = df_file_description.loc[:, ~df_file_description.columns.str.startswith('Unnamed')]\n",
    "df_file_description.to_csv('I:/My Drive/PHD/HSC/file_descriptions_wEMA_backup.csv')\n",
    "\n",
    "# List all files\n",
    "files = glob.glob('D:/thijsmas/HSC/**/*.cihx', recursive=True)\n",
    "\n",
    "# if 'double_tap' not in df_file_description.columns:\n",
    "    # df_file_description['double_tap'] = False\n"
   ]
  },
  {
   "cell_type": "code",
   "execution_count": 2,
   "metadata": {},
   "outputs": [
    {
     "data": {
      "text/plain": [
       "Index(['filename', 'path', 'ecc', 'loc', 'mass', 'taut/loose', 'impact/pluck',\n",
       "       'version', 'n_frames', 'fps', 'Oversatured pixels',\n",
       "       'Undersatured pixels', 'prey_ij', 'spider_ij', 'peak_n', 'nut_idx',\n",
       "       'd_lim', 'smooth_lim', 'max_drift', 'max_end_drift', 'lower', 'upper',\n",
       "       'pol_order_high', 'added_damping', 'near_zero_threshold',\n",
       "       'approximate_height', 'peak_F', 'peak_F_threshold', 'shift',\n",
       "       'test_number', 'higher', 'spider_ij_d', 'prey_ij_d', 'id0_cam',\n",
       "       'id0_for', 'double_tap'],\n",
       "      dtype='object')"
      ]
     },
     "execution_count": 2,
     "metadata": {},
     "output_type": "execute_result"
    }
   ],
   "source": [
    "df_file_description.columns"
   ]
  },
  {
   "cell_type": "code",
   "execution_count": 40,
   "metadata": {},
   "outputs": [
    {
     "name": "stdout",
     "output_type": "stream",
     "text": [
      "Full_web_ecc2_new_Floc8_v0_S01.cihx\n"
     ]
    },
    {
     "data": {
      "text/html": [
       "<div>\n",
       "<style scoped>\n",
       "    .dataframe tbody tr th:only-of-type {\n",
       "        vertical-align: middle;\n",
       "    }\n",
       "\n",
       "    .dataframe tbody tr th {\n",
       "        vertical-align: top;\n",
       "    }\n",
       "\n",
       "    .dataframe thead th {\n",
       "        text-align: right;\n",
       "    }\n",
       "</style>\n",
       "<table border=\"1\" class=\"dataframe\">\n",
       "  <thead>\n",
       "    <tr style=\"text-align: right;\">\n",
       "      <th></th>\n",
       "      <th>filename</th>\n",
       "      <th>path</th>\n",
       "      <th>ecc</th>\n",
       "      <th>loc</th>\n",
       "      <th>mass</th>\n",
       "      <th>taut/loose</th>\n",
       "      <th>impact/pluck</th>\n",
       "      <th>version</th>\n",
       "      <th>n_frames</th>\n",
       "      <th>fps</th>\n",
       "      <th>...</th>\n",
       "      <th>peak_F</th>\n",
       "      <th>peak_F_threshold</th>\n",
       "      <th>shift</th>\n",
       "      <th>test_number</th>\n",
       "      <th>higher</th>\n",
       "      <th>spider_ij_d</th>\n",
       "      <th>prey_ij_d</th>\n",
       "      <th>id0_cam</th>\n",
       "      <th>id0_for</th>\n",
       "      <th>double_tap</th>\n",
       "    </tr>\n",
       "  </thead>\n",
       "  <tbody>\n",
       "    <tr>\n",
       "      <th>90</th>\n",
       "      <td>Full_web_ecc2_new_Floc8_v0_S01.cihx</td>\n",
       "      <td>H:\\My Drive\\PHD\\HSC\\ecc2\\web0\\rev1\\Full_web_ec...</td>\n",
       "      <td>2.0</td>\n",
       "      <td>8.0</td>\n",
       "      <td>True</td>\n",
       "      <td>Loose</td>\n",
       "      <td>Impact</td>\n",
       "      <td>0.0</td>\n",
       "      <td>7000.0</td>\n",
       "      <td>8000.0</td>\n",
       "      <td>...</td>\n",
       "      <td>1.1465149590123456</td>\n",
       "      <td>0.5</td>\n",
       "      <td>(0, 0)</td>\n",
       "      <td>1.0</td>\n",
       "      <td>300.0</td>\n",
       "      <td>(509.0776344086022, 236.6187612903226)</td>\n",
       "      <td>(627.1129032258065, 414.55252473118276)</td>\n",
       "      <td>208.0</td>\n",
       "      <td>21896.0</td>\n",
       "      <td>False</td>\n",
       "    </tr>\n",
       "  </tbody>\n",
       "</table>\n",
       "<p>1 rows × 36 columns</p>\n",
       "</div>"
      ],
      "text/plain": [
       "                               filename  \\\n",
       "90  Full_web_ecc2_new_Floc8_v0_S01.cihx   \n",
       "\n",
       "                                                 path  ecc  loc  mass  \\\n",
       "90  H:\\My Drive\\PHD\\HSC\\ecc2\\web0\\rev1\\Full_web_ec...  2.0  8.0  True   \n",
       "\n",
       "   taut/loose impact/pluck  version  n_frames     fps  ...  \\\n",
       "90      Loose       Impact      0.0    7000.0  8000.0  ...   \n",
       "\n",
       "                peak_F  peak_F_threshold   shift test_number higher  \\\n",
       "90  1.1465149590123456               0.5  (0, 0)         1.0  300.0   \n",
       "\n",
       "                               spider_ij_d  \\\n",
       "90  (509.0776344086022, 236.6187612903226)   \n",
       "\n",
       "                                  prey_ij_d  id0_cam  id0_for  double_tap  \n",
       "90  (627.1129032258065, 414.55252473118276)    208.0  21896.0       False  \n",
       "\n",
       "[1 rows x 36 columns]"
      ]
     },
     "execution_count": 40,
     "metadata": {},
     "output_type": "execute_result"
    }
   ],
   "source": [
    "ecc = 2\n",
    "floc = 8\n",
    "version = 0\n",
    "\n",
    "filtered_df = df_file_description[(df_file_description['ecc'] == ecc) & (df_file_description['loc'] == floc) & (df_file_description['version'] == version)]\n",
    "\n",
    "id_n = 0\n",
    "filename = filtered_df['filename'].values[id_n]\n",
    "\n",
    "row_i = df_file_description[df_file_description['filename'] == filename].index[0]\n",
    "\n",
    "print(filename)\n",
    "\n",
    "filtered_df"
   ]
  },
  {
   "cell_type": "code",
   "execution_count": 41,
   "metadata": {},
   "outputs": [
    {
     "data": {
      "text/plain": [
       "(0.8453125, 0.8653125)"
      ]
     },
     "execution_count": 41,
     "metadata": {},
     "output_type": "execute_result"
    },
    {
     "data": {
      "image/png": "[encoded data removed]",
      "text/plain": [
       "<Figure size 1000x500 with 1 Axes>"
      ]
     },
     "metadata": {},
     "output_type": "display_data"
    }
   ],
   "source": [
    "# file = files[30]\n",
    "# name_video = os.path.basename(file)\n",
    "# root_video = os.path.dirname(file)\n",
    "df_filtered = df_file_description[df_file_description['filename'].isin([filename])]\n",
    "indices = df_filtered.index\n",
    "\n",
    "\n",
    "EMA_structure = EMA_Structure(filename)\n",
    "EMA_structure.open_impact_data()\n",
    "EMA_structure.initialize_signals()\n",
    "\n",
    "id0_for = int(df_filtered['id0_for'].item())\n",
    "\n",
    "fig, ax = plt.subplots(1, 1, figsize=(10, 5))\n",
    "ax.plot(EMA_structure.t_force_raw, EMA_structure.force_raw)\n",
    "ax.plot(EMA_structure.t_force_raw[id0_for], EMA_structure.force_raw[id0_for], 'ro')\n",
    "ax.set_xlim(EMA_structure.t_force_raw[id0_for] - 0.01, EMA_structure.t_force_raw[id0_for] + 0.01)"
   ]
  },
  {
   "cell_type": "code",
   "execution_count": 42,
   "metadata": {},
   "outputs": [
    {
     "data": {
      "text/html": [
       "<div>\n",
       "<style scoped>\n",
       "    .dataframe tbody tr th:only-of-type {\n",
       "        vertical-align: middle;\n",
       "    }\n",
       "\n",
       "    .dataframe tbody tr th {\n",
       "        vertical-align: top;\n",
       "    }\n",
       "\n",
       "    .dataframe thead th {\n",
       "        text-align: right;\n",
       "    }\n",
       "</style>\n",
       "<table border=\"1\" class=\"dataframe\">\n",
       "  <thead>\n",
       "    <tr style=\"text-align: right;\">\n",
       "      <th></th>\n",
       "      <th>filename</th>\n",
       "      <th>path</th>\n",
       "      <th>ecc</th>\n",
       "      <th>loc</th>\n",
       "      <th>mass</th>\n",
       "      <th>taut/loose</th>\n",
       "      <th>impact/pluck</th>\n",
       "      <th>version</th>\n",
       "      <th>n_frames</th>\n",
       "      <th>fps</th>\n",
       "      <th>...</th>\n",
       "      <th>peak_F</th>\n",
       "      <th>peak_F_threshold</th>\n",
       "      <th>shift</th>\n",
       "      <th>test_number</th>\n",
       "      <th>higher</th>\n",
       "      <th>spider_ij_d</th>\n",
       "      <th>prey_ij_d</th>\n",
       "      <th>id0_cam</th>\n",
       "      <th>id0_for</th>\n",
       "      <th>double_tap</th>\n",
       "    </tr>\n",
       "  </thead>\n",
       "  <tbody>\n",
       "    <tr>\n",
       "      <th>90</th>\n",
       "      <td>Full_web_ecc2_new_Floc8_v0_S01.cihx</td>\n",
       "      <td>H:\\My Drive\\PHD\\HSC\\ecc2\\web0\\rev1\\Full_web_ec...</td>\n",
       "      <td>2.0</td>\n",
       "      <td>8.0</td>\n",
       "      <td>True</td>\n",
       "      <td>Loose</td>\n",
       "      <td>Impact</td>\n",
       "      <td>0.0</td>\n",
       "      <td>7000.0</td>\n",
       "      <td>8000.0</td>\n",
       "      <td>...</td>\n",
       "      <td>1.1465149590123456</td>\n",
       "      <td>0.5</td>\n",
       "      <td>(0, 0)</td>\n",
       "      <td>1.0</td>\n",
       "      <td>300.0</td>\n",
       "      <td>(509.0776344086022, 236.6187612903226)</td>\n",
       "      <td>(627.1129032258065, 414.55252473118276)</td>\n",
       "      <td>208.0</td>\n",
       "      <td>21896.0</td>\n",
       "      <td>True</td>\n",
       "    </tr>\n",
       "  </tbody>\n",
       "</table>\n",
       "<p>1 rows × 36 columns</p>\n",
       "</div>"
      ],
      "text/plain": [
       "                               filename  \\\n",
       "90  Full_web_ecc2_new_Floc8_v0_S01.cihx   \n",
       "\n",
       "                                                 path  ecc  loc  mass  \\\n",
       "90  H:\\My Drive\\PHD\\HSC\\ecc2\\web0\\rev1\\Full_web_ec...  2.0  8.0  True   \n",
       "\n",
       "   taut/loose impact/pluck  version  n_frames     fps  ...  \\\n",
       "90      Loose       Impact      0.0    7000.0  8000.0  ...   \n",
       "\n",
       "                peak_F  peak_F_threshold   shift test_number higher  \\\n",
       "90  1.1465149590123456               0.5  (0, 0)         1.0  300.0   \n",
       "\n",
       "                               spider_ij_d  \\\n",
       "90  (509.0776344086022, 236.6187612903226)   \n",
       "\n",
       "                                  prey_ij_d  id0_cam  id0_for  double_tap  \n",
       "90  (627.1129032258065, 414.55252473118276)    208.0  21896.0        True  \n",
       "\n",
       "[1 rows x 36 columns]"
      ]
     },
     "execution_count": 42,
     "metadata": {},
     "output_type": "execute_result"
    }
   ],
   "source": [
    "df_file_description.loc[row_i, 'double_tap'] = True\n",
    "filtered_df = df_file_description[(df_file_description['ecc'] == ecc) & (df_file_description['loc'] == floc) & (df_file_description['version'] == version)]\n",
    "filtered_df"
   ]
  },
  {
   "cell_type": "code",
   "execution_count": 43,
   "metadata": {},
   "outputs": [],
   "source": [
    "df_file_description.to_csv('I:/My Drive/PHD/HSC/file_descriptions_wEMA.csv')"
   ]
  }
 ],
 "metadata": {
  "kernelspec": {
   "display_name": "base",
   "language": "python",
   "name": "python3"
  },
  "language_info": {
   "codemirror_mode": {
    "name": "ipython",
    "version": 3
   },
   "file_extension": ".py",
   "mimetype": "text/x-python",
   "name": "python",
   "nbconvert_exporter": "python",
   "pygments_lexer": "ipython3",
   "version": "3.11.5"
  }
 },
 "nbformat": 4,
 "nbformat_minor": 2
}
