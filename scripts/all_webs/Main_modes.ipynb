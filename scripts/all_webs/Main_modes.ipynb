{
 "cells": [
  {
   "cell_type": "code",
   "execution_count": 42,
   "metadata": {},
   "outputs": [
    {
     "data": {
      "text/plain": [
       "Index(['filename', 'path', 'ecc', 'loc', 'mass', 'taut/loose', 'impact/pluck',\n",
       "       'version', 'n_frames', 'fps', 'Oversatured pixels',\n",
       "       'Undersatured pixels', 'prey_ij', 'spider_ij', 'peak_n', 'nut_idx',\n",
       "       'd_lim', 'smooth_lim', 'max_drift', 'max_end_drift', 'lower', 'upper',\n",
       "       'pol_order_high', 'added_damping', 'near_zero_threshold',\n",
       "       'approximate_height', 'peak_F', 'peak_F_threshold', 'shift',\n",
       "       'test_number', 'higher', 'spider_ij_d', 'prey_ij_d', 'id0_cam',\n",
       "       'id0_for', 'double_tap', 'root', 'path2', 'max_t_diff', 'max_d_diff'],\n",
       "      dtype='object')"
      ]
     },
     "execution_count": 42,
     "metadata": {},
     "output_type": "execute_result"
    }
   ],
   "source": [
    "# imports\n",
    "import os\n",
    "import sys\n",
    "\n",
    "# Get the directory of the current file\n",
    "current_dir = os.path.dirname(os.path.realpath('__file__'))\n",
    "\n",
    "# Get the parent directory\n",
    "parent_dir = os.path.dirname(current_dir)\n",
    "# Add the current directory and parent directory to the system path\n",
    "sys.path.insert(0, current_dir)\n",
    "sys.path.insert(0, parent_dir)\n",
    "\n",
    "import numpy as np              # Python's standard numerical library\n",
    "import matplotlib.pyplot as plt # Python's scientific visualization library\n",
    "# from pixel_setter import play_video\n",
    "# from scipy.ndimage import uniform_filter\n",
    "import importlib\n",
    "from EMA_functions import *\n",
    "from DIC_functions import *\n",
    "import glob\n",
    "import ast\n",
    "from sdypy import EMA\n",
    "import pickle as pkl\n",
    "import matplotlib.cm as cm\n",
    "import matplotlib.colors as col\n",
    "import matplotlib.gridspec as gridspec\n",
    "# import re\n",
    "\n",
    "# Import test data\n",
    "df_file_description = pd.read_csv('I:/My Drive/PHD/HSC/file_descriptions_wEMA.csv')\n",
    "df_file_description = df_file_description.loc[:, ~df_file_description.columns.str.startswith('Unnamed')]\n",
    "# Back up the data\n",
    "df_file_description.to_csv('I:/My Drive/PHD/HSC/file_descriptions_wEMA_backup.csv')\n",
    "\n",
    "# List all files\n",
    "files = glob.glob('D:/thijsmas/HSC/**/*.cihx', recursive=True)\n",
    "\n",
    "D_in = 40\n",
    "D_out = 100\n",
    "nut_wh = (15, 60)\n",
    "required_parameters = [ 'id0_cam',\n",
    "                        'id0_for',\n",
    "                        'double_tap',\n",
    "                        'smooth_lim',\n",
    "                        'max_drift',\n",
    "                        'max_end_drift', \n",
    "                        'peak_n', \n",
    "                        'peak_F', \n",
    "                        'peak_F_threshold', \n",
    "                        'shift',\n",
    "                        'test_number', \n",
    "                        'd_lim', \n",
    "                        'prey_ij_d', \n",
    "                        'prey_ij', \n",
    "                        'spider_ij_d', \n",
    "                        'spider_ij']\n",
    "\n",
    "df_file_description.columns"
   ]
  },
  {
   "cell_type": "code",
   "execution_count": 43,
   "metadata": {},
   "outputs": [
    {
     "data": {
      "text/html": [
       "<div>\n",
       "<style scoped>\n",
       "    .dataframe tbody tr th:only-of-type {\n",
       "        vertical-align: middle;\n",
       "    }\n",
       "\n",
       "    .dataframe tbody tr th {\n",
       "        vertical-align: top;\n",
       "    }\n",
       "\n",
       "    .dataframe thead th {\n",
       "        text-align: right;\n",
       "    }\n",
       "</style>\n",
       "<table border=\"1\" class=\"dataframe\">\n",
       "  <thead>\n",
       "    <tr style=\"text-align: right;\">\n",
       "      <th></th>\n",
       "      <th>filename</th>\n",
       "      <th>path</th>\n",
       "      <th>ecc</th>\n",
       "      <th>loc</th>\n",
       "      <th>mass</th>\n",
       "      <th>taut/loose</th>\n",
       "      <th>impact/pluck</th>\n",
       "      <th>version</th>\n",
       "      <th>n_frames</th>\n",
       "      <th>fps</th>\n",
       "      <th>...</th>\n",
       "      <th>higher</th>\n",
       "      <th>spider_ij_d</th>\n",
       "      <th>prey_ij_d</th>\n",
       "      <th>id0_cam</th>\n",
       "      <th>id0_for</th>\n",
       "      <th>double_tap</th>\n",
       "      <th>root</th>\n",
       "      <th>path2</th>\n",
       "      <th>max_t_diff</th>\n",
       "      <th>max_d_diff</th>\n",
       "    </tr>\n",
       "  </thead>\n",
       "  <tbody>\n",
       "    <tr>\n",
       "      <th>190</th>\n",
       "      <td>Full_web_ecc0_new_Floc7_v0_S01.cihx</td>\n",
       "      <td>H:\\My Drive\\PHD\\HSC\\ecc0\\web0\\Full_web_ecc0_ne...</td>\n",
       "      <td>0.0</td>\n",
       "      <td>7.0</td>\n",
       "      <td>True</td>\n",
       "      <td>Loose</td>\n",
       "      <td>Impact</td>\n",
       "      <td>0.0</td>\n",
       "      <td>10000.0</td>\n",
       "      <td>8000.0</td>\n",
       "      <td>...</td>\n",
       "      <td>300.0</td>\n",
       "      <td>(517.8862365591398, 286.82779354838704)</td>\n",
       "      <td>(448.29827956989254, 336.15596559139783)</td>\n",
       "      <td>164.0</td>\n",
       "      <td>41801.0</td>\n",
       "      <td>False</td>\n",
       "      <td>D:/thijsmas/HSC\\ecc0\\web0\\Full_web_ecc0_new_Fl...</td>\n",
       "      <td>D:/thijsmas/HSC\\ecc0\\web0\\Full_web_ecc0_new_Fl...</td>\n",
       "      <td>0.168277</td>\n",
       "      <td>0.405174</td>\n",
       "    </tr>\n",
       "  </tbody>\n",
       "</table>\n",
       "<p>1 rows × 40 columns</p>\n",
       "</div>"
      ],
      "text/plain": [
       "                                filename  \\\n",
       "190  Full_web_ecc0_new_Floc7_v0_S01.cihx   \n",
       "\n",
       "                                                  path  ecc  loc  mass  \\\n",
       "190  H:\\My Drive\\PHD\\HSC\\ecc0\\web0\\Full_web_ecc0_ne...  0.0  7.0  True   \n",
       "\n",
       "    taut/loose impact/pluck  version  n_frames     fps  ...  higher  \\\n",
       "190      Loose       Impact      0.0   10000.0  8000.0  ...   300.0   \n",
       "\n",
       "                                 spider_ij_d  \\\n",
       "190  (517.8862365591398, 286.82779354838704)   \n",
       "\n",
       "                                    prey_ij_d id0_cam  id0_for  double_tap  \\\n",
       "190  (448.29827956989254, 336.15596559139783)   164.0  41801.0       False   \n",
       "\n",
       "                                                  root  \\\n",
       "190  D:/thijsmas/HSC\\ecc0\\web0\\Full_web_ecc0_new_Fl...   \n",
       "\n",
       "                                                 path2  max_t_diff  max_d_diff  \n",
       "190  D:/thijsmas/HSC\\ecc0\\web0\\Full_web_ecc0_new_Fl...    0.168277    0.405174  \n",
       "\n",
       "[1 rows x 40 columns]"
      ]
     },
     "execution_count": 43,
     "metadata": {},
     "output_type": "execute_result"
    }
   ],
   "source": [
    "ecc = 0\n",
    "loc = 7\n",
    "version = 0\n",
    "taut_loose = 'Loose'\n",
    "impact_pluck = 'Impact'\n",
    "mass = True\n",
    "df_filtered = df_file_description[(df_file_description['ecc'] == ecc) & (df_file_description['taut/loose'] == taut_loose) & (df_file_description['impact/pluck'] == impact_pluck) & (df_file_description['mass'] == mass) & (df_file_description['loc'] == loc) & (df_file_description['version'] == version)]\n",
    "df_filtered"
   ]
  },
  {
   "cell_type": "code",
   "execution_count": 44,
   "metadata": {},
   "outputs": [
    {
     "name": "stdout",
     "output_type": "stream",
     "text": [
      "D:/thijsmas/HSC\\ecc0\\web0\\Full_web_ecc0_new_Floc7_v0_S01\\Full_web_ecc0_new_Floc7_v0_S01.cihx\n",
      "Available filter methods: eig0, eig1, harris, trigs, harmonic_mean, eig_theta, eig_theta_off, eig0_test, eig1_test\n"
     ]
    },
    {
     "name": "stderr",
     "output_type": "stream",
     "text": [
      "c:\\Users\\thijsmas\\AppData\\Local\\anaconda3\\Lib\\site-packages\\pyMRAW.py:104: UserWarning: Clipped footage! (Total frame: 10000, Original total frame: 87371)\n",
      "  warnings.warn('Clipped footage! (Total frame: {}, Original total frame: {})'.format(cih['Total Frame'], cih['Original Total Frame'] ))\n"
     ]
    }
   ],
   "source": [
    "name_video = df_filtered['filename'].values[0]\n",
    "path_video = df_filtered['path2'].values[0]\n",
    "root_video = df_filtered['root'].values[0]\n",
    "\n",
    "file_parameters, df_index = unpack_dataframe(df_file_description, name_video, required_parameters)\n",
    "EMA_structure = EMA_Structure(name_video)\n",
    "EMA_structure.set_params(**file_parameters)\n",
    "EMA_structure.set_params(FN0 = 41.2, reaction_time = 0.1)\n",
    "EMA_structure.open_impact_data()\n",
    "video = EMA_structure.open_video(add_extension = False)\n",
    "fps = video.info['Record Rate(fps)']\n",
    "dt = 1/fps\n",
    "                 \n",
    "DIC_structure = DIC_Structure(path_video)\n",
    "\n",
    "EMA_structure.tp, EMA_structure.d = DIC_structure.join_results([EMA_structure.test_number])\n",
    "td = EMA_structure.d +  EMA_structure.tp.reshape(len(EMA_structure.tp),1,2)\n",
    "\n",
    "EMA_structure.initialize_signals()\n",
    "EMA_structure.initialize_displacement(idx='all', dir='xy')\n",
    "EMA_structure.nut_idx((EMA_structure.prey_ij[0] + EMA_structure.shift[0], EMA_structure.prey_ij[1] + EMA_structure.shift[1]), exclude_high_amplitude = True, d_lim = EMA_structure.d_lim)\n",
    "\n",
    "EMA_structure.process_signals(EMA_structure.id0_cam, EMA_structure.id0_for)\n",
    "\n",
    "EMA_structure.set_freq_properties(padding_ratio=1)\n",
    "EMA_structure.get_transfer_function(direction='y')\n",
    "\n",
    "smooth_signals = np.max(np.abs(np.diff(np.linalg.norm(EMA_structure.d, axis=2))), axis = 1) < EMA_structure.smooth_lim\n",
    "non_drifting = np.abs(np.mean(np.linalg.norm(EMA_structure.d[:,:-100], axis=2), axis=1) < EMA_structure.max_drift)\n",
    "non_drifting2 = np.abs(np.linalg.norm(EMA_structure.d[:,-1], axis=1)) < EMA_structure.max_end_drift\n",
    "EMA_structure.valid_tps = smooth_signals & non_drifting & non_drifting2 & EMA_structure.exclude_high_amplitude\n",
    "\n",
    "lower = 3\n",
    "higher = 60\n",
    "pol_order_high = 50\n",
    "\n",
    "\n",
    "# cam = EMA.Model(EMA_structure.H1[EMA_structure.valid_tps], EMA_structure.freq_camera, lower=lower, upper=higher, pol_order_high=pol_order_high, frf_type = 'receptance')#, get_partfactors=True, dt=dt)\n",
    "# cam.get_poles(show_progress=True)\n"
   ]
  },
  {
   "cell_type": "code",
   "execution_count": 39,
   "metadata": {},
   "outputs": [
    {
     "name": "stderr",
     "output_type": "stream",
     "text": [
      "100%|███████████████████████████████████████████████████████████████| 50/50 [00:27<00:00,  1.83it/s]\n"
     ]
    },
    {
     "name": "stdout",
     "output_type": "stream",
     "text": [
      "None\n"
     ]
    },
    {
     "name": "stderr",
     "output_type": "stream",
     "text": [
      "100%|██████████████████████████████████████████████████████████████| 50/50 [00:00<00:00, 178.53it/s]\n",
      "c:\\Users\\thijsmas\\AppData\\Local\\anaconda3\\Lib\\site-packages\\matplotlib\\text.py:898: ComplexWarning: Casting complex values to real discards the imaginary part\n",
      "  y = float(self.convert_yunits(self._y))\n",
      "c:\\Users\\thijsmas\\AppData\\Local\\anaconda3\\Lib\\site-packages\\sdypy\\EMA\\EMA.py:888: RuntimeWarning: divide by zero encountered in divide\n",
      "  p1L = np.kron(np.array([1, 0]), -1/omega**2)\n",
      "c:\\Users\\thijsmas\\AppData\\Local\\anaconda3\\Lib\\site-packages\\numpy\\lib\\shape_base.py:1179: RuntimeWarning: invalid value encountered in multiply\n",
      "  result = _nx.multiply(a_arr, b_arr, subok=(not is_any_mat))\n",
      "c:\\Users\\thijsmas\\AppData\\Local\\anaconda3\\Lib\\site-packages\\sdypy\\EMA\\EMA.py:889: RuntimeWarning: divide by zero encountered in divide\n",
      "  p2L = np.kron(np.array([0, 1]), -1/omega**2)\n"
     ]
    },
    {
     "name": "stderr",
     "output_type": "stream",
     "text": [
      "c:\\Users\\thijsmas\\AppData\\Local\\anaconda3\\Lib\\site-packages\\matplotlib\\text.py:757: ComplexWarning: Casting complex values to real discards the imaginary part\n",
      "  posy = float(self.convert_yunits(self._y))\n"
     ]
    }
   ],
   "source": [
    "cam = EMA.Model(EMA_structure.H1[EMA_structure.valid_tps], EMA_structure.freq_camera, lower=lower, upper=higher, pol_order_high=pol_order_high, frf_type = 'receptance', get_partfactors=True)#)\n",
    "cam.get_poles(show_progress=True)\n",
    "cam.select_poles()\n",
    "file_path_cam = os.path.join(root_video, f'{name_video}_cam_temp.pkl')\n",
    "with open(file_path_cam, 'wb') as f:\n",
    "    pkl.dump(cam, f)"
   ]
  },
  {
   "cell_type": "code",
   "execution_count": 4,
   "metadata": {},
   "outputs": [],
   "source": [
    "file_path_cam = os.path.join(root_video, f'{name_video}_cam_temp.pkl')\n",
    "with open(file_path_cam, 'rb') as file:\n",
    "    cam = pkl.load(file)"
   ]
  },
  {
   "cell_type": "code",
   "execution_count": 40,
   "metadata": {},
   "outputs": [
    {
     "data": {
      "text/plain": [
       "Text(0, 0.5, 'FRF (receptance) [pixel/N]')"
      ]
     },
     "execution_count": 40,
     "metadata": {},
     "output_type": "execute_result"
    }
   ],
   "source": [
    "n_modes = 8\n",
    "participation_factors = cam.partfactors\n",
    "part_real = []\n",
    "part_abs = []\n",
    "for i in range(len(cam.nat_freq)):\n",
    "    # fn = cam.pole_freq[cam.pole_ind[i][0]][cam.pole_ind[i][1]]\n",
    "    part_real.append(np.abs(np.real(cam.partfactors[cam.pole_ind[i][0]][cam.pole_ind[i][1]])))\n",
    "    part_abs.append(np.abs(cam.partfactors[cam.pole_ind[i][0]][cam.pole_ind[i][1]]))\n",
    "\n",
    "order_real = np.argsort(part_real)[::-1]\n",
    "order_abs = np.argsort(part_abs)[::-1]\n",
    "\n",
    "mode_selection = sorted(order_abs[:n_modes])\n",
    "\n",
    "order_real, order_abs\n",
    "mean_frf = np.mean(np.abs(cam.frf), axis=0)\n",
    "fig, ax = plt.subplots(figsize=(10,5))\n",
    "ax.semilogy(cam.freq,mean_frf, '-')\n",
    "# ax.vlines(np.array(cam.nat_freq)[order_real[:n_modes]], ymin = 1e0, ymax = 1e4, color='r', linestyle='-')\n",
    "ax.vlines(np.array(cam.nat_freq)[order_abs[:n_modes]], ymin = 1e0, ymax = 1e4, color='g', linestyle='--')\n",
    "ax.set_xlabel('Frequency [Hz]')\n",
    "ax.set_ylabel('FRF (receptance) [pixel/N]')\n"
   ]
  },
  {
   "cell_type": "code",
   "execution_count": 45,
   "metadata": {},
   "outputs": [
    {
     "name": "stdout",
     "output_type": "stream",
     "text": [
      "D:/thijsmas/HSC\\ecc0\\web0\\Full_web_ecc0_new_Floc7_v0_S01\\Full_web_ecc0_new_Floc7_v0_S01.cihx\n"
     ]
    },
    {
     "name": "stderr",
     "output_type": "stream",
     "text": [
      "c:\\Users\\thijsmas\\AppData\\Local\\anaconda3\\Lib\\site-packages\\sdypy\\EMA\\tools.py:71: ComplexWarning: Casting complex values to real discards the imaginary part\n",
      "  MAC[i, j] = MAC[i, j]/\\\n",
      "c:\\Users\\thijsmas\\AppData\\Local\\anaconda3\\Lib\\site-packages\\matplotlib\\cbook.py:1762: ComplexWarning: Casting complex values to real discards the imaginary part\n",
      "  return math.isfinite(val)\n",
      "c:\\Users\\thijsmas\\AppData\\Local\\anaconda3\\Lib\\site-packages\\matplotlib\\cbook.py:1398: ComplexWarning: Casting complex values to real discards the imaginary part\n",
      "  return np.asarray(x, float)\n",
      "c:\\Users\\thijsmas\\AppData\\Local\\anaconda3\\Lib\\site-packages\\matplotlib\\transforms.py:993: ComplexWarning: Casting complex values to real discards the imaginary part\n",
      "  self._points[:, 1] = interval\n",
      "c:\\Users\\thijsmas\\AppData\\Local\\anaconda3\\Lib\\site-packages\\numpy\\ma\\core.py:3375: ComplexWarning: Casting complex values to real discards the imaginary part\n",
      "  _data[indx] = dval\n",
      "C:\\Users\\thijsmas\\Documents\\GitHub\\pyidi\\scripts\\EMA_functions.py:1113: MatplotlibDeprecationWarning: The get_cmap function was deprecated in Matplotlib 3.7 and will be removed in 3.11. Use ``matplotlib.colormaps[name]`` or ``matplotlib.colormaps.get_cmap()`` or ``pyplot.get_cmap()`` instead.\n",
      "  cmap = plt.cm.get_cmap('plasma')\n"
     ]
    },
    {
     "data": {
      "text/plain": [
       "([0, 1, 2, 3, 5, 6, 12, 13],\n",
       " array([1.23705808e+00, 1.52247481e-02, 9.91851251e-01, 4.22513830e-03,\n",
       "        2.74572646e-03, 6.50884822e-03, 7.36312650e-04, 2.87712589e-04]))"
      ]
     },
     "execution_count": 45,
     "metadata": {},
     "output_type": "execute_result"
    },
    {
     "name": "stderr",
     "output_type": "stream",
     "text": [
      "c:\\Users\\thijsmas\\AppData\\Local\\anaconda3\\Lib\\site-packages\\matplotlib\\text.py:757: ComplexWarning: Casting complex values to real discards the imaginary part\n",
      "  posy = float(self.convert_yunits(self._y))\n"
     ]
    }
   ],
   "source": [
    "%matplotlib qt\n",
    "name_video_base = name_video.split('.')[0]\n",
    "file_name_dist = os.path.join(root_video, f\"{name_video_base}_dist.pkl\")\n",
    "with open(file_name_dist, 'rb') as f:\n",
    "    dist = pkl.load(f)\n",
    "homography_matrix = dist[\"homography_matrix\"]\n",
    "video = EMA_structure.open_video(add_extension = False)\n",
    "still_image = video.reader.get_frame(0)\n",
    "height, width = still_image.shape\n",
    "undistorted_image = cv2.warpPerspective(still_image, homography_matrix, (width, height))\n",
    "zero_columns = np.all(undistorted_image == 0, axis=0)\n",
    "first_true = np.argmax(~zero_columns)  # First True\n",
    "last_true = len(zero_columns) - np.argmax(~zero_columns[::-1]) - 1\n",
    "\n",
    "tp = EMA_structure.tp[EMA_structure.valid_tps]\n",
    "tp = np.dot(homography_matrix, np.array([tp[:, 1], tp[:, 0], np.ones(tp.shape[0])]))\n",
    "tp = (tp[1::-1]/tp[2][np.newaxis, :]).T\n",
    "# tp = tp #- np.array([-height/2, width/2])\n",
    "\n",
    "fig = plt.figure(figsize=(21, 13)) \n",
    "gs = gridspec.GridSpec(3, n_modes, height_ratios=[.6, .6, 1]) #height_ratios=[.5, 1, 1, 1],\n",
    "ax_real = [fig.add_subplot(gs[0, i]) for i in range(n_modes)]\n",
    "ax_imag = [fig.add_subplot(gs[1, i]) for i in range(n_modes)]\n",
    "ax_FRF =  fig.add_subplot(gs[2, :2])\n",
    "ax_Sxx  = fig.add_subplot(gs[2, 2:4])\n",
    "ax_MAC  = fig.add_subplot(gs[2, 4:6])\n",
    "ax_info = fig.add_subplot(gs[2, 6:])\n",
    "\n",
    "\n",
    "ax_FRF.semilogy(cam.freq, mean_frf, '-')\n",
    "for mode, mode_f in zip(mode_selection, np.array(cam.nat_freq)[mode_selection]):\n",
    "    ax_FRF.vlines(mode_f, ymin=1e0, ymax=1e4, color='g', linestyle='--')\n",
    "    ax_FRF.text(mode_f, 1e4, f\"{mode+1:}\", ha='center', va='bottom')\n",
    "ax_FRF.set_xlabel('Frequency [Hz]')\n",
    "ax_FRF.set_ylabel('FRF (receptance) [pixel/N]')\n",
    "\n",
    "fig, ax_MAC = plot_MAC(cam, fig, ax_MAC, mode_vec = mode_selection)\n",
    "\n",
    "Acquisition_period  = EMA_structure.t_camera[-1]\n",
    "S_xx = 1/Acquisition_period * np.conj(EMA_structure.disp_fft_y) * EMA_structure.disp_fft_y\n",
    "mean_S_xx = np.mean(S_xx[EMA_structure.valid_tps], axis=0)\n",
    "arg_higer = np.argmin(np.abs(EMA_structure.freq_camera - higher))\n",
    "S_xx_min, S_xx_max = np.min(mean_S_xx[:arg_higer]), np.max(mean_S_xx[:arg_higer])\n",
    "ax_Sxx.semilogy(EMA_structure.freq_camera, mean_S_xx, '-', label='raw')\n",
    "ax_Sxx.set_xlim([0, higher])\n",
    "ax_Sxx.set_ylim([S_xx_min*0.8, S_xx_max*1.3])\n",
    "ax_Sxx.set_title('S_xx [pixel^2]')\n",
    "ax_Sxx.set_xlabel('Frequency [Hz]')\n",
    "for mode, mode_f in zip(mode_selection, np.array(cam.nat_freq)[mode_selection]):\n",
    "    ax_Sxx.vlines(mode_f, ymin=S_xx_min, ymax=S_xx_max, color='g', linestyle='--')  \n",
    "    ax_Sxx.text(mode_f, S_xx_max, f\"{mode+1:}\", ha='center', va='bottom')\n",
    "\n",
    "# EMA_structure.set_freq_properties(padding_ratio=2)\n",
    "# S_xx = 1/Acquisition_period * np.conj(EMA_structure.disp_fft_y) * EMA_structure.disp_fft_y\n",
    "# mean_S_xx = np.mean(S_xx[EMA_structure.valid_tps], axis=0)\n",
    "# arg_higer = np.argmin(np.abs(EMA_structure.freq_camera - higher))\n",
    "# S_xx_min, S_xx_max = np.min(mean_S_xx[:arg_higer]), np.max(mean_S_xx[:arg_higer])\n",
    "# ax_Sxx.semilogy(EMA_structure.freq_camera, mean_S_xx, '--', label = 'padded', alpha=0.5)\n",
    "nat_freq = np.array(cam.nat_freq)[mode_selection]\n",
    "nat_freq_arg = np.argmin(np.abs(EMA_structure.freq_camera[:, np.newaxis] - nat_freq), axis=0)\n",
    "Sxx_peaks = np.abs(mean_S_xx[nat_freq_arg])\n",
    "Sxx_peaks_norm = Sxx_peaks/Sxx_peaks[0]\n",
    "ax_Sxx.scatter(nat_freq, Sxx_peaks, color='m', s=40, marker='x')\n",
    "\n",
    "Sxx_peaks_norm_str = '\\n'.join([f\"mode {mode+1}: {peak:.2g}\" for mode, peak in zip(mode_selection, Sxx_peaks_norm)])\n",
    "info_text0 = f\"\"\"\n",
    "            Figure Information:\n",
    "            - Peak Force: {EMA_structure.peak_F:.2f} N\n",
    "            - double tap: {EMA_structure.double_tap}\n",
    "            - Prey distance: {np.linalg.norm([EMA_structure.prey_ij_d[0]-EMA_structure.spider_ij_d[0], EMA_structure.prey_ij_d[1] - EMA_structure.spider_ij_d[1]]):.2f} px\n",
    "            - peak S_xx relative to first peak:\\n {Sxx_peaks_norm_str}\n",
    "            \"\"\"\n",
    "\n",
    "ax_info.text(0.5, 1, info_text0, transform=ax_info.transAxes, fontsize=12, verticalalignment='top', horizontalalignment='center')\n",
    "ax_info.axis('off')\n",
    "fig.suptitle(EMA_structure.file_name)\n",
    "\n",
    "for ax_real, ax_imag, mode_n in zip(ax_real, ax_imag, sorted(order_abs[:n_modes])):\n",
    "    ax_real.imshow(undistorted_image, cmap = 'gray')\n",
    "    ax_real.axis('off')\n",
    "    ax_real.set_xlim([first_true, last_true])\n",
    "    ax_imag.imshow(undistorted_image, cmap = 'gray')\n",
    "    ax_imag.set_xlim([first_true, last_true])\n",
    "    ax_imag.axis('off')\n",
    "    fig, ax_real, ax_imag = plot_mode_shape_flat(cam, fig, ax_real, ax_imag, mode_n, tp)\n",
    "    ax_real.scatter([EMA_structure.spider_ij_d[0], EMA_structure.prey_ij_d[0]], [EMA_structure.spider_ij_d[1], EMA_structure.prey_ij_d[1]], color='g', s=20, marker='x')\n",
    "    ax_imag.scatter([EMA_structure.spider_ij_d[0], EMA_structure.prey_ij_d[0]], [EMA_structure.spider_ij_d[1], EMA_structure.prey_ij_d[1]], color='g', s=30, marker='x')\n",
    "mode_selection, Sxx_peaks"
   ]
  },
  {
   "cell_type": "code",
   "execution_count": null,
   "metadata": {},
   "outputs": [],
   "source": [
    "file_path_cam = os.path.join(root_video, f'{name_video}_cam.pkl')\n",
    "with open(file_path_cam, 'rb') as file:\n",
    "    cam_saved = pkl.load(file)"
   ]
  },
  {
   "cell_type": "code",
   "execution_count": null,
   "metadata": {},
   "outputs": [],
   "source": [
    "for file_i, (name_video, path_video, root_video) in enumerate(zip(df_filtered['filename'], df_filtered['path2'], df_filtered['root'])):\n",
    "    if pd.isna(path_video):\n",
    "        print(f'Could not open {name_video}')\n",
    "        continue\n",
    "\n",
    "    \n",
    "    file_parameters, df_index = unpack_dataframe(df_file_description, name_video, required_parameters)\n",
    "    if file_parameters is None:\n",
    "        print(f'some items in {name_video} could not be unpacked')\n",
    "        continue\n",
    "\n",
    "    EMA_structure = EMA_Structure(name_video)\n",
    "    EMA_structure.set_params(**file_parameters)\n",
    "    EMA_structure.set_params(FN0 = 41.2, reaction_time = 0.1) # FN0 from Lott: Prey localization in spider orb webs using modal vibration analysis. reaction_time from (Klärner and Barth1982)\n",
    "    \n",
    "    # Open impact data\n",
    "    EMA_structure.open_impact_data()\n",
    "    video = EMA_structure.open_video(add_extension = False)\n",
    "    try:\n",
    "        comment = EMA_structure.impact_data['comment']\n",
    "        print(f\"Comment: {comment}\")\n",
    "    except:\n",
    "        print(f'File {name_video} not found in impact data')\n",
    "\n",
    "        continue\n",
    "\n",
    "    # Open displacement data\n",
    "    DIC_structure = DIC_Structure(path_video)\n",
    "    # video = DIC_structure.video\n",
    "    df = DIC_structure.list_test_data(test_range = range(1, 100), robostness_check = False)\n",
    "    print(df)\n",
    "    try:\n",
    "        last_row = df.iloc[-1]  # Get the last row of the DataFrame\n",
    "    except:\n",
    "        print(f'File {name_video} not found in DIC data')\n",
    "        continue\n",
    "    \n",
    "    file_path_cam = os.path.join(root_video, f'{name_video}_cam.pkl')\n",
    "    if os.path.exists(file_path_cam):\n",
    "        cam = pkl.load(open(file_path_cam, 'rb'))\n",
    "        normalized = True\n",
    "        try:\n",
    "            if cam.nat_freq[0]==0:\n",
    "                EMA_structure.fn0 = cam.nat_freq[1]\n",
    "            else:\n",
    "                EMA_structure.fn0 = cam.nat_freq[0]\n",
    "        except:\n",
    "            normalized = False\n",
    "            EMA_structure.fn0 = 0\n",
    "    else:\n",
    "        normalized = False\n",
    "        EMA_structure.fn0 = 0\n",
    "\n",
    "    if not normalized:\n",
    "        print(f'File {name_video} cannot be normalized')\n",
    "        continue"
   ]
  }
 ],
 "metadata": {
  "kernelspec": {
   "display_name": "base",
   "language": "python",
   "name": "python3"
  },
  "language_info": {
   "codemirror_mode": {
    "name": "ipython",
    "version": 3
   },
   "file_extension": ".py",
   "mimetype": "text/x-python",
   "name": "python",
   "nbconvert_exporter": "python",
   "pygments_lexer": "ipython3",
   "version": "3.11.5"
  }
 },
 "nbformat": 4,
 "nbformat_minor": 2
}
