{
 "cells": [
  {
   "cell_type": "code",
   "execution_count": 29,
   "metadata": {},
   "outputs": [],
   "source": [
    "# imports\n",
    "import os\n",
    "import sys\n",
    "\n",
    "# Get the directory of the current file\n",
    "current_dir = os.path.dirname(os.path.realpath('__file__'))\n",
    "\n",
    "# Get the parent directory\n",
    "parent_dir = os.path.dirname(current_dir)\n",
    "# Add the current directory and parent directory to the system path\n",
    "sys.path.insert(0, current_dir)\n",
    "sys.path.insert(0, parent_dir)\n",
    "import numpy as np              # Python's standard numerical library\n",
    "import matplotlib.pyplot as plt # Python's scientific visualization library\n",
    "from pixel_setter import play_video\n",
    "from scipy.ndimage import uniform_filter\n",
    "import importlib\n",
    "from EMA_functions import *\n",
    "import matplotlib.animation as animation\n",
    "from DIC_functions import *\n",
    "import glob\n",
    "import ast\n",
    "# import re\n",
    "\n",
    "\n",
    "# Import test data\n",
    "df_file_description = pd.read_csv('I:/My Drive/PHD/HSC/file_descriptions_wEMA.csv')\n",
    "# Back up the data\n",
    "df_file_description.to_csv('I:/My Drive/PHD/HSC/file_descriptions_wEMA_backup.csv')\n",
    "\n",
    "# List all files\n",
    "files = glob.glob('D:/thijsmas/HSC/**/*.cihx', recursive=True)\n"
   ]
  },
  {
   "cell_type": "code",
   "execution_count": 30,
   "metadata": {},
   "outputs": [
    {
     "name": "stdout",
     "output_type": "stream",
     "text": [
      "D:/thijsmas/HSC\\ecc0\\web1\\Full_web_ecc0_new2_Floc12_v1_S01\\Full_web_ecc0_new2_Floc12_v1_S01.cihx\n",
      "Available filter methods: eig0, eig1, harris, trigs, harmonic_mean, eig_theta, eig_theta_off, eig0_test, eig1_test\n"
     ]
    },
    {
     "name": "stderr",
     "output_type": "stream",
     "text": [
      "c:\\Users\\thijsmas\\AppData\\Local\\anaconda3\\Lib\\site-packages\\pyMRAW.py:104: UserWarning: Clipped footage! (Total frame: 8000, Original total frame: 87371)\n",
      "  warnings.warn('Clipped footage! (Total frame: {}, Original total frame: {})'.format(cih['Total Frame'], cih['Original Total Frame'] ))\n"
     ]
    }
   ],
   "source": [
    "file = files[30]\n",
    "name_video = os.path.basename(file)\n",
    "root_video = os.path.dirname(file)\n",
    "df_filtered = df_file_description[df_file_description['filename'].isin([name_video])]\n",
    "indices = df_filtered.index\n",
    "\n",
    "prey_ij = ast.literal_eval(df_filtered['prey_ij'].item())\n",
    "spider_ij = ast.literal_eval(df_filtered['spider_ij'].item())\n",
    "peak_n = ast.literal_eval(df_filtered['peak_n'].item())\n",
    "peak_F = ast.literal_eval(df_filtered['peak_F'].item())\n",
    "peak_F_threshold = ast.literal_eval(df_filtered['peak_F_threshold'].item())\n",
    "shift = ast.literal_eval(df_filtered['shift'].item())\n",
    "d_lim = df_filtered['d_lim'].item()\n",
    "test_number = int(df_filtered['test_number'].item())\n",
    "nut_idx = int(df_filtered['nut_idx'].item())\n",
    "smooth_lim = df_filtered['smooth_lim'].item()\n",
    "max_drift = df_filtered['max_drift'].item()\n",
    "max_end_drift = df_filtered['max_end_drift'].item()\n",
    "EMA_structure = EMA_Structure(name_video)\n",
    "EMA_structure.open_impact_data()\n",
    "video = EMA_structure.open_video(add_extension = False)\n",
    "EMA_structure.set_params(peak_n = peak_n, peak_F = peak_F, peak_F_threshold = peak_F_threshold, prey_ij = prey_ij, spider_ij = spider_ij, shift = shift, d_lim = d_lim, test_number = test_number, nearest_nut_index = nut_idx, smooth_lim = smooth_lim, max_drift = max_drift, max_end_drift = max_end_drift)\n",
    "EMA_structure.set_params(FN0 = 41.2, reaction_time = 0.1) # FN0 from Lott: Prey localization in spider orb webs using modal vibration analysis. reaction_time from (Klärner and Barth1982)\n",
    "DIC_structure = DIC_Structure(file)\n",
    "video = DIC_structure.video\n",
    "df = DIC_structure.list_test_data(test_range = range(1, 100), robostness_check = False)\n",
    "last_row = df.iloc[-1]\n",
    "EMA_structure.tp, EMA_structure.d = DIC_structure.join_results([test_number])\n",
    "td = EMA_structure.d +  EMA_structure.tp.reshape(len(EMA_structure.tp),1,2)\n",
    "EMA_structure.initialize_signals()\n",
    "EMA_structure.initialize_displacement(idx='all', dir='xy')"
   ]
  },
  {
   "cell_type": "code",
   "execution_count": 31,
   "metadata": {},
   "outputs": [
    {
     "data": {
      "text/plain": [
       "Index(['Unnamed: 0.2', 'Unnamed: 0.1', 'Unnamed: 0', 'filename', 'path', 'ecc',\n",
       "       'loc', 'mass', 'taut/loose', 'impact/pluck', 'version', 'n_frames',\n",
       "       'fps', 'Oversatured pixels', 'Undersatured pixels', 'prey_ij',\n",
       "       'spider_ij', 'peak_n', 'nut_idx', 'd_lim', 'smooth_lim', 'max_drift',\n",
       "       'max_end_drift', 'lower', 'upper', 'pol_order_high', 'added_damping',\n",
       "       'near_zero_threshold', 'approximate_height', 'peak_F',\n",
       "       'peak_F_threshold', 'shift', 'test_number', 'higher', 'spider_ij_d',\n",
       "       'prey_ij_d'],\n",
       "      dtype='object')"
      ]
     },
     "execution_count": 31,
     "metadata": {},
     "output_type": "execute_result"
    }
   ],
   "source": [
    "df_filtered.columns"
   ]
  },
  {
   "cell_type": "code",
   "execution_count": 32,
   "metadata": {},
   "outputs": [],
   "source": [
    "max_d = np.max(np.abs(EMA_structure.displacements_raw[EMA_structure.nearest_nut_index,:,0]))\n",
    "first_zero_id_cam = EMA_structure.find_signal_start(EMA_structure.displacements_raw[EMA_structure.nearest_nut_index,:,0], treshold=0.08, approximate_height = max_d*.5, approximate_distance=100000)\n",
    "first_zero_id_force = EMA_structure.find_signal_start(EMA_structure.force_raw, peak_n=peak_n, treshold=0.05, approximate_height = peak_F_threshold)\n",
    "# first_zero_id_force = EMA_structure.find_signal_start(EMA_structure.force_raw, peak_n=peak_n, treshold=0.05)\n",
    "zeros_camera    = EMA_structure.greatest_common_divisor(EMA_structure.fs_camera, EMA_structure.fs_force)\n",
    "zeros_force     = EMA_structure.n_samples_camera_to_force(zeros_camera)\n",
    "\n",
    "# Shift and align signals\n",
    "EMA_structure.t_camera = EMA_structure.shift_time(EMA_structure.t_camera_raw, EMA_structure.t_camera_raw[first_zero_id_cam-zeros_camera])\n",
    "EMA_structure.t_force = EMA_structure.shift_time(EMA_structure.t_force_raw, EMA_structure.t_force_raw[first_zero_id_force-zeros_force])\n",
    "\n",
    "# Clip signals\n",
    "EMA_structure.t_camera          = EMA_structure.clip_signal_before(EMA_structure.t_camera,first_zero_id_cam-zeros_camera)\n",
    "# EMA_structure.displacements     = EMA_structure.clip_signal_before(EMA_structure.displacements_raw, first_zero_id_cam-zeros_camera)\n",
    "EMA_structure.displacements_x     = EMA_structure.clip_signal_before(EMA_structure.displacements_raw[:,:,1], first_zero_id_cam-zeros_camera)\n",
    "EMA_structure.displacements_y     = EMA_structure.clip_signal_before(EMA_structure.displacements_raw[:,:,0], first_zero_id_cam-zeros_camera)\n",
    "EMA_structure.t_force           = EMA_structure.clip_signal_before(EMA_structure.t_force, first_zero_id_force-zeros_force)\n",
    "EMA_structure.force             = EMA_structure.clip_signal_before(EMA_structure.force_raw, first_zero_id_force-zeros_force)\n",
    "\n",
    "last_id_force, last_id_camera   = EMA_structure.find_last_common_time_ids(EMA_structure.t_camera, EMA_structure.t_force)\n",
    "EMA_structure.t_camera          = EMA_structure.clip_signal_after(EMA_structure.t_camera, last_id_camera)\n",
    "# EMA_structure.displacements     = EMA_structure.clip_signal_after(EMA_structure.displacements, last_id_camera)\n",
    "EMA_structure.displacements_x     = EMA_structure.clip_signal_after(EMA_structure.displacements_x, last_id_camera)\n",
    "EMA_structure.displacements_y     = EMA_structure.clip_signal_after(EMA_structure.displacements_y, last_id_camera)\n",
    "EMA_structure.t_force           = EMA_structure.clip_signal_after(EMA_structure.t_force, last_id_force)\n",
    "EMA_structure.force             = EMA_structure.clip_signal_after(EMA_structure.force, last_id_force)\n",
    "\n",
    "# Zero Force after impact\n",
    "EMA_structure.force = EMA_structure.zero_signal_treshold(EMA_structure.force, 0.1)"
   ]
  },
  {
   "cell_type": "code",
   "execution_count": 33,
   "metadata": {},
   "outputs": [
    {
     "data": {
      "text/plain": [
       "[<matplotlib.lines.Line2D at 0x19edf3bcdd0>]"
      ]
     },
     "execution_count": 33,
     "metadata": {},
     "output_type": "execute_result"
    }
   ],
   "source": [
    "%matplotlib qt\n",
    "fig, ax = plt.subplots(2, 1, figsize=(10, 10))\n",
    "ax[0].set_title('old approach')\n",
    "ax[0].plot(EMA_structure.t_camera, EMA_structure.displacements_y[EMA_structure.nearest_nut_index])\n",
    "ax[1].plot(EMA_structure.t_force, EMA_structure.force)"
   ]
  },
  {
   "cell_type": "code",
   "execution_count": 21,
   "metadata": {},
   "outputs": [],
   "source": [
    "from scipy.interpolate import interp1d\n",
    "Input_signal = EMA_structure.force_raw\n",
    "Input_fps    = EMA_structure.fs_force\n",
    "Output_signal=  EMA_structure.displacements_raw[EMA_structure.nearest_nut_index,:,0] / np.max(EMA_structure.displacements_raw[EMA_structure.nearest_nut_index,:,0])\n",
    "Output_fps   = EMA_structure.fs_camera\n",
    "dt = 1 / Input_fps\n",
    "\n",
    "start_id_force = np.argmax(Input_signal) - 1000\n",
    "start_id_cam = np.argmax(Output_signal) - 1000\n",
    "\n",
    "Input_signal = Input_signal[first_zero_id_force-1000:]\n",
    "first_zero_id_cam = EMA_structure.find_signal_start(EMA_structure.displacements_raw[EMA_structure.nearest_nut_index,:,0], treshold=0.08, approximate_height = max_d*.5, approximate_distance=100000)\n",
    "Output_signal = Output_signal[first_zero_id_cam-10:]\n",
    "\n",
    "# Create time arrays for input and output signals\n",
    "t_input = np.arange(len(Input_signal)) / Input_fps\n",
    "t_output = np.arange(len(Output_signal)) / Output_fps\n",
    "sig_end = np.argmin(np.abs(t_input - t_output[-1]))\n",
    "\n",
    "Input_signal = Input_signal[:sig_end]\n",
    "t_input = t_input[:sig_end]\n",
    "\n",
    "Input_signal_test = np.zeros_like(t_input)\n",
    "Input_signal_test[500] = 1\n",
    "\n",
    "# Interpolate the output signal to match the input signal's time points\n",
    "interpolator = interp1d(t_output, Output_signal, kind='linear', fill_value=\"extrapolate\")\n",
    "Output_signal_interpolated = interpolator(t_input)\n",
    "\n",
    "fig, ax = plt.subplots(3, 1, figsize=(10, 10))\n",
    "ax[0].plot(t_input, Input_signal)\n",
    "ax[1].plot(t_input, Output_signal_interpolated)\n",
    "\n",
    "\n",
    "n = len(Input_signal)\n",
    "freq = np.fft.rfftfreq(n, dt)\n",
    "\n",
    "\n",
    "Displacement = np.fft.rfft(Output_signal_interpolated, n=n, axis=0) / n\n",
    "Force = np.fft.rfft(Input_signal, n=n, axis=0) / n\n",
    "\n",
    "# As we have effectively discarded the negative frequency spectra, the positive frequency components are doubled\n",
    "Displacement[1:] *= 2\n",
    "Force[1:] *= 2\n",
    "\n",
    "T = t_input[-1] # acquisation period\n",
    "\n",
    "S_xx = 1/T * np.conj(Displacement) * Displacement\n",
    "S_ff = 1/T * np.conj(Force) * Force\n",
    "S_xf = 1/T * np.conj(Displacement) * Force\n",
    "S_fx = 1/T * np.conj(Force) * Displacement\n",
    "\n",
    "# S_xx = np.mean(S_xx, axis=0)\n",
    "# S_ff = np.mean(S_ff, axis=0)\n",
    "# S_xf = np.mean(S_xf, axis=0)\n",
    "# S_fx = np.mean(S_fx, axis=0)\n",
    "\n",
    "H_1 = S_fx / S_ff\n",
    "H_2 = S_xx / S_xf\n",
    "\n",
    "coherence = H_1 / H_2"
   ]
  },
  {
   "cell_type": "code",
   "execution_count": 22,
   "metadata": {},
   "outputs": [
    {
     "data": {
      "text/plain": [
       "(3.141592653589793, 3.141592653589793)"
      ]
     },
     "execution_count": 22,
     "metadata": {},
     "output_type": "execute_result"
    }
   ],
   "source": [
    "fig, ax = plt.subplots(2, figsize=(20, 5))\n",
    "\n",
    "ax[0].semilogy(freq, np.abs(H_1))\n",
    "ax[1].plot(freq, np.angle(H_1))\n",
    "\n",
    "# ax[1].set_ylim(0, 1.2)\n",
    "ax[0].set_xlim(0, 30)\n",
    "ax[1].set_xlim(0, 30)\n",
    "\n",
    "ax[0].set_ylabel('Accelerance [m/s$^2$/N]')\n",
    "ax[1].set_ylabel('Phase [rad]')\n",
    "ax[1].set_xlabel('Frequency [Hz]');\n",
    "\n",
    "np.angle(H_1)[0], np.pi"
   ]
  },
  {
   "cell_type": "code",
   "execution_count": null,
   "metadata": {},
   "outputs": [],
   "source": [
    "\n",
    "from scipy.signal import correlate\n",
    "from scipy.signal import convolve\n",
    "\n",
    "Input_signal = EMA_structure.force_raw\n",
    "Input_fps    = EMA_structure.fs_force\n",
    "Output_signal=  EMA_structure.displacements_raw[EMA_structure.nearest_nut_index,:,0] / np.max(EMA_structure.displacements_raw[EMA_structure.nearest_nut_index,:,0])\n",
    "Output_fps   = EMA_structure.fs_camera\n",
    "\n",
    "start_id_force = np.argmax(Input_signal) - 1000\n",
    "start_id_cam = np.argmax(Output_signal) - 1000\n",
    "\n",
    "Input_signal = Input_signal[first_zero_id_force-1000:]\n",
    "first_zero_id_cam = EMA_structure.find_signal_start(EMA_structure.displacements_raw[EMA_structure.nearest_nut_index,:,0], treshold=0.08, approximate_height = max_d*.5, approximate_distance=100000)\n",
    "Output_signal = Output_signal[first_zero_id_cam-10:]\n",
    "\n",
    "# Create time arrays for input and output signals\n",
    "t_input = np.arange(len(Input_signal)) / Input_fps\n",
    "t_output = np.arange(len(Output_signal)) / Output_fps\n",
    "sig_end = np.argmin(np.abs(t_input - t_output[-1]))\n",
    "\n",
    "Input_signal = Input_signal[:sig_end]\n",
    "t_input = t_input[:sig_end]\n",
    "\n",
    "Input_signal_test = np.zeros_like(t_input)\n",
    "Input_signal_test[500] = 1\n",
    "\n",
    "# Interpolate the output signal to match the input signal's time points\n",
    "interpolator = interp1d(t_output, Output_signal, kind='linear', fill_value=\"extrapolate\")\n",
    "Output_signal_interpolated = interpolator(t_input)\n",
    "\n",
    "# # Calculate the cross-correlation between the input and output signals\n",
    "cross_correlation = correlate(Input_signal, Output_signal_interpolated, mode='full')[:len(t_input)]\n",
    "\n",
    "# # Convolve the output signal with the input signal\n",
    "response = np.convolve(Input_signal_test, Output_signal_interpolated, mode='full')[:len(t_input)]\n",
    "# convolved_signal = convolve(Input_signal_test, Output_signal_interpolated, mode='full')[:len(t_input)]\n",
    "\n",
    "fig, ax = plt.subplots(3, 1, figsize=(10, 10))\n",
    "ax[0].set_title('new approach')\n",
    "ax[0].plot(t_input, Input_signal_test)\n",
    "ax[0].plot(t_input, Output_signal_interpolated)\n",
    "ax[1].plot(t_input, Input_signal_test)\n",
    "ax[0].set_ylim(-1, 1)\n",
    "ax[1].plot(t_input, response)\n",
    "ax[2].plot(t_input, cross_correlation, '.')\n"
   ]
  },
  {
   "cell_type": "code",
   "execution_count": 68,
   "metadata": {},
   "outputs": [],
   "source": [
    "t = np.linspace(0, 1, 1000)\n",
    "irf = np.exp(-5*t) * np.sin(2*np.pi*5*t) # simulated impulse response function\n",
    "\n",
    "impulse = np.zeros_like(t)\n",
    "impulse[300] = 1."
   ]
  },
  {
   "cell_type": "code",
   "execution_count": 74,
   "metadata": {},
   "outputs": [],
   "source": [
    "irf = np.exp(-5*t_input) * np.sin(2*np.pi*5*t_input)"
   ]
  },
  {
   "cell_type": "code",
   "execution_count": null,
   "metadata": {},
   "outputs": [],
   "source": [
    "%matplotlib inline\n",
    "plt.figure(figsize=(20, 5))\n",
    "plt.plot(t_input, irf, label='IRF')\n",
    "plt.plot(t_input, Input_signal_test, label='impulse excitation')\n",
    "\n",
    "plt.legend();\n",
    "plt.xlabel('Time / Total time [/]')\n",
    "plt.ylabel('Signal amplitude');"
   ]
  },
  {
   "cell_type": "code",
   "execution_count": 83,
   "metadata": {},
   "outputs": [],
   "source": [
    "response = np.convolve(Input_signal_test, irf, mode='full')[:len(t_input)]"
   ]
  },
  {
   "cell_type": "code",
   "execution_count": null,
   "metadata": {},
   "outputs": [],
   "source": [
    "\n",
    "plt.figure(figsize=(20, 5))\n",
    "plt.plot(t_input, response, label='system response')\n",
    "plt.plot(t_input, Input_signal_test, label='impulse excitation')\n",
    "\n",
    "plt.legend();\n",
    "plt.xlabel('Time / Total time [/]')\n",
    "plt.ylabel('Signal amplitude');"
   ]
  }
 ],
 "metadata": {
  "kernelspec": {
   "display_name": "base",
   "language": "python",
   "name": "python3"
  },
  "language_info": {
   "codemirror_mode": {
    "name": "ipython",
    "version": 3
   },
   "file_extension": ".py",
   "mimetype": "text/x-python",
   "name": "python",
   "nbconvert_exporter": "python",
   "pygments_lexer": "ipython3",
   "version": "3.11.5"
  }
 },
 "nbformat": 4,
 "nbformat_minor": 2
}
