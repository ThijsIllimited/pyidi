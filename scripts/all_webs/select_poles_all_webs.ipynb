{
 "cells": [
  {
   "cell_type": "code",
   "execution_count": 1,
   "metadata": {},
   "outputs": [
    {
     "name": "stderr",
     "output_type": "stream",
     "text": [
      "c:\\Users\\thijsmas\\AppData\\Local\\anaconda3\\Lib\\site-packages\\paramiko\\transport.py:219: CryptographyDeprecationWarning: Blowfish has been deprecated\n",
      "  \"class\": algorithms.Blowfish,\n"
     ]
    }
   ],
   "source": [
    "# imports\n",
    "import os\n",
    "import sys\n",
    "\n",
    "# Get the directory of the current file\n",
    "current_dir = os.path.dirname(os.path.realpath('__file__'))\n",
    "\n",
    "# Get the parent directory\n",
    "parent_dir = os.path.dirname(current_dir)\n",
    "\n",
    "# Add the parent directory to the system path\n",
    "sys.path.insert(0, parent_dir)\n",
    "import numpy as np              # Python's standard numerical library\n",
    "import matplotlib.pyplot as plt # Python's scientific visualization library\n",
    "from pixel_setter import play_video\n",
    "from scipy.ndimage import uniform_filter\n",
    "import importlib\n",
    "from EMA_functions import *\n",
    "from DIC_functions import *\n",
    "import glob\n",
    "import ast\n",
    "from sdypy import EMA\n",
    "import pickle as pkl\n",
    "# import re\n",
    "\n",
    "# Import test data\n",
    "df_file_description = pd.read_csv('H:/My Drive/PHD/HSC/file_descriptions_wEMA.csv')\n",
    "# Back up the data\n",
    "df_file_description.to_csv('H:/My Drive/PHD/HSC/file_descriptions_wEMA_backup.csv')\n",
    "\n",
    "# List all files\n",
    "files_cam = glob.glob('D:/thijsmas/HSC/**/*_cam.pkl', recursive=True)\n",
    "files_ema = glob.glob('D:/thijsmas/HSC/**/*_EMA.pkl', recursive=True)\n",
    "files_cam_d = glob.glob('D:/thijsmas/HSC/**/*_cam_damped.pkl', recursive=True)\n",
    "files_ema_d = glob.glob('D:/thijsmas/HSC/**/*_EMA_damped.pkl', recursive=True)"
   ]
  },
  {
   "cell_type": "code",
   "execution_count": 2,
   "metadata": {},
   "outputs": [
    {
     "name": "stderr",
     "output_type": "stream",
     "text": [
      "100%|█████████████████████████████████████████████████████████████| 150/150 [00:04<00:00, 36.80it/s]\n",
      "c:\\Users\\thijsmas\\AppData\\Local\\anaconda3\\Lib\\site-packages\\sdypy\\EMA\\EMA.py:888: RuntimeWarning: divide by zero encountered in divide\n",
      "  p1L = np.kron(np.array([1, 0]), -1/omega**2)\n",
      "c:\\Users\\thijsmas\\AppData\\Local\\anaconda3\\Lib\\site-packages\\numpy\\lib\\shape_base.py:1179: RuntimeWarning: invalid value encountered in multiply\n",
      "  result = _nx.multiply(a_arr, b_arr, subok=(not is_any_mat))\n",
      "c:\\Users\\thijsmas\\AppData\\Local\\anaconda3\\Lib\\site-packages\\sdypy\\EMA\\EMA.py:889: RuntimeWarning: divide by zero encountered in divide\n",
      "  p2L = np.kron(np.array([0, 1]), -1/omega**2)\n"
     ]
    }
   ],
   "source": [
    "for file_cam, file_cam_d, file_ema in zip(files_cam, files_cam_d, files_ema):\n",
    "    # Load the files\n",
    "    with open(file_cam, 'rb') as f:\n",
    "        cam = pkl.load(f)\n",
    "    with open(file_cam_d, 'rb') as f:\n",
    "        cam_d = pkl.load(f)\n",
    "    with open(file_ema, 'rb') as f:\n",
    "        EMA_structure = pkl.load(f)\n",
    "    # Get the file name\n",
    "    try:\n",
    "        file_name = file_cam.split('\\\\')[-1].split('.cihx_cam.pkl')[0]\n",
    "    except:\n",
    "        file_name = file_cam.split('\\\\')[-1].split('_cam.pkl')[0]\n",
    "    cam.select_poles()\n",
    "    while True:\n",
    "        input_string = input('Are the selected poles correct? (y/n): ')\n",
    "        if input_string == 'y':\n",
    "            break\n",
    "        elif input_string == 'n':\n",
    "            cam.select_poles()\n",
    "            continue\n",
    "        else:\n",
    "            print('invalid input')\n",
    "            continue\n",
    "    # with open(file_cam, 'wb') as f:\n",
    "        # pkl.dump(cam, f)\n",
    "    cam_d.select_closest_poles(cam.nat_freq, f_window=5, fn_temp=0.001, xi_temp=0.05)\n",
    "\n",
    "    \n"
   ]
  }
 ],
 "metadata": {
  "kernelspec": {
   "display_name": "base",
   "language": "python",
   "name": "python3"
  },
  "language_info": {
   "codemirror_mode": {
    "name": "ipython",
    "version": 3
   },
   "file_extension": ".py",
   "mimetype": "text/x-python",
   "name": "python",
   "nbconvert_exporter": "python",
   "pygments_lexer": "ipython3",
   "version": "3.11.5"
  }
 },
 "nbformat": 4,
 "nbformat_minor": 2
}
