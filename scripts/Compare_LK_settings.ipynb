{
 "cells": [
  {
   "cell_type": "code",
   "execution_count": 1,
   "metadata": {},
   "outputs": [
    {
     "name": "stderr",
     "output_type": "stream",
     "text": [
      "c:\\Users\\thijsmas\\AppData\\Local\\anaconda3\\Lib\\site-packages\\paramiko\\transport.py:219: CryptographyDeprecationWarning: Blowfish has been deprecated\n",
      "  \"class\": algorithms.Blowfish,\n"
     ]
    },
    {
     "name": "stdout",
     "output_type": "stream",
     "text": [
      "H:/My Drive/PHD/HSC\\ecc0\\web0\\Full_web_ecc0_new_Floc9_v1_S01\\Full_web_ecc0_new_Floc9_v1_S01.cihx\n"
     ]
    },
    {
     "name": "stderr",
     "output_type": "stream",
     "text": [
      "c:\\Users\\thijsmas\\AppData\\Local\\anaconda3\\Lib\\site-packages\\pyMRAW.py:103: UserWarning: Clipped footage! (Total frame: 10000, Original total frame: 87371)\n",
      "  warnings.warn('Clipped footage! (Total frame: {}, Original total frame: {})'.format(cih['Total Frame'], cih['Original Total Frame'] ))\n"
     ]
    },
    {
     "data": {
      "text/plain": [
       "<matplotlib.legend.Legend at 0x2a938963b10>"
      ]
     },
     "execution_count": 1,
     "metadata": {},
     "output_type": "execute_result"
    }
   ],
   "source": [
    "%matplotlib qt\n",
    "import os\n",
    "import pickle\n",
    "from pixel_setter import play_video\n",
    "import matplotlib.animation as animation\n",
    "from EMA_functions import *\n",
    "root_drive_sim = os.path.normpath('G:/.shortcut-targets-by-id/1k1B8zPb3T8H7y6x0irFZnzzmfQPHMRPx/Illimited Lab Projects/Spiders/Simulations')\n",
    "folder_paths = ['H:/My Drive/PHD/HSC', 'D:/HSC', 'F:/', 'E:/thijs/', 'C:/Users/thijs/Documents/HSC/', 'D:/thijsmas/HSC']\n",
    "\n",
    "\n",
    "file_name = \"Full_web_ecc0_new_Floc9_v1\"\n",
    "root = 'C:/Users/thijsmas/Documents/GitHub/pyidi_data/'\n",
    "\n",
    "reference_image = (0, 30)\n",
    "# roi_size_vec = [(3, 3), (5,5), (7, 7), (9, 9), (11, 11), (13, 13)]\n",
    "roi_size_vec = [(3, 3)]\n",
    "n_good_points = []\n",
    "fig, ax = plt.subplots()\n",
    "ax.set_xlabel('frame number')\n",
    "ax.set_ylabel('displacement [pixels]')\n",
    "# ax.set_xlim(220, 500)\n",
    "color_vec = ['r', 'g', 'b', 'k', 'm', 'c']\n",
    "# line_vec = ['-', '--', '-.', ':', '-', '--']\n",
    "point_selection = [954]\n",
    "for roi_i, roi_size in enumerate(roi_size_vec):\n",
    "    path = os.path.join(root, file_name+f'_d_rs{str(roi_size)}_ri{str(reference_image)}'+'.pkl')\n",
    "\n",
    "    with open(path, 'rb') as f:\n",
    "        data = pickle.load(f)\n",
    "\n",
    "    # Access the contents of the file\n",
    "    d = data['displacement']\n",
    "    tp_lim = data['tracking points']\n",
    "\n",
    "    # video = open_video(file_name, folder_paths)\n",
    "    dd = np.diff(d, axis=1)\n",
    "    last_10_zeros = np.any(dd[:, -10:, :] == 0, axis=(1,2))\n",
    "    large_d = np.any(np.linalg.norm(d, axis=2) > 15, axis = 1)\n",
    "    good_points = np.logical_not(last_10_zeros | large_d)\n",
    "    video = open_video(file_name, folder_paths)\n",
    "    td = d +  tp_lim.reshape(len(tp_lim),1,2)\n",
    "    # ani = play_video(video, range(0, 1000), interval=30,points=td[np.newaxis, point_selection[0]], axis= [(tp_lim[point_selection][0][1] - 15, tp_lim[point_selection][0][1] + 15), (tp_lim[point_selection][0][0] - 15, tp_lim[point_selection][0][0] + 15)], color = color_vec[roi_i], include_W=True, roi_size = roi_size)\n",
    "    # writer = animation.FFMpegWriter(fps=60)\n",
    "    # ani.save(os.path.join(root_drive_sim,'anim', f'{file_name}_d_rs{str(roi_size)}_ri{str(reference_image)}_anim_zoom_round.mp4'), writer=writer)\n",
    "    n_good_points.append(np.sum(good_points))\n",
    "\n",
    "    for d_i, point in enumerate(np.arange(d.shape[0])[point_selection]): #[video.method.valid_points]\n",
    "        if d_i == 0:\n",
    "            ax.plot(np.arange(d.shape[1]), d[point, :, 0], label='roi_size: {}'.format(roi_size), color = color_vec[roi_i])\n",
    "        else:\n",
    "            ax.plot(np.arange(d.shape[1]), d[point, :, 0], color = color_vec[roi_i]) #video.info['Record Rate(fps)']*\n",
    "        # ax.plot(np.arange(d.shape[1]), d[point, :, 1], label=''.format(point), color = color_vec[i]) #video.info['Record Rate(fps)']*\n",
    "\n",
    "ax.legend()\n",
    "# ax.set_ylim(-15, 15)\n"
   ]
  },
  {
   "cell_type": "code",
   "execution_count": null,
   "metadata": {},
   "outputs": [],
   "source": [
    "points =set([(168, 349),\n",
    " (169, 349),\n",
    " (168, 348),\n",
    " (167, 348),\n",
    " (166, 352),\n",
    " (166, 352),\n",
    " (169, 349),\n",
    " (169, 352),\n",
    " (171, 352),\n",
    " (172, 351),\n",
    " (170, 350),\n",
    " (170, 346),\n",
    " (169, 348),\n",
    " (167, 348),\n",
    " (167, 351),\n",
    " (167, 350),\n",
    " (169, 347),\n",
    " (170, 349),\n",
    " (171, 348),\n",
    " (172, 352),\n",
    " (172, 353),\n",
    " (169, 352),\n",
    " (168, 350),\n",
    " (168, 349),\n",
    " (168, 350),\n",
    " (167, 347),\n",
    " (167, 348),\n",
    " (168, 348),\n",
    " (168, 354),\n",
    " (168, 354),\n",
    " (166, 351),\n",
    " (166, 350),\n",
    " (167, 348)])\n",
    "intersection = points.intersection(set(tuple(i) for i in tp))\n",
    "indices = np.where(np.all(tp == list(intersection)[0], axis=1))\n",
    "indices"
   ]
  }
 ],
 "metadata": {
  "kernelspec": {
   "display_name": "base",
   "language": "python",
   "name": "python3"
  },
  "language_info": {
   "codemirror_mode": {
    "name": "ipython",
    "version": 3
   },
   "file_extension": ".py",
   "mimetype": "text/x-python",
   "name": "python",
   "nbconvert_exporter": "python",
   "pygments_lexer": "ipython3",
   "version": "3.11.5"
  }
 },
 "nbformat": 4,
 "nbformat_minor": 2
}
