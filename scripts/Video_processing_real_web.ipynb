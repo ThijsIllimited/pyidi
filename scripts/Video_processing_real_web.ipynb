{
 "cells": [
  {
   "cell_type": "code",
   "execution_count": 1,
   "metadata": {},
   "outputs": [
    {
     "name": "stderr",
     "output_type": "stream",
     "text": [
      "c:\\Users\\thijsmas\\AppData\\Local\\anaconda3\\Lib\\site-packages\\paramiko\\transport.py:219: CryptographyDeprecationWarning: Blowfish has been deprecated\n",
      "  \"class\": algorithms.Blowfish,\n"
     ]
    }
   ],
   "source": [
    "import numpy as np              # Python's standard numerical library\n",
    "import matplotlib.pyplot as plt # Python's scientific visualization library\n",
    "import pyidi                    # Python HSC data analysis library\n",
    "import pickle as pk\n",
    "import os\n",
    "from pixel_setter2 import PixelSetter#, play_video, detect_peaks\n",
    "from pixel_setter import play_video\n",
    "from skimage import feature, measure\n",
    "import importlib\n",
    "from EMA_functions import *\n",
    "import matplotlib.animation as animation\n",
    "# from scipy.signal import convolve2d\n",
    "from scipy.ndimage import generic_filter\n",
    "root_drive_sim = os.path.normpath('G:/.shortcut-targets-by-id/1k1B8zPb3T8H7y6x0irFZnzzmfQPHMRPx/Illimited Lab Projects/Research Projects/Spiders/Simulations')"
   ]
  },
  {
   "cell_type": "markdown",
   "metadata": {},
   "source": [
    "### Import video"
   ]
  },
  {
   "cell_type": "code",
   "execution_count": 9,
   "metadata": {},
   "outputs": [
    {
     "name": "stdout",
     "output_type": "stream",
     "text": [
      "G:/.shortcut-targets-by-id/1k1B8zPb3T8H7y6x0irFZnzzmfQPHMRPx/Illimited Lab Projects/Research Projects/Spiders/Other/Blackledge_media/Arg.app.06_undamaged_13.dec.2023\\Arg.app.06_undmg_13.dec.2023_C001H001S0001.cihx\n"
     ]
    },
    {
     "name": "stderr",
     "output_type": "stream",
     "text": [
      "c:\\Users\\thijsmas\\AppData\\Local\\anaconda3\\Lib\\site-packages\\pyMRAW.py:103: UserWarning: Clipped footage! (Total frame: 1201, Original total frame: 5457)\n",
      "  warnings.warn('Clipped footage! (Total frame: {}, Original total frame: {})'.format(cih['Total Frame'], cih['Original Total Frame'] ))\n"
     ]
    }
   ],
   "source": [
    "file_root = r'G:/.shortcut-targets-by-id/1k1B8zPb3T8H7y6x0irFZnzzmfQPHMRPx/Illimited Lab Projects/Research Projects/Spiders/Other/Blackledge_media'\n",
    "file_name = \"Arg.app.06_undmg_13.dec.2023_C001H001S0001.cihx\"\n",
    "EMA_structure = EMA_Structure(file_name)\n",
    "EMA_structure.paths_to_check.append(file_root)\n",
    "# video = EMA_structure.open_video_compressed(file_name, file_root)\n",
    "video = EMA_structure.open_video(add_extension=False)"
   ]
  },
  {
   "cell_type": "markdown",
   "metadata": {},
   "source": [
    "### Plot still frame in video"
   ]
  },
  {
   "cell_type": "code",
   "execution_count": 10,
   "metadata": {},
   "outputs": [],
   "source": [
    "%matplotlib qt\n",
    "sequential_image_n = 0\n",
    "still_image = video.mraw[sequential_image_n]\n",
    "\n",
    "fig, ax = EMA_structure.plot_still_frame(video, sequential_image_n, show_saturation=False)\n",
    "fig.savefig(os.path.join(root_drive_sim, 'still images', f'{file_name}_frame_sat0.png'), dpi=300, bbox_inches='tight')\n",
    "# plt.close(fig)\n",
    "\n",
    "fig, ax = EMA_structure.plot_still_frame(video, sequential_image_n, show_saturation=True)\n",
    "fig.savefig(os.path.join(root_drive_sim, 'still images','with saturation', f'{file_name}_frame_sat1.png'), dpi=300, bbox_inches='tight')\n",
    "# plt.close(fig)\n",
    "\n",
    "first_frame = 1\n",
    "ani = play_video(video, range(first_frame,video.N), interval=30)"
   ]
  },
  {
   "cell_type": "code",
   "execution_count": 11,
   "metadata": {},
   "outputs": [
    {
     "data": {
      "image/png": "[encoded data removed]",
      "text/plain": [
       "<Figure size 640x480 with 1 Axes>"
      ]
     },
     "execution_count": 11,
     "metadata": {},
     "output_type": "execute_result"
    }
   ],
   "source": [
    "get_PI_histogram(still_image, remove_sides_fraction=0.4, save_path=os.path.join(root_drive_sim, 'histograms'), save_name=f'{file_name}_histogram.png')"
   ]
  },
  {
   "cell_type": "code",
   "execution_count": 26,
   "metadata": {},
   "outputs": [],
   "source": [
    "reference_image = (0, 100)\n",
    "roi_size        = (3, 3)\n",
    "mean_image      = np.mean(video.mraw[reference_image[0]:reference_image[1]], axis=0)\n",
    "# mean_image_copy = mean_image.copy()\n",
    "# background_pixels = mean_image > 0.3 * np.max(mean_image)\n",
    "# mean_image_copy[background_pixels] = np.max(mean_image_copy)\n",
    "fig, ax = plt.subplots(2,1)\n",
    "ax[0].imshow(mean_image, cmap='gray')\n",
    "# ax[1].imshow(mean_image_copy, cmap='gray')\n",
    "plt.show()"
   ]
  },
  {
   "cell_type": "markdown",
   "metadata": {},
   "source": [
    "### Set pixels"
   ]
  },
  {
   "cell_type": "code",
   "execution_count": 27,
   "metadata": {},
   "outputs": [],
   "source": [
    "# pix_set = PixelSetter(still_image, file_name = file_name)\n",
    "eig_img = pix_set.find_eigenvalue_image(mean_image, roi_size[0], method = 'on_gradient' ) #'on_gradient'\n",
    "# eig_img[background_pixels] = 0\n",
    "fig, ax = plt.subplots()\n",
    "ax.imshow(eig_img, cmap='gray')\n",
    "plt.show()"
   ]
  },
  {
   "cell_type": "code",
   "execution_count": null,
   "metadata": {},
   "outputs": [],
   "source": [
    "# pix_set = PixelSetter(still_image, file_name = file_name)\n",
    "# top_values = np.sort(eig_img.flatten())[-100:]\n",
    "# top_indices = np.unravel_index(np.argsort(eig_img, axis=None)[-100:], eig_img.shape)\n",
    "# ax.scatter(top_indices[1], top_indices[0], c=top_values, cmap='viridis')\n",
    "# plt.show()\n",
    "\n"
   ]
  },
  {
   "cell_type": "code",
   "execution_count": 24,
   "metadata": {},
   "outputs": [],
   "source": [
    "pix_set = PixelSetter(still_image, file_name = file_name)\n",
    "pix_set.set_neighborhood_size(4)\n",
    "pix_set.choose_reference_centers()"
   ]
  },
  {
   "cell_type": "markdown",
   "metadata": {},
   "source": [
    "### Combine the tracking points and exclude erroneous points"
   ]
  },
  {
   "cell_type": "code",
   "execution_count": 28,
   "metadata": {},
   "outputs": [],
   "source": [
    "pix_set.combine_tracking_points()\n",
    "tp = np.array(list(pix_set.tracking_points))\n",
    "center = np.array(still_image.shape[:2])/2\n",
    "center[1] = center[1] - 20\n",
    "center[0] = center[0] - 40\n",
    "radius = 0.88*np.linalg.norm(center)\n",
    "distances = np.linalg.norm(tp - center, axis=1)\n",
    "inside_web = (distances < radius)\n",
    "hor_section = (tp[:, 1] > 2) & (tp[:, 1] < 1100)\n",
    "ver_section = (tp[:, 0] > 15) & (tp[:, 0] < 490)\n",
    "tp_lim = tp#tp[hor_section & ver_section & inside_web]\n",
    "\n",
    "fig, ax = plt.subplots(figsize=(10, 10))\n",
    "\n",
    "# plot tp\n",
    "plt.scatter(center[1], center[0])\n",
    "plt.scatter(tp[:, 1], tp[:, 0], c='red', s=10, label='tp')\n",
    "\n",
    "# plot tp_lim with markers on top of tp\n",
    "plt.scatter(tp_lim[:, 1], tp_lim[:, 0], c='green', s=5, label='tp_lim')\n",
    "ax.set_xlim([0, still_image.shape[1]])\n",
    "ax.set_ylim([still_image.shape[0] , 0])\n",
    "ax.axis('equal')\n",
    "# show the plot\n",
    "plt.show()\n"
   ]
  },
  {
   "cell_type": "markdown",
   "metadata": {},
   "source": [
    "### Save or open tracking points"
   ]
  },
  {
   "cell_type": "code",
   "execution_count": 29,
   "metadata": {},
   "outputs": [],
   "source": [
    "np.savetxt(os.path.join(root_drive_sim, 'tp', f'tp_{file_name}.txt'), tp, fmt='%.18e', delimiter=',')\n",
    "# tp = np.loadtxt(os.path.join(root_drive_sim, 'tp', f'tp_{file_name}.txt'), delimiter=',')"
   ]
  },
  {
   "cell_type": "code",
   "execution_count": 36,
   "metadata": {},
   "outputs": [],
   "source": [
    "roi_size = (9,9)\n",
    "reference_image = (0, 30)\n",
    "video.set_points(tp_lim)\n",
    "video.set_method('lk')\n",
    "video.method.configure(roi_size=roi_size, reference_image=reference_image)  #, mraw_range=(1, video.N)\n",
    "video.show_points()\n",
    "# plt.gcf().savefig(os.path.join(root_drive_sim, 'still images','tp', f'{file_name}_frame_tp.png'), dpi=300, bbox_inches='tight')"
   ]
  },
  {
   "cell_type": "code",
   "execution_count": 37,
   "metadata": {},
   "outputs": [
    {
     "name": "stdout",
     "output_type": "stream",
     "text": [
      "--- Starting new analysis ---\n",
      " \n",
      "Computation start: 2024-01-22 20:37:00.121736\n"
     ]
    },
    {
     "name": "stderr",
     "output_type": "stream",
     "text": [
      "c:\\Users\\thijsmas\\AppData\\Local\\anaconda3\\Lib\\site-packages\\ipywidgets\\widgets\\widget.py:528: DeprecationWarning: The `ipykernel.comm.Comm` class has been deprecated. Please use the `comm` module instead.For creating comms, use the function `from comm import create_comm`.\n",
      "  self.comm = Comm(**args)\n"
     ]
    },
    {
     "data": {
      "application/vnd.jupyter.widget-view+json": {
       "model_id": "35024ba96af749b28113897eb44dd2cc",
       "version_major": 2,
       "version_minor": 0
      },
      "text/plain": [
       "VBox()"
      ]
     },
     "metadata": {},
     "output_type": "display_data"
    },
    {
     "name": "stdout",
     "output_type": "stream",
     "text": [
      "Computation duration: 00:02:5.57\n",
      "G:/.shortcut-targets-by-id/1k1B8zPb3T8H7y6x0irFZnzzmfQPHMRPx/Illimited Lab Projects/Research Projects/Spiders/Other/Blackledge_media/Arg.app.06_undamaged_13.dec.2023\\Arg_pyidi_analysis\\analysis_002\\ analysis_002\n"
     ]
    }
   ],
   "source": [
    "\n",
    "# mraw_range = (sequential_image_n+1, 500)\n",
    "# reference_image = (0, 30)\n",
    "# roi_size_vec = [(3, 3), (5,5), (7, 7), (9, 9), (11, 11), (13, 13)]\n",
    "# roi_size = (11, 11)\n",
    "# video.method.configure(reference_image = reference_image, roi_size= roi_size)\n",
    "# video.show_points()\n",
    "\n",
    "d = video.get_displacements(processes = 12) #processes = -1\n",
    "d = video.displacements\n",
    "\n",
    "root = 'C:/Users/thijsmas/Documents/GitHub/pyidi_data/'\n",
    "path = os.path.join(root, file_name+f'_d_rs{str(roi_size)}_ri{str(reference_image)}'+'.pkl')\n",
    "with open(path, 'wb') as f:\n",
    "    pk.dump({'displacement':d, 'tracking points': tp_lim}, f)\n",
    "\n",
    "# dd = np.diff(d, axis=1)\n",
    "# last_10_zeros = np.any(dd[:, -10:, :] == 0, axis=(1,2))\n",
    "# large_d = np.any(np.linalg.norm(d, axis=2) > 10, axis = 1)\n",
    "# good_points = np.logical_not(last_10_zeros | large_d)\n",
    "\n",
    "# first_frame = 1\n",
    "\n",
    "# td = d +  tp_lim.reshape(len(tp_lim),1,2)\n",
    "# ani = play_video(video, range(first_frame, video.N-1), interval=30, points=td[good_points, first_frame:, :])\n",
    "# writer = animation.FFMpegWriter(fps=60)\n",
    "# ani.save(os.path.join(root_drive_sim,'anim', f'{file_name}_d_rs{str(roi_size)}_ri{str(reference_image)}_anim_round_.mp4'), writer=writer)"
   ]
  },
  {
   "cell_type": "code",
   "execution_count": null,
   "metadata": {},
   "outputs": [],
   "source": [
    "d = video.get_displacements(processes = 12)\n",
    "# video.method.valid_points\n",
    "d = video.displacements"
   ]
  },
  {
   "cell_type": "markdown",
   "metadata": {},
   "source": [
    "### Save or open displacements and tracking points"
   ]
  },
  {
   "cell_type": "code",
   "execution_count": 19,
   "metadata": {},
   "outputs": [],
   "source": [
    "root = 'C:/Users/thijsmas/Documents/GitHub/pyidi_data/'\n",
    "path = os.path.join(root, file_name+f'_d_rs{str(roi_size)}_ri{str(reference_image)}'+'.pkl')\n",
    "with open(path, 'wb') as f:\n",
    "    pk.dump({'displacement':d, 'tracking points': tp_lim}, f)"
   ]
  },
  {
   "cell_type": "markdown",
   "metadata": {},
   "source": [
    "### Animate the results"
   ]
  },
  {
   "cell_type": "code",
   "execution_count": 45,
   "metadata": {},
   "outputs": [
    {
     "ename": "IndexError",
     "evalue": "index 1200 is out of bounds for axis 1 with size 1200",
     "output_type": "error",
     "traceback": [
      "\u001b[1;31m---------------------------------------------------------------------------\u001b[0m",
      "\u001b[1;31mIndexError\u001b[0m                                Traceback (most recent call last)",
      "Cell \u001b[1;32mIn[45], line 12\u001b[0m\n\u001b[0;32m     10\u001b[0m ani \u001b[38;5;241m=\u001b[39m play_video(video, \u001b[38;5;28mrange\u001b[39m(\u001b[38;5;241m400\u001b[39m, video\u001b[38;5;241m.\u001b[39mN), interval\u001b[38;5;241m=\u001b[39m\u001b[38;5;241m30\u001b[39m, points\u001b[38;5;241m=\u001b[39mtd[:, \u001b[38;5;241m1\u001b[39m:, :], axis \u001b[38;5;241m=\u001b[39m [(\u001b[38;5;241m453\u001b[39m, \u001b[38;5;241m662\u001b[39m), (\u001b[38;5;241m662\u001b[39m, \u001b[38;5;241m477\u001b[39m)])\n\u001b[0;32m     11\u001b[0m writer \u001b[38;5;241m=\u001b[39m animation\u001b[38;5;241m.\u001b[39mFFMpegWriter(fps\u001b[38;5;241m=\u001b[39m\u001b[38;5;241m60\u001b[39m)\n\u001b[1;32m---> 12\u001b[0m ani\u001b[38;5;241m.\u001b[39msave(os\u001b[38;5;241m.\u001b[39mpath\u001b[38;5;241m.\u001b[39mjoin(root_drive_sim,\u001b[38;5;124m'\u001b[39m\u001b[38;5;124manim\u001b[39m\u001b[38;5;124m'\u001b[39m, \u001b[38;5;124mf\u001b[39m\u001b[38;5;124m'\u001b[39m\u001b[38;5;132;01m{\u001b[39;00mfile_name\u001b[38;5;132;01m}\u001b[39;00m\u001b[38;5;124m_d_rs\u001b[39m\u001b[38;5;132;01m{\u001b[39;00m\u001b[38;5;28mstr\u001b[39m(roi_size)\u001b[38;5;132;01m}\u001b[39;00m\u001b[38;5;124m_ri\u001b[39m\u001b[38;5;132;01m{\u001b[39;00m\u001b[38;5;28mstr\u001b[39m(reference_image)\u001b[38;5;132;01m}\u001b[39;00m\u001b[38;5;124m_anim_.mp4\u001b[39m\u001b[38;5;124m'\u001b[39m), writer\u001b[38;5;241m=\u001b[39mwriter)\n",
      "File \u001b[1;32mc:\\Users\\thijsmas\\AppData\\Local\\anaconda3\\Lib\\site-packages\\matplotlib\\animation.py:1103\u001b[0m, in \u001b[0;36mAnimation.save\u001b[1;34m(self, filename, writer, fps, dpi, codec, bitrate, extra_args, metadata, extra_anim, savefig_kwargs, progress_callback)\u001b[0m\n\u001b[0;32m   1100\u001b[0m \u001b[38;5;28;01mfor\u001b[39;00m data \u001b[38;5;129;01min\u001b[39;00m \u001b[38;5;28mzip\u001b[39m(\u001b[38;5;241m*\u001b[39m[a\u001b[38;5;241m.\u001b[39mnew_saved_frame_seq() \u001b[38;5;28;01mfor\u001b[39;00m a \u001b[38;5;129;01min\u001b[39;00m all_anim]):\n\u001b[0;32m   1101\u001b[0m     \u001b[38;5;28;01mfor\u001b[39;00m anim, d \u001b[38;5;129;01min\u001b[39;00m \u001b[38;5;28mzip\u001b[39m(all_anim, data):\n\u001b[0;32m   1102\u001b[0m         \u001b[38;5;66;03m# TODO: See if turning off blit is really necessary\u001b[39;00m\n\u001b[1;32m-> 1103\u001b[0m         anim\u001b[38;5;241m.\u001b[39m_draw_next_frame(d, blit\u001b[38;5;241m=\u001b[39m\u001b[38;5;28;01mFalse\u001b[39;00m)\n\u001b[0;32m   1104\u001b[0m         \u001b[38;5;28;01mif\u001b[39;00m progress_callback \u001b[38;5;129;01mis\u001b[39;00m \u001b[38;5;129;01mnot\u001b[39;00m \u001b[38;5;28;01mNone\u001b[39;00m:\n\u001b[0;32m   1105\u001b[0m             progress_callback(frame_number, total_frames)\n",
      "File \u001b[1;32mc:\\Users\\thijsmas\\AppData\\Local\\anaconda3\\Lib\\site-packages\\matplotlib\\animation.py:1138\u001b[0m, in \u001b[0;36mAnimation._draw_next_frame\u001b[1;34m(self, framedata, blit)\u001b[0m\n\u001b[0;32m   1134\u001b[0m \u001b[38;5;28;01mdef\u001b[39;00m \u001b[38;5;21m_draw_next_frame\u001b[39m(\u001b[38;5;28mself\u001b[39m, framedata, blit):\n\u001b[0;32m   1135\u001b[0m     \u001b[38;5;66;03m# Breaks down the drawing of the next frame into steps of pre- and\u001b[39;00m\n\u001b[0;32m   1136\u001b[0m     \u001b[38;5;66;03m# post- draw, as well as the drawing of the frame itself.\u001b[39;00m\n\u001b[0;32m   1137\u001b[0m     \u001b[38;5;28mself\u001b[39m\u001b[38;5;241m.\u001b[39m_pre_draw(framedata, blit)\n\u001b[1;32m-> 1138\u001b[0m     \u001b[38;5;28mself\u001b[39m\u001b[38;5;241m.\u001b[39m_draw_frame(framedata)\n\u001b[0;32m   1139\u001b[0m     \u001b[38;5;28mself\u001b[39m\u001b[38;5;241m.\u001b[39m_post_draw(framedata, blit)\n",
      "File \u001b[1;32mc:\\Users\\thijsmas\\AppData\\Local\\anaconda3\\Lib\\site-packages\\matplotlib\\animation.py:1767\u001b[0m, in \u001b[0;36mFuncAnimation._draw_frame\u001b[1;34m(self, framedata)\u001b[0m\n\u001b[0;32m   1763\u001b[0m     \u001b[38;5;28mself\u001b[39m\u001b[38;5;241m.\u001b[39m_save_seq \u001b[38;5;241m=\u001b[39m \u001b[38;5;28mself\u001b[39m\u001b[38;5;241m.\u001b[39m_save_seq[\u001b[38;5;241m-\u001b[39m\u001b[38;5;28mself\u001b[39m\u001b[38;5;241m.\u001b[39m_save_count:]\n\u001b[0;32m   1765\u001b[0m \u001b[38;5;66;03m# Call the func with framedata and args. If blitting is desired,\u001b[39;00m\n\u001b[0;32m   1766\u001b[0m \u001b[38;5;66;03m# func needs to return a sequence of any artists that were modified.\u001b[39;00m\n\u001b[1;32m-> 1767\u001b[0m \u001b[38;5;28mself\u001b[39m\u001b[38;5;241m.\u001b[39m_drawn_artists \u001b[38;5;241m=\u001b[39m \u001b[38;5;28mself\u001b[39m\u001b[38;5;241m.\u001b[39m_func(framedata, \u001b[38;5;241m*\u001b[39m\u001b[38;5;28mself\u001b[39m\u001b[38;5;241m.\u001b[39m_args)\n\u001b[0;32m   1769\u001b[0m \u001b[38;5;28;01mif\u001b[39;00m \u001b[38;5;28mself\u001b[39m\u001b[38;5;241m.\u001b[39m_blit:\n\u001b[0;32m   1771\u001b[0m     err \u001b[38;5;241m=\u001b[39m \u001b[38;5;167;01mRuntimeError\u001b[39;00m(\u001b[38;5;124m'\u001b[39m\u001b[38;5;124mThe animation function must return a sequence \u001b[39m\u001b[38;5;124m'\u001b[39m\n\u001b[0;32m   1772\u001b[0m                        \u001b[38;5;124m'\u001b[39m\u001b[38;5;124mof Artist objects.\u001b[39m\u001b[38;5;124m'\u001b[39m)\n",
      "File \u001b[1;32mc:\\Users\\thijsmas\\Documents\\GitHub\\pyidi\\pixel_setter.py:499\u001b[0m, in \u001b[0;36mplay_video.<locals>.update\u001b[1;34m(i)\u001b[0m\n\u001b[0;32m    497\u001b[0m     W_plot\u001b[38;5;241m.\u001b[39mset_data(X, Y)\n\u001b[0;32m    498\u001b[0m \u001b[38;5;28;01mif\u001b[39;00m points \u001b[38;5;129;01mis\u001b[39;00m \u001b[38;5;129;01mnot\u001b[39;00m \u001b[38;5;28;01mNone\u001b[39;00m:\n\u001b[1;32m--> 499\u001b[0m     pts[\u001b[38;5;241m0\u001b[39m]\u001b[38;5;241m.\u001b[39mset_data(points[:,i,\u001b[38;5;241m1\u001b[39m], points[:,i,\u001b[38;5;241m0\u001b[39m])\n\u001b[0;32m    500\u001b[0m     \u001b[38;5;28;01mif\u001b[39;00m include_W:\n\u001b[0;32m    501\u001b[0m         \u001b[38;5;28;01mreturn\u001b[39;00m im, text, pts[\u001b[38;5;241m0\u001b[39m], W_plot\n",
      "\u001b[1;31mIndexError\u001b[0m: index 1200 is out of bounds for axis 1 with size 1200"
     ]
    }
   ],
   "source": [
    "%matplotlib qt\n",
    "dd = np.diff(d, axis=1)\n",
    "last_10_zeros = np.any(dd[:, -10:, :] == 0, axis=(1,2))\n",
    "large_d = np.any(np.linalg.norm(d, axis=2) > 10, axis = 1)\n",
    "good_points = np.logical_not(last_10_zeros | large_d)\n",
    "\n",
    "first_frame = 1\n",
    "\n",
    "td = d +  tp_lim.reshape(len(tp_lim),1,2)\n",
    "ani = play_video(video, range(400, video.N-1), interval=30, points=td[:, 1:, :], axis = [(453, 662), (662, 477)])\n",
    "writer = animation.FFMpegWriter(fps=60)\n",
    "ani.save(os.path.join(root_drive_sim,'anim', f'{file_name}_d_rs{str(roi_size)}_ri{str(reference_image)}_anim_.mp4'), writer=writer)"
   ]
  },
  {
   "cell_type": "markdown",
   "metadata": {},
   "source": [
    "### Plot signals"
   ]
  },
  {
   "cell_type": "code",
   "execution_count": null,
   "metadata": {},
   "outputs": [],
   "source": [
    "fig, ax = plt.subplots()\n",
    "for point in np.arange(d.shape[0])[good_points][::5]: #[video.method.valid_points]\n",
    "    ax.plot(np.arange(video.N), d[point, :, 0], label='point {} - dir 0'.format(point)) #video.info['Record Rate(fps)']*\n",
    "    ax.plot(np.arange(video.N), d[point, :, 1], label='point {} - dir 1'.format(point)) #video.info['Record Rate(fps)']*\n",
    "# ax.legend()\n",
    "# ax.set_ylim(-50, 50)\n",
    "ax.set_xlabel('frame number')\n",
    "ax.set_ylabel('displacement [pixels]')"
   ]
  }
 ],
 "metadata": {
  "kernelspec": {
   "display_name": "base",
   "language": "python",
   "name": "python3"
  },
  "language_info": {
   "codemirror_mode": {
    "name": "ipython",
    "version": 3
   },
   "file_extension": ".py",
   "mimetype": "text/x-python",
   "name": "python",
   "nbconvert_exporter": "python",
   "pygments_lexer": "ipython3",
   "version": "3.11.5"
  }
 },
 "nbformat": 4,
 "nbformat_minor": 2
}
