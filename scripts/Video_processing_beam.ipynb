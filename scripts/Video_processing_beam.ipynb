{
 "cells": [
  {
   "cell_type": "code",
   "execution_count": null,
   "metadata": {},
   "outputs": [],
   "source": [
    "import numpy as np              # Python's standard numerical library\n",
    "import matplotlib.pyplot as plt # Python's scientific visualization library\n",
    "import pyidi                    # Python HSC data analysis library\n",
    "import pickle as pk\n",
    "import os\n",
    "from pixel_setter2 import PixelSetter#, play_video, detect_peaks\n",
    "from pixel_setter import play_video\n",
    "from skimage import feature, measure\n",
    "import importlib\n",
    "from EMA_functions import *\n",
    "import matplotlib.animation as animation\n",
    "# from scipy.signal import convolve2d\n",
    "from scipy.ndimage import generic_filter\n",
    "root_drive_sim = os.path.normpath('G:/.shortcut-targets-by-id/1k1B8zPb3T8H7y6x0irFZnzzmfQPHMRPx/Illimited Lab Projects/Research Projects/Spiders/Simulations')\n",
    "from moviepy.editor import VideoFileClip\n",
    "from Feature_selecter import *"
   ]
  },
  {
   "cell_type": "markdown",
   "metadata": {},
   "source": [
    "### Import video"
   ]
  },
  {
   "cell_type": "code",
   "execution_count": null,
   "metadata": {},
   "outputs": [],
   "source": [
    "file_name = '30599_1_702.mov'\n",
    "root_video = 'D:/Test1'\n",
    "video_path = os.path.join(root_video, file_name)\n",
    "clip = VideoFileClip(video_path)\n",
    "# clip.fps = 4000\n",
    "Total_Frame =40000\n",
    "frames = []\n",
    "for i, frame in enumerate(clip.iter_frames()):\n",
    "    # if i%2 == 0:\n",
    "        # continue\n",
    "    if i >= Total_Frame:\n",
    "        break\n",
    "    frames.append(frame[:, :, 0])\n",
    "frames = np.array(frames)\n",
    "print(frames.shape)\n",
    "video = pyidi.pyIDI(frames)\n",
    "# video = EMA_structure.open_video()\n",
    "del frames\n",
    "del clip"
   ]
  },
  {
   "cell_type": "code",
   "execution_count": null,
   "metadata": {},
   "outputs": [],
   "source": [
    "EMA_structure = EMA_Structure(file_name)\n",
    "video.info['Record Rate(fps)'] = 2000\n",
    "video.info['Total Frame'] = Total_Frame\n",
    "video.info['Image Width'] = 1024\n",
    "video.info['Image Height'] = 512\n",
    "video.info['File Format'] = 'mov'\n",
    "video.info['EffectiveBit Depth'] = 8\n",
    "video.info['Shutter Speed(s)'] = 0\n",
    "\n",
    "\n",
    "video.root = root_video\n",
    "EMA_structure.fs_camera = video.info['Record Rate(fps)']\n",
    "EMA_structure.t_camera_raw = np.arange(video.info['Total Frame']) / EMA_structure.fs_camera\n",
    "video.info"
   ]
  },
  {
   "cell_type": "markdown",
   "metadata": {},
   "source": [
    "### Plot still frame in video"
   ]
  },
  {
   "cell_type": "code",
   "execution_count": null,
   "metadata": {},
   "outputs": [],
   "source": [
    "%matplotlib inline\n",
    "sequential_image_n = 0\n",
    "still_image = video.mraw[sequential_image_n]\n",
    "\n",
    "fig, ax = EMA_structure.plot_still_frame(video, sequential_image_n, show_saturation=False, bit_depth = 8)\n",
    "fig.savefig(os.path.join(root_drive_sim, 'still images', f'{file_name}_frame_sat0.png'), dpi=300, bbox_inches='tight')\n",
    "# plt.close(fig)\n",
    "\n",
    "fig, ax = EMA_structure.plot_still_frame(video, sequential_image_n, show_saturation=True, bit_depth = 8)\n",
    "fig.savefig(os.path.join(root_drive_sim, 'still images','with saturation', f'{file_name}_frame_sat1.png'), dpi=300, bbox_inches='tight')\n",
    "# plt.close(fig)"
   ]
  },
  {
   "cell_type": "code",
   "execution_count": null,
   "metadata": {},
   "outputs": [],
   "source": [
    "%matplotlib qt\n",
    "first_frame = 1800\n",
    "ani = play_video(video, range(first_frame,video.N - 1), interval=30)\n",
    "hist_image = still_image[67:92,:]\n",
    "get_PI_histogram(hist_image,bins=500, save_path=os.path.join(root_drive_sim, 'histograms'), save_name=f'{file_name}_histogram.png')\n",
    "fig, ax = plt.subplots()\n",
    "ax.imshow(hist_image, cmap='gray')"
   ]
  },
  {
   "cell_type": "code",
   "execution_count": null,
   "metadata": {},
   "outputs": [],
   "source": [
    "%matplotlib qt\n",
    "roi_size = (5,5)\n",
    "reference_image = (0, 150)\n",
    "n_tracking_points = 1200\n",
    "mean_image      = np.mean(video.mraw[reference_image[0]:reference_image[1]], axis=0)\n",
    "feature_selecter = FeatureSelecter(still_image)\n",
    "feature_selecter.set_filter_method('eig0', roi_size)\n",
    "# feature_selecter.plot_image()\n",
    "score_full = feature_selecter.apply_filter(downsample=1)\n",
    "maxima2d = feature_selecter.pick_max_filter(score_image = None, min_distance = roi_size[0], absolute_treshold = None, threshold_percentage = 20, top_n_points = n_tracking_points)\n",
    "points = maxima2d[np.where((maxima2d[:,0]<93) & (maxima2d[:,0]>64))]\n",
    "# maxima = feature_selecter.pick_ANMS(n_points = n_tracking_points, c_robust = 0.3)\n",
    "feature_selecter.plot_score_image(maxima=True)\n",
    "# eig_img = pix_set.find_eigenvalue_image(mean_image, roi_size[0], method = 'on_gradient')\n",
    "# fig, ax = plt.subplots()\n",
    "# plt.imshow(eig_img, cmap='gray')"
   ]
  },
  {
   "cell_type": "code",
   "execution_count": null,
   "metadata": {},
   "outputs": [],
   "source": [
    "video.set_method('lk')\n",
    "video.method.configure(roi_size = roi_size, reference_image = reference_image, resume_analysis=False) #, mraw_range=(1, 1000)\n",
    "points_lim = points[100:105]\n",
    "video.set_points(points)\n",
    "video.show_points()"
   ]
  },
  {
   "cell_type": "code",
   "execution_count": null,
   "metadata": {},
   "outputs": [],
   "source": [
    "displacement = video.get_displacements(processes = 8)"
   ]
  },
  {
   "cell_type": "code",
   "execution_count": null,
   "metadata": {},
   "outputs": [],
   "source": [
    "td     = video.displacements +  points_lim.reshape(len(points_lim),1,2)\n",
    "ani = play_video(video, range(1800, video.N-1,10), interval=30, points=td[:, 1:, :])"
   ]
  },
  {
   "cell_type": "code",
   "execution_count": null,
   "metadata": {},
   "outputs": [],
   "source": [
    "t_vec = np.arange(0, len(displacement[0, :, 0]), 1) /video.info['Record Rate(fps)']\n",
    "fig, ax = plt.subplots(figsize=(12, 6))\n",
    "for point in range(len(points_lim)):\n",
    "    ax.plot(t_vec, displacement[point, :, 0], label=f'point {point}')\n",
    "ax.set_xlabel('Time (s)')\n",
    "ax.set_ylabel('Displacement (px)')\n",
    "ax.legend()"
   ]
  },
  {
   "cell_type": "code",
   "execution_count": null,
   "metadata": {},
   "outputs": [],
   "source": [
    "n_d = len(displacement[0, :, 0])\n",
    "freq = np.fft.rfftfreq(n_d, 1/video.info['Record Rate(fps)'])\n",
    "displacement_fft = np.fft.rfft(displacement, axis=1)\n",
    "displacement_fft = np.abs(displacement_fft)\n",
    "fig, ax = plt.subplots(figsize=(12, 6))\n",
    "for point in range(len(points_lim)):\n",
    "    ax.semilogy(freq, displacement_fft[point, :, 0], label=f'point {point}')\n",
    "ax.set_xlim(0, 300)\n",
    "ax.set_xlabel('Frequency (Hz)')\n",
    "ax.set_ylabel('Amplitude')\n"
   ]
  }
 ],
 "metadata": {
  "kernelspec": {
   "display_name": "base",
   "language": "python",
   "name": "python3"
  },
  "language_info": {
   "codemirror_mode": {
    "name": "ipython",
    "version": 3
   },
   "file_extension": ".py",
   "mimetype": "text/x-python",
   "name": "python",
   "nbconvert_exporter": "python",
   "pygments_lexer": "ipython3",
   "version": "3.8.8"
  }
 },
 "nbformat": 4,
 "nbformat_minor": 2
}
