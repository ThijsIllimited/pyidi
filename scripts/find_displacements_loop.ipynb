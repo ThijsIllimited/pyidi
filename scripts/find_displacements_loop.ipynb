{
 "cells": [
  {
   "cell_type": "code",
   "execution_count": 1,
   "metadata": {},
   "outputs": [
    {
     "name": "stderr",
     "output_type": "stream",
     "text": [
      "c:\\Users\\thijsmas\\AppData\\Local\\anaconda3\\Lib\\site-packages\\paramiko\\transport.py:219: CryptographyDeprecationWarning: Blowfish has been deprecated\n",
      "  \"class\": algorithms.Blowfish,\n"
     ]
    }
   ],
   "source": [
    "import numpy as np              # Python's standard numerical library\n",
    "import matplotlib.pyplot as plt # Python's scientific visualization library\n",
    "import pyidi                    # Python HSC data analysis library\n",
    "import pickle as pk\n",
    "import os\n",
    "from pixel_setter2 import PixelSetter#, play_video, detect_peaks\n",
    "from pixel_setter import play_video\n",
    "from skimage import feature, measure\n",
    "import importlib\n",
    "from EMA_functions import *\n",
    "import matplotlib.animation as animation\n",
    "# from scipy.signal import convolve2d\n",
    "from scipy.ndimage import generic_filter\n",
    "root_drive_sim = os.path.normpath('G:/.shortcut-targets-by-id/1k1B8zPb3T8H7y6x0irFZnzzmfQPHMRPx/Illimited Lab Projects/Spiders/Simulations')\n",
    "root = 'C:/Users/thijsmas/Documents/GitHub/pyidi_data/'"
   ]
  },
  {
   "cell_type": "code",
   "execution_count": 2,
   "metadata": {},
   "outputs": [
    {
     "name": "stdout",
     "output_type": "stream",
     "text": [
      "['tp_Full_web_ecc0_new_Floc9_v0.txt', 'tp_Full_web_ecc0_new_Floc9_v1.txt', 'tp_Full_web_ecc0_new_Floc3_v0.txt', 'tp_Full_web_ecc1_new_Floc1_v0.txt', 'tp_Full_web_ecc1_new_Floc1_v1.txt', 'tp_Full_web_ecc1_new_Floc1_v2.txt', 'tp_Full_web_ecc2_new_Floc7_v1.txt', 'tp_Full_web_ecc1_new_Floc1_v3.txt', 'tp_Full_web_ecc1_new_Floc1_v4.txt', 'tp_Full_web_ecc1_new_Floc1_v5.txt']\n"
     ]
    }
   ],
   "source": [
    "directory = os.path.join(root_drive_sim, 'tp')\n",
    "file_name_vec = os.listdir(directory)\n",
    "file_name_vec = [file for file in file_name_vec if file.endswith('.txt')]\n",
    "\n",
    "print(file_name_vec)\n",
    "\n",
    "folder_paths = ['H:/My Drive/PHD/HSC', 'D:/HSC', 'F:/', 'E:/thijs/', 'C:/Users/thijs/Documents/HSC/', 'D:/thijsmas/HSC']"
   ]
  },
  {
   "cell_type": "code",
   "execution_count": 3,
   "metadata": {},
   "outputs": [
    {
     "ename": "NameError",
     "evalue": "name 'open_video' is not defined",
     "output_type": "error",
     "traceback": [
      "\u001b[1;31m---------------------------------------------------------------------------\u001b[0m",
      "\u001b[1;31mNameError\u001b[0m                                 Traceback (most recent call last)",
      "\u001b[1;32mc:\\Users\\thijsmas\\Documents\\UW_spider\\pyidi\\find_displacements_loop.ipynb Cell 3\u001b[0m line \u001b[0;36m7\n\u001b[0;32m      <a href='vscode-notebook-cell:/c%3A/Users/thijsmas/Documents/UW_spider/pyidi/find_displacements_loop.ipynb#W2sZmlsZQ%3D%3D?line=4'>5</a>\u001b[0m \u001b[39mfor\u001b[39;00m file_name \u001b[39min\u001b[39;00m file_name_vec:\n\u001b[0;32m      <a href='vscode-notebook-cell:/c%3A/Users/thijsmas/Documents/UW_spider/pyidi/find_displacements_loop.ipynb#W2sZmlsZQ%3D%3D?line=5'>6</a>\u001b[0m     file_name_video \u001b[39m=\u001b[39m file_name[\u001b[39m3\u001b[39m:\u001b[39m-\u001b[39m\u001b[39m4\u001b[39m]\n\u001b[1;32m----> <a href='vscode-notebook-cell:/c%3A/Users/thijsmas/Documents/UW_spider/pyidi/find_displacements_loop.ipynb#W2sZmlsZQ%3D%3D?line=6'>7</a>\u001b[0m     video \u001b[39m=\u001b[39m open_video(file_name_video, folder_paths)\n\u001b[0;32m      <a href='vscode-notebook-cell:/c%3A/Users/thijsmas/Documents/UW_spider/pyidi/find_displacements_loop.ipynb#W2sZmlsZQ%3D%3D?line=7'>8</a>\u001b[0m     tp \u001b[39m=\u001b[39m np\u001b[39m.\u001b[39mloadtxt(os\u001b[39m.\u001b[39mpath\u001b[39m.\u001b[39mjoin(root_drive_sim, \u001b[39m'\u001b[39m\u001b[39mtp\u001b[39m\u001b[39m'\u001b[39m, file_name), delimiter\u001b[39m=\u001b[39m\u001b[39m'\u001b[39m\u001b[39m,\u001b[39m\u001b[39m'\u001b[39m)\n\u001b[0;32m      <a href='vscode-notebook-cell:/c%3A/Users/thijsmas/Documents/UW_spider/pyidi/find_displacements_loop.ipynb#W2sZmlsZQ%3D%3D?line=8'>9</a>\u001b[0m     video\u001b[39m.\u001b[39mset_points(tp)\n",
      "\u001b[1;31mNameError\u001b[0m: name 'open_video' is not defined"
     ]
    }
   ],
   "source": [
    "%matplotlib qt\n",
    "roi_size = (9, 9)\n",
    "reference_image = (0, 30)\n",
    "# mraw_range = (1, 502)\n",
    "for file_name in file_name_vec:\n",
    "    file_name_video = file_name[3:-4]\n",
    "    video = open_video(file_name_video, folder_paths)\n",
    "    tp = np.loadtxt(os.path.join(root_drive_sim, 'tp', file_name), delimiter=',')\n",
    "    video.set_points(tp)\n",
    "    video.set_method('lk')\n",
    "    video.method.configure(reference_image = reference_image, roi_size= roi_size) #, mraw_range = mraw_range\n",
    "    print('start simulating: '  + file_name)\n",
    "    d = video.get_displacements(processes = -1) \n",
    "    d = video.displacements\n",
    "    print('finished simulating: '  + file_name) \n",
    "\n",
    "    path = os.path.join(root, file_name_video+f'_d_rs{str(roi_size)}_ri{str(reference_image)}'+'.pkl')\n",
    "    with open(path, 'wb') as f:\n",
    "        pk.dump({'displacement':d, 'tracking points': tp}, f)\n",
    "    \n",
    "    dd = np.diff(d, axis=1)\n",
    "    last_10_zeros = np.any(dd[:, -10:, :] == 0, axis=(1,2))\n",
    "    large_d = np.any(np.linalg.norm(d, axis=2) > 15, axis = 1)\n",
    "    good_points = np.logical_not(last_10_zeros | large_d)\n",
    "\n",
    "    first_frame = 1\n",
    "\n",
    "    td = d +  tp.reshape(len(tp),1,2)\n",
    "    ani = play_video(video, range(first_frame, 500), interval=30, points=td[good_points, first_frame:, :])\n",
    "    writer = animation.FFMpegWriter(fps=60)\n",
    "    print('start saving video: '  + file_name)\n",
    "    ani.save(os.path.join(root_drive_sim,'anim', f'{file_name_video}_d_rs{str(roi_size)}_ri{str(reference_image)}_anim.mp4'), writer=writer)\n",
    "    print('finished saving video: '  + file_name)\n",
    "    plt.close('all')\n",
    "\n"
   ]
  }
 ],
 "metadata": {
  "kernelspec": {
   "display_name": "base",
   "language": "python",
   "name": "python3"
  },
  "language_info": {
   "codemirror_mode": {
    "name": "ipython",
    "version": 3
   },
   "file_extension": ".py",
   "mimetype": "text/x-python",
   "name": "python",
   "nbconvert_exporter": "python",
   "pygments_lexer": "ipython3",
   "version": "3.11.5"
  }
 },
 "nbformat": 4,
 "nbformat_minor": 2
}
