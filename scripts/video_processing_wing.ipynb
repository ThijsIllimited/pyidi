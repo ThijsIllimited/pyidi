{
 "cells": [
  {
   "cell_type": "code",
   "execution_count": null,
   "metadata": {},
   "outputs": [],
   "source": [
    "import os\n",
    "import sys\n",
    "current_dir = os.path.dirname(os.path.realpath('__file__'))\n",
    "parent_dir = os.path.dirname(current_dir)\n",
    "sys.path.insert(0, parent_dir)\n",
    "import numpy as np              # Python's standard numerical library\n",
    "import matplotlib.pyplot as plt # Python's scientific visualization library\n",
    "from pyidi import ROISelect\n",
    "from matplotlib.path import Path\n",
    "import pickle as pk\n",
    "from pixel_setter2 import PixelSetter#, play_video, detect_peaks\n",
    "from pixel_setter import play_video\n",
    "from scipy.ndimage import uniform_filter\n",
    "from EMA_functions import *\n",
    "from Feature_selecter import *\n",
    "import glob\n",
    "root_drive_sim = os.path.normpath('G:/.shortcut-targets-by-id/1k1B8zPb3T8H7y6x0irFZnzzmfQPHMRPx/Illimited Lab Projects/Research Projects/Spiders/Simulations')\n",
    "root_video = os.path.normpath('D:/thijsmas/wing')\n",
    "root_mraw = os.path.normpath('D:/thijsmas/wing/mraw')\n",
    "path_list = glob.glob(os.path.join(root_video, '*.cine'))"
   ]
  },
  {
   "cell_type": "code",
   "execution_count": null,
   "metadata": {},
   "outputs": [],
   "source": [
    "file_name =  '1xyz_a_rev6_wcam.cine'\n",
    "EMA_structure = EMA_Structure(file_name[:-5] + '.cih')\n",
    "video = EMA_structure.open_video(add_extension=False)\n",
    "video.info\n"
   ]
  },
  {
   "cell_type": "code",
   "execution_count": null,
   "metadata": {},
   "outputs": [],
   "source": [
    "%matplotlib inline\n",
    "sequential_image_n = 0\n",
    "still_image = video.mraw[sequential_image_n]\n",
    "\n",
    "fig, ax = EMA_structure.plot_still_frame(video, sequential_image_n, show_saturation=False, bit_depth = video.info['EffectiveBit Depth'])\n",
    "# fig.savefig(os.path.join(root_drive_sim, 'still images', f'{file_name}_frame_sat0.png'), dpi=300, bbox_inches='tight')\n",
    "# plt.close(fig)\n",
    "\n",
    "fig, ax = EMA_structure.plot_still_frame(video, sequential_image_n, show_saturation=True, bit_depth = video.info['EffectiveBit Depth'])\n",
    "# fig.savefig(os.path.join(root_drive_sim, 'still images','with saturation', f'{file_name}_frame_sat1.png'), dpi=300, bbox_inches='tight')\n",
    "# plt.close(fig)"
   ]
  },
  {
   "cell_type": "code",
   "execution_count": null,
   "metadata": {},
   "outputs": [],
   "source": [
    "# roi_select = ROISelect(video)\n",
    "# roi_select.polygon\n",
    "# polygon = np.array(roi_select.polygon)\n",
    "\n",
    "polygon = np.array([[  47,   59,   83,  110,  121,  173,  205,  200,  193,  185,  172, 170,  170,  222,  168,   78,   47],\n",
    "       [  83,  520,  822, 1121, 1217, 1269, 1276, 1179,  987,  809,  645, 489,  319,   23,   10,   50,   83]])\n",
    "\n",
    "polygon"
   ]
  },
  {
   "cell_type": "code",
   "execution_count": null,
   "metadata": {},
   "outputs": [],
   "source": [
    "%matplotlib qt\n",
    "first_frame = 1\n",
    "ani = play_video(video, range(first_frame,video.N - 1), interval=30)"
   ]
  },
  {
   "cell_type": "markdown",
   "metadata": {},
   "source": [
    "# Set points 2D"
   ]
  },
  {
   "cell_type": "code",
   "execution_count": null,
   "metadata": {},
   "outputs": [],
   "source": [
    "%matplotlib qt\n",
    "roi_size = (7,7)\n",
    "reference_image = (0, 150)\n",
    "n_tracking_points = 6000\n",
    "mean_image      = np.mean(video.mraw[reference_image[0]:reference_image[1]], axis=0)\n",
    "mean_image[mean_image > 2**video.info['EffectiveBit Depth']-20] = np.nan\n",
    "\n",
    "\n",
    "path = Path(polygon.T)\n",
    "# mask_image = path.contains_points(np.array([(i,j) for i in range(mean_image.shape[0]) for j in range(mean_image.shape[1])]))\n",
    "# mask_image = mask_image.reshape(mean_image.shape)\n",
    "\n",
    "feature_selecter = FeatureSelecter(mean_image)\n",
    "feature_selecter.set_filter_method('eig0', roi_size)\n",
    "score_full = feature_selecter.apply_filter(downsample=1)\n",
    "maxima2d = feature_selecter.pick_max_filter(score_image = score_full, min_distance = roi_size, absolute_treshold = 0.0) #, top_n_points = n_tracking_points\n",
    "feature_selecter.plot_score_image(maxima=True, umin=0, umax=50000)\n",
    "\n",
    "\n",
    "video.set_method('lk')\n",
    "video.method.configure(roi_size = roi_size, reference_image = reference_image, resume_analysis=False) #, mraw_range=(1, 1000)\n",
    "mask_points = path.contains_points(maxima2d)\n",
    "video.set_points(maxima2d[mask_points])\n",
    "video.show_points()"
   ]
  },
  {
   "cell_type": "code",
   "execution_count": null,
   "metadata": {},
   "outputs": [],
   "source": [
    "displacement = video.get_displacements(processes = 24)\n",
    "EMA_structure.displacements = displacement\n",
    "EMA_structure.maxima = maxima2d[mask_points]\n",
    "EMA_structure.mean_image = mean_image\n",
    "root = 'C:/Users/thijsmas/Documents/GitHub/pyidi_data/'\n",
    "path = os.path.join(root, 'EMA structure', file_name+f'_2d_roi{roi_size[0]}x{roi_size[1]}.pkl')\n",
    "with open(path, 'wb') as f:\n",
    "    pk.dump(EMA_structure, f)"
   ]
  },
  {
   "cell_type": "code",
   "execution_count": null,
   "metadata": {},
   "outputs": [],
   "source": [
    "%matplotlib qt\n",
    "td     = displacement +  maxima2d[mask_points].reshape(len(maxima2d[mask_points]),1,2)\n",
    "ani = play_video(video, range(1000, video.N-1), interval=30, points=td, axis=([0, video.info['Image Width']],[video.info['Image Height'], 0]))"
   ]
  },
  {
   "cell_type": "markdown",
   "metadata": {},
   "source": [
    "## Set points 1D"
   ]
  },
  {
   "cell_type": "code",
   "execution_count": null,
   "metadata": {},
   "outputs": [],
   "source": [
    "%matplotlib qt\n",
    "n_tracking_points = 6000\n",
    "Gi, Gj = np.gradient(mean_image)\n",
    "s = np.array([0,1])\n",
    "Gs  = s[0]*Gj + s[1]*Gi\n",
    "filtered_image = uniform_filter(Gs, size=roi_size[0])\n",
    "maxima1d = feature_selecter.pick_max_filter(score_image = filtered_image, min_distance = roi_size[0], absolute_treshold = None, threshold_percentage = 0, top_n_points = n_tracking_points)\n",
    "fig, ax = plt.subplots()\n",
    "ax.set_xticks([])\n",
    "ax.set_yticks([])\n",
    "mask_points = path.contains_points(maxima1d)\n",
    "\n",
    "ax.imshow(mean_image, cmap='gray')\n",
    "ax.scatter(maxima1d[mask_points][:, 1], maxima1d[mask_points][:, 0], s=5, c='r')\n",
    "plt.show()"
   ]
  },
  {
   "cell_type": "code",
   "execution_count": null,
   "metadata": {},
   "outputs": [],
   "source": [
    "video.set_method('lk_1D')\n",
    "d = (0,1)\n",
    "video.method.configure(roi_size = roi_size, d = d, reference_image = reference_image, resume_analysis=False) #, mraw_range=(1, 1000)\n",
    "video.set_points(maxima1d[mask_points])"
   ]
  },
  {
   "cell_type": "code",
   "execution_count": null,
   "metadata": {},
   "outputs": [],
   "source": [
    "displacement_1d = video.get_displacements(processes=24)\n",
    "EMA_structure.displacements = displacement\n",
    "EMA_structure.maxima = maxima1d\n",
    "EMA_structure.mean_image = mean_image\n",
    "root = 'C:/Users/thijsmas/Documents/GitHub/pyidi_data/'\n",
    "path = os.path.join(root, 'EMA structure', file_name+f'_1d_roi{roi_size[0]}x{roi_size[1]}.pkl')\n",
    "with open(path, 'wb') as f:\n",
    "    pk.dump(EMA_structure, f)"
   ]
  },
  {
   "cell_type": "code",
   "execution_count": null,
   "metadata": {},
   "outputs": [],
   "source": [
    "roi_size_2d = (7,7)\n",
    "roi_size_1d = (3,3)\n",
    "reference_image = (0, 150)\n",
    "n_tracking_points_1d = 6000\n",
    "n_tracking_points_2D = 6000\n",
    "Polygon = Path(polygon.T)\n",
    "d = (0,1)\n",
    "s = np.array([0,1])\n",
    "root = 'C:/Users/thijsmas/Documents/GitHub/pyidi_data/'\n",
    "\n",
    "for path_c in path_list:\n",
    "    file_name = os.path.basename(path_c)\n",
    "    EMA_structure = EMA_Structure(file_name[:-5] + '.cih')\n",
    "    video = EMA_structure.open_video(add_extension=False)\n",
    "\n",
    "    mean_image      = np.mean(video.mraw[reference_image[0]:reference_image[1]], axis=0)\n",
    "\n",
    "    feature_selecter = FeatureSelecter(mean_image)\n",
    "    feature_selecter.set_filter_method('eig0', roi_size_2d)\n",
    "    score_full = feature_selecter.apply_filter(downsample=1)\n",
    "    maxima2d = feature_selecter.pick_max_filter(score_image = score_full, min_distance = roi_size_2d, absolute_treshold = 0.0) #, top_n_points = n_tracking_points\n",
    "    mask_points = Polygon.contains_points(maxima2d)\n",
    "\n",
    "    video.set_method('lk')\n",
    "    video.method.configure(roi_size = roi_size_2d, reference_image = reference_image, resume_analysis=False) #, mraw_range=(1, 1000)\n",
    "    video.set_points(maxima2d[mask_points])\n",
    "\n",
    "    displacement = video.get_displacements(processes = 24)\n",
    "    EMA_structure.displacements = displacement\n",
    "    EMA_structure.maxima = maxima2d[mask_points]\n",
    "    EMA_structure.mean_image = mean_image\n",
    "    \n",
    "    path = os.path.join(root, 'EMA structure', file_name+f'_2d_roi{roi_size_2d[0]}x{roi_size_2d[1]}.pkl')\n",
    "    with open(path, 'wb') as f:\n",
    "        pk.dump(EMA_structure, f)\n",
    "    \n",
    "    Gi, Gj = np.gradient(mean_image)\n",
    "    \n",
    "    Gs  = s[0]*Gj + s[1]*Gi\n",
    "    filtered_image = uniform_filter(Gs, size=roi_size_1d[0])\n",
    "    maxima1d = feature_selecter.pick_max_filter(score_image = Gi, min_distance = roi_size_1d[0], absolute_treshold = None, threshold_percentage = 0, top_n_points = n_tracking_points)\n",
    "\n",
    "    mask_points = Polygon.contains_points(maxima1d)\n",
    "    video.set_method('lk_1D')\n",
    "    video.method.configure(roi_size = roi_size_1d, d = d, reference_image = reference_image, resume_analysis=False) #, mraw_range=(1, 1000)\n",
    "    video.set_points(maxima1d[mask_points])\n",
    "\n",
    "    displacement = video.get_displacements(processes=24)\n",
    "    EMA_structure.displacements = displacement\n",
    "    EMA_structure.maxima = maxima1d[mask_points]\n",
    "    EMA_structure.mean_image = mean_image\n",
    "\n",
    "    path = os.path.join(root, 'EMA structure', file_name+f'_1d_roi{roi_size_1d[0]}x{roi_size_1d[1]}.pkl')\n",
    "    with open(path, 'wb') as f:\n",
    "        pk.dump(EMA_structure, f)\n"
   ]
  }
 ],
 "metadata": {
  "kernelspec": {
   "display_name": "base",
   "language": "python",
   "name": "python3"
  },
  "language_info": {
   "codemirror_mode": {
    "name": "ipython",
    "version": 3
   },
   "file_extension": ".py",
   "mimetype": "text/x-python",
   "name": "python",
   "nbconvert_exporter": "python",
   "pygments_lexer": "ipython3",
   "version": "3.11.5"
  }
 },
 "nbformat": 4,
 "nbformat_minor": 2
}
