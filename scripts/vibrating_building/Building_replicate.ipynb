{
 "cells": [
  {
   "cell_type": "code",
   "execution_count": 43,
   "metadata": {},
   "outputs": [],
   "source": [
    "import os\n",
    "import sys\n",
    "\n",
    "# Get the directory of the current file\n",
    "current_dir = os.path.dirname(os.path.realpath('__file__'))\n",
    "\n",
    "# Get the parent directory\n",
    "parent_dir = os.path.dirname(current_dir)\n",
    "\n",
    "# Add the parent directory to the system path\n",
    "sys.path.insert(0, parent_dir)\n",
    "import numpy as np              # Python's standard numerical library\n",
    "import matplotlib.pyplot as plt # Python's scientific visualization library\n",
    "import pyidi                    # Python HSC data analysis library\n",
    "import pickle as pk\n",
    "from pixel_setter2 import PixelSetter#, play_video, detect_peaks\n",
    "from pixel_setter import play_video\n",
    "from scipy.ndimage import uniform_filter\n",
    "import importlib\n",
    "from EMA_functions import *\n",
    "from Feature_selecter import *\n",
    "import matplotlib.animation as animation\n",
    "from pyidi import ROISelect\n",
    "from matplotlib.path import Path\n",
    "import scipy.io\n",
    "import cv2\n",
    "import pyoma2 as oma\n",
    "from skimage.color import rgb2gray\n",
    "root_drive_sim = os.path.normpath('G:/.shortcut-targets-by-id/1k1B8zPb3T8H7y6x0irFZnzzmfQPHMRPx/Illimited Lab Projects/Research Projects/Spiders/Simulations')"
   ]
  },
  {
   "cell_type": "markdown",
   "metadata": {},
   "source": [
    "Convert .mat video to .mp4"
   ]
  },
  {
   "cell_type": "code",
   "execution_count": 63,
   "metadata": {},
   "outputs": [],
   "source": [
    "mat_root = r'D:\\thijsmas'\n",
    "mat_file_name = 'MSSP_2017_3story_video.mat'\n",
    "mat_file = os.path.join(mat_root, mat_file_name)\n",
    "data = scipy.io.loadmat(mat_file)\n",
    "rgb_frames = data['vid']  # Assuming shape is (384, 216, 3, 1721)\n",
    "\n",
    "# Weights for the RGB channels\n",
    "# weights = np.array([0.2989, 0.5870, 0.1140])\n",
    "\n",
    "# Convert to greyscale\n",
    "# greyscale_frames = np.dot(rgb_frames.reshape(-1, 3), weights).reshape(384, 216, 1721)\n",
    "greyscale_frames = np.array([rgb2gray(rgb_frames[:, :, :, i]) * 255 for i in range(rgb_frames.shape[3])]).astype(np.uint8)\n",
    "\n",
    "# Flip greyscale_frames to have shape (1721, 384, 216)\n",
    "# flipped_greyscale_frames = np.transpose(greyscale_frames, (2, 0, 1))\n",
    "\n",
    "# Plot the first frame to check\n",
    "plt.imshow(greyscale_frames[0], cmap='gray')\n",
    "plt.title(\"First Frame\")\n",
    "plt.show()"
   ]
  },
  {
   "cell_type": "code",
   "execution_count": 64,
   "metadata": {},
   "outputs": [],
   "source": [
    "# file_name = 'MSSP_2017_3story_video.mp4'\n",
    "root_idi = r'D:\\thijsmas\\MSSP_replication'\n",
    "EMA_structure = EMA_Structure('no_file')\n",
    "# video = EMA_structure.open_video(add_extension = False)\n",
    "video = pyidi.pyIDI(greyscale_frames, root=root_idi)\n",
    "bit_depth = 8"
   ]
  },
  {
   "cell_type": "code",
   "execution_count": 65,
   "metadata": {},
   "outputs": [
    {
     "data": {
      "text/plain": [
       "array([[63, 60, 62, ..., 52, 52, 50],\n",
       "       [57, 58, 59, ..., 49, 48, 48],\n",
       "       [56, 57, 58, ..., 49, 47, 47],\n",
       "       ...,\n",
       "       [92, 92, 92, ..., 81, 79, 80],\n",
       "       [92, 91, 91, ..., 83, 82, 80],\n",
       "       [89, 89, 88, ..., 84, 85, 84]], dtype=uint8)"
      ]
     },
     "execution_count": 65,
     "metadata": {},
     "output_type": "execute_result"
    }
   ],
   "source": [
    "%matplotlib qt\n",
    "sequential_image_n = 1\n",
    "# still_image = video.mraw[sequential_image_n]\n",
    "still_image = video.reader.get_frame(sequential_image_n)\n",
    "\n",
    "fig, ax = EMA_structure.plot_still_frame(video, sequential_image_n, show_saturation=False, bit_depth=8)\n",
    "\n",
    "still_image\n"
   ]
  },
  {
   "cell_type": "code",
   "execution_count": 66,
   "metadata": {},
   "outputs": [],
   "source": [
    "# roi_select = ROISelect(video)\n",
    "# roi_select.polygon\n",
    "# polygon_new = np.array(roi_select.polygon)\n",
    "\n",
    "polygon = np.array([[ 28,  26,  43,  46, 125, 126, 145, 147, 224, 227, 248, 249, 324,\n",
    "        340, 339, 329, 248, 248, 229, 228, 151, 150, 126, 125,  51,  28],\n",
    "       [  8, 207, 207, 198, 198, 204, 207, 197, 201, 207, 208, 199, 203,\n",
    "        200,  19,  19,  19,  12,   9,  16,  12,   8,   6,  14,   7,   8]])\n",
    "path = Path(polygon.T)\n"
   ]
  },
  {
   "cell_type": "code",
   "execution_count": 67,
   "metadata": {},
   "outputs": [
    {
     "name": "stderr",
     "output_type": "stream",
     "text": [
      "C:\\Users\\thijsmas\\Documents\\GitHub\\pyidi\\pyidi\\pyidi.py:275: DeprecationWarning: `self.mraw` is deprecated and will be removed in the next version. Please use `self.reader.mraw` instead.\n",
      "  warnings.warn('`self.mraw` is deprecated and will be removed in the next version. Please use `self.reader.mraw` instead.', DeprecationWarning)\n"
     ]
    }
   ],
   "source": [
    "roi_size = (9,9)\n",
    "reference_image = (0,1)\n",
    "mean_image      = np.mean(video.mraw[reference_image[0]:reference_image[1]], axis=0)"
   ]
  },
  {
   "cell_type": "code",
   "execution_count": 68,
   "metadata": {},
   "outputs": [
    {
     "name": "stdout",
     "output_type": "stream",
     "text": [
      "Available filter methods: eig0, eig1, harris, trigs, harmonic_mean, eig_theta, eig_theta_off, eig0_test, eig1_test\n"
     ]
    },
    {
     "name": "stderr",
     "output_type": "stream",
     "text": [
      "C:\\Users\\thijsmas\\AppData\\Local\\Temp\\ipykernel_38216\\3175384713.py:25: PendingDeprecationWarning: The set_tight_layout function will be deprecated in a future version. Use set_layout_engine instead.\n",
      "  fig.set_tight_layout(True)\n"
     ]
    }
   ],
   "source": [
    "%matplotlib qt\n",
    "roi_size = (9,9) \n",
    "n_tracking_points = 300\n",
    "processors = 12\n",
    "\n",
    "reference_image = (0,1)\n",
    "mean_image      = np.mean(video.mraw[reference_image[0]:reference_image[1]], axis=0)\n",
    "\n",
    "feature_selecter = FeatureSelecter(still_image)\n",
    "feature_selecter.set_filter_method('eig0', roi_size)\n",
    "score_full = feature_selecter.apply_filter(downsample=1)\n",
    "\n",
    "mask_image = path.contains_points(np.array([(i,j) for i in range(mean_image.shape[0]) for j in range(mean_image.shape[1])])).reshape(mean_image.shape)\n",
    "mask_image = mask_image.reshape(mean_image.shape)\n",
    "\n",
    "score_full[~mask_image] = 0\n",
    "score_full[mean_image >= int(0.99*(2**bit_depth-1))] = 0\n",
    "\n",
    "# maxima2d = feature_selecter.pick_max_filter(score_image = None, min_distance = 3, absolute_treshold = None, threshold_percentage = 20, top_n_points = n_tracking_points)\n",
    "maxima2d = feature_selecter.pick_max_loop(score_image = None, min_distance = (5,5), n_points = n_tracking_points)\n",
    "score_list = score_full[maxima2d[:, 0], maxima2d[:, 1]]\n",
    "feature_selecter.plot_score_image(maxima=False)\n",
    "\n",
    "fig, ax = plt.subplots(1, 1, figsize=(15, 7.5))\n",
    "fig.set_tight_layout(True)\n",
    "ax.set_xticks([])\n",
    "ax.set_yticks([])\n",
    "ax.imshow(mean_image, cmap='gray')\n",
    "ax.scatter(maxima2d[:,1], maxima2d[:,0], marker='o',s=10, c=score_list, cmap='RdYlGn')\n",
    "ax.plot(polygon[1], polygon[0], color='k', lw=0.5)\n",
    "plt.close()\n",
    "video.set_method('lk')\n",
    "video.method.configure(roi_size = roi_size, reference_image = reference_image,  resume_analysis=False) #, mraw_range=(1, 1000)\n",
    "video.set_points(maxima2d)\n",
    "video.show_points()\n",
    "# displacement = video.get_displacements(processes = processors)\n"
   ]
  },
  {
   "cell_type": "code",
   "execution_count": 85,
   "metadata": {},
   "outputs": [
    {
     "name": "stdout",
     "output_type": "stream",
     "text": [
      "Available filter methods: eig0, eig1, harris, trigs, harmonic_mean, eig_theta, eig_theta_off, eig0_test, eig1_test\n"
     ]
    },
    {
     "name": "stderr",
     "output_type": "stream",
     "text": [
      "C:\\Users\\thijsmas\\AppData\\Local\\Temp\\ipykernel_38216\\2340613086.py:30: PendingDeprecationWarning: The set_tight_layout function will be deprecated in a future version. Use set_layout_engine instead.\n",
      "  fig.set_tight_layout(True)\n"
     ]
    },
    {
     "name": "stdout",
     "output_type": "stream",
     "text": [
      "--- Starting new analysis ---\n",
      " \n",
      "Interpolating the reference image...\n",
      "...done in 0.21 s\n"
     ]
    },
    {
     "data": {
      "application/vnd.jupyter.widget-view+json": {
       "model_id": "6ecb8246973d48309a67293d43b78d7c",
       "version_major": 2,
       "version_minor": 0
      },
      "text/plain": [
       "VBox()"
      ]
     },
     "metadata": {},
     "output_type": "display_data"
    },
    {
     "name": "stderr",
     "output_type": "stream",
     "text": [
      "C:\\Users\\thijsmas\\Documents\\GitHub\\pyidi\\pyidi\\methods\\_directional_lucas_kanade.py:358: UserWarning: Reached image edge. The displacement optimization algorithm may not converge, or selected points might be too close to image border. Please check analysis settings.\n",
      "  warnings.warn('Reached image edge. The displacement optimization ' +\n"
     ]
    },
    {
     "name": "stdout",
     "output_type": "stream",
     "text": [
      "Time to complete: 39 min, 57.7 s\n",
      "D:\\thijsmas\\MSSP_replication\\ndarary_video_pyidi_analysis\\analysis_010\\ analysis_010\n"
     ]
    }
   ],
   "source": [
    "%matplotlib qt\n",
    "roi_size = (9,5)\n",
    "processors = 1\n",
    "reference_image = (0, video.reader.N)\n",
    "mean_image      = np.mean(video.mraw[reference_image[0]:reference_image[1]], axis=0)\n",
    "# roi_size_1d = (15, 15)\n",
    "n_tracking_points = 500 # 600\n",
    "Gi, Gj = np.gradient(mean_image)\n",
    "s = np.array([1,0])\n",
    "Gs  = np.abs(s[1]*Gi + s[0]*Gj)\n",
    "dyx = (0, 1)\n",
    "smoothing_size = (1,1)\n",
    "\n",
    "feature_selecter = FeatureSelecter(still_image)\n",
    "filtered_image = uniform_filter(Gs, size=roi_size)\n",
    "\n",
    "mask_image = path.contains_points(np.array([(i,j) for i in range(mean_image.shape[0]) for j in range(mean_image.shape[1])])).reshape(mean_image.shape)\n",
    "mask_image = mask_image.reshape(mean_image.shape)\n",
    "\n",
    "filtered_image[~mask_image] = 0\n",
    "filtered_image[mean_image >= int(0.99*(2**bit_depth-1))] = 0\n",
    "\n",
    "# maxima1d = feature_selecter.pick_max_filter(score_image = filtered_image, min_distance = 3, absolute_treshold = None, threshold_percentage = None, top_n_points = n_tracking_points)\n",
    "maxima1d = feature_selecter.pick_max_loop(score_image = filtered_image, min_distance = (3,3), n_points = n_tracking_points, minimum_score= 1)\n",
    "score_list = filtered_image[maxima1d[:, 0], maxima1d[:, 1]]\n",
    "feature_selecter.score_image = filtered_image\n",
    "feature_selecter.plot_score_image(maxima=False)\n",
    "\n",
    "fig, ax = plt.subplots(1, 1, figsize=(15, 7.5))\n",
    "fig.set_tight_layout(True)\n",
    "ax.set_xticks([])\n",
    "ax.set_yticks([])\n",
    "ax.imshow(mean_image, cmap='gray')\n",
    "ax.scatter(maxima1d[:,1], maxima1d[:,0], marker='o',s=10, c=score_list, cmap='RdYlGn')\n",
    "ax.plot(polygon[1], polygon[0], color='k', lw=0.5)\n",
    "\n",
    "video.set_method('lk_1D')\n",
    "video.method.configure(roi_size = roi_size, dyx = dyx, reference_image = reference_image,  resume_analysis=False, smoothing_size = smoothing_size, tol=1e-20, max_nfev = 30) #, mraw_range=(1, 1000)\n",
    "video.set_points(maxima1d)\n",
    "video.show_points()\n",
    "# displacement = video.get_displacements(processes = processors)\n",
    "roi_size = (11,5)\n",
    "video.method.configure(roi_size = roi_size, dyx = dyx, reference_image = reference_image,  resume_analysis=False, smoothing_size = smoothing_size, tol=1e-20, max_nfev = 30) #, mraw_range=(1, 1000)\n",
    "displacement = video.get_displacements(processes = processors)"
   ]
  },
  {
   "cell_type": "code",
   "execution_count": 86,
   "metadata": {},
   "outputs": [],
   "source": [
    "# test = 5\n",
    "# test_name = 'analysis_' + str(test).zfill(3)\n",
    "# # with open(os.path.join(video.root, file_name_vec[0] +'_S01_pyidi_analysis', test_name,  'points.pkl'), 'rb') as f:\n",
    "# #     maxima_2d = pk.load(f)\n",
    "# # with open(os.path.join(video.root, file_name_vec[0] +'_S01_pyidi_analysis', test_name, 'results.pkl'), 'rb') as f:\n",
    "# #     displacements2D_2Dpoints = pk.load(f)\n",
    "# with open(os.path.join(video.root, file_name_vec[0] +'_S01_pyidi_analysis', test_name, 'settings.txt'), 'r') as f:\n",
    "#     settings_2d = f.read()\n",
    "\n",
    "test = 11\n",
    "test_name = 'analysis_' + str(test).zfill(3)\n",
    "with open(os.path.join(root_idi, 'ndarary_video_pyidi_analysis', test_name,  'points.pkl'), 'rb') as f:\n",
    "    maxima1d = pk.load(f)\n",
    "with open(os.path.join(root_idi, 'ndarary_video_pyidi_analysis', test_name, 'results.pkl'), 'rb') as f:\n",
    "    displacement = pk.load(f)\n",
    "with open(os.path.join(root_idi, 'ndarary_video_pyidi_analysis', test_name, 'settings.txt'), 'r') as f:\n",
    "    settings_1d = f.read()\n",
    "settings_1d\n",
    "\n",
    "EMA_structure.d = displacement #- np.mean(displacement, axis=1)[:, np.newaxis]\n",
    "n_tracking_points = len(maxima1d)"
   ]
  },
  {
   "cell_type": "code",
   "execution_count": 87,
   "metadata": {},
   "outputs": [],
   "source": [
    "%matplotlib qt\n",
    "td     = displacement +  maxima1d.reshape(len(maxima1d),1,2)\n",
    "# td_saved    = disp_save[::100] + points[::100].reshape(len(points[::100]),1,2)\n",
    "# td1d_2d     = displacements1D_2Dpoints +  maxima2d.reshape(len(maxima2d),1,2)\n",
    "ani = play_video(video, range(200, 500-1), interval=10, points=td, axis=([0, video.reader.image_width],[video.reader.image_height, 0]))\n",
    "# ani_saved = play_video(video, range(200, 500-1), interval=10, points=td_saved, axis=([0, video.info['Image Width']],[video.info['Image Height'], 0]))"
   ]
  },
  {
   "cell_type": "code",
   "execution_count": 75,
   "metadata": {},
   "outputs": [
    {
     "data": {
      "text/plain": [
       "(-5.0, 5.0)"
      ]
     },
     "execution_count": 75,
     "metadata": {},
     "output_type": "execute_result"
    },
    {
     "data": {
      "image/png": "[encoded data removed]",
      "text/plain": [
       "<Figure size 640x480 with 2 Axes>"
      ]
     },
     "metadata": {},
     "output_type": "display_data"
    }
   ],
   "source": [
    "%matplotlib inline\n",
    "fig, ax = plt.subplots(2)\n",
    "for d_i in displacement:\n",
    "    ax[0].plot(d_i[:,0])\n",
    "    ax[1].plot(d_i[:,1])\n",
    "ax[1].set_ylim(-5, 5)\n",
    "# ax[1].set_xlim(250, 500)"
   ]
  },
  {
   "cell_type": "code",
   "execution_count": 88,
   "metadata": {},
   "outputs": [
    {
     "data": {
      "text/plain": [
       "(456, 499, 498, 499, 500, 458)"
      ]
     },
     "execution_count": 88,
     "metadata": {},
     "output_type": "execute_result"
    }
   ],
   "source": [
    "d_lim = 8\n",
    "d_min = 0.1\n",
    "smooth_lim = 1\n",
    "max_drift = 2   \n",
    "max_end_drift = 1.5\n",
    "\n",
    "EMA_structure.initialize_displacement(idx='all', dir='xy')\n",
    "EMA_structure.exclude_tp(d_lim)\n",
    "EMA_structure.valid_tps = EMA_structure.exclude_high_amplitude & (np.max(np.linalg.norm(EMA_structure.d, axis=2),1) > d_min)\n",
    "\n",
    "smooth_signals = np.max(np.abs(np.diff(np.linalg.norm(EMA_structure.d, axis=2))), axis = 1) < smooth_lim\n",
    "\n",
    "non_drifting = np.abs(np.mean(np.linalg.norm(EMA_structure.d[:,:-100], axis=2), axis=1) < max_drift)\n",
    "non_drifting2 = np.abs(np.linalg.norm(EMA_structure.d[:,-1], axis=1)) < max_end_drift\n",
    "\n",
    "\n",
    "EMA_structure.valid_tps = EMA_structure.valid_tps  & smooth_signals & non_drifting & non_drifting2\n",
    "\n",
    "ani = play_video(video, range(200, 500-1), interval=10, points=td[EMA_structure.valid_tps], axis=([0, video.reader.image_width],[video.reader.image_height, 0]))\n",
    "\n",
    "EMA_structure.valid_tps.sum(), EMA_structure.exclude_high_amplitude.sum(), smooth_signals.sum() , non_drifting.sum(),  non_drifting2.sum(), (np.max(np.linalg.norm(EMA_structure.d, axis=2),1) > d_min).sum()"
   ]
  },
  {
   "cell_type": "code",
   "execution_count": 90,
   "metadata": {},
   "outputs": [
    {
     "name": "stdout",
     "output_type": "stream",
     "text": [
      "499 456 455\n"
     ]
    },
    {
     "data": {
      "text/plain": [
       "[<matplotlib.lines.Line2D at 0x1dbe41ad710>]"
      ]
     },
     "execution_count": 90,
     "metadata": {},
     "output_type": "execute_result"
    }
   ],
   "source": [
    "%matplotlib qt\n",
    "window_size = 15  # Define the window size for the rolling average\n",
    "window = np.ones(window_size) / window_size\n",
    "\n",
    "n = video.reader.N\n",
    "fs = 240        # Sampling frequency\n",
    "dt = 1/fs       # Time step\n",
    "T = dt*n    # acquisition time\n",
    "\n",
    "freq = np.fft.rfftfreq(n, dt)\n",
    "df = fs/n\n",
    "Displacement = np.fft.rfft(EMA_structure.d[EMA_structure.valid_tps,:,1], n=n, axis=1) / n\n",
    "Displacement[1:] *= 2\n",
    "S_xx = 1/T * np.conj(Displacement) * Displacement\n",
    "S_xx_rolling = scipy.ndimage.convolve1d(np.abs(S_xx), window, axis=1, mode='reflect')\n",
    "peaks_local = []\n",
    "for S_xx_rolling_i in S_xx_rolling:\n",
    "    peaks_local.append(find_peaks(np.log10(S_xx_rolling_i), distance=15, prominence=1)[0])\n",
    "S_xx = np.mean(S_xx, axis=0)\n",
    "S_xx_rolling = np.mean(S_xx_rolling, axis=0)\n",
    "peaks_global, _ = find_peaks(np.log10(S_xx_rolling), distance=10, prominence=1)\n",
    "peaks_global = peaks_global[0]\n",
    "\n",
    "# Function to check if a value is in an array within a margin\n",
    "def is_in_array_with_margin(value, array, margin=4):\n",
    "    return np.any(np.abs(array - value) <= margin)\n",
    "\n",
    "valid_peaks = np.zeros(len(peaks_local), dtype=bool)\n",
    "for peak_i, peak in enumerate(peaks_local):\n",
    "    for p in peak:\n",
    "        if is_in_array_with_margin(p, peaks_global):\n",
    "            valid_peaks[peak_i] = True\n",
    "\n",
    "valid_peaks2 = np.ones(n_tracking_points, dtype=bool)\n",
    "valid_peaks2[EMA_structure.valid_tps] = valid_peaks\n",
    "            \n",
    "hann = np.hanning(n)\n",
    "d_hann = EMA_structure.d[EMA_structure.valid_tps,:,1] * hann.reshape(1, n)\n",
    "Displacement_hann = np.fft.rfft(d_hann, n=n, axis=1) / n\n",
    "Displacement_hann[1:] *= 2\n",
    "S_xx_hann = 1/T * np.conj(Displacement_hann) * Displacement_hann\n",
    "S_xx_hann = np.mean(S_xx_hann, axis=0)\n",
    "\n",
    "hamming = np.hamming(n)\n",
    "d_hamming = EMA_structure.d[EMA_structure.valid_tps,:,1] * hamming.reshape(1, n)\n",
    "Displacement_hamming = np.fft.rfft(d_hamming, n=n, axis=1) / n\n",
    "Displacement_hamming[1:] *= 2\n",
    "S_xx_hamming = 1/T * np.conj(Displacement_hamming) * Displacement_hamming\n",
    "S_xx_hamming = np.mean(S_xx_hamming, axis=0)\n",
    "\n",
    "bartlett = np.bartlett(n)\n",
    "d_bartlett = EMA_structure.d[EMA_structure.valid_tps,:,1] * bartlett.reshape(1, n)\n",
    "Displacement_bartlett = np.fft.rfft(d_bartlett, n=n, axis=1) / n\n",
    "Displacement_bartlett[1:] *= 2\n",
    "S_xx_bartlett = 1/T * np.conj(Displacement_bartlett) * Displacement_bartlett\n",
    "S_xx_bartlett = np.mean(S_xx_bartlett, axis=0)\n",
    "\n",
    "fig, ax = plt.subplots(1, 1, figsize=(15, 7.5))\n",
    "ax.semilogy(freq, np.abs(S_xx), label='No window')\n",
    "# ax.semilogy(freq, np.abs(S_xx_hann), label='Hanning window')\n",
    "# ax.semilogy(freq, np.abs(S_xx_hamming), label='Hamming window')\n",
    "# ax.semilogy(freq, np.abs(S_xx_bartlett), label='Bartlett window')\n",
    "ax.set_xlabel('Frequency [Hz]')\n",
    "ax.set_ylabel('Amplitude')\n",
    "ax.set_ylim(1e-9, 1e-1)\n",
    "\n",
    "# Add the rolling average to the plot\n",
    "# ax.semilogy(freq, S_xx_rolling, label='Rolling average (convolution)')\n",
    "ax.scatter(freq[peaks_global], S_xx_rolling[peaks_global], color='red', label='Peaks')\n",
    "ax.legend()\n",
    "\n",
    "print(valid_peaks2.sum(), EMA_structure.valid_tps.sum(), (valid_peaks2 & EMA_structure.valid_tps).sum())\n",
    "\n",
    "EMA_structure.valid_tps = valid_peaks2 & EMA_structure.valid_tps\n",
    "\n",
    "Displacement = np.fft.rfft(EMA_structure.d[EMA_structure.valid_tps,:,1], n=n, axis=1) / n\n",
    "Displacement[1:] *= 2\n",
    "S_xx_valid = 1/T * np.conj(Displacement) * Displacement\n",
    "S_xx_valid = np.mean(S_xx_valid, axis=0)\n",
    "\n",
    "ax.semilogy(freq, np.abs(S_xx_valid), label='Valid peaks')"
   ]
  },
  {
   "cell_type": "code",
   "execution_count": 34,
   "metadata": {},
   "outputs": [
    {
     "name": "stderr",
     "output_type": "stream",
     "text": [
      "C:\\Users\\thijsmas\\Documents\\GitHub\\pyidi\\pyidi\\pyidi.py:275: DeprecationWarning: `self.mraw` is deprecated and will be removed in the next version. Please use `self.reader.mraw` instead.\n",
      "  warnings.warn('`self.mraw` is deprecated and will be removed in the next version. Please use `self.reader.mraw` instead.', DeprecationWarning)\n"
     ]
    }
   ],
   "source": [
    "%matplotlib qt\n",
    "ani = play_video(video, range(1, video.reader.N-1,2), interval=10, points=td[EMA_structure.valid_tps], axis=([0, video.reader.image_width],[video.reader.image_height, 0]))\n",
    "\n"
   ]
  },
  {
   "cell_type": "code",
   "execution_count": 89,
   "metadata": {},
   "outputs": [
    {
     "data": {
      "text/plain": [
       "(0.0, 20.0)"
      ]
     },
     "execution_count": 89,
     "metadata": {},
     "output_type": "execute_result"
    },
    {
     "data": {
      "image/png": "[encoded data removed]",
      "text/plain": [
       "<Figure size 640x480 with 2 Axes>"
      ]
     },
     "metadata": {},
     "output_type": "display_data"
    }
   ],
   "source": [
    "%matplotlib inline\n",
    "fig, ax = plt.subplots(2)\n",
    "for d_i in displacement[EMA_structure.valid_tps][:10]:\n",
    "    ax[0].plot(d_i[:,0])\n",
    "    ax[1].plot(d_i[:,1])\n",
    "# ax[1].set_ylim(-5, 5)\n",
    "ax[1].set_xlim(0, 20)"
   ]
  }
 ],
 "metadata": {
  "kernelspec": {
   "display_name": "base",
   "language": "python",
   "name": "python3"
  },
  "language_info": {
   "codemirror_mode": {
    "name": "ipython",
    "version": 3
   },
   "file_extension": ".py",
   "mimetype": "text/x-python",
   "name": "python",
   "nbconvert_exporter": "python",
   "pygments_lexer": "ipython3",
   "version": "3.11.5"
  }
 },
 "nbformat": 4,
 "nbformat_minor": 2
}
