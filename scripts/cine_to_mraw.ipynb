{
 "cells": [
  {
   "cell_type": "code",
   "execution_count": 1,
   "metadata": {},
   "outputs": [
    {
     "name": "stderr",
     "output_type": "stream",
     "text": [
      "c:\\Users\\thijsmas\\AppData\\Local\\anaconda3\\Lib\\site-packages\\paramiko\\transport.py:219: CryptographyDeprecationWarning: Blowfish has been deprecated\n",
      "  \"class\": algorithms.Blowfish,\n"
     ]
    }
   ],
   "source": [
    "import os\n",
    "import sys\n",
    "current_dir = os.path.dirname(os.path.realpath('__file__'))\n",
    "parent_dir = os.path.dirname(current_dir)\n",
    "sys.path.insert(0, parent_dir)\n",
    "import numpy as np              # Python's standard numerical library\n",
    "import matplotlib.pyplot as plt # Python's scientific visualization library\n",
    "from pixel_setter import play_video\n",
    "from scipy.ndimage import uniform_filter\n",
    "from EMA_functions import *\n",
    "from Feature_selecter import *\n",
    "import matplotlib.animation as animation\n",
    "from pycine.raw import read_frames\n",
    "from pyMRAW import save_mraw\n",
    "import glob\n",
    "root_drive_sim = os.path.normpath('G:/.shortcut-targets-by-id/1k1B8zPb3T8H7y6x0irFZnzzmfQPHMRPx/Illimited Lab Projects/Research Projects/Spiders/Simulations')\n",
    "# root_video = 'E:/FreeFreeBeam4-16-24/cine rgb'\n",
    "# root_mraw = os.path.normpath('E:/FreeFreeBeam4-16-24/mraw')\n",
    "# root_video = os.path.normpath('D:/thijsmas/wing')\n",
    "# root_mraw = os.path.normpath('D:/thijsmas/wing/mraw')\n",
    "\n",
    "root_video = os.path.normpath('E:/AA598/rgb')\n",
    "root_mraw = os.path.normpath('E:/AA598/mraw')\n",
    "path_list = glob.glob(os.path.join(root_video, '*.cine'))"
   ]
  },
  {
   "cell_type": "code",
   "execution_count": 2,
   "metadata": {},
   "outputs": [],
   "source": [
    "def set_up_reader(cine_file, start_frame=1, count=None):\n",
    "    raw_images, setup, bpp = read_frames(cine_file, start_frame=start_frame, count=count)        \n",
    "    info = {'Record Rate(fps)': setup.FrameRate,\n",
    "            # 'Total Frame': setup.ImageCount,\n",
    "            'Image Width': setup.ImWidth,\n",
    "            'Image Height': setup.ImHeight,\n",
    "            'File Format': 'mraw',\n",
    "            # 'EffectiveBit Depth': bpp,\n",
    "            'Shutter Speed(s)': setup.Shutter/1e6,\n",
    "            'Post trigger': setup.PostTrigger}\n",
    "    return raw_images, info\n",
    "\n",
    "def get_frames_numpy(raw_images):\n",
    "    return np.array([raw_image for raw_image in raw_images])\n",
    "\n",
    "def get_frames_memmap(raw_images, n_frames, filename='memmapped.dat'):\n",
    "    # Determine the shape and dtype of the array\n",
    "    sample_image = next(iter(raw_images))\n",
    "    shape = (n_frames,) + sample_image.shape\n",
    "    dtype = sample_image.dtype\n",
    "\n",
    "    # Create a memory-mapped array with the desired shape and dtype\n",
    "    memmapped_array = np.memmap(filename, dtype=dtype, mode='w+', shape=shape)\n",
    "\n",
    "    # Fill the memory-mapped array with the images\n",
    "    print_i = int(n_frames/10)\n",
    "    for i, raw_image in enumerate(raw_images):\n",
    "        memmapped_array[i] = raw_image\n",
    "        if i % print_i == 0:\n",
    "            print(f'Frame {i+1}/{n_frames} written to memory-mapped array')\n",
    "        if i == n_frames-1:\n",
    "            break\n",
    "\n",
    "    return memmapped_array, i"
   ]
  },
  {
   "cell_type": "code",
   "execution_count": 3,
   "metadata": {},
   "outputs": [
    {
     "data": {
      "text/plain": [
       "['E:\\\\AA598\\\\rgb\\\\impact_test_with_cam_4_24.cine',\n",
       " 'E:\\\\AA598\\\\rgb\\\\impact_test_with_cam_4_24_zoom.cine',\n",
       " 'E:\\\\AA598\\\\rgb\\\\impact_test_with_cam_4_24_loc2.cine']"
      ]
     },
     "execution_count": 3,
     "metadata": {},
     "output_type": "execute_result"
    }
   ],
   "source": [
    "path_list"
   ]
  },
  {
   "cell_type": "code",
   "execution_count": 5,
   "metadata": {},
   "outputs": [
    {
     "name": "stdout",
     "output_type": "stream",
     "text": [
      "File impact_test_with_cam_4_24.cine saved\n",
      "File impact_test_with_cam_4_24_zoom.cine saved\n",
      "File impact_test_with_cam_4_24_loc2.cine saved\n"
     ]
    }
   ],
   "source": [
    "count = None\n",
    "n_frames_max_vec = [95000, 13000, 33000]\n",
    "for path_c, n_frames_max in zip(path_list, n_frames_max_vec):\n",
    "    file_name = os.path.basename(path_c)\n",
    "    file_path = os.path.join(root_video, file_name)\n",
    "    base_path = os.path.join(root_mraw, file_name[:-5])\n",
    "    mraw_path = base_path + '.mraw'\n",
    "    cih_path = base_path + '.cih'\n",
    "    mem_path = base_path + '.dat'\n",
    "    if os.path.exists(cih_path):\n",
    "        print(\"The file already exists\")\n",
    "        continue\n",
    "        \n",
    "    raw_images, info = set_up_reader(file_path, start_frame=1, count=count)\n",
    "    # frames, n_frames = get_frames_memmap(raw_images, n_frames_max, filename=mem_path)\n",
    "    frames = get_frames_numpy(raw_images)\n",
    "    \n",
    "    if os.path.exists(mraw_path):\n",
    "        os.remove(mraw_path)\n",
    "    if os.path.exists(cih_path):\n",
    "        os.remove(cih_path)\n",
    "\n",
    "    # save_mraw(frames[:n_frames], mraw_path, bit_depth=16, ext='mraw', info_dict=info) #, info_dict=info\n",
    "    save_mraw(frames, mraw_path, bit_depth=16, ext='mraw', info_dict=info) #, info_dict=info\n",
    "    if os.path.exists(mem_path):\n",
    "        frames.flush()\n",
    "        del frames\n",
    "        os.remove(mem_path)\n",
    "    print(f'File {file_name} saved')\n",
    "# video = pyidi.pyIDI(frames)\n",
    "# del frames\n",
    "# video.info = info\n",
    "# video.root = root_video\n",
    "# EMA_structure = EMA_Structure(file_name)\n",
    "# EMA_structure.fs_camera = video.info['Record Rate(fps)']\n",
    "# EMA_structure.t_camera_raw = np.arange(video.info['Total Frame']) / EMA_structure.fs_camera"
   ]
  },
  {
   "cell_type": "code",
   "execution_count": null,
   "metadata": {},
   "outputs": [],
   "source": [
    "EMA_structure = EMA_Structure(file_name[:-5] + '.cih')\n",
    "video = EMA_structure.open_video(add_extension=False)\n",
    "video"
   ]
  },
  {
   "cell_type": "code",
   "execution_count": null,
   "metadata": {},
   "outputs": [],
   "source": [
    "file_name"
   ]
  }
 ],
 "metadata": {
  "kernelspec": {
   "display_name": "base",
   "language": "python",
   "name": "python3"
  },
  "language_info": {
   "codemirror_mode": {
    "name": "ipython",
    "version": 3
   },
   "file_extension": ".py",
   "mimetype": "text/x-python",
   "name": "python",
   "nbconvert_exporter": "python",
   "pygments_lexer": "ipython3",
   "version": "3.11.5"
  }
 },
 "nbformat": 4,
 "nbformat_minor": 2
}
