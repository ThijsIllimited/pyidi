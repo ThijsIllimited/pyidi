{
 "cells": [
  {
   "cell_type": "code",
   "execution_count": 1,
   "metadata": {},
   "outputs": [
    {
     "name": "stderr",
     "output_type": "stream",
     "text": [
      "c:\\Users\\thijsmas\\AppData\\Local\\anaconda3\\Lib\\site-packages\\paramiko\\transport.py:219: CryptographyDeprecationWarning: Blowfish has been deprecated\n",
      "  \"class\": algorithms.Blowfish,\n"
     ]
    }
   ],
   "source": [
    "import os\n",
    "import sys\n",
    "current_dir = os.path.dirname(os.path.realpath('__file__'))\n",
    "parent_dir = os.path.dirname(current_dir)\n",
    "sys.path.insert(0, parent_dir)\n",
    "import numpy as np              # Python's standard numerical library\n",
    "import matplotlib.pyplot as plt # Python's scientific visualization library\n",
    "from pixel_setter import play_video\n",
    "from scipy.ndimage import uniform_filter\n",
    "from EMA_functions import *\n",
    "from Feature_selecter import *\n",
    "import matplotlib.animation as animation\n",
    "from pycine.raw import read_frames\n",
    "from pyMRAW import save_mraw\n",
    "import glob\n",
    "root_drive_sim = os.path.normpath('G:/.shortcut-targets-by-id/1k1B8zPb3T8H7y6x0irFZnzzmfQPHMRPx/Illimited Lab Projects/Research Projects/Spiders/Simulations')\n",
    "root_video = os.path.normpath('D:/thijsmas/wing')\n",
    "root_mraw = os.path.normpath('D:/thijsmas/wing/mraw')\n",
    "path_list = glob.glob(os.path.join(root_video, '*.cine'))"
   ]
  },
  {
   "cell_type": "code",
   "execution_count": 2,
   "metadata": {},
   "outputs": [],
   "source": [
    "def set_up_reader(cine_file, start_frame=1, count=None):\n",
    "    raw_images, setup, bpp = read_frames(cine_file, start_frame=start_frame, count=count)        \n",
    "    info = {'Record Rate(fps)': setup.FrameRate,\n",
    "            # 'Total Frame': setup.ImageCount,\n",
    "            'Image Width': setup.ImWidth,\n",
    "            'Image Height': setup.ImHeight,\n",
    "            'File Format': 'mraw',\n",
    "            # 'EffectiveBit Depth': bpp,\n",
    "            'Shutter Speed(s)': setup.Shutter/1e6,\n",
    "            'Post trigger': setup.PostTrigger}\n",
    "    return raw_images, info\n",
    "\n",
    "def get_frames_numpy(raw_images):\n",
    "    return np.array([raw_image for raw_image in raw_images])"
   ]
  },
  {
   "cell_type": "code",
   "execution_count": 8,
   "metadata": {},
   "outputs": [
    {
     "name": "stdout",
     "output_type": "stream",
     "text": [
      "File 1xyz_a_rev10_wcam_view1.cine saved\n",
      "File 1xyz_a_rev11_wcam_view1.cine saved\n",
      "File 1xyz_a_rev12_wcam_view1.cine saved\n",
      "File 1xyz_a_rev13_wcam_view2.cine saved\n",
      "File 1xyz_a_rev14_wcam_view2.cine saved\n",
      "The file already exists\n",
      "The file already exists\n",
      "The file already exists\n",
      "The file already exists\n",
      "The file already exists\n",
      "The file already exists\n",
      "File 1xyz_a_rev7_wcam_view0.cine saved\n",
      "File 1xyz_a_rev8_wcam_view0.cine saved\n",
      "File 1xyz_a_rev9_wcam_view1.cine saved\n",
      "File 1xyz_b_rev10_wcam_view1.cine saved\n",
      "File 1xyz_b_rev11_wcam_view1.cine saved\n",
      "File 1xyz_b_rev12_wcam_view2.cine saved\n",
      "File 1xyz_b_rev13_wcam_view2.cine saved\n",
      "The file already exists\n",
      "The file already exists\n",
      "The file already exists\n",
      "The file already exists\n",
      "The file already exists\n",
      "File 1xyz_b_rev6_wcam_view0.cine saved\n",
      "File 1xyz_b_rev7_wcam_view0.cine saved\n",
      "File 1xyz_b_rev8_wcam_view1.cine saved\n",
      "File 1xyz_b_rev9_wcam_view1.cine saved\n",
      "The file already exists\n",
      "The file already exists\n",
      "The file already exists\n",
      "The file already exists\n",
      "The file already exists\n",
      "The file already exists\n",
      "The file already exists\n",
      "The file already exists\n",
      "The file already exists\n",
      "The file already exists\n",
      "File 1xyz_e_rev10_wcam_view1.cine saved\n",
      "File 1xyz_e_rev11_wcam_view1.cine saved\n",
      "File 1xyz_e_rev12_wcam_view2.cine saved\n",
      "File 1xyz_e_rev13_wcam_view2.cine saved\n",
      "The file already exists\n",
      "The file already exists\n",
      "The file already exists\n",
      "The file already exists\n",
      "The file already exists\n",
      "File 1xyz_e_rev6_wcam_view0.cine saved\n",
      "File 1xyz_e_rev7_wcam_view0.cine saved\n",
      "File 1xyz_e_rev8_wcam_view1.cine saved\n",
      "File 1xyz_e_rev9_wcam_view1.cine saved\n",
      "The file already exists\n"
     ]
    }
   ],
   "source": [
    "count = None\n",
    "# path_list_temp = [path_list[3]]\n",
    "for path_c in path_list:\n",
    "    file_name = os.path.basename(path_c)\n",
    "    file_path = os.path.join(root_video, file_name)\n",
    "    base_path = os.path.join(root_mraw, file_name[:-5])\n",
    "    mraw_path = base_path + '.mraw'\n",
    "    cih_path = base_path + '.cih'\n",
    "    if os.path.exists(cih_path):\n",
    "        print(\"The file already exists\")\n",
    "        continue\n",
    "        \n",
    "    raw_images, info = set_up_reader(file_path, start_frame=1, count=count)\n",
    "    frames = get_frames_numpy(raw_images)\n",
    "\n",
    "    del raw_images\n",
    "    \n",
    "    if os.path.exists(mraw_path):\n",
    "        os.remove(mraw_path)\n",
    "    if os.path.exists(cih_path):\n",
    "        os.remove(cih_path)\n",
    "\n",
    "    save_mraw(frames, mraw_path, bit_depth=16, ext='mraw', info_dict=info) #, info_dict=info\n",
    "    print(f'File {file_name} saved')\n",
    "# video = pyidi.pyIDI(frames)\n",
    "# del frames\n",
    "# video.info = info\n",
    "# video.root = root_video\n",
    "# EMA_structure = EMA_Structure(file_name)\n",
    "# EMA_structure.fs_camera = video.info['Record Rate(fps)']\n",
    "# EMA_structure.t_camera_raw = np.arange(video.info['Total Frame']) / EMA_structure.fs_camera"
   ]
  },
  {
   "cell_type": "code",
   "execution_count": null,
   "metadata": {},
   "outputs": [],
   "source": [
    "EMA_structure = EMA_Structure(file_name[:-5] + '.cih')\n",
    "video = EMA_structure.open_video(add_extension=False)\n",
    "video.mraw"
   ]
  },
  {
   "cell_type": "code",
   "execution_count": null,
   "metadata": {},
   "outputs": [],
   "source": [
    "mraw_path"
   ]
  }
 ],
 "metadata": {
  "kernelspec": {
   "display_name": "base",
   "language": "python",
   "name": "python3"
  },
  "language_info": {
   "codemirror_mode": {
    "name": "ipython",
    "version": 3
   },
   "file_extension": ".py",
   "mimetype": "text/x-python",
   "name": "python",
   "nbconvert_exporter": "python",
   "pygments_lexer": "ipython3",
   "version": "3.11.5"
  }
 },
 "nbformat": 4,
 "nbformat_minor": 2
}
