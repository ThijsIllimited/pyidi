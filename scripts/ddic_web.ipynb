{
 "cells": [
  {
   "cell_type": "code",
   "execution_count": 1,
   "metadata": {},
   "outputs": [
    {
     "name": "stderr",
     "output_type": "stream",
     "text": [
      "c:\\Users\\thijsmas\\AppData\\Local\\anaconda3\\Lib\\site-packages\\paramiko\\transport.py:219: CryptographyDeprecationWarning: Blowfish has been deprecated\n",
      "  \"class\": algorithms.Blowfish,\n"
     ]
    }
   ],
   "source": [
    "import os\n",
    "import sys\n",
    "\n",
    "# Get the directory of the current file\n",
    "current_dir = os.path.dirname(os.path.realpath('__file__'))\n",
    "\n",
    "# Get the parent directory\n",
    "parent_dir = os.path.dirname(current_dir)\n",
    "\n",
    "# Add the parent directory to the system path\n",
    "sys.path.insert(0, parent_dir)\n",
    "import numpy as np              # Python's standard numerical library\n",
    "import matplotlib.pyplot as plt # Python's scientific visualization library\n",
    "import pyidi                    # Python HSC data analysis library\n",
    "import pickle as pk\n",
    "from pixel_setter2 import PixelSetter#, play_video, detect_peaks\n",
    "from pixel_setter import play_video\n",
    "from scipy.ndimage import uniform_filter\n",
    "import importlib\n",
    "from EMA_functions import *\n",
    "from Feature_selecter import *\n",
    "import matplotlib.animation as animation\n",
    "from pyidi import ROISelect\n",
    "from matplotlib.path import Path\n",
    "import time\n",
    "root_drive_sim = os.path.normpath('G:/.shortcut-targets-by-id/1k1B8zPb3T8H7y6x0irFZnzzmfQPHMRPx/Illimited Lab Projects/Research Projects/Spiders/Simulations')"
   ]
  },
  {
   "cell_type": "code",
   "execution_count": 2,
   "metadata": {},
   "outputs": [
    {
     "data": {
      "text/html": [
       "<div>\n",
       "<style scoped>\n",
       "    .dataframe tbody tr th:only-of-type {\n",
       "        vertical-align: middle;\n",
       "    }\n",
       "\n",
       "    .dataframe tbody tr th {\n",
       "        vertical-align: top;\n",
       "    }\n",
       "\n",
       "    .dataframe thead th {\n",
       "        text-align: right;\n",
       "    }\n",
       "</style>\n",
       "<table border=\"1\" class=\"dataframe\">\n",
       "  <thead>\n",
       "    <tr style=\"text-align: right;\">\n",
       "      <th></th>\n",
       "      <th>filename</th>\n",
       "      <th>path</th>\n",
       "      <th>ecc</th>\n",
       "      <th>loc</th>\n",
       "      <th>mass</th>\n",
       "      <th>taut/loose</th>\n",
       "      <th>impact/pluck</th>\n",
       "      <th>version</th>\n",
       "      <th>n_frames</th>\n",
       "      <th>fps</th>\n",
       "      <th>Oversatured pixels</th>\n",
       "      <th>Undersatured pixels</th>\n",
       "      <th>prey_ij</th>\n",
       "      <th>spider_ij</th>\n",
       "    </tr>\n",
       "  </thead>\n",
       "  <tbody>\n",
       "    <tr>\n",
       "      <th>123</th>\n",
       "      <td>Full_web_ecc2_new2_Floc18_v5_S01.cihx</td>\n",
       "      <td>H:\\My Drive\\PHD\\HSC\\ecc2\\web1\\Full_web_ecc2_ne...</td>\n",
       "      <td>2</td>\n",
       "      <td>18</td>\n",
       "      <td>True</td>\n",
       "      <td>Loose</td>\n",
       "      <td>Impact</td>\n",
       "      <td>5</td>\n",
       "      <td>8000</td>\n",
       "      <td>8000.0</td>\n",
       "      <td>727</td>\n",
       "      <td>18127</td>\n",
       "      <td>(356, 234)</td>\n",
       "      <td>(553, 229)</td>\n",
       "    </tr>\n",
       "    <tr>\n",
       "      <th>125</th>\n",
       "      <td>Full_web_ecc2_new2_Floc18_v7_S01.cihx</td>\n",
       "      <td>H:\\My Drive\\PHD\\HSC\\ecc2\\web1\\Full_web_ecc2_ne...</td>\n",
       "      <td>2</td>\n",
       "      <td>18</td>\n",
       "      <td>True</td>\n",
       "      <td>Loose</td>\n",
       "      <td>Impact</td>\n",
       "      <td>7</td>\n",
       "      <td>8000</td>\n",
       "      <td>8000.0</td>\n",
       "      <td>210</td>\n",
       "      <td>18900</td>\n",
       "      <td>(357, 235)</td>\n",
       "      <td>(553, 229)</td>\n",
       "    </tr>\n",
       "  </tbody>\n",
       "</table>\n",
       "</div>"
      ],
      "text/plain": [
       "                                  filename  \\\n",
       "123  Full_web_ecc2_new2_Floc18_v5_S01.cihx   \n",
       "125  Full_web_ecc2_new2_Floc18_v7_S01.cihx   \n",
       "\n",
       "                                                  path  ecc  loc  mass  \\\n",
       "123  H:\\My Drive\\PHD\\HSC\\ecc2\\web1\\Full_web_ecc2_ne...    2   18  True   \n",
       "125  H:\\My Drive\\PHD\\HSC\\ecc2\\web1\\Full_web_ecc2_ne...    2   18  True   \n",
       "\n",
       "    taut/loose impact/pluck  version  n_frames     fps  Oversatured pixels  \\\n",
       "123      Loose       Impact        5      8000  8000.0                 727   \n",
       "125      Loose       Impact        7      8000  8000.0                 210   \n",
       "\n",
       "     Undersatured pixels     prey_ij   spider_ij  \n",
       "123                18127  (356, 234)  (553, 229)  \n",
       "125                18900  (357, 235)  (553, 229)  "
      ]
     },
     "execution_count": 2,
     "metadata": {},
     "output_type": "execute_result"
    }
   ],
   "source": [
    "df = pd.read_csv('H:/My Drive/PHD/HSC/file_descriptions_wlocs.csv')\n",
    "file_name_basis = 'Full_web_ecc2_new2_Floc18_v'\n",
    "v_vec = [5, 7]\n",
    "file_name_vec = [file_name_basis + str(x) for x in v_vec]\n",
    "file_name_vec_video = [x + '_S01.cihx' for x in file_name_vec]\n",
    "df_filtered = df[df['filename'].isin(file_name_vec_video)]\n",
    "\n",
    "df_filtered"
   ]
  },
  {
   "cell_type": "code",
   "execution_count": 3,
   "metadata": {},
   "outputs": [
    {
     "name": "stdout",
     "output_type": "stream",
     "text": [
      "H:/My Drive/PHD/HSC\\ecc2\\web1\\Full_web_ecc2_new2_Floc18_v5_S01\\Full_web_ecc2_new2_Floc18_v5_S01.cihx\n"
     ]
    },
    {
     "name": "stderr",
     "output_type": "stream",
     "text": [
      "c:\\Users\\thijsmas\\AppData\\Local\\anaconda3\\Lib\\site-packages\\pyMRAW.py:103: UserWarning: Clipped footage! (Total frame: 8000, Original total frame: 87371)\n",
      "  warnings.warn('Clipped footage! (Total frame: {}, Original total frame: {})'.format(cih['Total Frame'], cih['Original Total Frame'] ))\n"
     ]
    },
    {
     "data": {
      "text/plain": [
       "{'Date': '2023/9/22',\n",
       " 'Camera Type': 'FASTCAM SA-Z type 2100K-M-64GB',\n",
       " 'Record Rate(fps)': 8000.0,\n",
       " 'Shutter Speed(s)': 8104.0,\n",
       " 'Total Frame': 8000,\n",
       " 'Original Total Frame': 87371,\n",
       " 'Image Width': 1024,\n",
       " 'Image Height': 512,\n",
       " 'File Format': 'Mraw',\n",
       " 'EffectiveBit Depth': 12,\n",
       " 'EffectiveBit Side': 'Higher',\n",
       " 'Color Bit': 16,\n",
       " 'Comment Text': ''}"
      ]
     },
     "execution_count": 3,
     "metadata": {},
     "output_type": "execute_result"
    }
   ],
   "source": [
    "EMA_structure = EMA_Structure(file_name_vec[0])\n",
    "video = EMA_structure.open_video()\n",
    "bit_depth = 16\n",
    "# video = pyidi.pyIDI(\"D:/thijsmas/HSC/ecc2/web1/rev2/Full_web_ecc2_new2_Floc18_v5_S01/\" + file_name_vec[0]+'_S01.cihx')\n",
    "# video.set_method('lk_1D')\n",
    "video.info"
   ]
  },
  {
   "cell_type": "code",
   "execution_count": 4,
   "metadata": {},
   "outputs": [],
   "source": [
    "# with open(os.path.join(EMA_structure.root_cam,file_name_vec[0]+'_low_impact_web.pkl'), 'wb') as f:\n",
    "#     pk.dump(EMA_structure, f)\n",
    "# with open(os.path.join(EMA_structure.root_cam, file_name_vec[0]+'_low_impact_web.pkl'), 'rb') as f:\n",
    "#     EMA_structure2 = pk.load(f)\n",
    "# EMA_structure.maxima1d = maxima1d\n",
    "# EMA_structure.maxima2d = maxima2d\n",
    "# displacements2D_1Dpoints = EMA_structure2.displacements2D_1Dpoints\n",
    "# displacements2D_2Dpoints = EMA_structure2.displacements2D_2Dpoints\n",
    "# EMA_structure.displacements2D_1Dpoints = displacements2D_1Dpoints\n",
    "# EMA_structure.displacements2D_2Dpoints = displacements2D_2Dpoints\n",
    "# EMA_structure.displacements2D_2Dpoints = displacements2D_2Dpoints\n",
    "# EMA_structure.displacements2D_2Dpoints = displacements2D_2Dpoints\n"
   ]
  },
  {
   "cell_type": "code",
   "execution_count": 17,
   "metadata": {},
   "outputs": [],
   "source": [
    "%matplotlib qt\n",
    "sequential_image_n = 300\n",
    "still_image = video.mraw[sequential_image_n]\n",
    "\n",
    "fig, ax = EMA_structure.plot_still_frame(video, sequential_image_n, show_saturation=False)"
   ]
  },
  {
   "cell_type": "code",
   "execution_count": 47,
   "metadata": {},
   "outputs": [],
   "source": [
    "roi_select = ROISelect(video)\n",
    "roi_select.polygon\n",
    "polygon_new = np.array(roi_select.polygon)\n",
    "\n",
    "polygon = np.array([[  11,   39,   65,  107,   80,   54,   57,   63,  113,  153,  213,\n",
    "         234,  245,  265,  289,  318,  359,  401,  445,  461,  426,  427,\n",
    "         448,  482,  510,  509,  461,  429,  416,  416,  427,  464,  465,\n",
    "         457,  413,  374,  319,  290,  272,  260,  254,  239,  227,  187,\n",
    "         171,  150,  131,   98,   63,   53,   88,  102,  106,  120,  131,\n",
    "         134,  137,  143,  142,  132,  116,  110,   87,   65,   13,   11],\n",
    "       [ 572,  576,  591,  775,  923,  985, 1002, 1010,  924,  862,  903,\n",
    "         954, 1023, 1023,  920,  887,  876,  906, 1001,  995,  872,  718,\n",
    "         631,  564,  542,  533,  496,  399,  304,  238,  179,   72,   63,\n",
    "          58,  162,  214,  215,  187,  145,   61,   16,   19,  165,  256,\n",
    "         276,  275,  263,  206,  135,  142,  228,  268,  276,  283,  297,\n",
    "         319,  332,  342,  358,  369,  372,  422,  507,  543,  562,  572]])\n",
    "path = Path(polygon.T)\n"
   ]
  },
  {
   "cell_type": "code",
   "execution_count": 20,
   "metadata": {},
   "outputs": [
    {
     "data": {
      "text/plain": [
       "array([[236, 235, 235, 235, 235, 235, 235, 236, 235, 235, 235, 235, 235,\n",
       "        235, 234, 234, 234, 236],\n",
       "       [253, 264, 276, 286, 299, 310, 323, 335, 376, 391, 407, 424, 443,\n",
       "        464, 502, 512, 520, 253]])"
      ]
     },
     "execution_count": 20,
     "metadata": {},
     "output_type": "execute_result"
    }
   ],
   "source": [
    "polygon_new"
   ]
  },
  {
   "cell_type": "code",
   "execution_count": 79,
   "metadata": {},
   "outputs": [
    {
     "name": "stdout",
     "output_type": "stream",
     "text": [
      "Available filter methods: eig0, eig1, harris, trigs, harmonic_mean, eig_theta, eig_theta_off, eig0_test, eig1_test\n"
     ]
    },
    {
     "name": "stderr",
     "output_type": "stream",
     "text": [
      "C:\\Users\\thijsmas\\AppData\\Local\\Temp\\ipykernel_5188\\3382638077.py:32: PendingDeprecationWarning: The set_tight_layout function will be deprecated in a future version. Use set_layout_engine instead.\n",
      "  fig.set_tight_layout(True)\n"
     ]
    }
   ],
   "source": [
    "%matplotlib qt\n",
    "roi_size_vec = [(9,9)] #, (5,5), (7,7), (9,9), (11,11), (13, 13), (15,15)]\n",
    "n_tracking_points = 3000\n",
    "processors = 12\n",
    "\n",
    "# roi_size_2d = (15,15)\n",
    "reference_image = (0, 150)\n",
    "# n_tracking_points = 2400\n",
    "mean_image      = np.mean(video.mraw[reference_image[0]:reference_image[1]], axis=0)\n",
    "\n",
    "for roi_size_2d in roi_size_vec:\n",
    "    feature_selecter = FeatureSelecter(still_image)\n",
    "    feature_selecter.set_filter_method('eig0', roi_size_2d)\n",
    "    # feature_selecter.plot_image()\n",
    "    score_full = feature_selecter.apply_filter(downsample=1)\n",
    "\n",
    "    mask_image = path.contains_points(np.array([(i,j) for i in range(mean_image.shape[0]) for j in range(mean_image.shape[1])])).reshape(mean_image.shape)\n",
    "    mask_image = mask_image.reshape(mean_image.shape)\n",
    "\n",
    "    score_full[~mask_image] = 0\n",
    "    score_full[mean_image >= int(0.99*(2**bit_depth-1))] = 0\n",
    "    # score_full[mean_image >= int(0.7 * (2**bit_depth-1))] = 0\n",
    "\n",
    "    # maxima2d = feature_selecter.pick_max_filter(score_image = None, min_distance = 3, absolute_treshold = None, threshold_percentage = 20, top_n_points = n_tracking_points)\n",
    "    maxima2d = feature_selecter.pick_max_loop(score_image = None, min_distance = (5,5), n_points = n_tracking_points, minimum_score= 10)\n",
    "    score_list = score_full[maxima2d[:, 0], maxima2d[:, 1]]\n",
    "    # maxima = feature_selecter.pick_ANMS(n_points = n_tracking_points, c_robust = 0.3)\n",
    "    feature_selecter.plot_score_image(maxima=False)\n",
    "\n",
    "\n",
    "    fig, ax = plt.subplots(1, 1, figsize=(15, 7.5))\n",
    "    fig.set_tight_layout(True)\n",
    "    ax.set_xticks([])\n",
    "    ax.set_yticks([])\n",
    "    ax.imshow(mean_image, cmap='gray')\n",
    "    ax.scatter(maxima2d[:,1], maxima2d[:,0], marker='o',s=10, c=score_list, cmap='RdYlGn')\n",
    "    ax.plot(polygon[1], polygon[0], color='k', lw=0.5)\n",
    "    plt.savefig(os.path.join(EMA_structure.root_cam, file_name_vec[0] + '_maxima2d_' + str(roi_size_2d[0]) + 'x' + str(roi_size_2d[1]) + '_3.png'), dpi=300)\n",
    "    plt.close()\n",
    "    video.set_method('lk')\n",
    "    video.method.configure(roi_size = roi_size_2d, reference_image = reference_image,  resume_analysis=False) #, mraw_range=(1, 1000)\n",
    "    video.set_points(maxima2d)\n",
    "    video.show_points()\n",
    "    # start_time = time.time()\n",
    "    # displacement = video.get_displacements(processes = processors)\n",
    "    # end_time = time.time()\n",
    "    # elapsed_time = end_time - start_time\n",
    "    # print(f'roi_size: {roi_size_2d},  elapsed_time: {elapsed_time}, total steps: {video.method.total_steps}')"
   ]
  },
  {
   "cell_type": "code",
   "execution_count": null,
   "metadata": {},
   "outputs": [],
   "source": [
    "# processors = 24\n",
    "\n",
    "# video.set_method('lk')\n",
    "# roi_size = (7, 7)\n",
    "# video.method.configure(roi_size = roi_size, reference_image = reference_image,  resume_analysis=False) #, mraw_range=(1, 1000)\n",
    "# video.set_points(maxima2d)\n",
    "# displacements = video.get_displacements(processes=processors)"
   ]
  },
  {
   "cell_type": "code",
   "execution_count": 85,
   "metadata": {},
   "outputs": [
    {
     "name": "stdout",
     "output_type": "stream",
     "text": [
      "Available filter methods: eig0, eig1, harris, trigs, harmonic_mean, eig_theta, eig_theta_off, eig0_test, eig1_test\n"
     ]
    },
    {
     "name": "stderr",
     "output_type": "stream",
     "text": [
      "C:\\Users\\thijsmas\\AppData\\Local\\Temp\\ipykernel_5188\\3454270261.py:33: PendingDeprecationWarning: The set_tight_layout function will be deprecated in a future version. Use set_layout_engine instead.\n",
      "  fig.set_tight_layout(True)\n"
     ]
    },
    {
     "name": "stdout",
     "output_type": "stream",
     "text": [
      "--- Starting new analysis ---\n",
      " \n",
      "Computation start: 2024-05-13 14:51:54.485014\n"
     ]
    },
    {
     "name": "stderr",
     "output_type": "stream",
     "text": [
      "c:\\Users\\thijsmas\\AppData\\Local\\anaconda3\\Lib\\site-packages\\ipywidgets\\widgets\\widget.py:528: DeprecationWarning: The `ipykernel.comm.Comm` class has been deprecated. Please use the `comm` module instead.For creating comms, use the function `from comm import create_comm`.\n",
      "  self.comm = Comm(**args)\n"
     ]
    },
    {
     "data": {
      "application/vnd.jupyter.widget-view+json": {
       "model_id": "e3d432d5834b4176946432adfb41a875",
       "version_major": 2,
       "version_minor": 0
      },
      "text/plain": [
       "VBox()"
      ]
     },
     "metadata": {},
     "output_type": "display_data"
    },
    {
     "ename": "KeyboardInterrupt",
     "evalue": "",
     "output_type": "error",
     "traceback": [
      "\u001b[1;31m---------------------------------------------------------------------------\u001b[0m",
      "\u001b[1;31mKeyboardInterrupt\u001b[0m                         Traceback (most recent call last)",
      "Cell \u001b[1;32mIn[85], line 46\u001b[0m\n\u001b[0;32m     44\u001b[0m video\u001b[38;5;241m.\u001b[39mshow_points()\n\u001b[0;32m     45\u001b[0m \u001b[38;5;66;03m# start_time = time.time()\u001b[39;00m\n\u001b[1;32m---> 46\u001b[0m displacement \u001b[38;5;241m=\u001b[39m video\u001b[38;5;241m.\u001b[39mget_displacements(processes \u001b[38;5;241m=\u001b[39m processors)\n",
      "File \u001b[1;32m~\\Documents\\GitHub\\pyidi\\pyidi\\pyidi.py:184\u001b[0m, in \u001b[0;36mpyIDI.get_displacements\u001b[1;34m(self, autosave, **kwargs)\u001b[0m\n\u001b[0;32m    175\u001b[0m \u001b[38;5;250m\u001b[39m\u001b[38;5;124;03m\"\"\"\u001b[39;00m\n\u001b[0;32m    176\u001b[0m \u001b[38;5;124;03mCalculate the displacements based on chosen method.\u001b[39;00m\n\u001b[0;32m    177\u001b[0m \n\u001b[1;32m   (...)\u001b[0m\n\u001b[0;32m    181\u001b[0m \u001b[38;5;124;03m---\u001b[39;00m\n\u001b[0;32m    182\u001b[0m \u001b[38;5;124;03m\"\"\"\u001b[39;00m\n\u001b[0;32m    183\u001b[0m \u001b[38;5;28;01mif\u001b[39;00m \u001b[38;5;28mhasattr\u001b[39m(\u001b[38;5;28mself\u001b[39m, \u001b[38;5;124m'\u001b[39m\u001b[38;5;124mmethod\u001b[39m\u001b[38;5;124m'\u001b[39m):\n\u001b[1;32m--> 184\u001b[0m     \u001b[38;5;28mself\u001b[39m\u001b[38;5;241m.\u001b[39mmethod\u001b[38;5;241m.\u001b[39mcalculate_displacements(\u001b[38;5;28mself\u001b[39m, \u001b[38;5;241m*\u001b[39m\u001b[38;5;241m*\u001b[39mkwargs)\n\u001b[0;32m    185\u001b[0m     \u001b[38;5;28mself\u001b[39m\u001b[38;5;241m.\u001b[39mdisplacements \u001b[38;5;241m=\u001b[39m \u001b[38;5;28mself\u001b[39m\u001b[38;5;241m.\u001b[39mmethod\u001b[38;5;241m.\u001b[39mdisplacements\n\u001b[0;32m    187\u001b[0m     \u001b[38;5;66;03m# auto-save and clearing temp files\u001b[39;00m\n",
      "File \u001b[1;32m~\\Documents\\GitHub\\pyidi\\pyidi\\methods\\_directional_lucas_kanade.py:205\u001b[0m, in \u001b[0;36mLucasKanade_1D.calculate_displacements\u001b[1;34m(self, video, **kwargs)\u001b[0m\n\u001b[0;32m    202\u001b[0m     \u001b[38;5;28;01mif\u001b[39;00m \u001b[38;5;129;01mnot\u001b[39;00m \u001b[38;5;28mself\u001b[39m\u001b[38;5;241m.\u001b[39mresume_analysis:\n\u001b[0;32m    203\u001b[0m         \u001b[38;5;28mself\u001b[39m\u001b[38;5;241m.\u001b[39mcreate_temp_files(init_multi\u001b[38;5;241m=\u001b[39m\u001b[38;5;28;01mTrue\u001b[39;00m)\n\u001b[1;32m--> 205\u001b[0m     \u001b[38;5;28mself\u001b[39m\u001b[38;5;241m.\u001b[39mdisplacements \u001b[38;5;241m=\u001b[39m multi(video, \u001b[38;5;28mself\u001b[39m\u001b[38;5;241m.\u001b[39mprocesses)\n\u001b[0;32m    206\u001b[0m     \u001b[38;5;66;03m# return?\u001b[39;00m\n\u001b[0;32m    207\u001b[0m \n\u001b[0;32m    208\u001b[0m \u001b[38;5;28;01melse\u001b[39;00m:\n\u001b[0;32m    209\u001b[0m     \u001b[38;5;28mself\u001b[39m\u001b[38;5;241m.\u001b[39mimage_size \u001b[38;5;241m=\u001b[39m video\u001b[38;5;241m.\u001b[39mmraw\u001b[38;5;241m.\u001b[39mshape[\u001b[38;5;241m-\u001b[39m\u001b[38;5;241m2\u001b[39m:]\n",
      "File \u001b[1;32m~\\Documents\\GitHub\\pyidi\\pyidi\\methods\\_directional_lucas_kanade.py:756\u001b[0m, in \u001b[0;36mmulti\u001b[1;34m(video, processes)\u001b[0m\n\u001b[0;32m    754\u001b[0m     \u001b[38;5;28;01mfor\u001b[39;00m i, p \u001b[38;5;129;01min\u001b[39;00m \u001b[38;5;28menumerate\u001b[39m(points_split):\n\u001b[0;32m    755\u001b[0m         mcore\u001b[38;5;241m.\u001b[39mrun(worker, p, idi_kwargs, method_kwargs, i)\n\u001b[1;32m--> 756\u001b[0m     returns \u001b[38;5;241m=\u001b[39m mcore\u001b[38;5;241m.\u001b[39mreturns()\n\u001b[0;32m    758\u001b[0m out \u001b[38;5;241m=\u001b[39m []\n\u001b[0;32m    759\u001b[0m \u001b[38;5;28;01mfor\u001b[39;00m r \u001b[38;5;129;01min\u001b[39;00m returns:\n",
      "File \u001b[1;32mc:\\Users\\thijsmas\\AppData\\Local\\anaconda3\\Lib\\site-packages\\mantichora\\main.py:78\u001b[0m, in \u001b[0;36mmantichora.returns\u001b[1;34m(self)\u001b[0m\n\u001b[0;32m     64\u001b[0m \u001b[38;5;28;01mdef\u001b[39;00m \u001b[38;5;21mreturns\u001b[39m(\u001b[38;5;28mself\u001b[39m):\n\u001b[0;32m     65\u001b[0m \u001b[38;5;250m    \u001b[39m\u001b[38;5;124;03m\"\"\"return a list of return values of the task functions\u001b[39;00m\n\u001b[0;32m     66\u001b[0m \n\u001b[0;32m     67\u001b[0m \u001b[38;5;124;03m    The return values are sorted in the order of the task\u001b[39;00m\n\u001b[1;32m   (...)\u001b[0m\n\u001b[0;32m     76\u001b[0m \n\u001b[0;32m     77\u001b[0m \u001b[38;5;124;03m    \"\"\"\u001b[39;00m\n\u001b[1;32m---> 78\u001b[0m     pairs \u001b[38;5;241m=\u001b[39m \u001b[38;5;28mself\u001b[39m\u001b[38;5;241m.\u001b[39mreceive_all() \u001b[38;5;66;03m# list of pairs (runid, result)\u001b[39;00m\n\u001b[0;32m     79\u001b[0m     \u001b[38;5;28;01mreturn\u001b[39;00m [p[\u001b[38;5;241m1\u001b[39m] \u001b[38;5;28;01mfor\u001b[39;00m p \u001b[38;5;129;01min\u001b[39;00m pairs]\n",
      "File \u001b[1;32mc:\\Users\\thijsmas\\AppData\\Local\\anaconda3\\Lib\\site-packages\\mantichora\\main.py:110\u001b[0m, in \u001b[0;36mmantichora.receive_all\u001b[1;34m(self)\u001b[0m\n\u001b[0;32m    109\u001b[0m \u001b[38;5;28;01mdef\u001b[39;00m \u001b[38;5;21mreceive_all\u001b[39m(\u001b[38;5;28mself\u001b[39m):\n\u001b[1;32m--> 110\u001b[0m     \u001b[38;5;28;01mreturn\u001b[39;00m \u001b[38;5;28mself\u001b[39m\u001b[38;5;241m.\u001b[39mhub\u001b[38;5;241m.\u001b[39mreceive()\n",
      "File \u001b[1;32mc:\\Users\\thijsmas\\AppData\\Local\\anaconda3\\Lib\\site-packages\\mantichora\\hubmp.py:164\u001b[0m, in \u001b[0;36mMultiprocessingHub.receive\u001b[1;34m(self)\u001b[0m\n\u001b[0;32m    162\u001b[0m messages \u001b[38;5;241m=\u001b[39m [ ] \u001b[38;5;66;03m# a list of (task_idx, result)\u001b[39;00m\n\u001b[0;32m    163\u001b[0m \u001b[38;5;28;01mwhile\u001b[39;00m \u001b[38;5;28mself\u001b[39m\u001b[38;5;241m.\u001b[39mn_ongoing_tasks \u001b[38;5;241m>\u001b[39m\u001b[38;5;241m=\u001b[39m \u001b[38;5;241m1\u001b[39m:\n\u001b[1;32m--> 164\u001b[0m     messages\u001b[38;5;241m.\u001b[39mextend(\u001b[38;5;28mself\u001b[39m\u001b[38;5;241m.\u001b[39m_receive_finished())\n\u001b[0;32m    166\u001b[0m \u001b[38;5;66;03m# sort in the order of task_idx\u001b[39;00m\n\u001b[0;32m    167\u001b[0m messages \u001b[38;5;241m=\u001b[39m \u001b[38;5;28msorted\u001b[39m(messages, key\u001b[38;5;241m=\u001b[39mitemgetter(\u001b[38;5;241m0\u001b[39m))\n",
      "File \u001b[1;32mc:\\Users\\thijsmas\\AppData\\Local\\anaconda3\\Lib\\site-packages\\mantichora\\hubmp.py:176\u001b[0m, in \u001b[0;36mMultiprocessingHub._receive_finished\u001b[1;34m(self)\u001b[0m\n\u001b[0;32m    174\u001b[0m \u001b[38;5;28;01mdef\u001b[39;00m \u001b[38;5;21m_receive_finished\u001b[39m(\u001b[38;5;28mself\u001b[39m):\n\u001b[0;32m    175\u001b[0m     messages \u001b[38;5;241m=\u001b[39m [ ] \u001b[38;5;66;03m# a list of (task_idx, result)\u001b[39;00m\n\u001b[1;32m--> 176\u001b[0m     \u001b[38;5;28;01mwhile\u001b[39;00m \u001b[38;5;129;01mnot\u001b[39;00m \u001b[38;5;28mself\u001b[39m\u001b[38;5;241m.\u001b[39mresult_queue\u001b[38;5;241m.\u001b[39mempty():\n\u001b[0;32m    177\u001b[0m         message \u001b[38;5;241m=\u001b[39m \u001b[38;5;28mself\u001b[39m\u001b[38;5;241m.\u001b[39mresult_queue\u001b[38;5;241m.\u001b[39mget()\n\u001b[0;32m    178\u001b[0m         messages\u001b[38;5;241m.\u001b[39mappend(message)\n",
      "File \u001b[1;32mc:\\Users\\thijsmas\\AppData\\Local\\anaconda3\\Lib\\multiprocessing\\queues.py:129\u001b[0m, in \u001b[0;36mQueue.empty\u001b[1;34m(self)\u001b[0m\n\u001b[0;32m    128\u001b[0m \u001b[38;5;28;01mdef\u001b[39;00m \u001b[38;5;21mempty\u001b[39m(\u001b[38;5;28mself\u001b[39m):\n\u001b[1;32m--> 129\u001b[0m     \u001b[38;5;28;01mreturn\u001b[39;00m \u001b[38;5;129;01mnot\u001b[39;00m \u001b[38;5;28mself\u001b[39m\u001b[38;5;241m.\u001b[39m_poll()\n",
      "File \u001b[1;32mc:\\Users\\thijsmas\\AppData\\Local\\anaconda3\\Lib\\multiprocessing\\connection.py:256\u001b[0m, in \u001b[0;36m_ConnectionBase.poll\u001b[1;34m(self, timeout)\u001b[0m\n\u001b[0;32m    254\u001b[0m \u001b[38;5;28mself\u001b[39m\u001b[38;5;241m.\u001b[39m_check_closed()\n\u001b[0;32m    255\u001b[0m \u001b[38;5;28mself\u001b[39m\u001b[38;5;241m.\u001b[39m_check_readable()\n\u001b[1;32m--> 256\u001b[0m \u001b[38;5;28;01mreturn\u001b[39;00m \u001b[38;5;28mself\u001b[39m\u001b[38;5;241m.\u001b[39m_poll(timeout)\n",
      "File \u001b[1;32mc:\\Users\\thijsmas\\AppData\\Local\\anaconda3\\Lib\\multiprocessing\\connection.py:327\u001b[0m, in \u001b[0;36mPipeConnection._poll\u001b[1;34m(self, timeout)\u001b[0m\n\u001b[0;32m    325\u001b[0m \u001b[38;5;28;01mdef\u001b[39;00m \u001b[38;5;21m_poll\u001b[39m(\u001b[38;5;28mself\u001b[39m, timeout):\n\u001b[0;32m    326\u001b[0m     \u001b[38;5;28;01mif\u001b[39;00m (\u001b[38;5;28mself\u001b[39m\u001b[38;5;241m.\u001b[39m_got_empty_message \u001b[38;5;129;01mor\u001b[39;00m\n\u001b[1;32m--> 327\u001b[0m                 _winapi\u001b[38;5;241m.\u001b[39mPeekNamedPipe(\u001b[38;5;28mself\u001b[39m\u001b[38;5;241m.\u001b[39m_handle)[\u001b[38;5;241m0\u001b[39m] \u001b[38;5;241m!=\u001b[39m \u001b[38;5;241m0\u001b[39m):\n\u001b[0;32m    328\u001b[0m         \u001b[38;5;28;01mreturn\u001b[39;00m \u001b[38;5;28;01mTrue\u001b[39;00m\n\u001b[0;32m    329\u001b[0m     \u001b[38;5;28;01mreturn\u001b[39;00m \u001b[38;5;28mbool\u001b[39m(wait([\u001b[38;5;28mself\u001b[39m], timeout))\n",
      "\u001b[1;31mKeyboardInterrupt\u001b[0m: "
     ]
    }
   ],
   "source": [
    "%matplotlib qt\n",
    "# roi_size_vec = [(1,1), (3,3), (5,5), (7,7), (9,9), (11,11), (13, 13), (15,15)]\n",
    "roi_size_vec = [(3, 3)]\n",
    "# n_tracking_points = 50000\n",
    "# n_tracking_points = 100 #[3750, 3500, 3150, 2950, 3100, 2950]\n",
    "processors = 12\n",
    "\n",
    "# roi_size_1d = (15, 15)\n",
    "n_tracking_points = 10500\n",
    "Gi, Gj = np.gradient(mean_image)\n",
    "s = np.array([0,1])\n",
    "Gs  = np.abs(s[1]*Gi + s[0]*Gj)\n",
    "dyx = (1, 0)\n",
    "smoothing_size = (1,1)\n",
    "\n",
    "for roi_size_1d in roi_size_vec:\n",
    "    feature_selecter = FeatureSelecter(still_image)\n",
    "    filtered_image = uniform_filter(Gs, size=roi_size_1d)\n",
    "\n",
    "    mask_image = path.contains_points(np.array([(i,j) for i in range(mean_image.shape[0]) for j in range(mean_image.shape[1])])).reshape(mean_image.shape)\n",
    "    mask_image = mask_image.reshape(mean_image.shape)\n",
    "\n",
    "    filtered_image[~mask_image] = 0\n",
    "    filtered_image[mean_image >= int(0.99*(2**bit_depth-1))] = 0\n",
    "\n",
    "    # maxima1d = feature_selecter.pick_max_filter(score_image = filtered_image, min_distance = 3, absolute_treshold = None, threshold_percentage = None, top_n_points = n_tracking_points)\n",
    "    maxima1d = feature_selecter.pick_max_loop(score_image = filtered_image, min_distance = (3,3), n_points = n_tracking_points, minimum_score= 10)\n",
    "    score_list = filtered_image[maxima1d[:, 0], maxima1d[:, 1]]\n",
    "    feature_selecter.score_image = filtered_image\n",
    "    feature_selecter.plot_score_image(maxima=False)\n",
    "\n",
    "    fig, ax = plt.subplots(1, 1, figsize=(15, 7.5))\n",
    "    fig.set_tight_layout(True)\n",
    "    ax.set_xticks([])\n",
    "    ax.set_yticks([])\n",
    "    ax.imshow(mean_image, cmap='gray')\n",
    "    ax.scatter(maxima1d[:,1], maxima1d[:,0], marker='o',s=10, c=score_list, cmap='RdYlGn')\n",
    "    ax.plot(polygon[1], polygon[0], color='k', lw=0.5)\n",
    "    plt.savefig(os.path.join(EMA_structure.root_cam, file_name_vec[0] + '_maxima1d_' + str(roi_size_1d[0]) + 'x' + str(roi_size_1d[1]) + '_3.png'), dpi=300)\n",
    "\n",
    "    video.set_method('lk_1D')\n",
    "    video.method.configure(roi_size = roi_size_1d, dyx = dyx, reference_image = reference_image,  resume_analysis=False, smoothing_size = smoothing_size) #, mraw_range=(1, 1000)\n",
    "    video.set_points(maxima1d)\n",
    "    video.show_points()\n",
    "    # start_time = time.time()\n",
    "    displacement = video.get_displacements(processes = processors)\n",
    "    # end_time = time.time()\n",
    "    # elapsed_time = end_time - start_time\n",
    "    # print(f'roi_size: {roi_size_1d},  elapsed_time: {elapsed_time}, total steps: {video.method.total_steps}')"
   ]
  },
  {
   "cell_type": "code",
   "execution_count": 26,
   "metadata": {},
   "outputs": [
    {
     "data": {
      "text/plain": [
       "array([[236, 235, 235, 235, 235, 235, 235, 236, 235, 235, 235, 235, 235,\n",
       "        235, 234, 234, 234, 236]])"
      ]
     },
     "execution_count": 26,
     "metadata": {},
     "output_type": "execute_result"
    }
   ],
   "source": [
    "points_radial"
   ]
  },
  {
   "cell_type": "code",
   "execution_count": 48,
   "metadata": {},
   "outputs": [
    {
     "name": "stdout",
     "output_type": "stream",
     "text": [
      "--- Starting new analysis ---\n",
      " \n",
      "Computation start: 2024-05-24 13:20:32.536585\n"
     ]
    },
    {
     "data": {
      "application/vnd.jupyter.widget-view+json": {
       "model_id": "66d5b0d608254fc1b7a13bb5102872bd",
       "version_major": 2,
       "version_minor": 0
      },
      "text/plain": [
       "VBox()"
      ]
     },
     "metadata": {},
     "output_type": "display_data"
    },
    {
     "name": "stdout",
     "output_type": "stream",
     "text": [
      "Computation duration: 00:00:16.83\n",
      "H:/My Drive/PHD/HSC\\ecc2\\web1\\Full_web_ecc2_new2_Floc18_v5_S01\\Full_web_ecc2_new2_Floc18_v5_S01_pyidi_analysis\\analysis_066\\ analysis_066\n"
     ]
    }
   ],
   "source": [
    "%matplotlib qt\n",
    "processors = 12\n",
    "roi_size = (11,11)\n",
    "reference_image = (0, 300)\n",
    "dyx = (0, 1)\n",
    "points_radial = polygon_new[:, :-1].T\n",
    "video.set_method('lk_1D')\n",
    "video.method.configure(roi_size = roi_size, dyx = dyx, reference_image = reference_image,  resume_analysis=False,  mraw_range=(300, 360)) #, mraw_range=(1, 1000)\n",
    "video.set_points(points_radial)\n",
    "video.show_points()\n",
    "displacement = video.get_displacements(processes = processors)\n",
    "# ani = EMA_structure.play_video(video, range(300,video.N - 1), interval=30)"
   ]
  },
  {
   "cell_type": "code",
   "execution_count": 51,
   "metadata": {},
   "outputs": [
    {
     "data": {
      "text/plain": [
       "(17, 60, 2)"
      ]
     },
     "execution_count": 51,
     "metadata": {},
     "output_type": "execute_result"
    }
   ],
   "source": [
    "displacement.shape"
   ]
  },
  {
   "cell_type": "code",
   "execution_count": 57,
   "metadata": {},
   "outputs": [
    {
     "name": "stderr",
     "output_type": "stream",
     "text": [
      "C:\\Users\\thijsmas\\AppData\\Local\\Temp\\ipykernel_34112\\3763026623.py:9: PendingDeprecationWarning: The set_tight_layout function will be deprecated in a future version. Use set_layout_engine instead.\n",
      "  fig.set_tight_layout(True)\n"
     ]
    },
    {
     "data": {
      "text/plain": [
       "Text(0, 0.5, 'Displacement [px]')"
      ]
     },
     "execution_count": 57,
     "metadata": {},
     "output_type": "execute_result"
    }
   ],
   "source": [
    "td = points_radial[:,np.newaxis] + displacement\n",
    "\n",
    "td_zero_filled = np.zeros((td.shape[0], 299, td.shape[2]))\n",
    "td = np.concatenate((td_zero_filled, td), axis=1)\n",
    "\n",
    "ani = EMA_structure.play_video(video, range(300,400), interval=30, points = td)\n",
    "\n",
    "fig, ax = plt.subplots(1, 1, figsize=(15, 7.5))\n",
    "fig.set_tight_layout(True)\n",
    "for d_i in range(displacement.shape[0]):\n",
    "    d = displacement[d_i, 1:, 1] - displacement[d_i, 1, 1]\n",
    "    ax.plot(d)\n",
    "ax.set_xlabel('Frame')\n",
    "ax.set_ylabel('Displacement [px]')\n"
   ]
  },
  {
   "cell_type": "code",
   "execution_count": null,
   "metadata": {},
   "outputs": [],
   "source": [
    "# test = 5\n",
    "# test_name = 'analysis_' + str(test).zfill(3)\n",
    "# # with open(os.path.join(video.root, file_name_vec[0] +'_S01_pyidi_analysis', test_name,  'points.pkl'), 'rb') as f:\n",
    "# #     maxima_2d = pk.load(f)\n",
    "# # with open(os.path.join(video.root, file_name_vec[0] +'_S01_pyidi_analysis', test_name, 'results.pkl'), 'rb') as f:\n",
    "# #     displacements2D_2Dpoints = pk.load(f)\n",
    "# with open(os.path.join(video.root, file_name_vec[0] +'_S01_pyidi_analysis', test_name, 'settings.txt'), 'r') as f:\n",
    "#     settings_2d = f.read()\n",
    "\n",
    "# test = 6\n",
    "# test_name = 'analysis_' + str(test).zfill(3)\n",
    "# # with open(os.path.join(video.root, file_name_vec[0] +'_S01_pyidi_analysis', test_name,  'points.pkl'), 'rb') as f:\n",
    "# #     maxima1d = pk.load(f)\n",
    "# # with open(os.path.join(video.root, file_name_vec[0] +'_S01_pyidi_analysis', test_name, 'results.pkl'), 'rb') as f:\n",
    "# #     displacements1D_1Dpoints = pk.load(f)\n",
    "# with open(os.path.join(video.root, file_name_vec[0] +'_S01_pyidi_analysis', test_name, 'settings.txt'), 'r') as f:\n",
    "#     settings_1d = f.read()\n",
    "# settings_2d, settings_1d"
   ]
  },
  {
   "cell_type": "code",
   "execution_count": null,
   "metadata": {},
   "outputs": [],
   "source": [
    "df = pd.read_csv('H:/My Drive/PHD/HSC/file_descriptions_wlocs.csv')\n",
    "file_name_basis = 'Full_web_ecc2_new2_Floc18_v'\n",
    "v_vec = [5]\n",
    "file_name_vec = [file_name_basis + str(x) for x in v_vec]\n",
    "file_name_vec_video = [x + '_S01.cihx' for x in file_name_vec]\n",
    "df_filtered = df[df['filename'].isin(file_name_vec_video)]\n",
    "df_filtered\n",
    "\n",
    "test = '1D'\n",
    "if test == '1D':\n",
    "    # added_string = '_1d_and_2d_roi3x3'\n",
    "    # added_string = '_1d_roi1x1'\n",
    "    added_string = '_1d_roi3x3'\n",
    "    # added_string = '_1d_roi5x5'\n",
    "    # added_string = '_1d_roi5x5_with_smoothing'\n",
    "    # added_string = '_1d_roi5x3'\n",
    "    # added_string = '_1d_and_2d_5000_points'\n",
    "elif test == '2D':\n",
    "    # added_string = '_1d_and_2d_5000_points'\n",
    "    added_string = '_1d_and_2d_roi7x7'\n",
    "    # added_string = '_1d_and_2d_roi9x9'\n",
    "root = 'C:/Users/thijsmas/Documents/GitHub/pyidi_data/EMA structure'\n",
    "\n",
    "file_name = file_name_vec_video[0]\n",
    "file_name_EMAs = os.path.splitext(file_name_vec[0])[0] + added_string\n",
    "with open(os.path.join(root, file_name_EMAs + '.pkl'), 'rb') as f:\n",
    "    EMA_structure = pkl.load(f)\n",
    "points_save = EMA_structure.maxima1d\n",
    "disp_save = EMA_structure.displacements1D_1Dpoints"
   ]
  },
  {
   "cell_type": "code",
   "execution_count": null,
   "metadata": {},
   "outputs": [],
   "source": [
    "# video.set_method('lk')\n",
    "# video.method.configure(roi_size = roi_size_2d, reference_image = reference_image, resume_analysis=False) #, mraw_range=(1, 1000)\n",
    "# # video.set_points(maxima1d)\n",
    "# # displacements2D_1Dpoints = video.get_displacements(processes=12)\n",
    "# video.set_points(maxima2d)\n",
    "# video.show_points()\n",
    "# # displacements2D_2Dpoints = video.get_displacements(processes=24)"
   ]
  },
  {
   "cell_type": "code",
   "execution_count": null,
   "metadata": {},
   "outputs": [],
   "source": [
    "# %matplotlib qt\n",
    "# # td2d_1d = displacements2D_1Dpoints +  maxima1d.reshape(len(maxima1d),1,2)\n",
    "# td2d_2d = displacements2D_2Dpoints +  maxima2d.reshape(len(maxima2d),1,2)\n",
    "# ani = play_video(video, range(200, video.N-1), interval=10, points=td2d_2d[:, 1:, :])"
   ]
  },
  {
   "cell_type": "code",
   "execution_count": null,
   "metadata": {},
   "outputs": [],
   "source": [
    "processors = 24\n",
    "\n",
    "video.set_method('lk_1D')\n",
    "dyx = (1, 0)\n",
    "smoothing_size = (1,1)\n",
    "roi_size = (11,11)\n",
    "video.method.configure(roi_size = roi_size, dyx = dyx, reference_image = reference_image,  resume_analysis=False, smoothing_size = smoothing_size) #, mraw_range=(1, 1000)\n",
    "video.set_points(maxima1d)\n",
    "displacements = video.get_displacements(processes=processors)"
   ]
  },
  {
   "cell_type": "code",
   "execution_count": null,
   "metadata": {},
   "outputs": [],
   "source": [
    "%matplotlib qt\n",
    "td     = displacement +  maxima1d.reshape(len(maxima1d),1,2)\n",
    "# td_saved    = disp_save[::100] + points[::100].reshape(len(points[::100]),1,2)\n",
    "# td1d_2d     = displacements1D_2Dpoints +  maxima2d.reshape(len(maxima2d),1,2)\n",
    "ani = play_video(video, range(200, 500-1), interval=10, points=td, axis=([0, video.info['Image Width']],[video.info['Image Height'], 0]))\n",
    "# ani_saved = play_video(video, range(200, 500-1), interval=10, points=td_saved, axis=([0, video.info['Image Width']],[video.info['Image Height'], 0]))"
   ]
  },
  {
   "cell_type": "code",
   "execution_count": null,
   "metadata": {},
   "outputs": [],
   "source": [
    "%matplotlib inline\n",
    "fig, ax = plt.subplots(2)\n",
    "for d_i in displacement:\n",
    "    ax[0].plot(d_i[:,0])\n",
    "    ax[1].plot(d_i[:,1])\n",
    "ax[0].set_ylim(-5, 5)\n",
    "ax[0].set_xlim(250, 500)"
   ]
  },
  {
   "cell_type": "code",
   "execution_count": null,
   "metadata": {},
   "outputs": [],
   "source": [
    "# %matplotlib inline\n",
    "# point_1d = 8#4\n",
    "# point_2d = 8#4\n",
    "# window_size = 2 * 2\n",
    "# fig, ax = plt.subplots(1,2)\n",
    "# ax[0].imshow(mean_image, cmap='gray')\n",
    "# ax[0].set_xlim(maxima1d[point_1d, 1]-window_size, maxima1d[point_1d, 1]+window_size)\n",
    "# ax[0].set_ylim(maxima1d[point_1d, 0]-window_size, maxima1d[point_1d, 0]+window_size)\n",
    "# ax[0].plot(td1d_1d[point_1d, :, 1], td1d_1d[point_1d, :, 0], 'r-', label='1D - 1D points selection')\n",
    "# # ax[0].plot(td1d_2d[point_1d, :, 1], td1d_2d[point_1d, :, 0], 'b-', label='2D - 1D points selection')\n",
    "# ax[0].plot(maxima1d[:, 1], maxima1d[:, 0], 'rx')\n",
    "# ax[0].set_xticks([])\n",
    "# ax[0].set_yticks([])\n",
    "# ax[0].legend()\n",
    "\n",
    "# ax[1].imshow(mean_image, cmap='gray')\n",
    "# ax[1].set_xlim(maxima2d[point_2d, 1]-window_size, maxima2d[point_2d, 1]+window_size)\n",
    "# ax[1].set_ylim(maxima2d[point_2d, 0]-window_size, maxima2d[point_2d, 0]+window_size)\n",
    "# ax[1].plot(td2d_1d[point_2d, :, 1], td2d_1d[point_2d, :, 0], 'r-', label='1D - 2D points selection')\n",
    "# ax[1].plot(td2d_2d[point_2d, :, 1], td2d_2d[point_2d, :, 0], 'b-', label='2D - 2D points selection')\n",
    "# ax[1].plot(maxima2d[:, 1], maxima2d[:, 0], 'rx')\n",
    "# ax[1].set_xticks([])\n",
    "# ax[1].set_yticks([])\n",
    "# ax[1].legend()\n",
    "\n",
    "# # fig.savefig(os.path.join(EMA_structure.root_simulations,'1d-2d-motion',file_name_vec[0]+\"_motion_overlay_comparison.png\"), dpi=300, bbox_inches='tight')\n",
    "\n"
   ]
  },
  {
   "cell_type": "code",
   "execution_count": null,
   "metadata": {},
   "outputs": [],
   "source": [
    "# %matplotlib inline\n",
    "# t_vec = np.arange(0, len(td1d_1d[0, :, 0]), 1) /video.info['Record Rate(fps)']\n",
    "# point_1d = 8\n",
    "# point_2d = 8\n",
    "\n",
    "# fig, ax = plt.subplots(2, 1, figsize=(12, 12))\n",
    "# ax[0].plot(t_vec, displacements1D_1Dpoints[point_1d, :, 0], 'r', label='y-displacements (1D) - 1D points selection')\n",
    "# ax[0].plot(t_vec, displacements2D_1Dpoints[point_1d, :, 0], 'b--', label='y-displacements (2D) - 1D points selection')\n",
    "# # ax[0].plot(t_vec, np.linalg.norm(displacements2D[point, :], axis=1), label='2d-norm')\n",
    "# ax[0].set_xlabel('Time (s)')\n",
    "# ax[0].set_ylabel('Displacement (px)')\n",
    "# ax[0].legend()\n",
    "\n",
    "# ax[1].plot(t_vec, displacements2D_1Dpoints[point_2d, :, 0], 'r', label='y-displacements (1D) - 2D points selection')\n",
    "# ax[1].plot(t_vec, displacements2D_2Dpoints[point_2d, :, 0], 'b--', label='y-displacements (2D) - 2D points selection')\n",
    "# # ax[1].plot(t_vec, np.linalg.norm(displacements2D[point, :], axis=1), label='2d-norm')\n",
    "# ax[1].set_xlabel('Time (s)')\n",
    "# ax[1].set_ylabel('Displacement (px)')\n",
    "# ax[1].legend()\n",
    "# # fig.savefig(os.path.join(EMA_structure.root_simulations,'1d-2d-motion',file_name_vec[0]+\"_signals.png\"), dpi=300, bbox_inches='tight')"
   ]
  },
  {
   "cell_type": "code",
   "execution_count": null,
   "metadata": {},
   "outputs": [],
   "source": [
    "EMA_structure.displacements = displacements1D_1Dpoints\n",
    "# EMA_structure.displacements1D_2Dpoints = displacements1D_2Dpoints\n",
    "# EMA_structure.displacements2D_1Dpoints = displacements2D_1Dpoints\n",
    "# EMA_structure.displacements2D_2Dpoints = displacements2D_2Dpoints\n",
    "EMA_structure.maxima = points[:2]\n",
    "# EMA_structure.maxima2d = maxima2d\n",
    "EMA_structure.mean_image = mean_image\n",
    "root = 'C:/Users/thijsmas/Documents/GitHub/pyidi_data/'\n",
    "path = os.path.join(root, 'EMA structure', file_name_vec[0]+f'_1d_roi{roi_size_1d[0]}x{roi_size_1d[1]}_temp.pkl')\n",
    "with open(path, 'wb') as f:\n",
    "    pk.dump(EMA_structure, f)"
   ]
  }
 ],
 "metadata": {
  "kernelspec": {
   "display_name": "base",
   "language": "python",
   "name": "python3"
  },
  "language_info": {
   "codemirror_mode": {
    "name": "ipython",
    "version": 3
   },
   "file_extension": ".py",
   "mimetype": "text/x-python",
   "name": "python",
   "nbconvert_exporter": "python",
   "pygments_lexer": "ipython3",
   "version": "3.11.5"
  }
 },
 "nbformat": 4,
 "nbformat_minor": 2
}
