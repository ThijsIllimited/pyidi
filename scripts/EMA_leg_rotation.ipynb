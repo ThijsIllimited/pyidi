{
 "cells": [
  {
   "cell_type": "code",
   "execution_count": 1,
   "metadata": {},
   "outputs": [
    {
     "name": "stderr",
     "output_type": "stream",
     "text": [
      "c:\\Users\\thijsmas\\AppData\\Local\\anaconda3\\Lib\\site-packages\\paramiko\\transport.py:219: CryptographyDeprecationWarning: Blowfish has been deprecated\n",
      "  \"class\": algorithms.Blowfish,\n"
     ]
    }
   ],
   "source": [
    "%matplotlib inline\n",
    "import os\n",
    "import pickle\n",
    "from sdypy import EMA\n",
    "import numpy as np\n",
    "import matplotlib.pyplot as plt \n",
    "from EMA_functions import *\n",
    "import pandas as pd\n",
    "import matplotlib.animation as animation\n",
    "import matplotlib.cm as cm\n",
    "import matplotlib.colors as col\n",
    "# importlib.reload(EMA_functions)\n",
    "# from EMA_functions import animate_mode_shape"
   ]
  },
  {
   "cell_type": "code",
   "execution_count": 2,
   "metadata": {},
   "outputs": [
    {
     "name": "stdout",
     "output_type": "stream",
     "text": [
      "H:/My Drive/PHD/HSC\\ecc0\\web0\\Full_web_ecc0_new_Floc9_v0_S01\\Full_web_ecc0_new_Floc9_v0_S01.cihx\n"
     ]
    },
    {
     "name": "stderr",
     "output_type": "stream",
     "text": [
      "c:\\Users\\thijsmas\\AppData\\Local\\anaconda3\\Lib\\site-packages\\pyMRAW.py:103: UserWarning: Clipped footage! (Total frame: 10000, Original total frame: 87371)\n",
      "  warnings.warn('Clipped footage! (Total frame: {}, Original total frame: {})'.format(cih['Total Frame'], cih['Original Total Frame'] ))\n"
     ]
    }
   ],
   "source": [
    "# root_disp = os.path.normpath(r'G:/.shortcut-targets-by-id/1k1B8zPb3T8H7y6x0irFZnzzmfQPHMRPx/Illimited Lab Projects/Spiders/Simulations')\n",
    "df = pd.read_csv('H:/My Drive/PHD/HSC/file_descriptions_wlocs.csv')\n",
    "# file_name = \"Full_web_ecc0_new_Floc4_v1\" # First attempt\n",
    "# file_name_vec = ['Full_web_ecc0_new_Floc9_v0', \n",
    "#                  'Full_web_ecc0_new_Floc9_v1', \n",
    "#                  'Full_web_ecc1_new_Floc1_v4',\n",
    "#                  'Full_web_ecc1_new_Floc1_v5',\n",
    "#                  'Full_web_ecc2_new_Floc7_v0',\n",
    "#                  'Full_web_ecc2_new_Floc7_v1']\n",
    "# file_name = file_name_vec[5]\n",
    "file_name = 'Full_web_ecc0_new_Floc9_v0'\n",
    "\n",
    "EMA_structure = EMA_Structure.load(file_name)\n",
    "video  = EMA_structure.open_video()\n"
   ]
  },
  {
   "cell_type": "code",
   "execution_count": 3,
   "metadata": {},
   "outputs": [
    {
     "data": {
      "text/plain": [
       "(534, 279)"
      ]
     },
     "execution_count": 3,
     "metadata": {},
     "output_type": "execute_result"
    }
   ],
   "source": [
    "height_pixels = 70\n",
    "width_elipse = 130\n",
    "EMA_structure.spider_ij = (534, 279)\n",
    "inside_and_valid, angle_sections, bucket_edges = section_classifier(EMA_structure, n_sections = 8, width_elipse = width_elipse, height_elipse = height_pixels)\n",
    "d_hub = EMA_structure.d[inside_and_valid]\n",
    "EMA_structure.spider_ij"
   ]
  },
  {
   "cell_type": "code",
   "execution_count": 7,
   "metadata": {},
   "outputs": [
    {
     "name": "stderr",
     "output_type": "stream",
     "text": [
      "C:\\Users\\thijsmas\\AppData\\Local\\Temp\\ipykernel_21020\\82171704.py:3: MatplotlibDeprecationWarning: The get_cmap function was deprecated in Matplotlib 3.7 and will be removed two minor releases later. Use ``matplotlib.colormaps[name]`` or ``matplotlib.colormaps.get_cmap(obj)`` instead.\n",
      "  cmap_circ = cm.get_cmap('Accent')\n",
      "C:\\Users\\thijsmas\\AppData\\Local\\Temp\\ipykernel_21020\\82171704.py:14: UserWarning: *c* argument looks like a single numeric RGB or RGBA sequence, which should be avoided as value-mapping will have precedence in case its length matches with *x* & *y*.  Please use the *color* keyword-argument or provide a 2D array with a single row if you intend to specify the same RGB or RGBA value for all points.\n",
      "  ax.scatter(EMA_structure.tp[inside_and_valid,1][current_points], EMA_structure.tp[inside_and_valid,0][current_points], s = 5, c = sm.to_rgba(section/(n_sections-1)))\n"
     ]
    }
   ],
   "source": [
    "%matplotlib qt\n",
    "\n",
    "cmap_circ = cm.get_cmap('Accent')\n",
    "norm = col.Normalize(vmin=0, vmax=1)\n",
    "sm = cm.ScalarMappable(norm = norm, cmap=cmap_circ)\n",
    "n_sections = 8\n",
    "fig, ax = plt.subplots(figsize = (10,10))\n",
    "ax.set_aspect('equal')\n",
    "ax.set_xlim(EMA_structure.spider_ij[0]-width_elipse*.6, EMA_structure.spider_ij[0]+width_elipse*.6)\n",
    "ax.set_ylim(EMA_structure.spider_ij[1]+height_pixels*.6, EMA_structure.spider_ij[1]-height_pixels*.6)\n",
    "ax.plot([EMA_structure.spider_ij[0],EMA_structure.prey_ij[0]], [EMA_structure.spider_ij[1],EMA_structure.prey_ij[1]], 'k--')\n",
    "for section in range(n_sections):\n",
    "    current_points = angle_sections == section\n",
    "    ax.scatter(EMA_structure.tp[inside_and_valid,1][current_points], EMA_structure.tp[inside_and_valid,0][current_points], s = 5, c = sm.to_rgba(section/(n_sections-1)))"
   ]
  },
  {
   "cell_type": "code",
   "execution_count": 5,
   "metadata": {},
   "outputs": [],
   "source": [
    "%matplotlib qt\n",
    "dt = 1/EMA_structure.fs_camera\n",
    "fig, ax = plt.subplots()\n",
    "ax.set_xlabel('Time (s)')\n",
    "ax.set_ylabel('Displacement (pixels)')\n",
    "d_save = np.zeros((n_sections, len(d_hub[0]), 2))\n",
    "for section in range(n_sections):\n",
    "    current_points = angle_sections == section\n",
    "    d = np.average(d_hub[current_points], axis = 0)\n",
    "    d_save[section] = d\n",
    "    ax.plot(np.arange(0,len(d))*dt, d[:,0], c = sm.to_rgba(section/(n_sections-1)), label = 'Section {}'.format(section))"
   ]
  },
  {
   "cell_type": "code",
   "execution_count": 6,
   "metadata": {},
   "outputs": [],
   "source": [
    "fig, ax = plt.subplots()\n",
    "ax.set_xlabel('Time (s)')\n",
    "ax.set_ylabel('rotation (-)')\n",
    "d_rot = np.zeros((n_sections//2, len(d_hub[0]), 2))\n",
    "for section in range(n_sections//2):\n",
    "    d_rot[section] = d_save[section] - d_save[section+4]\n",
    "    ax.plot(np.arange(0,len(d))*dt, d_rot[section][:,0], c = sm.to_rgba(section/(n_sections/2-1)), label = 'Section {}'.format(section))\n"
   ]
  },
  {
   "cell_type": "code",
   "execution_count": null,
   "metadata": {},
   "outputs": [],
   "source": [
    "EMA_structure.disp_fft = EMA_structure._FFT_on_signal(d_rot, EMA_structure.n_d)\n",
    "n_freq = len(EMA_structure.freq_camera)\n",
    "EMA_structure.disp_fft[1:] *= 2\n",
    "EMA_structure.disp_fft = EMA_structure.disp_fft[:,:n_freq]"
   ]
  },
  {
   "cell_type": "code",
   "execution_count": null,
   "metadata": {},
   "outputs": [],
   "source": [
    "EMA_structure.get_transfer_function()"
   ]
  },
  {
   "cell_type": "code",
   "execution_count": null,
   "metadata": {},
   "outputs": [],
   "source": [
    "%matplotlib qt\n",
    "fig, ax = plt.subplots(figsize=(15, 5))\n",
    "ax.semilogy(EMA_structure.freq_force, np.abs(EMA_structure.force_fft), label='Force')\n",
    "for section in range(n_sections//2):\n",
    "    ax.semilogy(EMA_structure.freq_camera, np.abs(EMA_structure.disp_fft[section]), label='Displacement')\n",
    "ax.set_xlim(0, 50)\n",
    "ax.set_xlabel('Frequency [Hz]')\n",
    "ax.set_ylabel('Force [N], Displacment [m] amplitude spectra')\n",
    "# plt.legend()"
   ]
  },
  {
   "cell_type": "code",
   "execution_count": null,
   "metadata": {},
   "outputs": [],
   "source": [
    "fig, ax = plt.subplots(2,1,figsize=(15, 9))\n",
    "ax[0].plot(EMA_structure.freq_camera, np.abs(EMA_structure.H1[EMA_structure.valid_tps][0]), 'k', linewidth=0.1, alpha=0.1, label='|H1i|')\n",
    "ax[0].plot(EMA_structure.freq_camera, np.mean(np.abs(EMA_structure.H1[EMA_structure.valid_tps]), axis=0),'g', label='|H1| mean')\n",
    "ax[1].semilogy(EMA_structure.freq_camera, np.mean(np.abs(EMA_structure.H1[EMA_structure.valid_tps]), axis=0),'g', label='|H1| mean')\n",
    "for tp_id in range(1, len(EMA_structure.tp[EMA_structure.valid_tps]),15):\n",
    "    ax[0].plot(EMA_structure.freq_camera, np.abs(EMA_structure.H1[EMA_structure.valid_tps][tp_id]), 'k', linewidth=0.1, alpha=0.1)\n",
    "    ax[1].semilogy(EMA_structure.freq_camera, np.abs(EMA_structure.H1[EMA_structure.valid_tps][tp_id]), 'k', linewidth=0.1, alpha=0.1)\n",
    "ax[0].set_ylabel('|H|')\n",
    "ax[0].set_xlim(0, 100)\n",
    "ax[1].set_xlim(0, 100)\n",
    "# ax[0].set_ylim(0, 6000)\n",
    "ax[0].legend()\n",
    "# set the x-ticks\n",
    "xticks = np.linspace(0, 100, 21)\n",
    "ax[0].set_xticks(xticks)\n",
    "ax[0].grid(axis='x', which='both')\n",
    "# show the plot\n",
    "plt.show()\n"
   ]
  },
  {
   "cell_type": "code",
   "execution_count": null,
   "metadata": {},
   "outputs": [],
   "source": [
    "EMA_structure.save()"
   ]
  },
  {
   "cell_type": "code",
   "execution_count": null,
   "metadata": {},
   "outputs": [],
   "source": [
    "cam = EMA.Model(EMA_structure.H1[EMA_structure.valid_tps], EMA_structure.freq_camera, lower=5, upper=100, pol_order_high=80, frf_type = 'accelerance')\n",
    "cam.get_poles(show_progress=True)\n",
    "# cam.Select_poles.chart_type = 1\n",
    "cam.select_poles()"
   ]
  },
  {
   "cell_type": "code",
   "execution_count": null,
   "metadata": {},
   "outputs": [],
   "source": [
    "cam.F_peak = EMA_structure.F_peak\n",
    "cam.peak_n = peak_n\n",
    "with open(os.path.join(EMA_structure.root_cam, f'{EMA_structure.file_name}_cam.pkl'), 'wb') as f:\n",
    "    pickle.dump(cam, f)\n",
    "cam.print_modal_data()\n",
    "cam.F_peak, file_name"
   ]
  },
  {
   "cell_type": "code",
   "execution_count": null,
   "metadata": {},
   "outputs": [],
   "source": [
    "fig, ax = plot_FRF(cam)\n",
    "fig.savefig(os.path.join(EMA_structure.root_simulations, 'FRFs', f'FRF_{EMA_structure.file_name}_v0.png'))\n",
    "fig = plot_MAC(cam)\n",
    "fig.savefig(os.path.join(EMA_structure.root_simulations, 'MAC', f'MAC_{EMA_structure.file_name}_v0.png'))\n",
    "# fig, ax, GREEN = find_green(cam, plot = True)"
   ]
  },
  {
   "cell_type": "code",
   "execution_count": null,
   "metadata": {},
   "outputs": [],
   "source": [
    "idx = np.where(EMA_structure.tp[EMA_structure.valid_tps] == EMA_structure.nearest_nut_index)[0]\n",
    "root_mode_shapes = os.path.join(EMA_structure.root_simulations, 'web mode shapes', EMA_structure.file_name)\n",
    "for mode in range(len(cam.nat_freq)):\n",
    "    fig, ax = plot_mode_shape(cam, mode,  EMA_structure.tp[EMA_structure.valid_tps], idx, view = (26, -72) )\n",
    "    fig.savefig(os.path.join(root_mode_shapes, f'Mode_shape_{EMA_structure.file_name}_{mode}.png'), dpi=300, bbox_inches='tight')\n",
    "    plt.close()"
   ]
  },
  {
   "cell_type": "code",
   "execution_count": null,
   "metadata": {},
   "outputs": [],
   "source": [
    "%matplotlib qt\n",
    "\n",
    "if not os.path.exists(root_mode_shapes):\n",
    "    os.makedirs(root_mode_shapes)\n",
    "\n",
    "for mode_number in range(len(cam.nat_freq)): # range(14,n_modes): #  [22]: # \n",
    "    print(f'mode_number: {mode_number}')\n",
    "    ani  = animate_mode_shape(cam, mode_number, EMA_structure.tp[EMA_structure.valid_tps]) #, indices_to_plot = indices_to_plot np.delete(tp_lim, biggest_outliers, axis=0)\n",
    "    writer = animation.FFMpegWriter(fps=60)\n",
    "    ani.save(os.path.join(root_mode_shapes, f'Mode_shape_{EMA_structure.file_name}_{mode_number}.mp4'), writer=writer)\n",
    "    plt.close()\n"
   ]
  }
 ],
 "metadata": {
  "kernelspec": {
   "display_name": "base",
   "language": "python",
   "name": "python3"
  },
  "language_info": {
   "codemirror_mode": {
    "name": "ipython",
    "version": 3
   },
   "file_extension": ".py",
   "mimetype": "text/x-python",
   "name": "python",
   "nbconvert_exporter": "python",
   "pygments_lexer": "ipython3",
   "version": "3.11.5"
  }
 },
 "nbformat": 4,
 "nbformat_minor": 2
}
