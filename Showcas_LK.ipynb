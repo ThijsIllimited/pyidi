{
 "cells": [
  {
   "cell_type": "code",
   "execution_count": 1,
   "metadata": {},
   "outputs": [
    {
     "name": "stderr",
     "output_type": "stream",
     "text": [
      "c:\\Users\\thijsmas\\AppData\\Local\\anaconda3\\Lib\\site-packages\\paramiko\\transport.py:219: CryptographyDeprecationWarning: Blowfish has been deprecated\n",
      "  \"class\": algorithms.Blowfish,\n"
     ]
    }
   ],
   "source": [
    "import os\n",
    "import sys\n",
    "sys.path.insert(0, os.path.realpath('__file__'))\n",
    "\n",
    "import numpy as np\n",
    "import matplotlib.pyplot as plt\n",
    "import pickle\n",
    "import pyidi"
   ]
  },
  {
   "cell_type": "markdown",
   "metadata": {},
   "source": [
    "Load the video"
   ]
  },
  {
   "cell_type": "code",
   "execution_count": 2,
   "metadata": {},
   "outputs": [],
   "source": [
    "filename = 'data/data_synthetic.cih'\n",
    "video = pyidi.pyIDI(filename)"
   ]
  },
  {
   "cell_type": "markdown",
   "metadata": {},
   "source": [
    "Video info can easily be accessed"
   ]
  },
  {
   "cell_type": "code",
   "execution_count": 3,
   "metadata": {},
   "outputs": [
    {
     "data": {
      "text/plain": [
       "{'Record Rate(fps)': 1,\n",
       " 'Shutter Speed(s)': 1.0,\n",
       " 'Total Frame': 101,\n",
       " 'Original Total Frame': 101,\n",
       " 'Start Frame': 0,\n",
       " 'Image Width': 256,\n",
       " 'Image Height': 128,\n",
       " 'Color Type': 'Mono',\n",
       " 'Color Bit': 16,\n",
       " 'File Format': 'MRaw',\n",
       " 'EffectiveBit Depth': 12,\n",
       " 'EffectiveBit Side': 'Lower',\n",
       " 'Comment Text': 'Generated sequence.<br>Modify measurement info in<br>created .cih file if necessary.'}"
      ]
     },
     "execution_count": 3,
     "metadata": {},
     "output_type": "execute_result"
    }
   ],
   "source": [
    "video.info"
   ]
  },
  {
   "cell_type": "code",
   "execution_count": 4,
   "metadata": {},
   "outputs": [],
   "source": [
    "%matplotlib qt\n",
    "import matplotlib.animation as animation\n",
    "\n",
    "# # Define the update function for the animation\n",
    "# def update(i):\n",
    "#     im.set_data(video.mraw[i])\n",
    "#     return im,\n",
    "\n",
    "# # Create a figure and axis for the animation\n",
    "# fig, ax = plt.subplots()\n",
    "# im = ax.imshow(video.mraw[0], cmap='gray')\n",
    "\n",
    "# # Create the animation\n",
    "# ani = animation.FuncAnimation(fig, update, frames=range(1,video.N), interval=200)\n",
    "\n",
    "# # Display the animation\n",
    "# plt.show()\n",
    "\n",
    "def play_video(frame_range = None, interval=30, points = None, ij_counter = (0.65, 0.05)):\n",
    "    \n",
    "    \"\"\"\n",
    "    Plays the video from the given video object.\n",
    "    Args:\n",
    "        frame_range (range object): The range of frames to play.\n",
    "        interval (int): The interval between frames in milliseconds.\n",
    "        points (ndarray): Optional tracked points to plot on the video.\n",
    "        ij_counter (tuple): The position of the frame counter.\n",
    "    \"\"\"\n",
    "    if frame_range is None:\n",
    "        frame_range = range(0, video.N)\n",
    "    fig, ax = plt.subplots()\n",
    "    im = ax.imshow(video.mraw[frame_range[0]], cmap='gray')\n",
    "    text = ax.text(ij_counter[0], ij_counter[1], '', transform=ax.transAxes, color='black', ha='right', va='bottom')\n",
    "\n",
    "    if points is not None:\n",
    "        pts = ax.plot(points[:,0,1], points[:,0,0], 'r.')\n",
    "\n",
    "    def update(i):\n",
    "        im.set_data(video.mraw[i])\n",
    "        text.set_text(f'Frame {i}')\n",
    "        if points is not None:\n",
    "            pts[0].set_data(points[:,i,1], points[:,i,0])\n",
    "        return im, text\n",
    "\n",
    "    ani = animation.FuncAnimation(fig, update, frames=frame_range, interval=interval)\n",
    "    plt.show()\n",
    "    return ani\n",
    "\n",
    "ani = play_video(range(1,video.N))"
   ]
  },
  {
   "cell_type": "markdown",
   "metadata": {},
   "source": [
    "Assign the `Lucas Kanade` method"
   ]
  },
  {
   "cell_type": "code",
   "execution_count": 5,
   "metadata": {},
   "outputs": [
    {
     "name": "stdout",
     "output_type": "stream",
     "text": [
      "--- Starting new analysis ---\n",
      " \n",
      "Interpolating the reference image...\n",
      "...done in 0.01 s\n"
     ]
    },
    {
     "name": "stderr",
     "output_type": "stream",
     "text": [
      "c:\\Users\\thijsmas\\Documents\\GitHub\\pyidi\\pyidi\\methods\\_lucas_kanade.py:563: ResourceWarning: unclosed file <_io.BufferedReader name='data\\\\temp_file\\\\settings.pkl'>\n",
      "  settings_old = pickle.load(open(self.settings_filename, 'rb'))\n",
      "ResourceWarning: Enable tracemalloc to get the object allocation traceback\n",
      "c:\\Users\\thijsmas\\AppData\\Local\\anaconda3\\Lib\\site-packages\\ipywidgets\\widgets\\widget.py:528: DeprecationWarning: The `ipykernel.comm.Comm` class has been deprecated. Please use the `comm` module instead.For creating comms, use the function `from comm import create_comm`.\n",
      "  self.comm = Comm(**args)\n"
     ]
    },
    {
     "data": {
      "application/vnd.jupyter.widget-view+json": {
       "model_id": "ca89017cd3064cd9b0941c4ebac1e82f",
       "version_major": 2,
       "version_minor": 0
      },
      "text/plain": [
       "VBox()"
      ]
     },
     "metadata": {},
     "output_type": "display_data"
    },
    {
     "name": "stdout",
     "output_type": "stream",
     "text": [
      "Time to complete: 0.9 s\n"
     ]
    },
    {
     "data": {
      "text/plain": [
       "12000"
      ]
     },
     "execution_count": 5,
     "metadata": {},
     "output_type": "execute_result"
    }
   ],
   "source": [
    "%matplotlib qt\n",
    "tol = 1e-8\n",
    "roi_size = (3,3)\n",
    "video = pyidi.pyIDI(filename)\n",
    "video.set_method('lk')\n",
    "video.method.configure(reference_image = (0,100), resume_analysis = False, tol=tol, roi_size=roi_size)\n",
    "reference_image = video.method._set_reference_image(video, video.method.reference_image)\n",
    "Gi, Gj = np.gradient(reference_image)\n",
    "G = np.sqrt(Gi**2 + Gj**2)\n",
    "highest_points = np.argpartition(G.flatten(), -10)[-10:]\n",
    "arguments = np.unravel_index(highest_points, G.shape)\n",
    "\n",
    "fig, ax = plt.subplots()\n",
    "ax.scatter(arguments[1], arguments[0])\n",
    "ax.imshow(reference_image, cmap='gray')\n",
    "plt.show()\n",
    "points2d = np.array(arguments).T\n",
    "video.set_points(points2d)\n",
    "video.show_points()\n",
    "displacementes_2d = video.get_displacements(processes=1, autosave=False)\n",
    "video.method.total_steps"
   ]
  },
  {
   "cell_type": "markdown",
   "metadata": {},
   "source": [
    "Identify the displacements using 2 processes"
   ]
  },
  {
   "cell_type": "code",
   "execution_count": 13,
   "metadata": {},
   "outputs": [
    {
     "name": "stderr",
     "output_type": "stream",
     "text": [
      "c:\\Users\\thijsmas\\Documents\\GitHub\\pyidi\\pyidi\\methods\\_directional_lucas_kanade.py:124: UserWarning: The direction vector d must have a norm of 1. The input vector was normalized.\n",
      "  warnings.warn('The direction vector d must have a norm of 1. The input vector was normalized.')\n"
     ]
    },
    {
     "data": {
      "text/plain": [
       "array([0.70710678, 0.70710678])"
      ]
     },
     "execution_count": 13,
     "metadata": {},
     "output_type": "execute_result"
    }
   ],
   "source": [
    "%matplotlib qt\n",
    "video = pyidi.pyIDI(filename)\n",
    "video.set_method('lk_1D')\n",
    "dyx = (0.5, 0.5)\n",
    "video.method.configure(reference_image = (0,100), dyx=dyx, smoothing_size=(3,3), resume_analysis = False, tol=tol,roi_size=roi_size)\n",
    "reference_image = video.method._set_reference_image(video, video.method.reference_image)\n",
    "Gi, Gj = np.gradient(reference_image)\n",
    "G = np.sqrt(Gi**2 + Gj**2)\n",
    "highest_points = np.argpartition(G.flatten(), -10)[-10:]\n",
    "arguments = np.unravel_index(highest_points, G.shape)\n",
    "\n",
    "fig, ax = plt.subplots()\n",
    "ax.scatter(arguments[1], arguments[0])\n",
    "ax.imshow(reference_image, cmap='gray')\n",
    "plt.show()\n",
    "points1d = np.array(arguments).T\n",
    "video.set_points(points1d)\n",
    "video.show_points()\n",
    "video.method.dyx"
   ]
  },
  {
   "cell_type": "code",
   "execution_count": 14,
   "metadata": {},
   "outputs": [
    {
     "name": "stdout",
     "output_type": "stream",
     "text": [
      "--- Starting new analysis ---\n",
      " \n",
      "Interpolating the reference image...\n",
      "...done in 0.01 s\n"
     ]
    },
    {
     "name": "stderr",
     "output_type": "stream",
     "text": [
      "c:\\Users\\thijsmas\\AppData\\Local\\anaconda3\\Lib\\site-packages\\ipywidgets\\widgets\\widget.py:528: DeprecationWarning: The `ipykernel.comm.Comm` class has been deprecated. Please use the `comm` module instead.For creating comms, use the function `from comm import create_comm`.\n",
      "  self.comm = Comm(**args)\n"
     ]
    },
    {
     "data": {
      "application/vnd.jupyter.widget-view+json": {
       "model_id": "7cb8db0fd42940fe927ee61d9dbbbb02",
       "version_major": 2,
       "version_minor": 0
      },
      "text/plain": [
       "VBox()"
      ]
     },
     "metadata": {},
     "output_type": "display_data"
    },
    {
     "name": "stdout",
     "output_type": "stream",
     "text": [
      "Time to complete: 0.9 s\n"
     ]
    },
    {
     "data": {
      "text/plain": [
       "5680"
      ]
     },
     "execution_count": 14,
     "metadata": {},
     "output_type": "execute_result"
    }
   ],
   "source": [
    "displacements = video.get_displacements(processes=1, autosave=False)\n",
    "video.method.total_steps"
   ]
  },
  {
   "cell_type": "markdown",
   "metadata": {},
   "source": [
    "An existing analysis can also be loaded without computation and setting the arguments."
   ]
  },
  {
   "cell_type": "code",
   "execution_count": 15,
   "metadata": {},
   "outputs": [],
   "source": [
    "t_vec = np.arange(0, len(displacements[0])) * video.info['Record Rate(fps)']\n",
    "\n",
    "fig, ax = plt.subplots()\n",
    "ax.set_xlabel('Time (s)')\n",
    "ax.set_ylabel('Displacement (pixels)')\n",
    "for point in displacements:\n",
    "    # ax.plot(t_vec, point[:,0],'b:')\n",
    "    # ax.plot(t_vec, point[:,1],'b--')\n",
    "    ax.plot(t_vec, point[:,0]*dyx[0] + point[:,1]*dyx[1],'b', label='1D, d = (0.55, 0.83)')\n",
    "for point in displacementes_2d:\n",
    "    ax.plot(t_vec, point[:,0]*dyx[0] + point[:,1]*dyx[1], 'r', label='2D, d = (0.55, 0.83)')\n",
    "ax.plot(t_vec, displacementes_2d[0, :,0], 'r:', label = '2D - x', alpha=0.5)\n",
    "ax.plot(t_vec, displacementes_2d[0, :,1], 'r--', label = '2D - y', alpha=0.5)\n",
    "# ax.plot(t_vec, np.arctan2(displacementes_2d[0, :,1], displacementes_2d[0, :,0]), 'r--', label = 'direction', alpha=0.5)\n",
    "handles, labels = ax.get_legend_handles_labels()\n",
    "by_label = dict(zip(labels, handles))\n",
    "ax.legend(by_label.values(), by_label.keys())\n",
    "plt.show()"
   ]
  },
  {
   "cell_type": "code",
   "execution_count": 16,
   "metadata": {},
   "outputs": [],
   "source": [
    "td2d     = displacementes_2d +  points2d.reshape(len(points2d),1,2)\n",
    "td1d     = displacements +  points1d.reshape(len(points1d),1,2)\n",
    "ani = play_video(range(1,video.N), points=td1d)"
   ]
  }
 ],
 "metadata": {
  "hide_input": false,
  "kernelspec": {
   "display_name": "Python 3",
   "language": "python",
   "name": "python3"
  },
  "language_info": {
   "codemirror_mode": {
    "name": "ipython",
    "version": 3
   },
   "file_extension": ".py",
   "mimetype": "text/x-python",
   "name": "python",
   "nbconvert_exporter": "python",
   "pygments_lexer": "ipython3",
   "version": "3.11.5"
  },
  "toc": {
   "base_numbering": 1,
   "nav_menu": {},
   "number_sections": true,
   "sideBar": true,
   "skip_h1_title": false,
   "title_cell": "Table of Contents",
   "title_sidebar": "Contents",
   "toc_cell": false,
   "toc_position": {},
   "toc_section_display": true,
   "toc_window_display": false
  }
 },
 "nbformat": 4,
 "nbformat_minor": 2
}
