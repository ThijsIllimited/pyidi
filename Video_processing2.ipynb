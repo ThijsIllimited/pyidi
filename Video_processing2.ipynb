{
 "cells": [
  {
   "cell_type": "code",
   "execution_count": 1,
   "metadata": {},
   "outputs": [
    {
     "name": "stderr",
     "output_type": "stream",
     "text": [
      "c:\\Users\\thijs\\anaconda3\\lib\\site-packages\\skimage\\util\\dtype.py:27: DeprecationWarning: `np.bool8` is a deprecated alias for `np.bool_`.  (Deprecated NumPy 1.24)\n",
      "  np.bool8: (False, True),\n"
     ]
    }
   ],
   "source": [
    "import numpy as np              # Python's standard numerical library\n",
    "import matplotlib.pyplot as plt # Python's scientific visualization library\n",
    "from matplotlib.widgets import Cursor\n",
    "import matplotlib.colors as mcolors\n",
    "import matplotlib.animation as animation\n",
    "from matplotlib.path import Path\n",
    "from scipy.stats import norm\n",
    "from ipywidgets import interact # interactive plots in Jupyter Notebook\n",
    "import pyidi                    # Python HSC data analysis library\n",
    "# from scipy.interpolate import make_interp_spline, BSpline\n",
    "import pickle as pk\n",
    "import os\n",
    "from pixel_setter import PixelSetter, play_video, detect_peaks\n",
    "from skimage import feature, measure\n",
    "# from skimage.morphology import skeletonize\n",
    "from skimage.feature import match_template\n",
    "from mpl_toolkits import mplot3d\n",
    "from skimage.transform import resize\n",
    "from scipy.signal import correlate2d\n",
    "%matplotlib qt"
   ]
  },
  {
   "cell_type": "markdown",
   "metadata": {},
   "source": [
    "Open the file to analyze and set an analysis method (Lucas-Kanade implementation)"
   ]
  },
  {
   "cell_type": "code",
   "execution_count": 2,
   "metadata": {},
   "outputs": [
    {
     "name": "stdout",
     "output_type": "stream",
     "text": [
      "H:/My Drive/PHD/HSC\\ecc0\\web0\\Full_web_ecc0_new_Floc4_v1_S01\\Full_web_ecc0_new_Floc4_v1_S01.cihx\n"
     ]
    },
    {
     "name": "stderr",
     "output_type": "stream",
     "text": [
      "c:\\Users\\thijs\\anaconda3\\lib\\site-packages\\pyMRAW.py:103: UserWarning: Clipped footage! (Total frame: 10000, Original total frame: 87371)\n",
      "  warnings.warn('Clipped footage! (Total frame: {}, Original total frame: {})'.format(cih['Total Frame'], cih['Original Total Frame'] ))\n"
     ]
    },
    {
     "data": {
      "text/plain": [
       "{'Date': '2023/9/16',\n",
       " 'Camera Type': 'FASTCAM SA-Z type 2100K-M-64GB',\n",
       " 'Record Rate(fps)': 8000.0,\n",
       " 'Shutter Speed(s)': 8104.0,\n",
       " 'Total Frame': 10000,\n",
       " 'Original Total Frame': 87371,\n",
       " 'Image Width': 1024,\n",
       " 'Image Height': 512,\n",
       " 'File Format': 'Mraw',\n",
       " 'EffectiveBit Depth': 12,\n",
       " 'EffectiveBit Side': 'Higher',\n",
       " 'Color Bit': 16,\n",
       " 'Comment Text': ''}"
      ]
     },
     "execution_count": 2,
     "metadata": {},
     "output_type": "execute_result"
    }
   ],
   "source": [
    "# file_name = 'Single_line_15_S01'\n",
    "level_of_eccentricity   = 7     # level of eccentricity (0-7)\n",
    "impact_location         = 0\n",
    "camera_angle            = 0     # camera angle (0/1)\n",
    "Tension                 = 30    # Tuned Tension (0.0 - 0.99 N)\n",
    "impact_location         = 0     # Impact location (0 - 9)\n",
    "has_mass                = 0     # has mass (0/1)\n",
    "version                 = 0     # version (0/1)\n",
    "# file_name = f\"Full_web_ecc{str(level_of_eccentricity)}_Floc{str(impact_location)}_ca{str(camera_angle)}_T{str(Tension)}_m{str(has_mass)}_v{version}\"\n",
    "\n",
    "folder_paths = ['H:/My Drive/PHD/HSC', 'D:/HSC', 'F:/', 'E:/thijs/', 'C:/Users/thijs/Documents/HSC/']\n",
    "\n",
    "file_name = \"Full_web_ecc0_new_Floc4_v1\"\n",
    "file_name_video = file_name + \"_S01.cihx\"\n",
    "\n",
    "# Search for the file in the folders and their subdirectories\n",
    "for folder_path in folder_paths:\n",
    "    for root, dirs, files in os.walk(folder_path, topdown=False):\n",
    "        if file_name_video in files:\n",
    "            file_path = os.path.join(root, file_name_video)\n",
    "            print(file_path)\n",
    "            break\n",
    "\n",
    "# video_path = path + file_name_video +'/' + file_name_video+'.cihx'\n",
    "video = pyidi.pyIDI(file_path)\n",
    "# video_path = \"C:/Users/thijs/Documents/GitHub/pyidi/data/\"\n",
    "# file_name = 'synthetic_data_thijs_without_rotation'\n",
    "# video = pyidi.pyIDI(video_path + file_name +'.cih')\n",
    "# video.set_method('sof')\n",
    "mraw = video.mraw\n",
    "video.info\n",
    "\n",
    "# ani = play_video(video, range(400,1200), interval=30)\n",
    "# writer = animation.FFMpegWriter(fps=60)\n",
    "# ani.save('anim/'+file_name + '_anim.mp4', writer=writer)\n",
    "# print('animation generated')\n",
    "\n",
    "# data_dir = r'C:\\Users\\thijs\\Documents\\GitHub\\LDAQ\\examples\\Data'\n",
    "# measurement_path = os.path.join(data_dir, file_name+'.pkl')\n",
    "# with open(measurement_path, 'rb') as f:\n",
    "#     measurement = pk.load(f)\n",
    "\n",
    "\n",
    "# file_name = 'Full_web12_S01'"
   ]
  },
  {
   "cell_type": "markdown",
   "metadata": {},
   "source": [
    "Plot a frame in the video:"
   ]
  },
  {
   "cell_type": "code",
   "execution_count": 3,
   "metadata": {},
   "outputs": [],
   "source": [
    "%matplotlib qt\n",
    "sequential_image_n = 0\n",
    "still_image = mraw[sequential_image_n]\n",
    "\n",
    "sigma_vec = np.array([0.1, 0.2, 0.3, 0.4, 0.5, 0.6, 0.7, 0.8, 0.9])*3\n",
    "fig, ax = plt.subplots(ncols=3, nrows=3, figsize=(10, 5))\n",
    "for ax_i, sigma in enumerate(sigma_vec):\n",
    "    row = ax_i // 3\n",
    "    col = ax_i % 3\n",
    "    edges = feature.canny(still_image, sigma=sigma)\n",
    "    ax[row, col].imshow((2**16-1)-edges, cmap='gray')\n",
    "    # skeleton = skeletonize(edges)\n",
    "    # contours = measure.find_contours(edges, sigma)\n",
    "    # ax[row, col].imshow(still_image, cmap='gray')\n",
    "    # for contour in contours:\n",
    "        # ax[row, col].plot(contour[:, 1], contour[:, 0], linewidth=2)\n"
   ]
  },
  {
   "cell_type": "code",
   "execution_count": 4,
   "metadata": {},
   "outputs": [
    {
     "name": "stdout",
     "output_type": "stream",
     "text": [
      "Axes(0,0;1x1)\n"
     ]
    }
   ],
   "source": [
    "pix_set = PixelSetter(still_image)\n",
    "pix_set.get_tracking_pixels()\n",
    "pix_set.choose_reference_centers()\n",
    "# pix_set, (fig, ax) = PixelSetter.load(file_name)"
   ]
  },
  {
   "cell_type": "code",
   "execution_count": null,
   "metadata": {},
   "outputs": [],
   "source": [
    "sigma_vec = np.array([0.1, 0.2, 0.3, 0.4, 0.5, 0.6, 0.7, 0.8, 0.9])*3\n",
    "fig, ax = plt.subplots(ncols=3, nrows=3, figsize=(10, 5))\n",
    "for ax_i, sigma in enumerate(sigma_vec):\n",
    "    row = ax_i // 3\n",
    "    col = ax_i % 3\n",
    "    contours = measure.find_contours(still_image, sigma)\n",
    "    ax[row, col].imshow(still_image, cmap='gray')\n",
    "    for contour in contours:\n",
    "        ax[row, col].plot(contour[:, 1], contour[:, 0], linewidth=2)"
   ]
  },
  {
   "cell_type": "code",
   "execution_count": null,
   "metadata": {},
   "outputs": [],
   "source": [
    "%matplotlib qt\n",
    "ani = play_video(video, range(400,1200), interval=30)"
   ]
  },
  {
   "cell_type": "markdown",
   "metadata": {},
   "source": [
    "Find the gradient off the intensity accross the still figure"
   ]
  },
  {
   "cell_type": "code",
   "execution_count": null,
   "metadata": {},
   "outputs": [],
   "source": [
    "gy, gx = np.gradient(still_image, edge_order=2)\n",
    "g_norm = np.sqrt(gx**2 + gy**2)\n",
    "arg_g  = g_norm > 15000\n",
    "pix_gi, pix_gj = np.where(arg_g)\n",
    "fig, ax = plt.subplots()\n",
    "ax.imshow(still_image, cmap='gray')\n",
    "ax.plot(pix_gj, pix_gi, 'r.')"
   ]
  },
  {
   "cell_type": "code",
   "execution_count": null,
   "metadata": {},
   "outputs": [],
   "source": [
    "def generate_Zi(pix_i_n, pix_j_n, mu, sigma, bits, theta):\n",
    "    dist = norm(mu, sigma)\n",
    "    slope = np.tan(theta)\n",
    "    x = np.linspace(-pix_i_n, pix_i_n, pix_i_n*12)\n",
    "    y = np.linspace(-pix_i_n, pix_i_n, pix_j_n*12)\n",
    "\n",
    "    X, Y = np.meshgrid(x, y)\n",
    "    Z = np.maximum(dist.pdf(Y+slope*X), dist.pdf(-X+slope*Y))\n",
    "    Z = (1- Z / np.max(Z)) * (2**bits-1)\n",
    "\n",
    "    compressed_Z = resize(Z, (pix_i_n, pix_j_n)).astype(np.uint16)\n",
    "    return X, Y, Z, compressed_Z\n",
    "\n",
    "bits = 16\n",
    "pix_i_n = 7\n",
    "pix_j_n = 7\n",
    "mu = 0\n",
    "sigma = 1\n",
    "theta_vec = np.linspace(0, np.pi/4, 4)\n",
    "# create a normal distribution object\n",
    "n_cols = 2\n",
    "n_rows = 2\n",
    "dist        = norm(mu, sigma)\n",
    "fig, axs    = plt.subplots(ncols=n_cols, nrows=n_rows, figsize=(15,15), subplot_kw={'projection': '3d'})\n",
    "fig2, axs2  = plt.subplots(ncols=2, nrows=2, figsize=(15,15))\n",
    "reference_crosses = []\n",
    "for ax_i, theta in enumerate(theta_vec):\n",
    "    X, Y, Z, compressed_Z = generate_Zi(pix_i_n, pix_j_n, mu, sigma, bits, theta_vec[ax_i])\n",
    "    reference_crosses.append(compressed_Z)\n",
    "    row = ax_i // n_cols\n",
    "    col = ax_i % n_cols\n",
    "    axs[row, col].plot_surface(X, Y, Z, cmap='viridis')\n",
    "    axs[row, col].set_xlabel('X')\n",
    "    axs[row, col].set_ylabel('Y')\n",
    "    axs[row, col].set_zlabel('I(x,y)')\n",
    "    axs[row, col].view_init(elev=90, azim=270) # set azim to 270 degrees\n",
    "    axs2[row, col].imshow(compressed_Z, cmap='gray')\n",
    "plt.show()"
   ]
  },
  {
   "cell_type": "code",
   "execution_count": null,
   "metadata": {},
   "outputs": [],
   "source": [
    "pix_set.generate_reference_image(plot=True, seperate_save=True)"
   ]
  },
  {
   "cell_type": "code",
   "execution_count": null,
   "metadata": {},
   "outputs": [],
   "source": [
    "sliders = pix_set.cross_correlate_all()"
   ]
  },
  {
   "cell_type": "code",
   "execution_count": null,
   "metadata": {},
   "outputs": [],
   "source": [
    "# white_value, black_value = pix_set.get_white_black_value()\n",
    "# pix_set.plot_histogram(bins=50)\n",
    "\n",
    "# fig, ax = plt.subplots()\n",
    "\n",
    "# colors = [(1, 0, 0), (0, 1, 0)]\n",
    "# markers = ['o', 's', 'v', '^', 'D', 'p', '*', 'X', 'd', 'h']\n",
    "# markersize = 10\n",
    "# cmap = mcolors.LinearSegmentedColormap.from_list('red_to_green', colors, N=256)\n",
    "\n",
    "# still_image_temp = still_image.copy() - still_image.mean()\n",
    "# Low_I = still_image < 20000\n",
    "# # reference_crosses.append(still_image_temp[263:270, 334:341].astype(np.float64))\n",
    "# corr_max = np.zeros((still_image.shape[0], still_image.shape[1]))\n",
    "# for i, reference_cross in enumerate(pix_set.ref_imgs):\n",
    "#     # template = reference_crosses[0].astype(np.float64)\n",
    "#     # template -= template.mean()\n",
    "#     # corr = correlate2d(still_image_temp, template, boundary='symm', mode='same')\n",
    "#     # corr = match_template(still_image, reference_cross, pad_input=True)\n",
    "#     # high_corr = corr > 0.75\n",
    "#     # corr = (corr-np.min(corr)) / np.max(corr-np.min(corr))\n",
    "#     # peaks_local = detect_peaks(corr)\n",
    "#     # y, x = np.where(peaks_local & high_corr & Low_I) # & high_corr\n",
    "#     x, y, corr = pix_set.cross_correlate(reference_cross)\n",
    "#     ax.scatter(x, y, marker=markers[i % len(markers)], s=markersize*3)\n",
    "#     markersize -= 1\n",
    "#     corr_max = np.maximum(corr_max, corr)\n",
    "\n",
    "\n",
    "\n",
    "ax.imshow(still_image, cmap='gray')\n",
    "num_plots = len(pix_set.ref_imgs)\n",
    "if num_plots == 1:\n",
    "    fig, ax = plt.subplots()\n",
    "    ax.imshow(pix_set.ref_imgs[0], cmap='gray')\n",
    "elif num_plots == 2:\n",
    "    fig, ax = plt.subplots(ncols=2)\n",
    "    for i, ref_cross in enumerate(pix_set.ref_imgs):\n",
    "        ax[i].imshow(ref_cross, cmap='gray')\n",
    "else:\n",
    "    num_cols = np.ceil(np.sqrt(num_plots))\n",
    "    num_rows, remainder = divmod(num_plots, num_cols)\n",
    "    if remainder > 0:\n",
    "        num_rows += 1\n",
    "\n",
    "    fig, ax = plt.subplots(nrows = int(num_rows), ncols= int(num_cols))\n",
    "    for i, ref_cross in enumerate(pix_set.ref_imgs):\n",
    "        row = int(i // num_cols)\n",
    "        col = int(i % num_cols)\n",
    "        ax[row, col].imshow(ref_cross, cmap='gray')\n",
    "plt.show()\n"
   ]
  },
  {
   "cell_type": "code",
   "execution_count": null,
   "metadata": {},
   "outputs": [],
   "source": [
    "template = still_image[263:270, 334:341]\n",
    "result = match_template(still_image, template)\n",
    "ij = np.unravel_index(np.argmax(result), result.shape)\n",
    "x, y = ij[::-1]\n",
    "fig, ax = plt.subplots()\n",
    "ax.imshow(still_image, cmap='gray')\n",
    "hcoin, wcoin = template.shape\n",
    "rect = plt.Rectangle((x, y), wcoin, hcoin, edgecolor='r', facecolor='none')\n",
    "ax.add_patch(rect)\n",
    "plt.show()"
   ]
  },
  {
   "cell_type": "markdown",
   "metadata": {},
   "source": [
    "Set limits on the Pixel intensity, Gradient x, and Gradient y to define a Region of Interest (ROI)\n",
    "By drawing polygons on the figure and pressing enter, parts of the ROI can be removed."
   ]
  },
  {
   "cell_type": "code",
   "execution_count": null,
   "metadata": {},
   "outputs": [],
   "source": [
    "%matplotlib qt\n",
    "arg_pi = still_image < 70000\n",
    "arg_gy = np.linalg.norm([gy, gx], axis=0) > 28000\n",
    "args = arg_pi & arg_gy #| arg_gx\n",
    "pix_i, pix_j = np.where(args)\n",
    "\n",
    "\n",
    "pixelsetter = PixelSetter(still_image, pix_i, pix_j, file_name, sequential_image_n)\n",
    "pixelsetter.set_method('by_hand')\n",
    "pixelsetter.get_tracking_pixels()\n"
   ]
  },
  {
   "cell_type": "code",
   "execution_count": null,
   "metadata": {},
   "outputs": [],
   "source": [
    "pixelsetter.plot_histogram(inside_polygon=True)\n",
    "pixelsetter.save()"
   ]
  },
  {
   "cell_type": "code",
   "execution_count": null,
   "metadata": {},
   "outputs": [],
   "source": [
    "# del pixelsetter\n",
    "pixelsetter = PixelSetter.load(file_name)\n",
    "sequential_image_n = pixelsetter.frame_nr\n",
    "pix_i = pixelsetter.pix_i\n",
    "pix_j = pixelsetter.pix_j"
   ]
  },
  {
   "cell_type": "markdown",
   "metadata": {},
   "source": [
    "Since the above process can be time consuming, the code below can be used to replot the ROI"
   ]
  },
  {
   "cell_type": "code",
   "execution_count": null,
   "metadata": {},
   "outputs": [],
   "source": [
    "# pix_i, pix_j, np.linalg.norm([gy, gx], axis=0).max()"
   ]
  },
  {
   "cell_type": "code",
   "execution_count": null,
   "metadata": {},
   "outputs": [],
   "source": [
    "%matplotlib qt\n",
    "# mraw_range = (sequential_image_n, sequential_image_n+800) \n",
    "# n_frames = mraw_range[1] - mraw_range[0]\n",
    "\n",
    "# fig, ax = plt.subplots(figsize=(15, 5))\n",
    "# ax.imshow(still_image, cmap='gray')\n",
    "# plt.plot(pix_j, pix_i, 'r.', markersize=1)\n",
    "video.set_points(np.stack((pix_i, pix_j), axis=-1))\n",
    "video.set_method('lk')\n",
    "video.method.configure()  #mraw_range=(sequential_image_n, video.N) reference_range=(1,2)\n",
    "# print((video.method.start_time, video.method.stop_time))\n",
    "video.show_points()\n"
   ]
  },
  {
   "cell_type": "code",
   "execution_count": null,
   "metadata": {},
   "outputs": [],
   "source": [
    "# %matplotlib inline\n",
    "# ref_img = video.method.reference(video.mraw[video.method.reference_range[0]: video.method.reference_range[1]], video.method.subset_size)\n",
    "# fig, ax = plt.subplots()\n",
    "# ax.imshow(still_image, cmap='gray')\n",
    "# plt.show()"
   ]
  },
  {
   "cell_type": "code",
   "execution_count": null,
   "metadata": {},
   "outputs": [],
   "source": [
    "d = video.get_displacements()\n",
    "# video.method.valid_points\n",
    "d = video.displacements\n",
    "d"
   ]
  },
  {
   "cell_type": "code",
   "execution_count": null,
   "metadata": {},
   "outputs": [],
   "source": [
    "%matplotlib qt\n",
    "fig, ax = plt.subplots()\n",
    "for point in np.arange(d.shape[0]): #[video.method.valid_points]\n",
    "    ax.plot(np.arange(video.N), d[point, :, 0], label='point {} - dir 0'.format(point)) #video.info['Record Rate(fps)']*\n",
    "    ax.plot(np.arange(video.N), d[point, :, 1], label='point {} - dir 1'.format(point)) #video.info['Record Rate(fps)']*\n",
    "# ax.legend()\n",
    "# ax.set_ylim(-50, 50)\n",
    "ax.set_xlabel('frame number')\n",
    "ax.set_ylabel('displacement [pixels]')\n",
    "# ax.set_xlim(0, n_frames)"
   ]
  },
  {
   "cell_type": "code",
   "execution_count": null,
   "metadata": {},
   "outputs": [],
   "source": [
    "# Add pix_i and pix_j to displacement to get the tracked position\n",
    "# mask = np.any(d > 3, axis=(1,2))\n",
    "tp = (np.stack((pix_i, pix_j), axis=-1)).reshape(len(pix_i),1,2) + d # d[:,:n_frames,:]\n",
    "# tp[mask, :, :] = np.nan\n",
    "ani = play_video(video, range(1,799), interval=60, points=tp ) #axis=([720,760],[300,230])axis = ([450,350],[460,560])\n",
    "# ani = play_video(video, range(10000), interval=30)\n",
    "writer = animation.FFMpegWriter(fps=60)\n",
    "path = 'C:/Users/thijs/Documents/GitHub/pyidi_data/anim/'\n",
    "ani.save(path+file_name + '_LK.mp4', writer=writer)"
   ]
  },
  {
   "cell_type": "code",
   "execution_count": null,
   "metadata": {},
   "outputs": [],
   "source": [
    "import os\n",
    "\n",
    "folder_path = 'H:/My Drive/PHD/HSC'\n",
    "all_files_drive = []\n",
    "for root, dirs, files in os.walk(folder_path):\n",
    "    for file in files:\n",
    "        all_files_drive.append(file)\n",
    "\n",
    "folder_path = 'D:/HSC'\n",
    "all_files_T7 = []\n",
    "for root, dirs, files in os.walk(folder_path):\n",
    "    for file in files:\n",
    "        all_files_T7.append(file)\n",
    "\n",
    "folder_path = 'F:/'\n",
    "all_files_Sandisk = []\n",
    "for root, dirs, files in os.walk(folder_path):\n",
    "    for file in files:\n",
    "        all_files_Sandisk.append(file)\n",
    "\n",
    "\n",
    "folder_path = 'E:/thijs'\n",
    "all_files_Passport = []\n",
    "for root, dirs, files in os.walk(folder_path):\n",
    "    for file in files:\n",
    "        all_files_Passport.append(file)\n",
    "\n",
    "folder_path = 'C:/Users/thijs/Documents/HSC'\n",
    "all_files_internal = []\n",
    "for root, dirs, files in os.walk(folder_path):\n",
    "    for file in files:\n",
    "        all_files_internal.append(file)\n"
   ]
  },
  {
   "cell_type": "code",
   "execution_count": null,
   "metadata": {},
   "outputs": [],
   "source": []
  },
  {
   "cell_type": "code",
   "execution_count": null,
   "metadata": {},
   "outputs": [],
   "source": [
    "unique_drive_files = set(all_files_drive) - set(all_files_T7) - set(all_files_Sandisk) - set(all_files_Passport) - set(all_files_internal)\n",
    "unique_drive_files"
   ]
  }
 ],
 "metadata": {
  "kernelspec": {
   "display_name": "base",
   "language": "python",
   "name": "python3"
  },
  "language_info": {
   "codemirror_mode": {
    "name": "ipython",
    "version": 3
   },
   "file_extension": ".py",
   "mimetype": "text/x-python",
   "name": "python",
   "nbconvert_exporter": "python",
   "pygments_lexer": "ipython3",
   "version": "3.8.8"
  },
  "orig_nbformat": 4
 },
 "nbformat": 4,
 "nbformat_minor": 2
}
