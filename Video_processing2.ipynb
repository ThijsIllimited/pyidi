{
 "cells": [
  {
   "cell_type": "code",
   "execution_count": 1,
   "metadata": {},
   "outputs": [
    {
     "name": "stderr",
     "output_type": "stream",
     "text": [
      "c:\\Users\\thijsmas\\AppData\\Local\\anaconda3\\Lib\\site-packages\\paramiko\\transport.py:219: CryptographyDeprecationWarning: Blowfish has been deprecated\n",
      "  \"class\": algorithms.Blowfish,\n"
     ]
    }
   ],
   "source": [
    "import numpy as np              # Python's standard numerical library\n",
    "import matplotlib.pyplot as plt # Python's scientific visualization library\n",
    "from matplotlib.widgets import Cursor\n",
    "import matplotlib.colors as mcolors\n",
    "import matplotlib.animation as animation\n",
    "from matplotlib.path import Path\n",
    "from ipywidgets import interact # interactive plots in Jupyter Notebook\n",
    "import pyidi                    # Python HSC data analysis library\n",
    "# from scipy.interpolate import make_interp_spline, BSpline\n",
    "import pickle as pk\n",
    "import os\n",
    "from pixel_setter2 import PixelSetter#, play_video, detect_peaks\n",
    "from skimage import feature, measure\n",
    "# from skimage.morphology import skeletonize\n",
    "from skimage.feature import match_template\n",
    "from mpl_toolkits import mplot3d\n",
    "import dill\n",
    "\n",
    "from scipy.signal import correlate2d\n",
    "%matplotlib qt"
   ]
  },
  {
   "cell_type": "markdown",
   "metadata": {},
   "source": [
    "Open the file to analyze and set an analysis method (Lucas-Kanade implementation)"
   ]
  },
  {
   "cell_type": "code",
   "execution_count": 2,
   "metadata": {},
   "outputs": [
    {
     "name": "stdout",
     "output_type": "stream",
     "text": [
      "D:/HSC\\ecc0\\web0\\Full_web_ecc0_new_Floc4_v1_S01\\Full_web_ecc0_new_Floc4_v1_S01.cihx\n"
     ]
    },
    {
     "name": "stderr",
     "output_type": "stream",
     "text": [
      "c:\\Users\\thijsmas\\AppData\\Local\\anaconda3\\Lib\\site-packages\\pyMRAW.py:103: UserWarning: Clipped footage! (Total frame: 10000, Original total frame: 87371)\n",
      "  warnings.warn('Clipped footage! (Total frame: {}, Original total frame: {})'.format(cih['Total Frame'], cih['Original Total Frame'] ))\n"
     ]
    },
    {
     "data": {
      "text/plain": [
       "{'Date': '2023/9/16',\n",
       " 'Camera Type': 'FASTCAM SA-Z type 2100K-M-64GB',\n",
       " 'Record Rate(fps)': 8000.0,\n",
       " 'Shutter Speed(s)': 8104.0,\n",
       " 'Total Frame': 10000,\n",
       " 'Original Total Frame': 87371,\n",
       " 'Image Width': 1024,\n",
       " 'Image Height': 512,\n",
       " 'File Format': 'Mraw',\n",
       " 'EffectiveBit Depth': 12,\n",
       " 'EffectiveBit Side': 'Higher',\n",
       " 'Color Bit': 16,\n",
       " 'Comment Text': ''}"
      ]
     },
     "execution_count": 2,
     "metadata": {},
     "output_type": "execute_result"
    }
   ],
   "source": [
    "# file_name = 'Single_line_15_S01'\n",
    "level_of_eccentricity   = 7     # level of eccentricity (0-7)\n",
    "impact_location         = 0\n",
    "camera_angle            = 0     # camera angle (0/1)\n",
    "Tension                 = 30    # Tuned Tension (0.0 - 0.99 N)\n",
    "impact_location         = 0     # Impact location (0 - 9)\n",
    "has_mass                = 0     # has mass (0/1)\n",
    "version                 = 0     # version (0/1)\n",
    "# file_name = f\"Full_web_ecc{str(level_of_eccentricity)}_Floc{str(impact_location)}_ca{str(camera_angle)}_T{str(Tension)}_m{str(has_mass)}_v{version}\"\n",
    "\n",
    "folder_paths = ['H:/My Drive/PHD/HSC', 'D:/HSC', 'F:/', 'E:/thijs/', 'C:/Users/thijs/Documents/HSC/']\n",
    "\n",
    "file_name = \"Full_web_ecc0_new_Floc4_v1\"\n",
    "file_name_video = file_name + \"_S01.cihx\"\n",
    "\n",
    "# Search for the file in the folders and their subdirectories\n",
    "for folder_path in folder_paths:\n",
    "    for root, dirs, files in os.walk(folder_path, topdown=False):\n",
    "        if file_name_video in files:\n",
    "            file_path = os.path.join(root, file_name_video)\n",
    "            print(file_path)\n",
    "            break\n",
    "\n",
    "# video_path = path + file_name_video +'/' + file_name_video+'.cihx'\n",
    "video = pyidi.pyIDI(file_path)\n",
    "# video_path = \"C:/Users/thijs/Documents/GitHub/pyidi/data/\"\n",
    "# file_name = 'synthetic_data_thijs_without_rotation'\n",
    "# video = pyidi.pyIDI(video_path + file_name +'.cih')\n",
    "# video.set_method('sof')\n",
    "mraw = video.mraw\n",
    "video.info\n",
    "\n",
    "# ani = play_video(video, range(400,1200), interval=30)\n",
    "# writer = animation.FFMpegWriter(fps=60)\n",
    "# ani.save('anim/'+file_name + '_anim.mp4', writer=writer)\n",
    "# print('animation generated')\n",
    "\n",
    "# data_dir = r'C:\\Users\\thijs\\Documents\\GitHub\\LDAQ\\examples\\Data'\n",
    "# measurement_path = os.path.join(data_dir, file_name+'.pkl')\n",
    "# with open(measurement_path, 'rb') as f:\n",
    "#     measurement = pk.load(f)\n",
    "\n",
    "\n",
    "# file_name = 'Full_web12_S01'"
   ]
  },
  {
   "cell_type": "markdown",
   "metadata": {},
   "source": [
    "Plot a frame in the video:"
   ]
  },
  {
   "cell_type": "code",
   "execution_count": 3,
   "metadata": {},
   "outputs": [],
   "source": [
    "%matplotlib qt\n",
    "sequential_image_n = 0\n",
    "still_image = mraw[sequential_image_n]\n",
    "\n",
    "sigma_vec = np.array([0.1, 0.2, 0.3, 0.4, 0.5, 0.6, 0.7, 0.8, 0.9])*3\n",
    "fig, ax = plt.subplots(ncols=3, nrows=3, figsize=(10, 5))\n",
    "for ax_i, sigma in enumerate(sigma_vec):\n",
    "    row = ax_i // 3\n",
    "    col = ax_i % 3\n",
    "    edges = feature.canny(still_image, sigma=sigma)\n",
    "    ax[row, col].imshow((2**16-1)-edges, cmap='gray')\n",
    "    # skeleton = skeletonize(edges)\n",
    "    # contours = measure.find_contours(edges, sigma)\n",
    "    # ax[row, col].imshow(still_image, cmap='gray')\n",
    "    # for contour in contours:\n",
    "        # ax[row, col].plot(contour[:, 1], contour[:, 0], linewidth=2)\n"
   ]
  },
  {
   "cell_type": "code",
   "execution_count": 4,
   "metadata": {},
   "outputs": [],
   "source": [
    "pix_set = PixelSetter(still_image, file_name = file_name)\n",
    "# pix_set.get_tracking_pixels()\n",
    "pix_set.choose_reference_centers()\n"
   ]
  },
  {
   "cell_type": "code",
   "execution_count": 9,
   "metadata": {},
   "outputs": [],
   "source": [
    "pix_set.combine_tracking_points()"
   ]
  },
  {
   "cell_type": "code",
   "execution_count": 43,
   "metadata": {},
   "outputs": [],
   "source": [
    "pix_set"
   ]
  },
  {
   "cell_type": "code",
   "execution_count": null,
   "metadata": {},
   "outputs": [],
   "source": [
    "pix_set.save(path='C:/Users/thijsmas/Documents/GitHub/pyidi_data/')"
   ]
  },
  {
   "cell_type": "code",
   "execution_count": 16,
   "metadata": {},
   "outputs": [],
   "source": [
    "tp = np.array(list(pix_set.tracking_points))\n",
    "center = np.array(still_image.shape[:2])/2\n",
    "radius = 0.75*np.linalg.norm(center)\n",
    "distances = np.linalg.norm(tp - center, axis=1)\n",
    "inside_web = (distances < radius)\n",
    "lower_section = (tp[:, 0] > 0.1*still_image.shape[0])\n",
    "tp_lim = tp[inside_web & lower_section]\n",
    "\n",
    "fig, ax = plt.subplots(figsize=(10, 10))\n",
    "\n",
    "# plot tp\n",
    "plt.scatter(center[1], center[0])\n",
    "plt.scatter(tp[:, 1], tp[:, 0], c='red', s=10, label='tp')\n",
    "\n",
    "# plot tp_lim with markers on top of tp\n",
    "plt.scatter(tp_lim[:, 1], tp_lim[:, 0], c='green', s=5, label='tp_lim')\n",
    "ax.set_xlim([0, still_image.shape[1]])\n",
    "ax.set_ylim([still_image.shape[0] , 0])\n",
    "ax.axis('equal')\n",
    "# show the plot\n",
    "plt.show()\n"
   ]
  },
  {
   "cell_type": "code",
   "execution_count": 39,
   "metadata": {},
   "outputs": [
    {
     "name": "stdout",
     "output_type": "stream",
     "text": [
      "Could not pickle sliders\n"
     ]
    },
    {
     "name": "stderr",
     "output_type": "stream",
     "text": [
      "<frozen importlib._bootstrap>:1047: ImportWarning: ImportDenier.find_spec() not found; falling back to find_module()\n"
     ]
    }
   ],
   "source": [
    "path = 'C:/Users/thijsmas/Documents/GitHub/pyidi_data/'\n",
    "with open(path + file_name+'.pkl', 'wb') as f:\n",
    "    for key, value in pix_set.__dict__.items():\n",
    "        if key == 'image':\n",
    "            value = np.array(value)\n",
    "        try:\n",
    "            dill.dump((key, value), f)\n",
    "        except:\n",
    "            print(f'Could not pickle {key}')"
   ]
  },
  {
   "cell_type": "code",
   "execution_count": 17,
   "metadata": {},
   "outputs": [],
   "source": [
    "video.set_points(tp_lim)\n",
    "video.set_method('lk')\n",
    "video.show_points()\n"
   ]
  },
  {
   "cell_type": "code",
   "execution_count": 20,
   "metadata": {},
   "outputs": [
    {
     "name": "stderr",
     "output_type": "stream",
     "text": [
      "c:\\Users\\thijsmas\\Documents\\UW_spider\\pyidi\\pyidi\\methods\\_lucas_kanade.py:559: ResourceWarning: unclosed file <_io.BufferedReader name='D:/HSC\\\\ecc0\\\\web0\\\\Full_web_ecc0_new_Floc4_v1_S01\\\\temp_file\\\\settings.pkl'>\n",
      "  settings_old = pickle.load(open(self.settings_filename, 'rb'))\n",
      "ResourceWarning: Enable tracemalloc to get the object allocation traceback\n"
     ]
    },
    {
     "name": "stdout",
     "output_type": "stream",
     "text": [
      "--- Starting new analysis ---\n",
      " \n",
      "Computation start: 2023-10-26 14:53:11.080614\n"
     ]
    },
    {
     "data": {
      "application/vnd.jupyter.widget-view+json": {
       "model_id": "d78e964560f447c8ab5383272ac151e1",
       "version_major": 2,
       "version_minor": 0
      },
      "text/plain": [
       "VBox()"
      ]
     },
     "metadata": {},
     "output_type": "display_data"
    },
    {
     "name": "stdout",
     "output_type": "stream",
     "text": [
      "Computation duration: 00:22:8.00\n",
      "D:/HSC\\ecc0\\web0\\Full_web_ecc0_new_Floc4_v1_S01\\Full_web_ecc0_new_Floc4_v1_S01_pyidi_analysis\\analysis_004\\ analysis_004\n"
     ]
    },
    {
     "data": {
      "text/plain": [
       "array([[[ 0.00000000e+00,  0.00000000e+00],\n",
       "        [ 7.20820595e-03,  4.54433472e-03],\n",
       "        [ 2.77247888e-03, -3.32674869e-03],\n",
       "        ...,\n",
       "        [-8.50480329e-01, -2.75147039e-02],\n",
       "        [-8.45188490e-01, -3.50313345e-02],\n",
       "        [-8.48803306e-01, -4.41173199e-02]],\n",
       "\n",
       "       [[ 0.00000000e+00,  0.00000000e+00],\n",
       "        [-7.46552856e-03,  5.32791875e-03],\n",
       "        [ 5.92143041e-04, -2.89899984e-03],\n",
       "        ...,\n",
       "        [-1.78726512e+00,  2.06446478e-02],\n",
       "        [-1.82103589e+00,  1.66834634e-02],\n",
       "        [-1.85062765e+00,  2.14785061e-02]],\n",
       "\n",
       "       [[ 0.00000000e+00,  0.00000000e+00],\n",
       "        [ 4.23298990e-03,  1.60208640e-03],\n",
       "        [ 9.88079358e-03,  3.27617372e-03],\n",
       "        ...,\n",
       "        [-7.42759896e-01, -2.32259557e-02],\n",
       "        [-7.50966882e-01, -2.78708685e-02],\n",
       "        [-7.57168805e-01, -2.02464004e-02]],\n",
       "\n",
       "       ...,\n",
       "\n",
       "       [[ 0.00000000e+00,  0.00000000e+00],\n",
       "        [-4.52314250e-03,  7.14567930e-03],\n",
       "        [-2.15807936e-03, -2.54192090e-04],\n",
       "        ...,\n",
       "        [-7.73740077e-01, -7.39654507e-02],\n",
       "        [-7.62413718e-01, -7.66080351e-02],\n",
       "        [-7.54484970e-01, -7.35305046e-02]],\n",
       "\n",
       "       [[ 0.00000000e+00,  0.00000000e+00],\n",
       "        [-1.10375340e-02, -2.04348636e-03],\n",
       "        [-7.24227154e-03, -2.34749138e-04],\n",
       "        ...,\n",
       "        [-6.57344092e-01, -6.34832602e-02],\n",
       "        [-6.50576821e-01, -5.72172934e-02],\n",
       "        [-6.52152571e-01, -5.86088245e-02]],\n",
       "\n",
       "       [[ 0.00000000e+00,  0.00000000e+00],\n",
       "        [-1.52259280e-04, -7.22514998e-03],\n",
       "        [ 6.83494811e-03,  3.46137979e-03],\n",
       "        ...,\n",
       "        [-1.40118898e+00,  3.40923723e-03],\n",
       "        [-1.41635177e+00, -6.78353093e-03],\n",
       "        [-1.42480719e+00, -6.76846431e-03]]])"
      ]
     },
     "execution_count": 20,
     "metadata": {},
     "output_type": "execute_result"
    }
   ],
   "source": [
    "d = video.get_displacements(processes=22)\n",
    "# video.method.valid_points\n",
    "d = video.displacements\n",
    "d\n"
   ]
  },
  {
   "cell_type": "code",
   "execution_count": 25,
   "metadata": {},
   "outputs": [
    {
     "data": {
      "text/plain": [
       "<matplotlib.animation.FuncAnimation at 0x1c1642a0110>"
      ]
     },
     "execution_count": 25,
     "metadata": {},
     "output_type": "execute_result"
    }
   ],
   "source": [
    "from pixel_setter import play_video\n",
    "# tp = np.array(list(pix_set.tracking_points))\n",
    "td = d +  tp_lim.reshape(len(tp_lim),1,2)\n",
    "play_video(video, range(1,len(pix_set.tracking_points)), interval=30, points=td)"
   ]
  },
  {
   "cell_type": "markdown",
   "metadata": {},
   "source": [
    "Mask points with high amplitude, outside of web, and irregular vibration"
   ]
  },
  {
   "cell_type": "code",
   "execution_count": 41,
   "metadata": {},
   "outputs": [
    {
     "data": {
      "text/plain": [
       "<matplotlib.animation.FuncAnimation at 0x1c16abeab90>"
      ]
     },
     "execution_count": 41,
     "metadata": {},
     "output_type": "execute_result"
    }
   ],
   "source": [
    "# center = np.array(still_image.shape[:2])/2\n",
    "# radius = 0.75*np.linalg.norm(center)\n",
    "# distances = np.linalg.norm(tp - center, axis=1)\n",
    "# inside_web = (distances < radius) #& tp[0,:] > still_image.shape[0]*.1\n",
    "\n",
    "low_amplitude = np.max(np.linalg.norm(d, axis=2),1)<50\n",
    "play_video(video, range(500,len(pix_set.tracking_points)), interval=30, points=td[low_amplitude,:,:])"
   ]
  },
  {
   "cell_type": "code",
   "execution_count": null,
   "metadata": {},
   "outputs": [],
   "source": [
    "sigma_vec = np.array([0.1, 0.2, 0.3, 0.4, 0.5, 0.6, 0.7, 0.8, 0.9])*3\n",
    "fig, ax = plt.subplots(ncols=3, nrows=3, figsize=(10, 5))\n",
    "for ax_i, sigma in enumerate(sigma_vec):\n",
    "    row = ax_i // 3\n",
    "    col = ax_i % 3\n",
    "    contours = measure.find_contours(still_image, sigma)\n",
    "    ax[row, col].imshow(still_image, cmap='gray')\n",
    "    for contour in contours:\n",
    "        ax[row, col].plot(contour[:, 1], contour[:, 0], linewidth=2)"
   ]
  },
  {
   "cell_type": "markdown",
   "metadata": {},
   "source": [
    "Find the gradient off the intensity accross the still figure"
   ]
  },
  {
   "cell_type": "code",
   "execution_count": null,
   "metadata": {},
   "outputs": [],
   "source": [
    "gy, gx = np.gradient(still_image, edge_order=2)\n",
    "g_norm = np.sqrt(gx**2 + gy**2)\n",
    "arg_g  = g_norm > 15000\n",
    "pix_gi, pix_gj = np.where(arg_g)\n",
    "fig, ax = plt.subplots()\n",
    "ax.imshow(still_image, cmap='gray')\n",
    "ax.plot(pix_gj, pix_gi, 'r.')"
   ]
  },
  {
   "cell_type": "code",
   "execution_count": null,
   "metadata": {},
   "outputs": [],
   "source": []
  },
  {
   "cell_type": "code",
   "execution_count": null,
   "metadata": {},
   "outputs": [],
   "source": [
    "pix_set.generate_reference_image(plot=True, seperate_save=True)"
   ]
  },
  {
   "cell_type": "code",
   "execution_count": null,
   "metadata": {},
   "outputs": [],
   "source": [
    "sliders = pix_set.cross_correlate_all()"
   ]
  },
  {
   "cell_type": "code",
   "execution_count": null,
   "metadata": {},
   "outputs": [],
   "source": [
    "# white_value, black_value = pix_set.get_white_black_value()\n",
    "# pix_set.plot_histogram(bins=50)\n",
    "\n",
    "# fig, ax = plt.subplots()\n",
    "\n",
    "# colors = [(1, 0, 0), (0, 1, 0)]\n",
    "# markers = ['o', 's', 'v', '^', 'D', 'p', '*', 'X', 'd', 'h']\n",
    "# markersize = 10\n",
    "# cmap = mcolors.LinearSegmentedColormap.from_list('red_to_green', colors, N=256)\n",
    "\n",
    "# still_image_temp = still_image.copy() - still_image.mean()\n",
    "# Low_I = still_image < 20000\n",
    "# # reference_crosses.append(still_image_temp[263:270, 334:341].astype(np.float64))\n",
    "# corr_max = np.zeros((still_image.shape[0], still_image.shape[1]))\n",
    "# for i, reference_cross in enumerate(pix_set.ref_imgs):\n",
    "#     # template = reference_crosses[0].astype(np.float64)\n",
    "#     # template -= template.mean()\n",
    "#     # corr = correlate2d(still_image_temp, template, boundary='symm', mode='same')\n",
    "#     # corr = match_template(still_image, reference_cross, pad_input=True)\n",
    "#     # high_corr = corr > 0.75\n",
    "#     # corr = (corr-np.min(corr)) / np.max(corr-np.min(corr))\n",
    "#     # peaks_local = detect_peaks(corr)\n",
    "#     # y, x = np.where(peaks_local & high_corr & Low_I) # & high_corr\n",
    "#     x, y, corr = pix_set.cross_correlate(reference_cross)\n",
    "#     ax.scatter(x, y, marker=markers[i % len(markers)], s=markersize*3)\n",
    "#     markersize -= 1\n",
    "#     corr_max = np.maximum(corr_max, corr)\n",
    "\n",
    "\n",
    "\n",
    "ax.imshow(still_image, cmap='gray')\n",
    "num_plots = len(pix_set.ref_imgs)\n",
    "if num_plots == 1:\n",
    "    fig, ax = plt.subplots()\n",
    "    ax.imshow(pix_set.ref_imgs[0], cmap='gray')\n",
    "elif num_plots == 2:\n",
    "    fig, ax = plt.subplots(ncols=2)\n",
    "    for i, ref_cross in enumerate(pix_set.ref_imgs):\n",
    "        ax[i].imshow(ref_cross, cmap='gray')\n",
    "else:\n",
    "    num_cols = np.ceil(np.sqrt(num_plots))\n",
    "    num_rows, remainder = divmod(num_plots, num_cols)\n",
    "    if remainder > 0:\n",
    "        num_rows += 1\n",
    "\n",
    "    fig, ax = plt.subplots(nrows = int(num_rows), ncols= int(num_cols))\n",
    "    for i, ref_cross in enumerate(pix_set.ref_imgs):\n",
    "        row = int(i // num_cols)\n",
    "        col = int(i % num_cols)\n",
    "        ax[row, col].imshow(ref_cross, cmap='gray')\n",
    "plt.show()\n"
   ]
  },
  {
   "cell_type": "code",
   "execution_count": null,
   "metadata": {},
   "outputs": [],
   "source": [
    "template = still_image[263:270, 334:341]\n",
    "result = match_template(still_image, template)\n",
    "ij = np.unravel_index(np.argmax(result), result.shape)\n",
    "x, y = ij[::-1]\n",
    "fig, ax = plt.subplots()\n",
    "ax.imshow(still_image, cmap='gray')\n",
    "hcoin, wcoin = template.shape\n",
    "rect = plt.Rectangle((x, y), wcoin, hcoin, edgecolor='r', facecolor='none')\n",
    "ax.add_patch(rect)\n",
    "plt.show()"
   ]
  },
  {
   "cell_type": "markdown",
   "metadata": {},
   "source": [
    "Set limits on the Pixel intensity, Gradient x, and Gradient y to define a Region of Interest (ROI)\n",
    "By drawing polygons on the figure and pressing enter, parts of the ROI can be removed."
   ]
  },
  {
   "cell_type": "code",
   "execution_count": null,
   "metadata": {},
   "outputs": [],
   "source": [
    "%matplotlib qt\n",
    "arg_pi = still_image < 70000\n",
    "arg_gy = np.linalg.norm([gy, gx], axis=0) > 28000\n",
    "args = arg_pi & arg_gy #| arg_gx\n",
    "pix_i, pix_j = np.where(args)\n",
    "\n",
    "\n",
    "pixelsetter = PixelSetter(still_image, pix_i, pix_j, file_name, sequential_image_n)\n",
    "pixelsetter.set_method('by_hand')\n",
    "pixelsetter.get_tracking_pixels()\n"
   ]
  },
  {
   "cell_type": "code",
   "execution_count": null,
   "metadata": {},
   "outputs": [],
   "source": [
    "pixelsetter.plot_histogram(inside_polygon=True)\n",
    "pixelsetter.save()"
   ]
  },
  {
   "cell_type": "code",
   "execution_count": null,
   "metadata": {},
   "outputs": [],
   "source": [
    "# del pixelsetter\n",
    "pixelsetter = PixelSetter.load(file_name)\n",
    "sequential_image_n = pixelsetter.frame_nr\n",
    "pix_i = pixelsetter.pix_i\n",
    "pix_j = pixelsetter.pix_j"
   ]
  },
  {
   "cell_type": "markdown",
   "metadata": {},
   "source": [
    "Since the above process can be time consuming, the code below can be used to replot the ROI"
   ]
  },
  {
   "cell_type": "code",
   "execution_count": null,
   "metadata": {},
   "outputs": [],
   "source": [
    "# pix_i, pix_j, np.linalg.norm([gy, gx], axis=0).max()"
   ]
  },
  {
   "cell_type": "code",
   "execution_count": null,
   "metadata": {},
   "outputs": [],
   "source": [
    "%matplotlib qt\n",
    "# mraw_range = (sequential_image_n, sequential_image_n+800) \n",
    "# n_frames = mraw_range[1] - mraw_range[0]\n",
    "\n",
    "# fig, ax = plt.subplots(figsize=(15, 5))\n",
    "# ax.imshow(still_image, cmap='gray')\n",
    "# plt.plot(pix_j, pix_i, 'r.', markersize=1)\n",
    "video.set_points(np.stack((pix_i, pix_j), axis=-1))\n",
    "video.set_method('lk')\n",
    "video.method.configure()  #mraw_range=(sequential_image_n, video.N) reference_range=(1,2)\n",
    "# print((video.method.start_time, video.method.stop_time))\n",
    "video.show_points()\n"
   ]
  },
  {
   "cell_type": "code",
   "execution_count": null,
   "metadata": {},
   "outputs": [],
   "source": [
    "# %matplotlib inline\n",
    "# ref_img = video.method.reference(video.mraw[video.method.reference_range[0]: video.method.reference_range[1]], video.method.subset_size)\n",
    "# fig, ax = plt.subplots()\n",
    "# ax.imshow(still_image, cmap='gray')\n",
    "# plt.show()"
   ]
  },
  {
   "cell_type": "code",
   "execution_count": null,
   "metadata": {},
   "outputs": [],
   "source": [
    "d = video.get_displacements()\n",
    "# video.method.valid_points\n",
    "d = video.displacements\n",
    "d"
   ]
  },
  {
   "cell_type": "code",
   "execution_count": null,
   "metadata": {},
   "outputs": [],
   "source": [
    "%matplotlib qt\n",
    "fig, ax = plt.subplots()\n",
    "for point in np.arange(d.shape[0]): #[video.method.valid_points]\n",
    "    ax.plot(np.arange(video.N), d[point, :, 0], label='point {} - dir 0'.format(point)) #video.info['Record Rate(fps)']*\n",
    "    ax.plot(np.arange(video.N), d[point, :, 1], label='point {} - dir 1'.format(point)) #video.info['Record Rate(fps)']*\n",
    "# ax.legend()\n",
    "# ax.set_ylim(-50, 50)\n",
    "ax.set_xlabel('frame number')\n",
    "ax.set_ylabel('displacement [pixels]')\n",
    "# ax.set_xlim(0, n_frames)"
   ]
  },
  {
   "cell_type": "code",
   "execution_count": null,
   "metadata": {},
   "outputs": [],
   "source": [
    "# Add pix_i and pix_j to displacement to get the tracked position\n",
    "# mask = np.any(d > 3, axis=(1,2))\n",
    "tp = (np.stack((pix_i, pix_j), axis=-1)).reshape(len(pix_i),1,2) + d # d[:,:n_frames,:]\n",
    "# tp[mask, :, :] = np.nan\n",
    "ani = play_video(video, range(1,799), interval=60, points=tp ) #axis=([720,760],[300,230])axis = ([450,350],[460,560])\n",
    "# ani = play_video(video, range(10000), interval=30)\n",
    "# writer = animation.FFMpegWriter(fps=60)\n",
    "# path = 'C:/Users/thijs/Documents/GitHub/pyidi_data/anim/'\n",
    "# ani.save(path+file_name + '_LK.mp4', writer=writer)"
   ]
  },
  {
   "cell_type": "code",
   "execution_count": null,
   "metadata": {},
   "outputs": [],
   "source": [
    "import os\n",
    "\n",
    "folder_path = 'H:/My Drive/PHD/HSC'\n",
    "all_files_drive = []\n",
    "for root, dirs, files in os.walk(folder_path):\n",
    "    for file in files:\n",
    "        all_files_drive.append(file)\n",
    "\n",
    "folder_path = 'D:/HSC'\n",
    "all_files_T7 = []\n",
    "for root, dirs, files in os.walk(folder_path):\n",
    "    for file in files:\n",
    "        all_files_T7.append(file)\n",
    "\n",
    "folder_path = 'F:/'\n",
    "all_files_Sandisk = []\n",
    "for root, dirs, files in os.walk(folder_path):\n",
    "    for file in files:\n",
    "        all_files_Sandisk.append(file)\n",
    "\n",
    "\n",
    "folder_path = 'E:/thijs'\n",
    "all_files_Passport = []\n",
    "for root, dirs, files in os.walk(folder_path):\n",
    "    for file in files:\n",
    "        all_files_Passport.append(file)\n",
    "\n",
    "folder_path = 'C:/Users/thijs/Documents/HSC'\n",
    "all_files_internal = []\n",
    "for root, dirs, files in os.walk(folder_path):\n",
    "    for file in files:\n",
    "        all_files_internal.append(file)\n"
   ]
  },
  {
   "cell_type": "code",
   "execution_count": null,
   "metadata": {},
   "outputs": [],
   "source": []
  },
  {
   "cell_type": "code",
   "execution_count": null,
   "metadata": {},
   "outputs": [],
   "source": [
    "unique_drive_files = set(all_files_drive) - set(all_files_T7) - set(all_files_Sandisk) - set(all_files_Passport) - set(all_files_internal)\n",
    "unique_drive_files"
   ]
  }
 ],
 "metadata": {
  "kernelspec": {
   "display_name": "base",
   "language": "python",
   "name": "python3"
  },
  "language_info": {
   "codemirror_mode": {
    "name": "ipython",
    "version": 3
   },
   "file_extension": ".py",
   "mimetype": "text/x-python",
   "name": "python",
   "nbconvert_exporter": "python",
   "pygments_lexer": "ipython3",
   "version": "3.11.5"
  },
  "orig_nbformat": 4
 },
 "nbformat": 4,
 "nbformat_minor": 2
}
