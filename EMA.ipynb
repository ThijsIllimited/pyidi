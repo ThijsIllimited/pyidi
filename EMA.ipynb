{
 "cells": [
  {
   "cell_type": "code",
   "execution_count": 1,
   "metadata": {},
   "outputs": [
    {
     "name": "stderr",
     "output_type": "stream",
     "text": [
      "c:\\Users\\thijsmas\\AppData\\Local\\anaconda3\\Lib\\site-packages\\paramiko\\transport.py:219: CryptographyDeprecationWarning: Blowfish has been deprecated\n",
      "  \"class\": algorithms.Blowfish,\n"
     ]
    }
   ],
   "source": [
    "import pyidi\n",
    "import os\n",
    "import dill\n",
    "import pickle\n",
    "from sdypy import EMA\n",
    "import numpy as np\n",
    "import matplotlib.pyplot as plt \n",
    "from pixel_setter2 import PixelSetter\n",
    "from scipy.signal import find_peaks\n",
    "from pixel_setter import play_video\n",
    "from scipy.spatial.distance import cdist\n",
    "import matplotlib.animation as animation\n",
    "from mpl_toolkits.mplot3d import Axes3D\n",
    "from pixel_setter import animate_mode_shape\n",
    "import math\n",
    "\n",
    "\n",
    "%matplotlib inline"
   ]
  },
  {
   "cell_type": "markdown",
   "metadata": {},
   "source": [
    "### Import displacement data"
   ]
  },
  {
   "cell_type": "code",
   "execution_count": 2,
   "metadata": {},
   "outputs": [
    {
     "name": "stdout",
     "output_type": "stream",
     "text": [
      "H:/My Drive/PHD/HSC\\ecc0\\web0\\Full_web_ecc0_new_Floc4_v1_S01\\Full_web_ecc0_new_Floc4_v1_S01.cihx\n"
     ]
    },
    {
     "name": "stderr",
     "output_type": "stream",
     "text": [
      "c:\\Users\\thijsmas\\AppData\\Local\\anaconda3\\Lib\\site-packages\\pyMRAW.py:103: UserWarning: Clipped footage! (Total frame: 10000, Original total frame: 87371)\n",
      "  warnings.warn('Clipped footage! (Total frame: {}, Original total frame: {})'.format(cih['Total Frame'], cih['Original Total Frame'] ))\n"
     ]
    },
    {
     "data": {
      "text/plain": [
       "{'Date': '2023/9/16',\n",
       " 'Camera Type': 'FASTCAM SA-Z type 2100K-M-64GB',\n",
       " 'Record Rate(fps)': 8000.0,\n",
       " 'Shutter Speed(s)': 8104.0,\n",
       " 'Total Frame': 10000,\n",
       " 'Original Total Frame': 87371,\n",
       " 'Image Width': 1024,\n",
       " 'Image Height': 512,\n",
       " 'File Format': 'Mraw',\n",
       " 'EffectiveBit Depth': 12,\n",
       " 'EffectiveBit Side': 'Higher',\n",
       " 'Color Bit': 16,\n",
       " 'Comment Text': ''}"
      ]
     },
     "execution_count": 2,
     "metadata": {},
     "output_type": "execute_result"
    }
   ],
   "source": [
    "# root_disp = 'C:/Users/thijs/Documents/GitHub/pyidi_data/displacements'\n",
    "root_disp = 'C:/Users/thijsmas/Documents/GitHub/pyidi_data/'\n",
    "file_name_basis = 'Full_web_ecc0_new_Floc4_v1'\n",
    "file_name_displacemnet = file_name_basis + '_d'\n",
    "extension = '.pkl'\n",
    "path = os.path.join(root_disp, file_name_displacemnet + extension)\n",
    "root_drive_sim = os.path.normpath('G:/.shortcut-targets-by-id/1k1B8zPb3T8H7y6x0irFZnzzmfQPHMRPx/Illimited Lab Projects/Spiders/Simulations')\n",
    "\n",
    "# Open displacement data\n",
    "with open(path, 'rb') as f:\n",
    "    # load the pickle data\n",
    "    data = pickle.load(f)\n",
    "\n",
    "# Open corresponding video\n",
    "file_name_video = file_name_basis + \"_S01.cihx\"\n",
    "folder_paths = ['D:/HSC', 'F:/', 'C:/Users/thijs/Documents/HSC/', 'H:/My Drive/PHD/HSC']  #, 'H:/My Drive/PHD/HSC'\n",
    "for folder_path in folder_paths:\n",
    "    for root, dirs, files in os.walk(folder_path, topdown=False):\n",
    "        if file_name_video in files:\n",
    "            file_path = os.path.join(root, file_name_video)\n",
    "            print(file_path)\n",
    "            break\n",
    "video = pyidi.pyIDI(file_path)\n",
    "fs_camera = video.info['Record Rate(fps)']\n",
    "t_camera = np.arange(video.info['Total Frame']) / fs_camera\n",
    "video.info"
   ]
  },
  {
   "cell_type": "markdown",
   "metadata": {},
   "source": [
    "### import corresponding impact hammer data"
   ]
  },
  {
   "cell_type": "code",
   "execution_count": 3,
   "metadata": {},
   "outputs": [],
   "source": [
    "root_impact = 'H:/My Drive/PHD/Data'\n",
    "files = os.listdir(root_impact)\n",
    "\n",
    "for file in files:\n",
    "    if file_name_basis in file[16:-4]:\n",
    "        path = os.path.join(root_impact, file)\n",
    "        with open(path, 'rb') as f:\n",
    "            impact_data = pickle.load(f)\n",
    "        break\n",
    "else:\n",
    "    print(f\"{file_name_basis} is not in files\")\n",
    "\n",
    "fs_force = impact_data['NI']['sample_rate']"
   ]
  },
  {
   "cell_type": "code",
   "execution_count": 4,
   "metadata": {},
   "outputs": [],
   "source": [
    "%matplotlib qt\n",
    "tp_lim = data['tracking points']\n",
    "low_amplitude = np.max(np.linalg.norm(data['displacement'], axis=2),1)<25\n",
    "\n",
    "td = data['displacement'] +  tp_lim.reshape(len(tp_lim),1,2)\n",
    "\n",
    "if 'broken_ids_set' in locals():\n",
    "    # broken ids: {930, 1220, 1417, 109, 977, 370, 469, 664, 1883, 1663}\n",
    "    low_amplitude[nan_indices]  = False\n",
    "    low_amplitude[list(broken_ids_set)]   = False\n",
    "ani = play_video(video, range(1,9999), interval=30, points=td[low_amplitude, :, :])\n",
    "# writer = animation.FFMpegWriter(fps=60)\n",
    "# ani.save(os.path.join(root_disp,'anim',file_name_basis+'_anim.mp4'), writer=writer)\n"
   ]
  },
  {
   "cell_type": "code",
   "execution_count": 5,
   "metadata": {},
   "outputs": [
    {
     "data": {
      "text/plain": [
       "<matplotlib.animation.FuncAnimation at 0x1d9785be090>"
      ]
     },
     "execution_count": 5,
     "metadata": {},
     "output_type": "execute_result"
    }
   ],
   "source": [
    "point = [265, 710 ]  # replace x and y with the coordinates of the point\n",
    "# calculate the distances between the point and all points in tp_lim\n",
    "distances = cdist([point], tp_lim)\n",
    "# find the index of the nearest point\n",
    "nearest_index = np.argmin(distances)\n",
    "# get the coordinates of the nearest point\n",
    "nearest_point = tp_lim[nearest_index]\n",
    "play_video(video, range(1,5000), interval=30, points=td[nearest_index, :, :].reshape(1,-1,2))"
   ]
  },
  {
   "cell_type": "code",
   "execution_count": 13,
   "metadata": {},
   "outputs": [],
   "source": [
    "%matplotlib qt\n",
    "force_index = impact_data['NI']['channel_names'].index('Force')\n",
    "accel_index = impact_data['NI']['channel_names'].index('Acceleration')\n",
    "force = impact_data['NI']['data'][:,force_index]\n",
    "accel = impact_data['NI']['data'][:,accel_index]\n",
    "\n",
    "start_index = np.where(impact_data['NI']['time'] >= 1.5)[0][0]\n",
    "\n",
    "impact_mean = np.mean(force[start_index:])\n",
    "mean_accel = np.mean(accel[start_index:])\n",
    "\n",
    "force -= impact_mean\n",
    "accel = -(accel-mean_accel)/9.81\n",
    "\n",
    "disp = data['displacement'][:, :, 0]\n",
    "disp_nut = data['displacement'][nearest_index, :, 0]\n"
   ]
  },
  {
   "cell_type": "markdown",
   "metadata": {},
   "source": [
    "### Shift the time signals such that the match approximately"
   ]
  },
  {
   "cell_type": "code",
   "execution_count": 14,
   "metadata": {},
   "outputs": [],
   "source": [
    "# Add some zeros before the impact to reduce leakage. Due to the different sampling frequencies, the first common denominator is found and the number of zeros is calculated from there.\n",
    "frames_per_gcd      = int(fs_camera / math.gcd(int(fs_camera), int(fs_force)))\n",
    "n_zeros_before_cam  = frames_per_gcd\n",
    "n_zeros_before_for  = int(n_zeros_before_cam * fs_force / fs_camera)\n",
    "\n",
    "# Find the peaks in the displacement signal. \n",
    "disp_peaks, _       = find_peaks(disp_nut, height=0.5, distance=fs_camera*0.01)\n",
    "threshold           = 0.001\n",
    "near_zero_indices_cam   = np.where(disp_nut[:disp_peaks[0]] < threshold)[0]\n",
    "first_cam_near_zero_index = near_zero_indices_cam[-1]\n",
    "\n",
    "# Shift the time signal such that the impact - n_zeros_before_cam is at t=0, \n",
    "t_camera2           = np.round(t_camera - t_camera[first_cam_near_zero_index-n_zeros_before_cam], 7)\n",
    "# Clip the time\n",
    "time_cam_clipped    = t_camera2[first_cam_near_zero_index-n_zeros_before_cam:]\n",
    "disp_nut_clipped    = disp_nut[first_cam_near_zero_index-n_zeros_before_cam:]\n",
    "disp_clipped        = disp[:, first_cam_near_zero_index-n_zeros_before_cam:]\n",
    "disp_clipped[:n_zeros_before_cam] = 0\n",
    "\n",
    "\n",
    "# Prepare Force signal\n",
    "force_peaks, _      = find_peaks(force, height=0.5)\n",
    "threshold           = 0.001\n",
    "near_zero_indices_for   = np.where(force[:force_peaks[0]] < threshold)[0]\n",
    "first_for_near_zero_index = near_zero_indices_for[-1]\n",
    "near_zero_indices_for_after   = (np.where(force[force_peaks[0]+1:force_peaks[0]+10] < threshold)[0]) + force_peaks[0]+1\n",
    "first_for_near_zero_index_after = near_zero_indices_for[0]\n",
    "t_force             = np.round(impact_data['NI']['time'] - impact_data['NI']['time'][first_for_near_zero_index - n_zeros_before_for],7)\n",
    "t_force_index_end   = np.argmin(np.abs(t_force - t_camera2[-1]))\n",
    "\n",
    "time_force_clipped    = t_force[first_for_near_zero_index- n_zeros_before_for:t_force_index_end]\n",
    "force_clipped       = force[first_for_near_zero_index- n_zeros_before_for:t_force_index_end]\n",
    "\n",
    "# Cut off signals such that they end at the same time. Loop is because sample ratios \n",
    "for i in range(1, frames_per_gcd+2): \n",
    "    if time_cam_clipped[-i] in time_force_clipped:\n",
    "        index = np.where(time_cam_clipped[-i] == time_force_clipped)[0][0]\n",
    "        time_cam_clipped = time_cam_clipped[:-i+1]\n",
    "        disp_nut_clipped = disp_nut_clipped[:-i+1]\n",
    "        disp_clipped = disp_clipped[:, :-i+1]\n",
    "        time_force_clipped = time_force_clipped[:index+1]\n",
    "        force_clipped = force_clipped[:index+1]\n",
    "        break\n",
    "time_cam_clipped[-1], time_force_clipped[-1]"
   ]
  },
  {
   "cell_type": "code",
   "execution_count": 17,
   "metadata": {},
   "outputs": [
    {
     "data": {
      "text/plain": [
       "(1.220625, 1.220625)"
      ]
     },
     "execution_count": 17,
     "metadata": {},
     "output_type": "execute_result"
    }
   ],
   "source": [
    "\n"
   ]
  },
  {
   "cell_type": "code",
   "execution_count": 18,
   "metadata": {},
   "outputs": [],
   "source": [
    "force_clipped_mod = np.copy(force_clipped)\n",
    "force_clipped_mod[force_clipped_mod < 0.1] = 0\n",
    "\n",
    "# force_mod[:first_for_near_zero_index+1] = np.zeros_like(force_mod[:first_for_near_zero_index+1])\n",
    "# force_mod[first_for_near_zero_index_after:] = np.zeros_like(force_mod[first_for_near_zero_index_after:])\n",
    "fig, ax = plt.subplots()\n",
    "\n",
    "ax.plot(time_force_clipped, force_clipped,'r-')\n",
    "ax.plot(t_force[force_peaks], force[force_peaks],'r*')\n",
    "\n",
    "ax.plot(time_force_clipped, force_clipped_mod,'b-')\n",
    "ax.plot(t_force[first_for_near_zero_index], force[first_for_near_zero_index],'go')\n",
    "ax.plot(t_force[first_for_near_zero_index_after], force[first_for_near_zero_index_after],'ro')\n",
    "ax.set_xlim([-0.003, 0.005])\n",
    "plt.xlabel('Time (s)')\n",
    "plt.ylabel('Force (N)')\n",
    "plt.show()\n"
   ]
  },
  {
   "cell_type": "code",
   "execution_count": 23,
   "metadata": {},
   "outputs": [],
   "source": [
    "tp_id = 50\n",
    "fig, ax = plt.subplots(2,1,figsize=(20,5))\n",
    "ax0_2 = ax[0].twinx()\n",
    "ax1_2 = ax[1].twinx()\n",
    "ax0_2.plot(t_force, force,'g-', label='Force')\n",
    "# ax0_2.plot(t_force[force_peaks], force[force_peaks], 'gx')\n",
    "# ax0_2.plot(t_force[first_for_near_zero_index], force[first_for_near_zero_index],'go')\n",
    "# ax[0].plot(t_force, accel,'g--', label='Acceleration')\n",
    "ax[0].plot(t_camera2, disp_nut,'r-', label='Displacement nut')\n",
    "ax[0].plot(t_camera2, disp[tp_id,:],'r--', label=f'Displacement tp{tp_id}')\n",
    "# ax[0].plot(t_camera2[disp_peaks], disp_nut[disp_peaks], 'rx')\n",
    "\n",
    "ax[0].set_xlim([-0.02, t_camera[-1]])\n",
    "\n",
    "ax[0].set_ylabel('pixels (-)')\n",
    "ax0_2.set_ylabel('Force (N)')\n",
    "ax[0].legend(loc='upper right')\n",
    "\n",
    "\n",
    "ax1_2.plot(t_force, force,'g-', label='Force')\n",
    "# ax1_2.plot(t_force[force_peaks], force[force_peaks], 'gx')\n",
    "# ax1_2.plot(t_force[first_for_near_zero_index], force[first_for_near_zero_index],'go')\n",
    "ax[1].plot(t_camera2, disp_nut,'r-', label='Displacement nut')\n",
    "ax[1].plot(t_camera2, disp[tp_id,:],'r--', label=f'Displacement tp{tp_id}')\n",
    "# ax[1].plot(t_camera2[disp_peaks], disp_nut[disp_peaks], 'rx')\n",
    "ax[1].set_xlim([-0.002, 0.005])\n",
    "ax[1].set_ylabel('pixels (-)')\n",
    "ax1_2.set_ylabel('Force (N)')\n",
    "\n",
    "# set legend to north east\n",
    "\n",
    "ax[1].set_xlabel('Time (s)')\n",
    "plt.show()\n",
    "fig.savefig(os.path.join(root_drive_sim, 'signals', 'example impact'))\n"
   ]
  },
  {
   "cell_type": "code",
   "execution_count": 40,
   "metadata": {},
   "outputs": [],
   "source": [
    "tp_id = 50\n",
    "fig, ax = plt.subplots(2,1,figsize=(20,5))\n",
    "ax0_2 = ax[0].twinx()\n",
    "ax1_2 = ax[1].twinx()\n",
    "ax0_2.plot(time_force_clipped, force_clipped,'g-', label='Force (raw))')\n",
    "ax0_2.plot(time_force_clipped, force_clipped_mod,'b-', label='Force (zeros)')\n",
    "ax[0].plot(time_cam_clipped, disp_nut_clipped,'r-', label='Displacement nut')\n",
    "ax[0].plot(time_cam_clipped, disp_clipped[tp_id,:],'r--', label=f'Displacement tp{tp_id}')\n",
    "ax[0].set_xlim([-0.02, time_cam_clipped[-1]])\n",
    "\n",
    "ax[0].set_ylabel('pixels (-)')\n",
    "ax0_2.set_ylabel('Force (N)')\n",
    "ax[0].legend(loc='upper right')\n",
    "\n",
    "\n",
    "ax1_2.plot(time_force_clipped, force_clipped,'g-', label='Force (raw)')\n",
    "ax1_2.plot(time_force_clipped, force_clipped_mod,'b-', label='Force (zeros)')\n",
    "ax[1].plot(time_cam_clipped, disp_nut_clipped,'r-', label='Displacement nut')\n",
    "ax[1].plot(time_cam_clipped, disp_clipped[tp_id,:],'r--', label=f'Displacement tp{tp_id}')\n",
    "# ax[1].plot(t_camera2[disp_peaks], disp_nut[disp_peaks], 'rx')\n",
    "ax[1].set_xlim([-0.002, 0.005])\n",
    "ax[1].set_ylabel('pixels (-)')\n",
    "ax1_2.set_ylabel('Force (N)')\n",
    "\n",
    "# set legend to north east\n",
    "\n",
    "ax[1].set_xlabel('Time (s)')\n",
    "plt.show()\n",
    "fig.savefig(os.path.join(root_drive_sim, 'signals', 'example impact 2'))\n",
    "\n",
    "\n",
    "n_d = len(disp_nut_clipped)\n",
    "n_f = len(force_clipped)\n",
    "n_d, n_f\n",
    "\n",
    "extension_ratio = 5\n",
    "n_d = int(np.ceil(n_d*extension_ratio))\n",
    "n_f = int(np.ceil(n_f*extension_ratio))    "
   ]
  },
  {
   "cell_type": "code",
   "execution_count": 41,
   "metadata": {},
   "outputs": [
    {
     "data": {
      "text/plain": [
       "(0.16383370878558265, 0.16384524304777753)"
      ]
     },
     "execution_count": 41,
     "metadata": {},
     "output_type": "execute_result"
    }
   ],
   "source": [
    "freq_camera = np.fft.rfftfreq(n_d, 1/fs_camera)\n",
    "freq_force = np.fft.rfftfreq(n_f, 1/fs_force)\n",
    "freq_camera[1], freq_force[1]"
   ]
  },
  {
   "cell_type": "code",
   "execution_count": 42,
   "metadata": {},
   "outputs": [
    {
     "data": {
      "text/plain": [
       "((2155, 24416), (78123,))"
      ]
     },
     "execution_count": 42,
     "metadata": {},
     "output_type": "execute_result"
    }
   ],
   "source": [
    "Disp = np.fft.rfft(disp_clipped, n=n_d) / n_d\n",
    "Force = np.fft.rfft(force_clipped_mod, n=n_f) / n_f\n",
    "\n",
    "# Normalize the one-sided amplitude spectra:\n",
    "Disp[ 1:] *= 2\n",
    "Force[1:] *= 2\n",
    "Disp.shape, Force.shape"
   ]
  },
  {
   "cell_type": "code",
   "execution_count": 43,
   "metadata": {},
   "outputs": [],
   "source": [
    "n_freq = len(freq_camera)\n",
    "freq_force = freq_force[:n_freq]\n",
    "\n",
    "Disp = Disp[:n_freq]\n",
    "Force = Force[:n_freq]"
   ]
  },
  {
   "cell_type": "code",
   "execution_count": 44,
   "metadata": {},
   "outputs": [
    {
     "data": {
      "text/plain": [
       "<matplotlib.legend.Legend at 0x1d69bca23d0>"
      ]
     },
     "execution_count": 44,
     "metadata": {},
     "output_type": "execute_result"
    }
   ],
   "source": [
    "plt.figure(figsize=(15, 5))\n",
    "plt.semilogy(freq_force, np.abs(Force), label='Force')\n",
    "plt.semilogy(freq_camera, np.abs(Disp[tp_id]), label='Displacement')\n",
    "plt.semilogy(freq_camera, np.abs(Disp[tp_id])/ np.abs(Force), label='output/input')\n",
    "plt.semilogy(freq_camera, np.abs(Disp[nearest_index]), label='Displacement nut')\n",
    "# plt.xlim(0, 200)\n",
    "plt.xlabel('Frequency [Hz]')\n",
    "plt.ylabel('Force [N], Displacment [m] amplitude spectra')\n",
    "plt.legend()"
   ]
  },
  {
   "cell_type": "code",
   "execution_count": 45,
   "metadata": {},
   "outputs": [
    {
     "name": "stderr",
     "output_type": "stream",
     "text": [
      "C:\\Users\\thijsmas\\AppData\\Local\\Temp\\ipykernel_19608\\1994693530.py:9: RuntimeWarning: invalid value encountered in divide\n",
      "  H_2_cam = S_xx / S_xf\n"
     ]
    }
   ],
   "source": [
    "T = time_force_clipped[-1] # acquisition period\n",
    "\n",
    "S_xx = 1/T * np.conj(Disp) * Disp\n",
    "S_ff = 1/T * np.conj(Force) * Force\n",
    "S_xf = 1/T * np.conj(Disp) * Force\n",
    "S_fx = 1/T * np.conj(Force) * Disp\n",
    "\n",
    "H_1_cam = S_fx / S_ff\n",
    "H_2_cam = S_xx / S_xf\n",
    "H_v_cam = (H_1_cam * H_2_cam)**0.5\n"
   ]
  },
  {
   "cell_type": "code",
   "execution_count": 47,
   "metadata": {},
   "outputs": [],
   "source": [
    "plt.figure(figsize=(15, 5))\n",
    "plt.semilogy(freq_force, np.abs(H_1_cam[tp_id]), label='H1')\n",
    "plt.semilogy(freq_force, np.abs(H_2_cam[tp_id]), ':', label='H2')\n",
    "# plt.semilogy(freq_camera, np.abs(Disp[tp_id])/ np.abs(Force), label='output/input')\n",
    "# plt.semilogy(freq_camera, np.abs(Disp[tp_id])/ np.abs(Force) - np.abs(H_1_cam[tp_id]) , label='differences')\n",
    "# plt.semilogy(freq_force, np.abs(H_v_cam[10]), '--', label='Hv')\n",
    "# plt.semilogy(freq_force, np.abs(H_2_cam[10])-np.abs(H_1_cam[10]), label='diff')\n",
    "plt.xlim(0, 100)\n",
    "plt.xlabel('Frequency [Hz]')\n",
    "plt.ylabel('H [pixel/N]')\n",
    "plt.legend()\n",
    "plt.savefig(os.path.join(root_disp,'FRFs',f'FRF_zero_padding_multiplier{extension_ratio}.png'))\n"
   ]
  },
  {
   "cell_type": "code",
   "execution_count": null,
   "metadata": {},
   "outputs": [],
   "source": [
    "cam = EMA.Model(H_1_cam, freq_camera, lower=5, upper=200, pol_order_high=100)\n",
    "# cam2 = EMA.Model(H_1_cam, freq_camera, lower=5, upper=100, pol_order_high=100)"
   ]
  },
  {
   "cell_type": "code",
   "execution_count": null,
   "metadata": {},
   "outputs": [],
   "source": [
    "cam.get_poles(show_progress=True)\n",
    "# cam2.get_poles(show_progress=True)"
   ]
  },
  {
   "cell_type": "code",
   "execution_count": null,
   "metadata": {},
   "outputs": [],
   "source": [
    "cam.select_poles()\n",
    "# cam.FRF_reconstruct\n",
    "# cam2.select_poles()"
   ]
  },
  {
   "cell_type": "code",
   "execution_count": null,
   "metadata": {},
   "outputs": [],
   "source": [
    "cam.print_modal_data()"
   ]
  },
  {
   "cell_type": "code",
   "execution_count": null,
   "metadata": {},
   "outputs": [],
   "source": [
    "A = np.real(cam.A ) #,/ np.linalg.norm(cam.A, axis=0)\n",
    "y_shift = (1024-768)/2\n",
    "n_modes = len(cam.nat_freq) #1 #\n",
    "broken_ids_set = set([])\n",
    "for mode_number in range(n_modes):\n",
    "    fig, ax = plt.subplots(subplot_kw={'projection': '3d'}, figsize=(15, 15))\n",
    "    n_del = 30\n",
    "    nan_indices = np.where(np.isnan(A[:,mode_number]))[0]\n",
    "    not_nan_indices = np.where(~np.isnan(A[:,mode_number]))[0]\n",
    "\n",
    "    lower_bound = np.percentile(np.abs(A[not_nan_indices,mode_number]), 5)\n",
    "    upper_bound = np.percentile(np.abs(A[not_nan_indices,mode_number]), 95)\n",
    "    values_within_bounds = A[(np.abs(A[:,mode_number]) >= lower_bound) & (np.abs(A[:,mode_number]) <= upper_bound), mode_number]\n",
    "    mean_within_bounds = np.mean(values_within_bounds)\n",
    "\n",
    "    A[:,mode_number] -= mean_within_bounds\n",
    "\n",
    "    broken_ids = np.where(np.abs(A[:,mode_number]) >= 5)[0]\n",
    "    broken_ids_set = broken_ids_set.union(set(broken_ids))\n",
    "    multiplier = -1\n",
    "    indices_to_plot = list(set(range(len(A))) - broken_ids_set)\n",
    "    ax.plot(tp_lim[indices_to_plot,1], -tp_lim[indices_to_plot,0], np.zeros_like(tp_lim[indices_to_plot,0]), 'k.', markersize=1)\n",
    "    ax.plot(tp_lim[indices_to_plot,1], -tp_lim[indices_to_plot,0], multiplier*A[indices_to_plot,mode_number], 'r.', markersize=1)\n",
    "    # ax.plot(tp_lim[broken_ids,1], -tp_lim[broken_ids,0], multiplier*A[broken_ids,mode_number], 'b.', markersize=1)\n",
    "    \n",
    "    plt.xlim([0, 1024])\n",
    "    plt.ylim([-768-y_shift, 0+y_shift])\n",
    "    ax.set_zlabel('Normalized Mode Shape')\n",
    "    ax.view_init(elev=30, azim=-90)\n",
    "    plt.tight_layout()\n",
    "    fig.savefig(os.path.join(root_disp,'mode_shapes',f'Mode_shape_init_{mode_number}_v1.png'))\n",
    "# plt.show()\n",
    "\n",
    "print(f'broken_ids_set: {broken_ids_set}')"
   ]
  },
  {
   "cell_type": "code",
   "execution_count": null,
   "metadata": {},
   "outputs": [],
   "source": [
    "def animate_mode_shape(A, mode_number, tp_lim, multiplier=1, indices_to_plot = None, frames = range(200), interval = 30):\n",
    "    if indices_to_plot is not None:\n",
    "        A = A[indices_to_plot, :]\n",
    "        tp_lim = tp_lim[indices_to_plot]\n",
    "    A_imag = np.imag(A[:,mode_number])/np.linalg.norm(A[:,mode_number])\n",
    "    A_real = np.real(A[:,mode_number])/np.linalg.norm(A[:,mode_number])\n",
    "    fig, ax = plt.subplots(figsize=(15, 15), subplot_kw={'projection': '3d'})\n",
    "    ax.set_title(f'Mode {mode_number+1} - {cam.nat_freq[mode_number]:.2f} Hz')\n",
    "    ax.set_zlabel('Normalized mode shape')\n",
    "    # Plot the inital position of the points\n",
    "    ax.plot(tp_lim[:,1], -tp_lim[:,0], np.zeros_like(tp_lim[:,0]), 'k.', markersize=0.5)\n",
    "    mode_plot, = ax.plot(tp_lim[:,1], -tp_lim[:,0], np.zeros_like(tp_lim[:,0]), 'r.', markersize=1)\n",
    "\n",
    "    def update(frame):\n",
    "        Z = multiplier*(A_imag * np.sin(frame * np.pi / 100) + A_real * np.cos(frame * np.pi / 100))\n",
    "        mode_plot.set_data(tp_lim[:,1], -tp_lim[:,0])\n",
    "        mode_plot.set_3d_properties(Z)\n",
    "        return mode_plot\n",
    "\n",
    "    ani = animation.FuncAnimation(fig, update, frames=frames, interval=interval)\n",
    "    plt.show()\n",
    "    return ani\n",
    "\n",
    "for mode_number in [0]: # range(n_modes): #   \n",
    "    indices_to_plot = list(set(range(len(A))) - broken_ids_set)\n",
    "    ani = animate_mode_shape(cam.A, mode_number, tp_lim, 2, indices_to_plot = indices_to_plot)\n",
    "    # writer = animation.FFMpegWriter(fps=60)\n",
    "    # ani.save(os.path.join(root_drive_sim,'web mode shapes', f'Mode_shape_init_{mode_number}_v1.mp4'), writer=writer)\n",
    "    # plt.close()\n"
   ]
  },
  {
   "cell_type": "code",
   "execution_count": null,
   "metadata": {},
   "outputs": [],
   "source": []
  }
 ],
 "metadata": {
  "kernelspec": {
   "display_name": "base",
   "language": "python",
   "name": "python3"
  },
  "language_info": {
   "codemirror_mode": {
    "name": "ipython",
    "version": 3
   },
   "file_extension": ".py",
   "mimetype": "text/x-python",
   "name": "python",
   "nbconvert_exporter": "python",
   "pygments_lexer": "ipython3",
   "version": "3.11.5"
  }
 },
 "nbformat": 4,
 "nbformat_minor": 2
}
