{
 "cells": [
  {
   "cell_type": "code",
   "execution_count": 1,
   "metadata": {},
   "outputs": [
    {
     "name": "stderr",
     "output_type": "stream",
     "text": [
      "c:\\Users\\thijs\\anaconda3\\lib\\site-packages\\skimage\\util\\dtype.py:27: DeprecationWarning: `np.bool8` is a deprecated alias for `np.bool_`.  (Deprecated NumPy 1.24)\n",
      "  np.bool8: (False, True),\n"
     ]
    }
   ],
   "source": [
    "import pyidi\n",
    "import os\n",
    "import dill\n",
    "import pickle\n",
    "from sdypy import EMA\n",
    "import numpy as np\n",
    "import matplotlib.pyplot as plt \n",
    "from pixel_setter2 import PixelSetter\n",
    "from scipy.signal import find_peaks"
   ]
  },
  {
   "cell_type": "markdown",
   "metadata": {},
   "source": [
    "### Import displacement data"
   ]
  },
  {
   "cell_type": "code",
   "execution_count": 2,
   "metadata": {},
   "outputs": [
    {
     "name": "stdout",
     "output_type": "stream",
     "text": [
      "H:/My Drive/PHD/HSC\\ecc0\\web0\\Full_web_ecc0_new_Floc4_v1_S01\\Full_web_ecc0_new_Floc4_v1_S01.cihx\n"
     ]
    },
    {
     "name": "stderr",
     "output_type": "stream",
     "text": [
      "c:\\Users\\thijs\\anaconda3\\lib\\site-packages\\pyMRAW.py:103: UserWarning: Clipped footage! (Total frame: 10000, Original total frame: 87371)\n",
      "  warnings.warn('Clipped footage! (Total frame: {}, Original total frame: {})'.format(cih['Total Frame'], cih['Original Total Frame'] ))\n"
     ]
    }
   ],
   "source": [
    "root_disp = 'C:/Users/thijs/Documents/GitHub/pyidi_data/displacements'\n",
    "file_name_basis = 'Full_web_ecc0_new_Floc4_v1'\n",
    "file_name_displacemnet = file_name_basis + '_d'\n",
    "extension = '.pkl'\n",
    "path = os.path.join(root_disp, file_name_displacemnet + extension)\n",
    "\n",
    "# Open displacement data\n",
    "with open(path, 'rb') as f:\n",
    "    # load the pickle data\n",
    "    data = pickle.load(f)\n",
    "\n",
    "# Open corresponding video\n",
    "file_name_video = file_name_basis + \"_S01.cihx\"\n",
    "root_video = 'C:/Users/thijs/Documents/GitHub/pyidi_data/videos'\n",
    "folder_paths = ['D:/HSC', 'F:/', 'C:/Users/thijs/Documents/HSC/', 'H:/My Drive/PHD/HSC']  #, 'H:/My Drive/PHD/HSC'\n",
    "for folder_path in folder_paths:\n",
    "    for root, dirs, files in os.walk(folder_path, topdown=False):\n",
    "        if file_name_video in files:\n",
    "            file_path = os.path.join(root, file_name_video)\n",
    "            print(file_path)\n",
    "            break\n",
    "video = pyidi.pyIDI(file_path)\n",
    "video.info\n",
    "fs_camera = video.info['Record Rate(fps)']\n",
    "t_camera = np.arange(video.info['Total Frame']) / fs_camera"
   ]
  },
  {
   "cell_type": "markdown",
   "metadata": {},
   "source": [
    "### import corresponding impact hammer data"
   ]
  },
  {
   "cell_type": "code",
   "execution_count": 3,
   "metadata": {},
   "outputs": [],
   "source": [
    "root_impact = 'H:/My Drive/PHD/Data'\n",
    "files = os.listdir(root_impact)\n",
    "\n",
    "for file in files:\n",
    "    if file_name_basis in file[16:-4]:\n",
    "        path = os.path.join(root_impact, file)\n",
    "        with open(path, 'rb') as f:\n",
    "            impact_data = pickle.load(f)\n",
    "        break\n",
    "else:\n",
    "    print(f\"{file_name_basis} is not in files\")\n"
   ]
  },
  {
   "cell_type": "code",
   "execution_count": 6,
   "metadata": {},
   "outputs": [],
   "source": [
    "%matplotlib qt\n",
    "force_index = impact_data['NI']['channel_names'].index('Force')\n",
    "accel_index = impact_data['NI']['channel_names'].index('Acceleration')\n",
    "impact_signal = impact_data['NI']['data'][:,force_index]\n",
    "accel_signal = impact_data['NI']['data'][:,accel_index]\n",
    "\n",
    "start_index = np.where(impact_data['NI']['time'] >= 1.5)[0][0]\n",
    "\n",
    "impact_mean = np.mean(impact_signal[start_index:])\n",
    "mean_accel = np.mean(accel_signal[start_index:])\n",
    "\n",
    "impact_signal -= impact_mean\n",
    "accel_signal = -(accel_signal-mean_accel)/9.81\n",
    "\n",
    "peaks, _ = find_peaks(impact_data['NI']['data'][:, force_index], height=0.5)\n",
    "\n",
    "\n",
    "fig, ax = plt.subplots()\n",
    "plt.plot(impact_data['NI']['time'], impact_signal, label='Force')\n",
    "plt.plot(impact_data['NI']['time'][peaks], impact_signal[peaks], 'x')\n",
    "plt.plot(impact_data['NI']['time'], accel_signal, label='Acceleration')\n",
    "plt.xlabel('Time (s)')\n",
    "plt.ylabel('Force (N)')\n",
    "# plt.xlim(impact_data['NI']['time'][peaks[0]]-0.001, impact_data['NI']['time'][peaks[0]]+0.005)\n",
    "\n",
    "\n",
    "ax2 = ax.twinx()\n",
    "ax2.plot(t_camera, data[0, :, 0], label='Displacement')\n",
    "plt.ylabel('pixels (-)')\n",
    "plt.legend()\n",
    "plt.show()\n"
   ]
  },
  {
   "cell_type": "code",
   "execution_count": 5,
   "metadata": {},
   "outputs": [
    {
     "data": {
      "text/plain": [
       "(2155, 10000, 2)"
      ]
     },
     "execution_count": 5,
     "metadata": {},
     "output_type": "execute_result"
    }
   ],
   "source": [
    "\n",
    "data.shape\n"
   ]
  }
 ],
 "metadata": {
  "kernelspec": {
   "display_name": "base",
   "language": "python",
   "name": "python3"
  },
  "language_info": {
   "codemirror_mode": {
    "name": "ipython",
    "version": 3
   },
   "file_extension": ".py",
   "mimetype": "text/x-python",
   "name": "python",
   "nbconvert_exporter": "python",
   "pygments_lexer": "ipython3",
   "version": "3.8.8"
  }
 },
 "nbformat": 4,
 "nbformat_minor": 2
}
